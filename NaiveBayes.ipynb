{
  "nbformat": 4,
  "nbformat_minor": 0,
  "metadata": {
    "colab": {
      "name": "NaiveBayes.ipynb",
      "provenance": []
    },
    "kernelspec": {
      "name": "python3",
      "display_name": "Python 3"
    }
  },
  "cells": [
    {
      "cell_type": "code",
      "metadata": {
        "id": "E0us-Brqi4Z6",
        "colab_type": "code",
        "colab": {}
      },
      "source": [
        "'''This notebook implements the Random Forest classifier on\n",
        "    1. The linear dataset\n",
        "    2. The standardized linear dataset\n",
        "    3. The standardized expanded dataset'''\n",
        "\n",
        "__author__ = 'Anjana Niranjan'\n",
        "__email__ = 'anjanani@usc.edu'"
      ],
      "execution_count": 29,
      "outputs": []
    },
    {
      "cell_type": "markdown",
      "metadata": {
        "id": "Ya1mzLiiQQd-",
        "colab_type": "text"
      },
      "source": [
        "**Naive Bayes**\n",
        "Thanks to the sklearn website for examples on the functions used in this code.\n",
        "Thanks to https://stackoverflow.com/questions/51194627/python-naive-bayes-with-cross-validation-using-gaussiannb-classifier for helping with cross-validation."
      ]
    },
    {
      "cell_type": "code",
      "metadata": {
        "id": "5AIFsSuax8sE",
        "colab_type": "code",
        "colab": {}
      },
      "source": [
        "#Imports\n",
        "import pandas as pd\n",
        "import numpy as np\n",
        "from sklearn.model_selection import GridSearchCV, KFold\n",
        "from sklearn.naive_bayes import GaussianNB\n",
        "from sklearn.metrics import confusion_matrix\n",
        "from sklearn.metrics import accuracy_score"
      ],
      "execution_count": 2,
      "outputs": []
    },
    {
      "cell_type": "code",
      "metadata": {
        "id": "PtrEBJFmyBpp",
        "colab_type": "code",
        "colab": {}
      },
      "source": [
        "#Loading the linear dataset\n",
        "train = pd.read_csv('/content/drive/My Drive/Colab Notebooks/mpr/linearTrain.csv')\n",
        "test = pd.read_csv('/content/drive/My Drive/Colab Notebooks/mpr/linearTest.csv')"
      ],
      "execution_count": 3,
      "outputs": []
    },
    {
      "cell_type": "code",
      "metadata": {
        "id": "VIbZ7NaZyD0X",
        "colab_type": "code",
        "colab": {}
      },
      "source": [
        "X_train = train.iloc[:, 1:14]\n",
        "y_train = train.iloc[:,14]\n",
        "X_test = test.iloc[:, 1:14]\n",
        "y_test = test.iloc[:, 14]"
      ],
      "execution_count": 4,
      "outputs": []
    },
    {
      "cell_type": "markdown",
      "metadata": {
        "id": "FylAttCijd6L",
        "colab_type": "text"
      },
      "source": [
        "Implementing the Naive Bayes classifier on the data by selecting the best parameters through grid search with cross validation"
      ]
    },
    {
      "cell_type": "code",
      "metadata": {
        "id": "rb6I4Bf4yKOv",
        "colab_type": "code",
        "colab": {
          "base_uri": "https://localhost:8080/",
          "height": 138
        },
        "outputId": "5cf00e8a-09df-4b76-d598-29e8ca4e5846"
      },
      "source": [
        "#Implementing grid search to get the best parameters\n",
        "kf = KFold(n_splits=9, random_state=None, shuffle=False)\n",
        "params = {'var_smoothing': [1e-10, 1e-9, 1e-8, 1e-7, 1e-6]}\n",
        "clf = GaussianNB()\n",
        "gs = GridSearchCV(clf, cv=kf, param_grid=params, return_train_score=True)\n",
        "\n",
        "gs.fit(X_train, y_train)"
      ],
      "execution_count": 5,
      "outputs": [
        {
          "output_type": "execute_result",
          "data": {
            "text/plain": [
              "GridSearchCV(cv=KFold(n_splits=9, random_state=None, shuffle=False),\n",
              "             error_score=nan,\n",
              "             estimator=GaussianNB(priors=None, var_smoothing=1e-09),\n",
              "             iid='deprecated', n_jobs=None,\n",
              "             param_grid={'var_smoothing': [1e-10, 1e-09, 1e-08, 1e-07, 1e-06]},\n",
              "             pre_dispatch='2*n_jobs', refit=True, return_train_score=True,\n",
              "             scoring=None, verbose=0)"
            ]
          },
          "metadata": {
            "tags": []
          },
          "execution_count": 5
        }
      ]
    },
    {
      "cell_type": "code",
      "metadata": {
        "id": "CMI9xD7jyUzn",
        "colab_type": "code",
        "colab": {
          "base_uri": "https://localhost:8080/",
          "height": 658
        },
        "outputId": "2ab93bb2-0674-4c1a-f640-a67a4d931eff"
      },
      "source": [
        "#Visualizing the result of grid search\n",
        "gs.cv_results_"
      ],
      "execution_count": 6,
      "outputs": [
        {
          "output_type": "execute_result",
          "data": {
            "text/plain": [
              "{'mean_fit_time': array([0.00781337, 0.00724056, 0.00714758, 0.00715364, 0.00719431]),\n",
              " 'mean_score_time': array([0.0017741 , 0.00211199, 0.00174263, 0.00176334, 0.00195154]),\n",
              " 'mean_test_score': array([0.83977778, 0.83977778, 0.83977778, 0.83977778, 0.83955556]),\n",
              " 'mean_train_score': array([0.91668519, 0.91668519, 0.91668519, 0.91677778, 0.9174537 ]),\n",
              " 'param_var_smoothing': masked_array(data=[1e-10, 1e-09, 1e-08, 1e-07, 1e-06],\n",
              "              mask=[False, False, False, False, False],\n",
              "        fill_value='?',\n",
              "             dtype=object),\n",
              " 'params': [{'var_smoothing': 1e-10},\n",
              "  {'var_smoothing': 1e-09},\n",
              "  {'var_smoothing': 1e-08},\n",
              "  {'var_smoothing': 1e-07},\n",
              "  {'var_smoothing': 1e-06}],\n",
              " 'rank_test_score': array([1, 1, 1, 1, 5], dtype=int32),\n",
              " 'split0_test_score': array([0.76933333, 0.76933333, 0.76933333, 0.76933333, 0.76866667]),\n",
              " 'split0_train_score': array([0.8815 , 0.8815 , 0.8815 , 0.88225, 0.88775]),\n",
              " 'split1_test_score': array([0.73733333, 0.73733333, 0.73733333, 0.73733333, 0.736     ]),\n",
              " 'split1_train_score': array([0.93333333, 0.93333333, 0.93333333, 0.93333333, 0.9335    ]),\n",
              " 'split2_test_score': array([0.89333333, 0.89333333, 0.89333333, 0.89333333, 0.89333333]),\n",
              " 'split2_train_score': array([0.921     , 0.921     , 0.921     , 0.921     , 0.92108333]),\n",
              " 'split3_test_score': array([0.57133333, 0.57133333, 0.57133333, 0.57133333, 0.57133333]),\n",
              " 'split3_train_score': array([0.92658333, 0.92658333, 0.92658333, 0.92658333, 0.92658333]),\n",
              " 'split4_test_score': array([0.83733333, 0.83733333, 0.83733333, 0.83733333, 0.83733333]),\n",
              " 'split4_train_score': array([0.921     , 0.921     , 0.921     , 0.921     , 0.92108333]),\n",
              " 'split5_test_score': array([0.852, 0.852, 0.852, 0.852, 0.852]),\n",
              " 'split5_train_score': array([0.92      , 0.92      , 0.92      , 0.92      , 0.92008333]),\n",
              " 'split6_test_score': array([0.98333333, 0.98333333, 0.98333333, 0.98333333, 0.98333333]),\n",
              " 'split6_train_score': array([0.91425, 0.91425, 0.91425, 0.91425, 0.91425]),\n",
              " 'split7_test_score': array([0.948, 0.948, 0.948, 0.948, 0.948]),\n",
              " 'split7_train_score': array([0.909     , 0.909     , 0.909     , 0.90908333, 0.90916667]),\n",
              " 'split8_test_score': array([0.966, 0.966, 0.966, 0.966, 0.966]),\n",
              " 'split8_train_score': array([0.9235    , 0.9235    , 0.9235    , 0.9235    , 0.92358333]),\n",
              " 'std_fit_time': array([0.00244359, 0.00045111, 0.0003828 , 0.0002015 , 0.00021339]),\n",
              " 'std_score_time': array([1.72605993e-04, 7.10245119e-04, 1.19654747e-04, 4.45703183e-05,\n",
              "        3.99213446e-04]),\n",
              " 'std_test_score': array([0.12418425, 0.12418425, 0.12418425, 0.12418425, 0.12434917]),\n",
              " 'std_train_score': array([0.01403483, 0.01403483, 0.01403483, 0.01382117, 0.01235097])}"
            ]
          },
          "metadata": {
            "tags": []
          },
          "execution_count": 6
        }
      ]
    },
    {
      "cell_type": "code",
      "metadata": {
        "id": "N9FyYxicyXtN",
        "colab_type": "code",
        "colab": {
          "base_uri": "https://localhost:8080/",
          "height": 34
        },
        "outputId": "dba93f03-692e-42b4-e65b-02046328a122"
      },
      "source": [
        "#Best parameters obtained by grid search\n",
        "gs.best_params_"
      ],
      "execution_count": 7,
      "outputs": [
        {
          "output_type": "execute_result",
          "data": {
            "text/plain": [
              "{'var_smoothing': 1e-10}"
            ]
          },
          "metadata": {
            "tags": []
          },
          "execution_count": 7
        }
      ]
    },
    {
      "cell_type": "code",
      "metadata": {
        "id": "svRImqyGPBXi",
        "colab_type": "code",
        "colab": {
          "base_uri": "https://localhost:8080/",
          "height": 34
        },
        "outputId": "c61925a0-f674-44c8-a3f1-6889d49113dd"
      },
      "source": [
        "#Best score\n",
        "gs.best_score_"
      ],
      "execution_count": 8,
      "outputs": [
        {
          "output_type": "execute_result",
          "data": {
            "text/plain": [
              "0.8397777777777777"
            ]
          },
          "metadata": {
            "tags": []
          },
          "execution_count": 8
        }
      ]
    },
    {
      "cell_type": "code",
      "metadata": {
        "id": "a_WbN-SAyaJF",
        "colab_type": "code",
        "colab": {
          "base_uri": "https://localhost:8080/",
          "height": 121
        },
        "outputId": "d47b5b12-5112-4518-de2c-edf4ad6084a5"
      },
      "source": [
        "#Training the model with the best parameter\n",
        "bestclf = GaussianNB(var_smoothing=1e-10)\n",
        "bestclf.fit(X_train, y_train)\n",
        "tr_p = bestclf.predict(X_train)\n",
        "print(accuracy_score(y_train, tr_p))\n",
        "confusion_matrix(y_train, tr_p)"
      ],
      "execution_count": 9,
      "outputs": [
        {
          "output_type": "stream",
          "text": [
            "0.925037037037037\n"
          ],
          "name": "stdout"
        },
        {
          "output_type": "execute_result",
          "data": {
            "text/plain": [
              "array([[2777,    0,    4,    0,    3],\n",
              "       [   8, 2339,    7,   22,  206],\n",
              "       [  15,    0, 2314,  302,   18],\n",
              "       [   5,    2,   26, 2345,   98],\n",
              "       [ 134,  118,   20,   24, 2713]])"
            ]
          },
          "metadata": {
            "tags": []
          },
          "execution_count": 9
        }
      ]
    },
    {
      "cell_type": "code",
      "metadata": {
        "id": "nIJD34sFEnmd",
        "colab_type": "code",
        "colab": {
          "base_uri": "https://localhost:8080/",
          "height": 121
        },
        "outputId": "ef7e391f-adbe-4d9f-ac51-8ef1a78712d0"
      },
      "source": [
        "#Running the model on the test set\n",
        "predictions = bestclf.predict(X_test)\n",
        "print(accuracy_score(y_test, predictions))\n",
        "confusion_matrix(y_test, predictions)"
      ],
      "execution_count": 10,
      "outputs": [
        {
          "output_type": "stream",
          "text": [
            "0.8177164794540026\n"
          ],
          "name": "stdout"
        },
        {
          "output_type": "execute_result",
          "data": {
            "text/plain": [
              "array([[4406,   48,    0,    0,   12],\n",
              "       [  31, 4197,    0,  172,    2],\n",
              "       [ 363,    0, 2367,  609, 1440],\n",
              "       [   0,    0,    0, 2984,  930],\n",
              "       [   0,  125,    0,  114, 3299]])"
            ]
          },
          "metadata": {
            "tags": []
          },
          "execution_count": 10
        }
      ]
    },
    {
      "cell_type": "markdown",
      "metadata": {
        "id": "uBASXVVajvES",
        "colab_type": "text"
      },
      "source": [
        "Implementing the random forest classifier on normalized data"
      ]
    },
    {
      "cell_type": "code",
      "metadata": {
        "id": "fsGsRzPUzPW5",
        "colab_type": "code",
        "colab": {}
      },
      "source": [
        "#Normalizing the data\n",
        "from sklearn import preprocessing\n",
        "scalar = preprocessing.StandardScaler()\n",
        "scalar.fit(X_train)\n",
        "X_train = scalar.transform(X_train)\n",
        "X_test = scalar.transform(X_test)"
      ],
      "execution_count": 11,
      "outputs": []
    },
    {
      "cell_type": "code",
      "metadata": {
        "id": "dr6XhpBB01kK",
        "colab_type": "code",
        "colab": {
          "base_uri": "https://localhost:8080/",
          "height": 138
        },
        "outputId": "0199ea85-ddab-411a-d3c7-73face280cc6"
      },
      "source": [
        "kf = KFold(n_splits=9, random_state=None, shuffle=False)\n",
        "params = {'var_smoothing': [1e-10,1e-9,1e-8, 1e-7, 1e-6]}\n",
        "clf = GaussianNB()\n",
        "gs = GridSearchCV(clf, cv=kf, param_grid=params, return_train_score=True)\n",
        "\n",
        "gs.fit(X_train, y_train)"
      ],
      "execution_count": 12,
      "outputs": [
        {
          "output_type": "execute_result",
          "data": {
            "text/plain": [
              "GridSearchCV(cv=KFold(n_splits=9, random_state=None, shuffle=False),\n",
              "             error_score=nan,\n",
              "             estimator=GaussianNB(priors=None, var_smoothing=1e-09),\n",
              "             iid='deprecated', n_jobs=None,\n",
              "             param_grid={'var_smoothing': [1e-10, 1e-09, 1e-08, 1e-07, 1e-06]},\n",
              "             pre_dispatch='2*n_jobs', refit=True, return_train_score=True,\n",
              "             scoring=None, verbose=0)"
            ]
          },
          "metadata": {
            "tags": []
          },
          "execution_count": 12
        }
      ]
    },
    {
      "cell_type": "code",
      "metadata": {
        "id": "Nj_UrtPa1Aqp",
        "colab_type": "code",
        "colab": {
          "base_uri": "https://localhost:8080/",
          "height": 675
        },
        "outputId": "513b0549-956e-4f1b-bcd1-8fc467ebc695"
      },
      "source": [
        "#Visualizing the result of grid search\n",
        "gs.cv_results_"
      ],
      "execution_count": 13,
      "outputs": [
        {
          "output_type": "execute_result",
          "data": {
            "text/plain": [
              "{'mean_fit_time': array([0.00644875, 0.00538468, 0.00538275, 0.00531223, 0.00532953]),\n",
              " 'mean_score_time': array([0.00140866, 0.00121742, 0.00122568, 0.00120356, 0.0012028 ]),\n",
              " 'mean_test_score': array([0.83977778, 0.83977778, 0.83977778, 0.83977778, 0.83977778]),\n",
              " 'mean_train_score': array([0.91668519, 0.91668519, 0.91668519, 0.91668519, 0.91668519]),\n",
              " 'param_var_smoothing': masked_array(data=[1e-10, 1e-09, 1e-08, 1e-07, 1e-06],\n",
              "              mask=[False, False, False, False, False],\n",
              "        fill_value='?',\n",
              "             dtype=object),\n",
              " 'params': [{'var_smoothing': 1e-10},\n",
              "  {'var_smoothing': 1e-09},\n",
              "  {'var_smoothing': 1e-08},\n",
              "  {'var_smoothing': 1e-07},\n",
              "  {'var_smoothing': 1e-06}],\n",
              " 'rank_test_score': array([1, 1, 1, 1, 1], dtype=int32),\n",
              " 'split0_test_score': array([0.76933333, 0.76933333, 0.76933333, 0.76933333, 0.76933333]),\n",
              " 'split0_train_score': array([0.8815, 0.8815, 0.8815, 0.8815, 0.8815]),\n",
              " 'split1_test_score': array([0.73733333, 0.73733333, 0.73733333, 0.73733333, 0.73733333]),\n",
              " 'split1_train_score': array([0.93333333, 0.93333333, 0.93333333, 0.93333333, 0.93333333]),\n",
              " 'split2_test_score': array([0.89333333, 0.89333333, 0.89333333, 0.89333333, 0.89333333]),\n",
              " 'split2_train_score': array([0.921, 0.921, 0.921, 0.921, 0.921]),\n",
              " 'split3_test_score': array([0.57133333, 0.57133333, 0.57133333, 0.57133333, 0.57133333]),\n",
              " 'split3_train_score': array([0.92658333, 0.92658333, 0.92658333, 0.92658333, 0.92658333]),\n",
              " 'split4_test_score': array([0.83733333, 0.83733333, 0.83733333, 0.83733333, 0.83733333]),\n",
              " 'split4_train_score': array([0.921, 0.921, 0.921, 0.921, 0.921]),\n",
              " 'split5_test_score': array([0.852, 0.852, 0.852, 0.852, 0.852]),\n",
              " 'split5_train_score': array([0.92, 0.92, 0.92, 0.92, 0.92]),\n",
              " 'split6_test_score': array([0.98333333, 0.98333333, 0.98333333, 0.98333333, 0.98333333]),\n",
              " 'split6_train_score': array([0.91425, 0.91425, 0.91425, 0.91425, 0.91425]),\n",
              " 'split7_test_score': array([0.948, 0.948, 0.948, 0.948, 0.948]),\n",
              " 'split7_train_score': array([0.909, 0.909, 0.909, 0.909, 0.909]),\n",
              " 'split8_test_score': array([0.966, 0.966, 0.966, 0.966, 0.966]),\n",
              " 'split8_train_score': array([0.9235, 0.9235, 0.9235, 0.9235, 0.9235]),\n",
              " 'std_fit_time': array([1.56394767e-03, 4.01461648e-04, 1.52467410e-04, 6.76918865e-05,\n",
              "        5.13100564e-05]),\n",
              " 'std_score_time': array([2.60449573e-04, 5.30067624e-05, 3.47108929e-05, 2.21558145e-05,\n",
              "        2.11165967e-05]),\n",
              " 'std_test_score': array([0.12418425, 0.12418425, 0.12418425, 0.12418425, 0.12418425]),\n",
              " 'std_train_score': array([0.01403483, 0.01403483, 0.01403483, 0.01403483, 0.01403483])}"
            ]
          },
          "metadata": {
            "tags": []
          },
          "execution_count": 13
        }
      ]
    },
    {
      "cell_type": "code",
      "metadata": {
        "id": "mU9oDkxM1Dcr",
        "colab_type": "code",
        "colab": {
          "base_uri": "https://localhost:8080/",
          "height": 34
        },
        "outputId": "0e5e7087-940f-41a5-abfe-1c10f1d1dc0f"
      },
      "source": [
        "#Best parameters\n",
        "gs.best_params_"
      ],
      "execution_count": 14,
      "outputs": [
        {
          "output_type": "execute_result",
          "data": {
            "text/plain": [
              "{'var_smoothing': 1e-10}"
            ]
          },
          "metadata": {
            "tags": []
          },
          "execution_count": 14
        }
      ]
    },
    {
      "cell_type": "code",
      "metadata": {
        "id": "ULuxpCBEO9uT",
        "colab_type": "code",
        "colab": {
          "base_uri": "https://localhost:8080/",
          "height": 34
        },
        "outputId": "a3187c39-8969-4bc6-caf9-677e84655e1c"
      },
      "source": [
        "#Best score\n",
        "gs.best_score_"
      ],
      "execution_count": 15,
      "outputs": [
        {
          "output_type": "execute_result",
          "data": {
            "text/plain": [
              "0.8397777777777777"
            ]
          },
          "metadata": {
            "tags": []
          },
          "execution_count": 15
        }
      ]
    },
    {
      "cell_type": "code",
      "metadata": {
        "id": "EFaeB5AS1IcG",
        "colab_type": "code",
        "colab": {
          "base_uri": "https://localhost:8080/",
          "height": 121
        },
        "outputId": "c6510830-6694-4b9c-8a8b-aaf313da7007"
      },
      "source": [
        "#Training the model with the best parameters\n",
        "bestclf = GaussianNB(var_smoothing=1e-10)\n",
        "bestclf.fit(X_train, y_train)\n",
        "tr_p = bestclf.predict(X_train)\n",
        "print(accuracy_score(y_train, tr_p))\n",
        "confusion_matrix(y_train, tr_p)"
      ],
      "execution_count": 16,
      "outputs": [
        {
          "output_type": "stream",
          "text": [
            "0.925037037037037\n"
          ],
          "name": "stdout"
        },
        {
          "output_type": "execute_result",
          "data": {
            "text/plain": [
              "array([[2777,    0,    4,    0,    3],\n",
              "       [   8, 2339,    7,   22,  206],\n",
              "       [  15,    0, 2314,  302,   18],\n",
              "       [   5,    2,   26, 2345,   98],\n",
              "       [ 134,  118,   20,   24, 2713]])"
            ]
          },
          "metadata": {
            "tags": []
          },
          "execution_count": 16
        }
      ]
    },
    {
      "cell_type": "code",
      "metadata": {
        "id": "HnlrPcw_FEtt",
        "colab_type": "code",
        "colab": {
          "base_uri": "https://localhost:8080/",
          "height": 121
        },
        "outputId": "0fd8f4e2-81c5-42a9-91a1-cc5ab52fefcc"
      },
      "source": [
        "#Running the model on the test set\n",
        "predictions = bestclf.predict(X_test)\n",
        "print(accuracy_score(y_test, predictions))\n",
        "confusion_matrix(y_test, predictions)"
      ],
      "execution_count": 17,
      "outputs": [
        {
          "output_type": "stream",
          "text": [
            "0.8177164794540026\n"
          ],
          "name": "stdout"
        },
        {
          "output_type": "execute_result",
          "data": {
            "text/plain": [
              "array([[4406,   48,    0,    0,   12],\n",
              "       [  31, 4197,    0,  172,    2],\n",
              "       [ 363,    0, 2367,  609, 1440],\n",
              "       [   0,    0,    0, 2984,  930],\n",
              "       [   0,  125,    0,  114, 3299]])"
            ]
          },
          "metadata": {
            "tags": []
          },
          "execution_count": 17
        }
      ]
    },
    {
      "cell_type": "code",
      "metadata": {
        "id": "42m-qGpsPR1w",
        "colab_type": "code",
        "colab": {}
      },
      "source": [
        "import pandas as pd\n",
        "import numpy as np\n",
        "from sklearn.feature_selection import RFE, RFECV\n",
        "import matplotlib.pyplot as plt\n",
        "from sklearn.model_selection import GridSearchCV, KFold, train_test_split"
      ],
      "execution_count": 18,
      "outputs": []
    },
    {
      "cell_type": "code",
      "metadata": {
        "id": "YQzAFz7PPYpq",
        "colab_type": "code",
        "colab": {}
      },
      "source": [
        "#Loading the expanded dataset\n",
        "train = pd.read_csv('/content/drive/My Drive/Colab Notebooks/mpr/linearTrainexpanded.csv')\n",
        "test = pd.read_csv('/content/drive/My Drive/Colab Notebooks/mpr/linearTestexpanded.csv')"
      ],
      "execution_count": 19,
      "outputs": []
    },
    {
      "cell_type": "markdown",
      "metadata": {
        "id": "YWhX87vHkDEo",
        "colab_type": "text"
      },
      "source": [
        "Implementing the naive bayes classifier on the expanded dataset"
      ]
    },
    {
      "cell_type": "code",
      "metadata": {
        "id": "i2fRYpIHPcGb",
        "colab_type": "code",
        "colab": {}
      },
      "source": [
        "X_train = train.iloc[:, 1:60]\n",
        "y_train = train.iloc[:,60]\n",
        "X_test = test.iloc[:, 1:60]\n",
        "y_test = test.iloc[:, 60]"
      ],
      "execution_count": 20,
      "outputs": []
    },
    {
      "cell_type": "code",
      "metadata": {
        "id": "0B4yDIxmPdc4",
        "colab_type": "code",
        "colab": {}
      },
      "source": [
        "#Normalizing the data\n",
        "from sklearn import preprocessing\n",
        "scalar = preprocessing.StandardScaler()\n",
        "scalar.fit(X_train)\n",
        "X_train = scalar.transform(X_train)\n",
        "X_test = scalar.transform(X_test)\n",
        "X_train = pd.DataFrame(X_train)\n",
        "X_test = pd.DataFrame(X_test)"
      ],
      "execution_count": 21,
      "outputs": []
    },
    {
      "cell_type": "code",
      "metadata": {
        "id": "-iW2MMCvPeqn",
        "colab_type": "code",
        "colab": {
          "base_uri": "https://localhost:8080/",
          "height": 138
        },
        "outputId": "b2027ab0-2721-477f-8d61-ab55df87c9e0"
      },
      "source": [
        "kf = KFold(n_splits=9, random_state=None, shuffle=False)\n",
        "params = {'var_smoothing': [1e-10,1e-9,1e-8, 1e-7, 1e-6]}\n",
        "clf = GaussianNB()\n",
        "gs = GridSearchCV(clf, cv=kf, param_grid=params, return_train_score=True)\n",
        "\n",
        "gs.fit(X_train, y_train)"
      ],
      "execution_count": 22,
      "outputs": [
        {
          "output_type": "execute_result",
          "data": {
            "text/plain": [
              "GridSearchCV(cv=KFold(n_splits=9, random_state=None, shuffle=False),\n",
              "             error_score=nan,\n",
              "             estimator=GaussianNB(priors=None, var_smoothing=1e-09),\n",
              "             iid='deprecated', n_jobs=None,\n",
              "             param_grid={'var_smoothing': [1e-10, 1e-09, 1e-08, 1e-07, 1e-06]},\n",
              "             pre_dispatch='2*n_jobs', refit=True, return_train_score=True,\n",
              "             scoring=None, verbose=0)"
            ]
          },
          "metadata": {
            "tags": []
          },
          "execution_count": 22
        }
      ]
    },
    {
      "cell_type": "code",
      "metadata": {
        "id": "KcaSz78sPj1Q",
        "colab_type": "code",
        "colab": {
          "base_uri": "https://localhost:8080/",
          "height": 658
        },
        "outputId": "0fb12b8e-c515-41ba-f41a-cdb7210f5e27"
      },
      "source": [
        "#Visualizing the result of grid search\n",
        "gs.cv_results_"
      ],
      "execution_count": 23,
      "outputs": [
        {
          "output_type": "execute_result",
          "data": {
            "text/plain": [
              "{'mean_fit_time': array([0.0167964 , 0.01522295, 0.01578797, 0.01513373, 0.01505362]),\n",
              " 'mean_score_time': array([0.00432388, 0.00390802, 0.00392962, 0.00397446, 0.00395282]),\n",
              " 'mean_test_score': array([0.76866667, 0.76866667, 0.76866667, 0.76866667, 0.76866667]),\n",
              " 'mean_train_score': array([0.90118519, 0.90118519, 0.90118519, 0.90118519, 0.90119444]),\n",
              " 'param_var_smoothing': masked_array(data=[1e-10, 1e-09, 1e-08, 1e-07, 1e-06],\n",
              "              mask=[False, False, False, False, False],\n",
              "        fill_value='?',\n",
              "             dtype=object),\n",
              " 'params': [{'var_smoothing': 1e-10},\n",
              "  {'var_smoothing': 1e-09},\n",
              "  {'var_smoothing': 1e-08},\n",
              "  {'var_smoothing': 1e-07},\n",
              "  {'var_smoothing': 1e-06}],\n",
              " 'rank_test_score': array([1, 1, 1, 1, 1], dtype=int32),\n",
              " 'split0_test_score': array([0.75666667, 0.75666667, 0.75666667, 0.75666667, 0.75666667]),\n",
              " 'split0_train_score': array([0.90433333, 0.90433333, 0.90433333, 0.90433333, 0.90441667]),\n",
              " 'split1_test_score': array([0.74733333, 0.74733333, 0.74733333, 0.74733333, 0.74733333]),\n",
              " 'split1_train_score': array([0.88908333, 0.88908333, 0.88908333, 0.88908333, 0.88908333]),\n",
              " 'split2_test_score': array([0.83466667, 0.83466667, 0.83466667, 0.83466667, 0.83466667]),\n",
              " 'split2_train_score': array([0.89666667, 0.89666667, 0.89666667, 0.89666667, 0.89666667]),\n",
              " 'split3_test_score': array([0.43666667, 0.43666667, 0.43666667, 0.43666667, 0.43666667]),\n",
              " 'split3_train_score': array([0.90158333, 0.90158333, 0.90158333, 0.90158333, 0.90158333]),\n",
              " 'split4_test_score': array([0.99266667, 0.99266667, 0.99266667, 0.99266667, 0.99266667]),\n",
              " 'split4_train_score': array([0.89008333, 0.89008333, 0.89008333, 0.89008333, 0.89008333]),\n",
              " 'split5_test_score': array([0.846, 0.846, 0.846, 0.846, 0.846]),\n",
              " 'split5_train_score': array([0.91483333, 0.91483333, 0.91483333, 0.91483333, 0.91483333]),\n",
              " 'split6_test_score': array([0.49733333, 0.49733333, 0.49733333, 0.49733333, 0.49733333]),\n",
              " 'split6_train_score': array([0.89833333, 0.89833333, 0.89833333, 0.89833333, 0.89833333]),\n",
              " 'split7_test_score': array([0.878, 0.878, 0.878, 0.878, 0.878]),\n",
              " 'split7_train_score': array([0.91216667, 0.91216667, 0.91216667, 0.91216667, 0.91216667]),\n",
              " 'split8_test_score': array([0.92866667, 0.92866667, 0.92866667, 0.92866667, 0.92866667]),\n",
              " 'split8_train_score': array([0.90358333, 0.90358333, 0.90358333, 0.90358333, 0.90358333]),\n",
              " 'std_fit_time': array([0.00245237, 0.00035599, 0.00172562, 0.00039672, 0.00037653]),\n",
              " 'std_score_time': array([4.10251095e-04, 1.13957215e-04, 1.48359291e-04, 1.67000957e-04,\n",
              "        8.69006558e-05]),\n",
              " 'std_test_score': array([0.17717258, 0.17717258, 0.17717258, 0.17717258, 0.17717258]),\n",
              " 'std_train_score': array([0.00830623, 0.00830623, 0.00830623, 0.00830623, 0.00830978])}"
            ]
          },
          "metadata": {
            "tags": []
          },
          "execution_count": 23
        }
      ]
    },
    {
      "cell_type": "code",
      "metadata": {
        "id": "6CaLSj5GPmZj",
        "colab_type": "code",
        "colab": {
          "base_uri": "https://localhost:8080/",
          "height": 34
        },
        "outputId": "6107ce25-fe1c-4bac-bd46-3a33125bee06"
      },
      "source": [
        "#Best estimator\n",
        "gs.best_estimator_"
      ],
      "execution_count": 24,
      "outputs": [
        {
          "output_type": "execute_result",
          "data": {
            "text/plain": [
              "GaussianNB(priors=None, var_smoothing=1e-10)"
            ]
          },
          "metadata": {
            "tags": []
          },
          "execution_count": 24
        }
      ]
    },
    {
      "cell_type": "code",
      "metadata": {
        "id": "K-lkddwKPnba",
        "colab_type": "code",
        "colab": {
          "base_uri": "https://localhost:8080/",
          "height": 34
        },
        "outputId": "0f1ab717-8b4a-451f-ddcc-8442f7cf5224"
      },
      "source": [
        "#Best parameters\n",
        "gs.best_params_"
      ],
      "execution_count": 25,
      "outputs": [
        {
          "output_type": "execute_result",
          "data": {
            "text/plain": [
              "{'var_smoothing': 1e-10}"
            ]
          },
          "metadata": {
            "tags": []
          },
          "execution_count": 25
        }
      ]
    },
    {
      "cell_type": "code",
      "metadata": {
        "id": "SMxs4rsjPogX",
        "colab_type": "code",
        "colab": {
          "base_uri": "https://localhost:8080/",
          "height": 34
        },
        "outputId": "db14757b-e05d-4a74-d58b-6d04c3accc44"
      },
      "source": [
        "#Best score\n",
        "gs.best_score_"
      ],
      "execution_count": 26,
      "outputs": [
        {
          "output_type": "execute_result",
          "data": {
            "text/plain": [
              "0.7686666666666666"
            ]
          },
          "metadata": {
            "tags": []
          },
          "execution_count": 26
        }
      ]
    },
    {
      "cell_type": "code",
      "metadata": {
        "id": "tNewwjqXPp4J",
        "colab_type": "code",
        "colab": {
          "base_uri": "https://localhost:8080/",
          "height": 121
        },
        "outputId": "fd63068e-851c-444e-eec3-e61dc3821d0d"
      },
      "source": [
        "#Training the model with the best parameters\n",
        "bestclf = GaussianNB(var_smoothing=1e-10)\n",
        "bestclf.fit(X_train, y_train)\n",
        "tr_p = bestclf.predict(X_train)\n",
        "print(accuracy_score(y_train, tr_p))\n",
        "confusion_matrix(y_train, tr_p)"
      ],
      "execution_count": 27,
      "outputs": [
        {
          "output_type": "stream",
          "text": [
            "0.9002222222222223\n"
          ],
          "name": "stdout"
        },
        {
          "output_type": "execute_result",
          "data": {
            "text/plain": [
              "array([[2773,    0,    7,    0,    4],\n",
              "       [  13, 2458,    4,   29,   78],\n",
              "       [  11,    0, 2080,  550,    8],\n",
              "       [  50,    1,   59, 2293,   73],\n",
              "       [  59,  228,   84,   89, 2549]])"
            ]
          },
          "metadata": {
            "tags": []
          },
          "execution_count": 27
        }
      ]
    },
    {
      "cell_type": "code",
      "metadata": {
        "id": "XuYOQWYmPvH4",
        "colab_type": "code",
        "colab": {
          "base_uri": "https://localhost:8080/",
          "height": 121
        },
        "outputId": "87dd3abc-b0c0-497c-d423-385d88502767"
      },
      "source": [
        "#Running the model on the test set\n",
        "predictions = bestclf.predict(X_test)\n",
        "print(accuracy_score(y_test, predictions))\n",
        "confusion_matrix(y_test, predictions)"
      ],
      "execution_count": 28,
      "outputs": [
        {
          "output_type": "stream",
          "text": [
            "0.7150101900564008\n"
          ],
          "name": "stdout"
        },
        {
          "output_type": "execute_result",
          "data": {
            "text/plain": [
              "array([[4409,   48,    8,    0,    1],\n",
              "       [  20, 4197,    6,  127,   52],\n",
              "       [1799,    0, 1312, 1607,   61],\n",
              "       [   1,    0,  995, 1990,  928],\n",
              "       [  12,  122,    0,  226, 3178]])"
            ]
          },
          "metadata": {
            "tags": []
          },
          "execution_count": 28
        }
      ]
    }
  ]
}