{
 "cells": [
  {
   "cell_type": "code",
   "execution_count": 1,
   "metadata": {
    "colab": {},
    "colab_type": "code",
    "executionInfo": {
     "elapsed": 1136,
     "status": "ok",
     "timestamp": 1599935142155,
     "user": {
      "displayName": "Anjana Niranjan",
      "photoUrl": "https://lh3.googleusercontent.com/a-/AOh14Gi-DUuXNslKe9_IpDzKJKy7kFDXdw2iBILnh75qfNo=s64",
      "userId": "03367688363527101143"
     },
     "user_tz": 420
    },
    "id": "o3V_KLwzj3hd"
   },
   "outputs": [],
   "source": [
    "'''This notebook implements the Perceptron Learning classifier on\n",
    "    1. The linear dataset\n",
    "    2. The standardized linear dataset\n",
    "    3. The standardized expanded dataset\n",
    "    4. Optimal features selected from the expanded dataset'''\n",
    "\n",
    "__author__ = 'Anjana Niranjan'\n",
    "__email__ = 'anjanani@usc.edu'"
   ]
  },
  {
   "cell_type": "markdown",
   "metadata": {
    "colab_type": "text",
    "id": "3FKR6otxP69c"
   },
   "source": [
    "**Perceptron**\n",
    "Thanks to the sklearn website for examples on the functions used in this code.\n",
    "Thanks to https://stackoverflow.com/questions/51194627/python-naive-bayes-with-cross-validation-using-gaussiannb-classifier for helping with cross-validation."
   ]
  },
  {
   "cell_type": "code",
   "execution_count": null,
   "metadata": {
    "colab": {},
    "colab_type": "code",
    "id": "kIVArVvgkJ2O"
   },
   "outputs": [],
   "source": [
    "#Imports\n",
    "import pandas as pd\n",
    "import numpy as np\n",
    "from sklearn.model_selection import GridSearchCV, KFold\n",
    "from sklearn.linear_model import Perceptron\n",
    "from sklearn.metrics import confusion_matrix\n",
    "from sklearn.metrics import accuracy_score"
   ]
  },
  {
   "cell_type": "code",
   "execution_count": null,
   "metadata": {
    "colab": {},
    "colab_type": "code",
    "id": "xc1QjIBfzjJH"
   },
   "outputs": [],
   "source": [
    "#Loading the dataset\n",
    "train = pd.read_csv('/content/drive/My Drive/Colab Notebooks/mpr/linearTrain.csv')\n",
    "test = pd.read_csv('/content/drive/My Drive/Colab Notebooks/mpr/linearTest.csv')"
   ]
  },
  {
   "cell_type": "code",
   "execution_count": null,
   "metadata": {
    "colab": {},
    "colab_type": "code",
    "id": "aGV2Ts9lzkjE"
   },
   "outputs": [],
   "source": [
    "X_train = train.iloc[:, 1:14]\n",
    "y_train = train.iloc[:,14]\n",
    "X_test = test.iloc[:, 1:14]\n",
    "y_test = test.iloc[:, 14]"
   ]
  },
  {
   "cell_type": "markdown",
   "metadata": {
    "colab_type": "text",
    "id": "gURGyQOSiQcp"
   },
   "source": [
    "Implementing the Perceptron Learning classifier on the data by selecting the best parameters through grid search with cross validation"
   ]
  },
  {
   "cell_type": "code",
   "execution_count": null,
   "metadata": {
    "colab": {
     "base_uri": "https://localhost:8080/",
     "height": 259
    },
    "colab_type": "code",
    "executionInfo": {
     "elapsed": 40595,
     "status": "ok",
     "timestamp": 1589015044839,
     "user": {
      "displayName": "Anjana Niranjan",
      "photoUrl": "https://lh3.googleusercontent.com/a-/AOh14Gi-DUuXNslKe9_IpDzKJKy7kFDXdw2iBILnh75qfNo=s64",
      "userId": "03367688363527101143"
     },
     "user_tz": 420
    },
    "id": "sWraafP_znbG",
    "outputId": "9b6d8223-5265-42a4-8f08-d45c6fc03c17"
   },
   "outputs": [
    {
     "data": {
      "text/plain": [
       "GridSearchCV(cv=KFold(n_splits=9, random_state=None, shuffle=False),\n",
       "             error_score=nan,\n",
       "             estimator=Perceptron(alpha=0.0001, class_weight=None,\n",
       "                                  early_stopping=False, eta0=1.0,\n",
       "                                  fit_intercept=True, max_iter=1000,\n",
       "                                  n_iter_no_change=5, n_jobs=None, penalty=None,\n",
       "                                  random_state=0, shuffle=True, tol=0.001,\n",
       "                                  validation_fraction=0.1, verbose=0,\n",
       "                                  warm_start=False),\n",
       "             iid='deprecated', n_jobs=None,\n",
       "             param_grid={'alpha': [0.1, 0.05, 0.001], 'eta0': [0.5, 1, 5],\n",
       "                         'penalty': ['l1', 'l2', 'elasticnet']},\n",
       "             pre_dispatch='2*n_jobs', refit=True, return_train_score=True,\n",
       "             scoring=None, verbose=0)"
      ]
     },
     "execution_count": 4,
     "metadata": {
      "tags": []
     },
     "output_type": "execute_result"
    }
   ],
   "source": [
    "kf = KFold(n_splits=9, random_state=None, shuffle=False)\n",
    "params = {'penalty':['l1', 'l2', 'elasticnet'], 'alpha': [0.1, 0.05, 0.001], 'eta0':[0.5, 1, 5]}\n",
    "clf = Perceptron()\n",
    "gs = GridSearchCV(clf, cv=kf, param_grid=params, return_train_score=True)\n",
    "\n",
    "gs.fit(X_train, y_train)"
   ]
  },
  {
   "cell_type": "code",
   "execution_count": null,
   "metadata": {
    "colab": {
     "base_uri": "https://localhost:8080/",
     "height": 1000
    },
    "colab_type": "code",
    "executionInfo": {
     "elapsed": 888,
     "status": "ok",
     "timestamp": 1589015045795,
     "user": {
      "displayName": "Anjana Niranjan",
      "photoUrl": "https://lh3.googleusercontent.com/a-/AOh14Gi-DUuXNslKe9_IpDzKJKy7kFDXdw2iBILnh75qfNo=s64",
      "userId": "03367688363527101143"
     },
     "user_tz": 420
    },
    "id": "dULH_lD90JYI",
    "outputId": "0fd9f693-20d2-4169-f444-f3dd569a72ad"
   },
   "outputs": [
    {
     "data": {
      "text/plain": [
       "{'mean_fit_time': array([0.13063516, 0.13108158, 0.18472022, 0.14919625, 0.10074184,\n",
       "        0.16997205, 0.13458061, 0.07701251, 0.13440114, 0.14217814,\n",
       "        0.15788256, 0.20213011, 0.16060315, 0.12079085, 0.19065788,\n",
       "        0.15702966, 0.08551309, 0.15180045, 0.1993351 , 0.10746113,\n",
       "        0.1439867 , 0.19058683, 0.10909748, 0.16220514, 0.19107403,\n",
       "        0.14548235, 0.21469641]),\n",
       " 'mean_score_time': array([0.00203363, 0.00182033, 0.00144508, 0.00171669, 0.00185466,\n",
       "        0.00171889, 0.00150522, 0.00187288, 0.00184369, 0.00149369,\n",
       "        0.00233091, 0.00151081, 0.00182578, 0.00160429, 0.00153785,\n",
       "        0.00158697, 0.00181389, 0.00171277, 0.00162641, 0.00197811,\n",
       "        0.0015485 , 0.00151984, 0.00163386, 0.00163054, 0.00150487,\n",
       "        0.00154201, 0.00147994]),\n",
       " 'mean_test_score': array([0.72451852, 0.22096296, 0.22096296, 0.72451852, 0.25681481,\n",
       "        0.25681481, 0.72451852, 0.21274074, 0.21274074, 0.69933333,\n",
       "        0.34740741, 0.34740741, 0.69933333, 0.22096296, 0.22096296,\n",
       "        0.69933333, 0.224     , 0.224     , 0.72237037, 0.52940741,\n",
       "        0.52940741, 0.72237037, 0.51162963, 0.51162963, 0.72237037,\n",
       "        0.37274074, 0.37274074]),\n",
       " 'mean_train_score': array([0.78834259, 0.2242037 , 0.2242037 , 0.78834259, 0.28577778,\n",
       "        0.28577778, 0.78834259, 0.19332407, 0.19332407, 0.76813889,\n",
       "        0.33152778, 0.33152778, 0.76813889, 0.2242037 , 0.2242037 ,\n",
       "        0.76813889, 0.19237963, 0.19237963, 0.87492593, 0.59488889,\n",
       "        0.59488889, 0.87492593, 0.52094444, 0.52094444, 0.87492593,\n",
       "        0.37399074, 0.37399074]),\n",
       " 'param_alpha': masked_array(data=[0.1, 0.1, 0.1, 0.1, 0.1, 0.1, 0.1, 0.1, 0.1, 0.05,\n",
       "                    0.05, 0.05, 0.05, 0.05, 0.05, 0.05, 0.05, 0.05, 0.001,\n",
       "                    0.001, 0.001, 0.001, 0.001, 0.001, 0.001, 0.001, 0.001],\n",
       "              mask=[False, False, False, False, False, False, False, False,\n",
       "                    False, False, False, False, False, False, False, False,\n",
       "                    False, False, False, False, False, False, False, False,\n",
       "                    False, False, False],\n",
       "        fill_value='?',\n",
       "             dtype=object),\n",
       " 'param_eta0': masked_array(data=[0.5, 0.5, 0.5, 1, 1, 1, 5, 5, 5, 0.5, 0.5, 0.5, 1, 1,\n",
       "                    1, 5, 5, 5, 0.5, 0.5, 0.5, 1, 1, 1, 5, 5, 5],\n",
       "              mask=[False, False, False, False, False, False, False, False,\n",
       "                    False, False, False, False, False, False, False, False,\n",
       "                    False, False, False, False, False, False, False, False,\n",
       "                    False, False, False],\n",
       "        fill_value='?',\n",
       "             dtype=object),\n",
       " 'param_penalty': masked_array(data=['l1', 'l2', 'elasticnet', 'l1', 'l2', 'elasticnet',\n",
       "                    'l1', 'l2', 'elasticnet', 'l1', 'l2', 'elasticnet',\n",
       "                    'l1', 'l2', 'elasticnet', 'l1', 'l2', 'elasticnet',\n",
       "                    'l1', 'l2', 'elasticnet', 'l1', 'l2', 'elasticnet',\n",
       "                    'l1', 'l2', 'elasticnet'],\n",
       "              mask=[False, False, False, False, False, False, False, False,\n",
       "                    False, False, False, False, False, False, False, False,\n",
       "                    False, False, False, False, False, False, False, False,\n",
       "                    False, False, False],\n",
       "        fill_value='?',\n",
       "             dtype=object),\n",
       " 'params': [{'alpha': 0.1, 'eta0': 0.5, 'penalty': 'l1'},\n",
       "  {'alpha': 0.1, 'eta0': 0.5, 'penalty': 'l2'},\n",
       "  {'alpha': 0.1, 'eta0': 0.5, 'penalty': 'elasticnet'},\n",
       "  {'alpha': 0.1, 'eta0': 1, 'penalty': 'l1'},\n",
       "  {'alpha': 0.1, 'eta0': 1, 'penalty': 'l2'},\n",
       "  {'alpha': 0.1, 'eta0': 1, 'penalty': 'elasticnet'},\n",
       "  {'alpha': 0.1, 'eta0': 5, 'penalty': 'l1'},\n",
       "  {'alpha': 0.1, 'eta0': 5, 'penalty': 'l2'},\n",
       "  {'alpha': 0.1, 'eta0': 5, 'penalty': 'elasticnet'},\n",
       "  {'alpha': 0.05, 'eta0': 0.5, 'penalty': 'l1'},\n",
       "  {'alpha': 0.05, 'eta0': 0.5, 'penalty': 'l2'},\n",
       "  {'alpha': 0.05, 'eta0': 0.5, 'penalty': 'elasticnet'},\n",
       "  {'alpha': 0.05, 'eta0': 1, 'penalty': 'l1'},\n",
       "  {'alpha': 0.05, 'eta0': 1, 'penalty': 'l2'},\n",
       "  {'alpha': 0.05, 'eta0': 1, 'penalty': 'elasticnet'},\n",
       "  {'alpha': 0.05, 'eta0': 5, 'penalty': 'l1'},\n",
       "  {'alpha': 0.05, 'eta0': 5, 'penalty': 'l2'},\n",
       "  {'alpha': 0.05, 'eta0': 5, 'penalty': 'elasticnet'},\n",
       "  {'alpha': 0.001, 'eta0': 0.5, 'penalty': 'l1'},\n",
       "  {'alpha': 0.001, 'eta0': 0.5, 'penalty': 'l2'},\n",
       "  {'alpha': 0.001, 'eta0': 0.5, 'penalty': 'elasticnet'},\n",
       "  {'alpha': 0.001, 'eta0': 1, 'penalty': 'l1'},\n",
       "  {'alpha': 0.001, 'eta0': 1, 'penalty': 'l2'},\n",
       "  {'alpha': 0.001, 'eta0': 1, 'penalty': 'elasticnet'},\n",
       "  {'alpha': 0.001, 'eta0': 5, 'penalty': 'l1'},\n",
       "  {'alpha': 0.001, 'eta0': 5, 'penalty': 'l2'},\n",
       "  {'alpha': 0.001, 'eta0': 5, 'penalty': 'elasticnet'}],\n",
       " 'rank_test_score': array([ 1, 22, 22,  1, 18, 18,  1, 26, 26,  7, 16, 16,  7, 22, 22,  7, 20,\n",
       "        20,  4, 10, 10,  4, 12, 12,  4, 14, 14], dtype=int32),\n",
       " 'split0_test_score': array([0.57666667, 0.208     , 0.208     , 0.57666667, 0.396     ,\n",
       "        0.396     , 0.57666667, 0.166     , 0.166     , 0.81066667,\n",
       "        0.222     , 0.222     , 0.81066667, 0.208     , 0.208     ,\n",
       "        0.81066667, 0.26466667, 0.26466667, 0.766     , 0.542     ,\n",
       "        0.542     , 0.766     , 0.58666667, 0.58666667, 0.766     ,\n",
       "        0.55666667, 0.55666667]),\n",
       " 'split0_train_score': array([0.83658333, 0.261     , 0.261     , 0.83658333, 0.45008333,\n",
       "        0.45008333, 0.83658333, 0.19441667, 0.19441667, 0.88383333,\n",
       "        0.27783333, 0.27783333, 0.88383333, 0.261     , 0.261     ,\n",
       "        0.88383333, 0.2265    , 0.2265    , 0.92933333, 0.54025   ,\n",
       "        0.54025   , 0.92933333, 0.54383333, 0.54383333, 0.92933333,\n",
       "        0.64941667, 0.64941667]),\n",
       " 'split1_test_score': array([0.63933333, 0.21      , 0.21      , 0.63933333, 0.27666667,\n",
       "        0.27666667, 0.63933333, 0.27733333, 0.27733333, 0.66466667,\n",
       "        0.396     , 0.396     , 0.66466667, 0.21      , 0.21      ,\n",
       "        0.66466667, 0.28      , 0.28      , 0.65666667, 0.372     ,\n",
       "        0.372     , 0.65666667, 0.554     , 0.554     , 0.65666667,\n",
       "        0.374     , 0.374     ]),\n",
       " 'split1_train_score': array([0.73625   , 0.37775   , 0.37775   , 0.73625   , 0.38858333,\n",
       "        0.38858333, 0.73625   , 0.19733333, 0.19733333, 0.85641667,\n",
       "        0.263     , 0.263     , 0.85641667, 0.37775   , 0.37775   ,\n",
       "        0.85641667, 0.15608333, 0.15608333, 0.85025   , 0.52816667,\n",
       "        0.52816667, 0.85025   , 0.46408333, 0.46408333, 0.85025   ,\n",
       "        0.44116667, 0.44116667]),\n",
       " 'split2_test_score': array([0.91466667, 0.33533333, 0.33533333, 0.91466667, 0.338     ,\n",
       "        0.338     , 0.91466667, 0.26533333, 0.26533333, 0.69066667,\n",
       "        0.59133333, 0.59133333, 0.69066667, 0.33533333, 0.33533333,\n",
       "        0.69066667, 0.26533333, 0.26533333, 0.78533333, 0.41866667,\n",
       "        0.41866667, 0.78533333, 0.40866667, 0.40866667, 0.78533333,\n",
       "        0.33066667, 0.33066667]),\n",
       " 'split2_train_score': array([0.77716667, 0.20766667, 0.20766667, 0.77716667, 0.45025   ,\n",
       "        0.45025   , 0.77716667, 0.19883333, 0.19883333, 0.87608333,\n",
       "        0.61208333, 0.61208333, 0.87608333, 0.20766667, 0.20766667,\n",
       "        0.87608333, 0.19883333, 0.19883333, 0.8225    , 0.46325   ,\n",
       "        0.46325   , 0.8225    , 0.38766667, 0.38766667, 0.8225    ,\n",
       "        0.46908333, 0.46908333]),\n",
       " 'split3_test_score': array([0.75      , 0.18133333, 0.18133333, 0.75      , 0.242     ,\n",
       "        0.242     , 0.75      , 0.224     , 0.224     , 0.56733333,\n",
       "        0.202     , 0.202     , 0.56733333, 0.18133333, 0.18133333,\n",
       "        0.56733333, 0.224     , 0.224     , 0.52733333, 0.654     ,\n",
       "        0.654     , 0.52733333, 0.63733333, 0.63733333, 0.52733333,\n",
       "        0.35533333, 0.35533333]),\n",
       " 'split3_train_score': array([0.88808333, 0.19808333, 0.19808333, 0.88808333, 0.29275   ,\n",
       "        0.29275   , 0.88808333, 0.18716667, 0.18716667, 0.85158333,\n",
       "        0.18216667, 0.18216667, 0.85158333, 0.19808333, 0.19808333,\n",
       "        0.85158333, 0.18716667, 0.18716667, 0.94158333, 0.52425   ,\n",
       "        0.52425   , 0.94158333, 0.69258333, 0.69258333, 0.94158333,\n",
       "        0.185     , 0.185     ]),\n",
       " 'split4_test_score': array([0.78466667, 0.22      , 0.22      , 0.78466667, 0.17      ,\n",
       "        0.17      , 0.78466667, 0.17      , 0.17      , 0.52866667,\n",
       "        0.42533333, 0.42533333, 0.52866667, 0.22      , 0.22      ,\n",
       "        0.52866667, 0.17      , 0.17      , 0.66133333, 0.37      ,\n",
       "        0.37      , 0.66133333, 0.69066667, 0.69066667, 0.66133333,\n",
       "        0.45533333, 0.45533333]),\n",
       " 'split4_train_score': array([0.8225    , 0.18975   , 0.18975   , 0.8225    , 0.18508333,\n",
       "        0.18508333, 0.8225    , 0.18508333, 0.18508333, 0.50816667,\n",
       "        0.40666667, 0.40666667, 0.50816667, 0.18975   , 0.18975   ,\n",
       "        0.50816667, 0.18508333, 0.18508333, 0.83341667, 0.434     ,\n",
       "        0.434     , 0.83341667, 0.689     , 0.689     , 0.83341667,\n",
       "        0.39575   , 0.39575   ]),\n",
       " 'split5_test_score': array([0.88066667, 0.204     , 0.204     , 0.88066667, 0.24533333,\n",
       "        0.24533333, 0.88066667, 0.204     , 0.204     , 0.66066667,\n",
       "        0.53533333, 0.53533333, 0.66066667, 0.204     , 0.204     ,\n",
       "        0.66066667, 0.204     , 0.204     , 0.90733333, 0.88533333,\n",
       "        0.88533333, 0.90733333, 0.56066667, 0.56066667, 0.90733333,\n",
       "        0.24466667, 0.24466667]),\n",
       " 'split5_train_score': array([0.859     , 0.18966667, 0.18966667, 0.859     , 0.20925   ,\n",
       "        0.20925   , 0.859     , 0.18966667, 0.18966667, 0.61741667,\n",
       "        0.56808333, 0.56808333, 0.61741667, 0.18966667, 0.18966667,\n",
       "        0.61741667, 0.19033333, 0.19033333, 0.77566667, 0.81866667,\n",
       "        0.81866667, 0.77566667, 0.46775   , 0.46775   , 0.77566667,\n",
       "        0.34641667, 0.34641667]),\n",
       " 'split6_test_score': array([0.55066667, 0.234     , 0.234     , 0.55066667, 0.212     ,\n",
       "        0.212     , 0.55066667, 0.212     , 0.212     , 0.94933333,\n",
       "        0.212     , 0.212     , 0.94933333, 0.234     , 0.234     ,\n",
       "        0.94933333, 0.212     , 0.212     , 0.8       , 0.742     ,\n",
       "        0.742     , 0.8       , 0.43933333, 0.43933333, 0.8       ,\n",
       "        0.60933333, 0.60933333]),\n",
       " 'split6_train_score': array([0.69508333, 0.186     , 0.186     , 0.69508333, 0.17983333,\n",
       "        0.17983333, 0.69508333, 0.17983333, 0.17983333, 0.837     ,\n",
       "        0.18016667, 0.18016667, 0.837     , 0.186     , 0.186     ,\n",
       "        0.837     , 0.17983333, 0.17983333, 0.87625   , 0.68408333,\n",
       "        0.68408333, 0.87625   , 0.57116667, 0.57116667, 0.87625   ,\n",
       "        0.5005    , 0.5005    ]),\n",
       " 'split7_test_score': array([0.568     , 0.198     , 0.198     , 0.568     , 0.198     ,\n",
       "        0.198     , 0.568     , 0.198     , 0.198     , 0.59466667,\n",
       "        0.198     , 0.198     , 0.59466667, 0.198     , 0.198     ,\n",
       "        0.59466667, 0.198     , 0.198     , 0.69733333, 0.28866667,\n",
       "        0.28866667, 0.69733333, 0.51666667, 0.51666667, 0.69733333,\n",
       "        0.19533333, 0.19533333]),\n",
       " 'split7_train_score': array([0.7435    , 0.18158333, 0.18158333, 0.7435    , 0.18158333,\n",
       "        0.18158333, 0.7435    , 0.18158333, 0.18158333, 0.79258333,\n",
       "        0.18225   , 0.18225   , 0.79258333, 0.18158333, 0.18158333,\n",
       "        0.79258333, 0.18158333, 0.18158333, 0.91708333, 0.58058333,\n",
       "        0.58058333, 0.91708333, 0.38      , 0.38      , 0.91708333,\n",
       "        0.19808333, 0.19808333]),\n",
       " 'split8_test_score': array([0.856     , 0.198     , 0.198     , 0.856     , 0.23333333,\n",
       "        0.23333333, 0.856     , 0.198     , 0.198     , 0.82733333,\n",
       "        0.34466667, 0.34466667, 0.82733333, 0.198     , 0.198     ,\n",
       "        0.82733333, 0.198     , 0.198     , 0.7       , 0.492     ,\n",
       "        0.492     , 0.7       , 0.21066667, 0.21066667, 0.7       ,\n",
       "        0.23333333, 0.23333333]),\n",
       " 'split8_train_score': array([0.73691667, 0.22633333, 0.22633333, 0.73691667, 0.23458333,\n",
       "        0.23458333, 0.73691667, 0.226     , 0.226     , 0.69016667,\n",
       "        0.3115    , 0.3115    , 0.69016667, 0.22633333, 0.22633333,\n",
       "        0.69016667, 0.226     , 0.226     , 0.92825   , 0.78075   ,\n",
       "        0.78075   , 0.92825   , 0.49241667, 0.49241667, 0.92825   ,\n",
       "        0.1805    , 0.1805    ]),\n",
       " 'std_fit_time': array([0.01350536, 0.02359975, 0.013152  , 0.02214441, 0.01434639,\n",
       "        0.02729291, 0.00636725, 0.01056296, 0.02712226, 0.00571752,\n",
       "        0.03328028, 0.0239698 , 0.02521545, 0.00892956, 0.0294962 ,\n",
       "        0.03059908, 0.0190329 , 0.02294112, 0.02472263, 0.02615116,\n",
       "        0.02197197, 0.01955847, 0.02257219, 0.02833212, 0.02060607,\n",
       "        0.02554984, 0.03708552]),\n",
       " 'std_score_time': array([1.47493491e-03, 2.38184708e-04, 4.07055370e-05, 2.87617714e-04,\n",
       "        1.64409391e-04, 3.05396055e-04, 2.77488910e-05, 1.04212716e-04,\n",
       "        2.37939963e-04, 7.02741430e-05, 6.41135977e-04, 6.07757779e-05,\n",
       "        2.59390440e-04, 2.17870187e-04, 2.24512215e-04, 1.86850100e-04,\n",
       "        6.93929597e-05, 3.01328062e-04, 2.02634068e-04, 2.08193556e-04,\n",
       "        1.43702290e-04, 7.47541844e-05, 1.83212589e-04, 1.91610927e-04,\n",
       "        2.94867753e-05, 1.53649589e-04, 5.73200445e-05]),\n",
       " 'std_test_score': array([0.13578261, 0.04275582, 0.04275582, 0.13578261, 0.06688688,\n",
       "        0.06688688, 0.13578261, 0.03588245, 0.03588245, 0.12976788,\n",
       "        0.14172951, 0.14172951, 0.12976788, 0.04275582, 0.04275582,\n",
       "        0.12976788, 0.03544984, 0.03544984, 0.10182489, 0.18540272,\n",
       "        0.18540272, 0.10182489, 0.1350384 , 0.1350384 , 0.10182489,\n",
       "        0.13581521, 0.13581521]),\n",
       " 'std_train_score': array([0.06202678, 0.05920454, 0.05920454, 0.06202678, 0.10819862,\n",
       "        0.10819862, 0.06202678, 0.01314188, 0.01314188, 0.12539491,\n",
       "        0.15484718, 0.15484718, 0.12539491, 0.05920454, 0.05920454,\n",
       "        0.12539491, 0.02111389, 0.02111389, 0.05473028, 0.12841871,\n",
       "        0.12841871, 0.05473028, 0.10814277, 0.10814277, 0.05473028,\n",
       "        0.153026  , 0.153026  ])}"
      ]
     },
     "execution_count": 5,
     "metadata": {
      "tags": []
     },
     "output_type": "execute_result"
    }
   ],
   "source": [
    "#Results of grid search with cross validation\n",
    "gs.cv_results_"
   ]
  },
  {
   "cell_type": "code",
   "execution_count": null,
   "metadata": {
    "colab": {
     "base_uri": "https://localhost:8080/",
     "height": 34
    },
    "colab_type": "code",
    "executionInfo": {
     "elapsed": 2086,
     "status": "ok",
     "timestamp": 1589015065407,
     "user": {
      "displayName": "Anjana Niranjan",
      "photoUrl": "https://lh3.googleusercontent.com/a-/AOh14Gi-DUuXNslKe9_IpDzKJKy7kFDXdw2iBILnh75qfNo=s64",
      "userId": "03367688363527101143"
     },
     "user_tz": 420
    },
    "id": "IRw1QOSD0MjO",
    "outputId": "70508652-1f85-404b-9b19-f317dd95fb3d"
   },
   "outputs": [
    {
     "data": {
      "text/plain": [
       "{'alpha': 0.1, 'eta0': 0.5, 'penalty': 'l1'}"
      ]
     },
     "execution_count": 6,
     "metadata": {
      "tags": []
     },
     "output_type": "execute_result"
    }
   ],
   "source": [
    "#Best parameters\n",
    "gs.best_params_"
   ]
  },
  {
   "cell_type": "code",
   "execution_count": null,
   "metadata": {
    "colab": {
     "base_uri": "https://localhost:8080/",
     "height": 34
    },
    "colab_type": "code",
    "executionInfo": {
     "elapsed": 663,
     "status": "ok",
     "timestamp": 1589015067454,
     "user": {
      "displayName": "Anjana Niranjan",
      "photoUrl": "https://lh3.googleusercontent.com/a-/AOh14Gi-DUuXNslKe9_IpDzKJKy7kFDXdw2iBILnh75qfNo=s64",
      "userId": "03367688363527101143"
     },
     "user_tz": 420
    },
    "id": "HsVPpk0CrOc_",
    "outputId": "43162759-c974-4a06-b83e-04a46f7e8026"
   },
   "outputs": [
    {
     "data": {
      "text/plain": [
       "0.7245185185185185"
      ]
     },
     "execution_count": 7,
     "metadata": {
      "tags": []
     },
     "output_type": "execute_result"
    }
   ],
   "source": [
    "#Best score\n",
    "gs.best_score_"
   ]
  },
  {
   "cell_type": "code",
   "execution_count": null,
   "metadata": {
    "colab": {
     "base_uri": "https://localhost:8080/",
     "height": 121
    },
    "colab_type": "code",
    "executionInfo": {
     "elapsed": 854,
     "status": "ok",
     "timestamp": 1589015072779,
     "user": {
      "displayName": "Anjana Niranjan",
      "photoUrl": "https://lh3.googleusercontent.com/a-/AOh14Gi-DUuXNslKe9_IpDzKJKy7kFDXdw2iBILnh75qfNo=s64",
      "userId": "03367688363527101143"
     },
     "user_tz": 420
    },
    "id": "V9kb3RIi0Rfe",
    "outputId": "5fc15cd4-ecc8-4f03-f798-f227dd7bfc76"
   },
   "outputs": [
    {
     "name": "stdout",
     "output_type": "stream",
     "text": [
      "0.7296296296296296\n"
     ]
    },
    {
     "data": {
      "text/plain": [
       "array([[2542,    0,  166,   73,    3],\n",
       "       [  28, 2062,   11,   24,  457],\n",
       "       [ 165,    6, 2478,    0,    0],\n",
       "       [ 137,    0, 1971,  367,    1],\n",
       "       [ 510,   93,    5,    0, 2401]])"
      ]
     },
     "execution_count": 8,
     "metadata": {
      "tags": []
     },
     "output_type": "execute_result"
    }
   ],
   "source": [
    "#Training the model with best parameters\n",
    "bestclf = Perceptron(alpha= 0.1, eta0= 0.5, penalty= 'l1')\n",
    "bestclf.fit(X_train, y_train)\n",
    "tr_p = bestclf.predict(X_train)\n",
    "print(accuracy_score(y_train, tr_p))\n",
    "confusion_matrix(y_train, tr_p)"
   ]
  },
  {
   "cell_type": "code",
   "execution_count": null,
   "metadata": {
    "colab": {
     "base_uri": "https://localhost:8080/",
     "height": 121
    },
    "colab_type": "code",
    "executionInfo": {
     "elapsed": 676,
     "status": "ok",
     "timestamp": 1589015075859,
     "user": {
      "displayName": "Anjana Niranjan",
      "photoUrl": "https://lh3.googleusercontent.com/a-/AOh14Gi-DUuXNslKe9_IpDzKJKy7kFDXdw2iBILnh75qfNo=s64",
      "userId": "03367688363527101143"
     },
     "user_tz": 420
    },
    "id": "KFXFVHzv0ehm",
    "outputId": "7ece3aad-1548-41bb-c075-3674a8cb4100"
   },
   "outputs": [
    {
     "name": "stdout",
     "output_type": "stream",
     "text": [
      "0.8837859614199726\n"
     ]
    },
    {
     "data": {
      "text/plain": [
       "array([[3542,   48,  673,   69,  134],\n",
       "       [   2, 4248,   39,  109,    4],\n",
       "       [  68,    0, 4711,    0,    0],\n",
       "       [1062,    1,   29, 2822,    0],\n",
       "       [  99,   14,    8,   93, 3324]])"
      ]
     },
     "execution_count": 9,
     "metadata": {
      "tags": []
     },
     "output_type": "execute_result"
    }
   ],
   "source": [
    "#Running the model on the test set\n",
    "predictions = bestclf.predict(X_test)\n",
    "print(accuracy_score(y_test, predictions))\n",
    "confusion_matrix(y_test, predictions)"
   ]
  },
  {
   "cell_type": "markdown",
   "metadata": {
    "colab_type": "text",
    "id": "aISLihLRkN1D"
   },
   "source": [
    "Implementing Perceptron Learning classifier on Normalized data"
   ]
  },
  {
   "cell_type": "code",
   "execution_count": null,
   "metadata": {
    "colab": {},
    "colab_type": "code",
    "id": "iV_ehdb20ggb"
   },
   "outputs": [],
   "source": [
    "#Normalizing the linear dataset\n",
    "from sklearn import preprocessing\n",
    "scalar = preprocessing.StandardScaler()\n",
    "scalar.fit(X_train)\n",
    "X_train = scalar.transform(X_train)\n",
    "X_test = scalar.transform(X_test)"
   ]
  },
  {
   "cell_type": "code",
   "execution_count": null,
   "metadata": {
    "colab": {
     "base_uri": "https://localhost:8080/",
     "height": 259
    },
    "colab_type": "code",
    "executionInfo": {
     "elapsed": 27553,
     "status": "ok",
     "timestamp": 1589015108956,
     "user": {
      "displayName": "Anjana Niranjan",
      "photoUrl": "https://lh3.googleusercontent.com/a-/AOh14Gi-DUuXNslKe9_IpDzKJKy7kFDXdw2iBILnh75qfNo=s64",
      "userId": "03367688363527101143"
     },
     "user_tz": 420
    },
    "id": "mVhgfK5Z0jmZ",
    "outputId": "98316c11-6f92-4e41-cabb-fe1aec4a321c"
   },
   "outputs": [
    {
     "data": {
      "text/plain": [
       "GridSearchCV(cv=KFold(n_splits=9, random_state=None, shuffle=False),\n",
       "             error_score=nan,\n",
       "             estimator=Perceptron(alpha=0.0001, class_weight=None,\n",
       "                                  early_stopping=False, eta0=1.0,\n",
       "                                  fit_intercept=True, max_iter=1000,\n",
       "                                  n_iter_no_change=5, n_jobs=None, penalty=None,\n",
       "                                  random_state=0, shuffle=True, tol=0.001,\n",
       "                                  validation_fraction=0.1, verbose=0,\n",
       "                                  warm_start=False),\n",
       "             iid='deprecated', n_jobs=None,\n",
       "             param_grid={'alpha': [0.1, 0.05, 0.001], 'eta0': [0.5, 1, 5],\n",
       "                         'penalty': ['l1', 'l2', 'elasticnet']},\n",
       "             pre_dispatch='2*n_jobs', refit=True, return_train_score=True,\n",
       "             scoring=None, verbose=0)"
      ]
     },
     "execution_count": 11,
     "metadata": {
      "tags": []
     },
     "output_type": "execute_result"
    }
   ],
   "source": [
    "kf = KFold(n_splits=9, random_state=None, shuffle=False)\n",
    "params = {'penalty':['l1', 'l2', 'elasticnet'], 'alpha': [0.1, 0.05, 0.001], 'eta0':[0.5, 1, 5]}\n",
    "clf = Perceptron()\n",
    "gs = GridSearchCV(clf, cv=kf, param_grid=params, return_train_score=True)\n",
    "\n",
    "gs.fit(X_train, y_train)"
   ]
  },
  {
   "cell_type": "code",
   "execution_count": null,
   "metadata": {
    "colab": {
     "base_uri": "https://localhost:8080/",
     "height": 1000
    },
    "colab_type": "code",
    "executionInfo": {
     "elapsed": 663,
     "status": "ok",
     "timestamp": 1589015111486,
     "user": {
      "displayName": "Anjana Niranjan",
      "photoUrl": "https://lh3.googleusercontent.com/a-/AOh14Gi-DUuXNslKe9_IpDzKJKy7kFDXdw2iBILnh75qfNo=s64",
      "userId": "03367688363527101143"
     },
     "user_tz": 420
    },
    "id": "x-PvrbDj0rG_",
    "outputId": "8fbd64e7-4ea7-42ea-e593-8deffa143713"
   },
   "outputs": [
    {
     "data": {
      "text/plain": [
       "{'mean_fit_time': array([0.09790381, 0.06965574, 0.12456115, 0.11168257, 0.06894414,\n",
       "        0.12616364, 0.12513855, 0.07377227, 0.13123364, 0.10297717,\n",
       "        0.06697925, 0.12372245, 0.11541126, 0.07108045, 0.12714299,\n",
       "        0.12003205, 0.076828  , 0.13626358, 0.11345792, 0.07343356,\n",
       "        0.12218602, 0.11738531, 0.07094521, 0.11843954, 0.11790339,\n",
       "        0.07000282, 0.11770773]),\n",
       " 'mean_score_time': array([0.00097007, 0.00097118, 0.00087674, 0.00093097, 0.0009834 ,\n",
       "        0.00083812, 0.0008831 , 0.00094329, 0.00087277, 0.00154773,\n",
       "        0.00098477, 0.00085521, 0.00092506, 0.00099344, 0.00077825,\n",
       "        0.00087468, 0.00100732, 0.00081129, 0.00096345, 0.00104517,\n",
       "        0.00086149, 0.00088509, 0.00098628, 0.00086064, 0.00090914,\n",
       "        0.00100297, 0.00091256]),\n",
       " 'mean_test_score': array([0.40407407, 0.56866667, 0.56866667, 0.37814815, 0.414     ,\n",
       "        0.414     , 0.43622222, 0.39155556, 0.39155556, 0.56814815,\n",
       "        0.60985185, 0.60985185, 0.61059259, 0.56688889, 0.56688889,\n",
       "        0.56407407, 0.42125926, 0.42125926, 0.83155556, 0.81222222,\n",
       "        0.81222222, 0.83681481, 0.73844444, 0.73844444, 0.83785185,\n",
       "        0.71481481, 0.71481481]),\n",
       " 'mean_train_score': array([0.39994444, 0.58839815, 0.58839815, 0.39047222, 0.4460463 ,\n",
       "        0.4460463 , 0.43038889, 0.3592037 , 0.3592037 , 0.6065    ,\n",
       "        0.63942593, 0.63942593, 0.6027963 , 0.56742593, 0.56742593,\n",
       "        0.57034259, 0.44989815, 0.44989815, 0.93443519, 0.89638889,\n",
       "        0.89638889, 0.93502778, 0.87909259, 0.87909259, 0.93437037,\n",
       "        0.79343519, 0.79343519]),\n",
       " 'param_alpha': masked_array(data=[0.1, 0.1, 0.1, 0.1, 0.1, 0.1, 0.1, 0.1, 0.1, 0.05,\n",
       "                    0.05, 0.05, 0.05, 0.05, 0.05, 0.05, 0.05, 0.05, 0.001,\n",
       "                    0.001, 0.001, 0.001, 0.001, 0.001, 0.001, 0.001, 0.001],\n",
       "              mask=[False, False, False, False, False, False, False, False,\n",
       "                    False, False, False, False, False, False, False, False,\n",
       "                    False, False, False, False, False, False, False, False,\n",
       "                    False, False, False],\n",
       "        fill_value='?',\n",
       "             dtype=object),\n",
       " 'param_eta0': masked_array(data=[0.5, 0.5, 0.5, 1, 1, 1, 5, 5, 5, 0.5, 0.5, 0.5, 1, 1,\n",
       "                    1, 5, 5, 5, 0.5, 0.5, 0.5, 1, 1, 1, 5, 5, 5],\n",
       "              mask=[False, False, False, False, False, False, False, False,\n",
       "                    False, False, False, False, False, False, False, False,\n",
       "                    False, False, False, False, False, False, False, False,\n",
       "                    False, False, False],\n",
       "        fill_value='?',\n",
       "             dtype=object),\n",
       " 'param_penalty': masked_array(data=['l1', 'l2', 'elasticnet', 'l1', 'l2', 'elasticnet',\n",
       "                    'l1', 'l2', 'elasticnet', 'l1', 'l2', 'elasticnet',\n",
       "                    'l1', 'l2', 'elasticnet', 'l1', 'l2', 'elasticnet',\n",
       "                    'l1', 'l2', 'elasticnet', 'l1', 'l2', 'elasticnet',\n",
       "                    'l1', 'l2', 'elasticnet'],\n",
       "              mask=[False, False, False, False, False, False, False, False,\n",
       "                    False, False, False, False, False, False, False, False,\n",
       "                    False, False, False, False, False, False, False, False,\n",
       "                    False, False, False],\n",
       "        fill_value='?',\n",
       "             dtype=object),\n",
       " 'params': [{'alpha': 0.1, 'eta0': 0.5, 'penalty': 'l1'},\n",
       "  {'alpha': 0.1, 'eta0': 0.5, 'penalty': 'l2'},\n",
       "  {'alpha': 0.1, 'eta0': 0.5, 'penalty': 'elasticnet'},\n",
       "  {'alpha': 0.1, 'eta0': 1, 'penalty': 'l1'},\n",
       "  {'alpha': 0.1, 'eta0': 1, 'penalty': 'l2'},\n",
       "  {'alpha': 0.1, 'eta0': 1, 'penalty': 'elasticnet'},\n",
       "  {'alpha': 0.1, 'eta0': 5, 'penalty': 'l1'},\n",
       "  {'alpha': 0.1, 'eta0': 5, 'penalty': 'l2'},\n",
       "  {'alpha': 0.1, 'eta0': 5, 'penalty': 'elasticnet'},\n",
       "  {'alpha': 0.05, 'eta0': 0.5, 'penalty': 'l1'},\n",
       "  {'alpha': 0.05, 'eta0': 0.5, 'penalty': 'l2'},\n",
       "  {'alpha': 0.05, 'eta0': 0.5, 'penalty': 'elasticnet'},\n",
       "  {'alpha': 0.05, 'eta0': 1, 'penalty': 'l1'},\n",
       "  {'alpha': 0.05, 'eta0': 1, 'penalty': 'l2'},\n",
       "  {'alpha': 0.05, 'eta0': 1, 'penalty': 'elasticnet'},\n",
       "  {'alpha': 0.05, 'eta0': 5, 'penalty': 'l1'},\n",
       "  {'alpha': 0.05, 'eta0': 5, 'penalty': 'l2'},\n",
       "  {'alpha': 0.05, 'eta0': 5, 'penalty': 'elasticnet'},\n",
       "  {'alpha': 0.001, 'eta0': 0.5, 'penalty': 'l1'},\n",
       "  {'alpha': 0.001, 'eta0': 0.5, 'penalty': 'l2'},\n",
       "  {'alpha': 0.001, 'eta0': 0.5, 'penalty': 'elasticnet'},\n",
       "  {'alpha': 0.001, 'eta0': 1, 'penalty': 'l1'},\n",
       "  {'alpha': 0.001, 'eta0': 1, 'penalty': 'l2'},\n",
       "  {'alpha': 0.001, 'eta0': 1, 'penalty': 'elasticnet'},\n",
       "  {'alpha': 0.001, 'eta0': 5, 'penalty': 'l1'},\n",
       "  {'alpha': 0.001, 'eta0': 5, 'penalty': 'l2'},\n",
       "  {'alpha': 0.001, 'eta0': 5, 'penalty': 'elasticnet'}],\n",
       " 'rank_test_score': array([24, 13, 13, 27, 22, 22, 19, 25, 25, 15, 11, 11, 10, 16, 16, 18, 20,\n",
       "        20,  3,  4,  4,  2,  6,  6,  1,  8,  8], dtype=int32),\n",
       " 'split0_test_score': array([0.41733333, 0.54466667, 0.54466667, 0.41733333, 0.40666667,\n",
       "        0.40666667, 0.43      , 0.36266667, 0.36266667, 0.49533333,\n",
       "        0.64933333, 0.64933333, 0.48733333, 0.54466667, 0.54466667,\n",
       "        0.48733333, 0.396     , 0.396     , 0.73133333, 0.72      ,\n",
       "        0.72      , 0.73133333, 0.86733333, 0.86733333, 0.73133333,\n",
       "        0.65133333, 0.65133333]),\n",
       " 'split0_train_score': array([0.36266667, 0.51016667, 0.51016667, 0.36266667, 0.49883333,\n",
       "        0.49883333, 0.41866667, 0.5295    , 0.5295    , 0.72058333,\n",
       "        0.70208333, 0.70208333, 0.48825   , 0.51016667, 0.51016667,\n",
       "        0.48825   , 0.709     , 0.709     , 0.8915    , 0.92558333,\n",
       "        0.92558333, 0.8915    , 0.91041667, 0.91041667, 0.8915    ,\n",
       "        0.74166667, 0.74166667]),\n",
       " 'split1_test_score': array([0.386     , 0.54866667, 0.54866667, 0.31      , 0.49533333,\n",
       "        0.49533333, 0.31      , 0.29933333, 0.29933333, 0.63266667,\n",
       "        0.54266667, 0.54266667, 0.63266667, 0.56333333, 0.56333333,\n",
       "        0.60333333, 0.35066667, 0.35066667, 0.71866667, 0.786     ,\n",
       "        0.786     , 0.71866667, 0.78866667, 0.78866667, 0.71866667,\n",
       "        0.60933333, 0.60933333]),\n",
       " 'split1_train_score': array([0.40516667, 0.61675   , 0.61675   , 0.4175    , 0.63758333,\n",
       "        0.63758333, 0.33891667, 0.25241667, 0.25241667, 0.71841667,\n",
       "        0.59      , 0.59      , 0.71841667, 0.56791667, 0.56791667,\n",
       "        0.687     , 0.48591667, 0.48591667, 0.961     , 0.96266667,\n",
       "        0.96266667, 0.961     , 0.92825   , 0.92825   , 0.961     ,\n",
       "        0.86266667, 0.86266667]),\n",
       " 'split2_test_score': array([0.33866667, 0.60733333, 0.60733333, 0.31666667, 0.49733333,\n",
       "        0.49733333, 0.46666667, 0.63066667, 0.63066667, 0.54066667,\n",
       "        0.53066667, 0.53066667, 0.60533333, 0.60733333, 0.60733333,\n",
       "        0.60533333, 0.24466667, 0.24466667, 0.93666667, 0.93666667,\n",
       "        0.93666667, 0.93666667, 0.81733333, 0.81733333, 0.93666667,\n",
       "        0.784     , 0.784     ]),\n",
       " 'split2_train_score': array([0.328     , 0.67516667, 0.67516667, 0.328     , 0.56608333,\n",
       "        0.56608333, 0.47366667, 0.41383333, 0.41383333, 0.55341667,\n",
       "        0.57758333, 0.57758333, 0.68233333, 0.67516667, 0.67516667,\n",
       "        0.68233333, 0.42175   , 0.42175   , 0.91316667, 0.92291667,\n",
       "        0.92291667, 0.89658333, 0.90083333, 0.90083333, 0.89658333,\n",
       "        0.85175   , 0.85175   ]),\n",
       " 'split3_test_score': array([0.232     , 0.542     , 0.542     , 0.232     , 0.39266667,\n",
       "        0.39266667, 0.39266667, 0.574     , 0.574     , 0.36266667,\n",
       "        0.46266667, 0.46266667, 0.77133333, 0.542     , 0.542     ,\n",
       "        0.57266667, 0.64466667, 0.64466667, 0.66466667, 0.654     ,\n",
       "        0.654     , 0.66466667, 0.66066667, 0.66066667, 0.66466667,\n",
       "        0.33      , 0.33      ]),\n",
       " 'split3_train_score': array([0.40883333, 0.43316667, 0.43316667, 0.40883333, 0.35816667,\n",
       "        0.35816667, 0.39058333, 0.383     , 0.383     , 0.52025   ,\n",
       "        0.64825   , 0.64825   , 0.65358333, 0.43316667, 0.43316667,\n",
       "        0.556     , 0.4195    , 0.4195    , 0.95258333, 0.87683333,\n",
       "        0.87683333, 0.95258333, 0.84591667, 0.84591667, 0.95258333,\n",
       "        0.76733333, 0.76733333]),\n",
       " 'split4_test_score': array([0.348     , 0.72533333, 0.72533333, 0.178     , 0.58533333,\n",
       "        0.58533333, 0.178     , 0.53666667, 0.53666667, 0.572     ,\n",
       "        0.70866667, 0.70866667, 0.644     , 0.72533333, 0.72533333,\n",
       "        0.58333333, 0.216     , 0.216     , 0.95933333, 0.918     ,\n",
       "        0.918     , 0.95933333, 0.934     , 0.934     , 0.95933333,\n",
       "        0.78333333, 0.78333333]),\n",
       " 'split4_train_score': array([0.36383333, 0.62525   , 0.62525   , 0.1985    , 0.30666667,\n",
       "        0.30666667, 0.1985    , 0.40658333, 0.40658333, 0.49158333,\n",
       "        0.633     , 0.633     , 0.54141667, 0.62525   , 0.62525   ,\n",
       "        0.46458333, 0.24325   , 0.24325   , 0.938     , 0.88416667,\n",
       "        0.88416667, 0.938     , 0.91616667, 0.91616667, 0.938     ,\n",
       "        0.72416667, 0.72416667]),\n",
       " 'split5_test_score': array([0.36533333, 0.44533333, 0.44533333, 0.71933333, 0.34466667,\n",
       "        0.34466667, 0.536     , 0.43666667, 0.43666667, 0.444     ,\n",
       "        0.79733333, 0.79733333, 0.492     , 0.44533333, 0.44533333,\n",
       "        0.46866667, 0.366     , 0.366     , 0.97266667, 0.99466667,\n",
       "        0.99466667, 0.97266667, 0.96533333, 0.96533333, 0.97266667,\n",
       "        0.80733333, 0.80733333]),\n",
       " 'split5_train_score': array([0.3435    , 0.57683333, 0.57683333, 0.67633333, 0.27525   ,\n",
       "        0.27525   , 0.59908333, 0.43883333, 0.43883333, 0.40725   ,\n",
       "        0.60816667, 0.60816667, 0.431     , 0.59258333, 0.59258333,\n",
       "        0.52583333, 0.35875   , 0.35875   , 0.95391667, 0.90283333,\n",
       "        0.90283333, 0.95391667, 0.811     , 0.811     , 0.95391667,\n",
       "        0.82533333, 0.82533333]),\n",
       " 'split6_test_score': array([0.30866667, 0.71333333, 0.71333333, 0.17266667, 0.07533333,\n",
       "        0.07533333, 0.57333333, 0.094     , 0.094     , 0.54733333,\n",
       "        0.786     , 0.786     , 0.54733333, 0.71333333, 0.71333333,\n",
       "        0.57266667, 0.50333333, 0.50333333, 0.94      , 0.71133333,\n",
       "        0.71133333, 0.92133333, 0.37466667, 0.37466667, 0.92133333,\n",
       "        0.966     , 0.966     ]),\n",
       " 'split6_train_score': array([0.35875   , 0.61958333, 0.61958333, 0.19916667, 0.34133333,\n",
       "        0.34133333, 0.50608333, 0.08575   , 0.08575   , 0.60533333,\n",
       "        0.72733333, 0.72733333, 0.60533333, 0.61958333, 0.61958333,\n",
       "        0.66325   , 0.44575   , 0.44575   , 0.93525   , 0.92033333,\n",
       "        0.92033333, 0.9345    , 0.8695    , 0.8695    , 0.9345    ,\n",
       "        0.85675   , 0.85675   ]),\n",
       " 'split7_test_score': array([0.61066667, 0.426     , 0.426     , 0.42733333, 0.384     ,\n",
       "        0.384     , 0.42666667, 0.21      , 0.21      , 0.796     ,\n",
       "        0.41666667, 0.41666667, 0.70666667, 0.39533333, 0.39533333,\n",
       "        0.76733333, 0.556     , 0.556     , 0.826     , 0.86666667,\n",
       "        0.86666667, 0.826     , 0.666     , 0.666     , 0.826     ,\n",
       "        0.78333333, 0.78333333]),\n",
       " 'split7_train_score': array([0.53366667, 0.65191667, 0.65191667, 0.42816667, 0.51483333,\n",
       "        0.51483333, 0.41766667, 0.29275   , 0.29275   , 0.67266667,\n",
       "        0.59358333, 0.59358333, 0.64925   , 0.49625   , 0.49625   ,\n",
       "        0.59175   , 0.53025   , 0.53025   , 0.934     , 0.87466667,\n",
       "        0.87466667, 0.934     , 0.81241667, 0.81241667, 0.934     ,\n",
       "        0.78941667, 0.78941667]),\n",
       " 'split8_test_score': array([0.63      , 0.56533333, 0.56533333, 0.63      , 0.54466667,\n",
       "        0.54466667, 0.61266667, 0.38      , 0.38      , 0.72266667,\n",
       "        0.59466667, 0.59466667, 0.60866667, 0.56533333, 0.56533333,\n",
       "        0.416     , 0.514     , 0.514     , 0.73466667, 0.72266667,\n",
       "        0.72266667, 0.80066667, 0.572     , 0.572     , 0.81      ,\n",
       "        0.71866667, 0.71866667]),\n",
       " 'split8_train_score': array([0.49508333, 0.58675   , 0.58675   , 0.49508333, 0.51566667,\n",
       "        0.51566667, 0.53033333, 0.43016667, 0.43016667, 0.769     ,\n",
       "        0.67483333, 0.67483333, 0.65558333, 0.58675   , 0.58675   ,\n",
       "        0.47408333, 0.43491667, 0.43491667, 0.9305    , 0.7975    ,\n",
       "        0.7975    , 0.95316667, 0.91733333, 0.91733333, 0.94725   ,\n",
       "        0.72183333, 0.72183333]),\n",
       " 'std_fit_time': array([0.01406429, 0.0054948 , 0.00715219, 0.00835569, 0.00505907,\n",
       "        0.00778481, 0.00912698, 0.01191303, 0.01729062, 0.00962636,\n",
       "        0.00644333, 0.00625908, 0.01136502, 0.00529231, 0.00559676,\n",
       "        0.01334059, 0.00942071, 0.01351793, 0.014625  , 0.00518266,\n",
       "        0.00776356, 0.01400503, 0.00970875, 0.00850406, 0.01464376,\n",
       "        0.01173053, 0.01432357]),\n",
       " 'std_score_time': array([1.31092103e-04, 4.24835938e-05, 9.71669387e-05, 9.26968232e-05,\n",
       "        6.43995019e-05, 7.59207519e-05, 1.56327862e-04, 5.23438579e-05,\n",
       "        1.19939107e-04, 1.39776221e-03, 5.95619378e-05, 1.18557259e-04,\n",
       "        1.29273789e-04, 2.74363926e-05, 2.98244135e-05, 9.02410035e-05,\n",
       "        4.90928756e-05, 8.68002834e-05, 1.01308229e-04, 3.22473363e-05,\n",
       "        1.11881925e-04, 1.27584314e-04, 5.13003038e-05, 1.08869451e-04,\n",
       "        1.14058798e-04, 4.76859381e-05, 1.29337098e-04]),\n",
       " 'std_test_score': array([0.12554806, 0.09674199, 0.09674199, 0.18130903, 0.14177429,\n",
       "        0.14177429, 0.12712743, 0.16483228, 0.16483228, 0.12653318,\n",
       "        0.12801882, 0.12801882, 0.08816732, 0.10193777, 0.10193777,\n",
       "        0.09544875, 0.13556227, 0.13556227, 0.11503945, 0.11321126,\n",
       "        0.11321126, 0.10889559, 0.17839227, 0.17839227, 0.10859042,\n",
       "        0.16636084, 0.16636084]),\n",
       " 'std_train_score': array([0.06649305, 0.07075091, 0.07075091, 0.13875464, 0.12052945,\n",
       "        0.12052945, 0.11059068, 0.1232745 , 0.1232745 , 0.11522408,\n",
       "        0.04985826, 0.04985826, 0.09044745, 0.07074903, 0.07074903,\n",
       "        0.08473343, 0.11919032, 0.11919032, 0.02038354, 0.04390181,\n",
       "        0.04390181, 0.02369101, 0.04343845, 0.04343845, 0.02325666,\n",
       "        0.05428552, 0.05428552])}"
      ]
     },
     "execution_count": 12,
     "metadata": {
      "tags": []
     },
     "output_type": "execute_result"
    }
   ],
   "source": [
    "#Results of grid search with cross validation\n",
    "gs.cv_results_"
   ]
  },
  {
   "cell_type": "code",
   "execution_count": null,
   "metadata": {
    "colab": {
     "base_uri": "https://localhost:8080/",
     "height": 34
    },
    "colab_type": "code",
    "executionInfo": {
     "elapsed": 828,
     "status": "ok",
     "timestamp": 1589015113328,
     "user": {
      "displayName": "Anjana Niranjan",
      "photoUrl": "https://lh3.googleusercontent.com/a-/AOh14Gi-DUuXNslKe9_IpDzKJKy7kFDXdw2iBILnh75qfNo=s64",
      "userId": "03367688363527101143"
     },
     "user_tz": 420
    },
    "id": "vV7sOt_Y0uxV",
    "outputId": "9ec75f1d-a846-4490-f820-3947b23a5870"
   },
   "outputs": [
    {
     "data": {
      "text/plain": [
       "{'alpha': 0.001, 'eta0': 5, 'penalty': 'l1'}"
      ]
     },
     "execution_count": 13,
     "metadata": {
      "tags": []
     },
     "output_type": "execute_result"
    }
   ],
   "source": [
    "#Best parameters\n",
    "gs.best_params_"
   ]
  },
  {
   "cell_type": "code",
   "execution_count": null,
   "metadata": {
    "colab": {
     "base_uri": "https://localhost:8080/",
     "height": 34
    },
    "colab_type": "code",
    "executionInfo": {
     "elapsed": 865,
     "status": "ok",
     "timestamp": 1589015125923,
     "user": {
      "displayName": "Anjana Niranjan",
      "photoUrl": "https://lh3.googleusercontent.com/a-/AOh14Gi-DUuXNslKe9_IpDzKJKy7kFDXdw2iBILnh75qfNo=s64",
      "userId": "03367688363527101143"
     },
     "user_tz": 420
    },
    "id": "nF4oCtStrn9F",
    "outputId": "0caffa99-9080-48d9-d989-d3b76ffbbfae"
   },
   "outputs": [
    {
     "data": {
      "text/plain": [
       "0.8378518518518518"
      ]
     },
     "execution_count": 14,
     "metadata": {
      "tags": []
     },
     "output_type": "execute_result"
    }
   ],
   "source": [
    "#Best score\n",
    "gs.best_score_"
   ]
  },
  {
   "cell_type": "code",
   "execution_count": null,
   "metadata": {
    "colab": {
     "base_uri": "https://localhost:8080/",
     "height": 121
    },
    "colab_type": "code",
    "executionInfo": {
     "elapsed": 1215,
     "status": "ok",
     "timestamp": 1589015132843,
     "user": {
      "displayName": "Anjana Niranjan",
      "photoUrl": "https://lh3.googleusercontent.com/a-/AOh14Gi-DUuXNslKe9_IpDzKJKy7kFDXdw2iBILnh75qfNo=s64",
      "userId": "03367688363527101143"
     },
     "user_tz": 420
    },
    "id": "PYdaXz8H04XY",
    "outputId": "49a58a79-e17a-4502-ae09-41071bae2d97"
   },
   "outputs": [
    {
     "name": "stdout",
     "output_type": "stream",
     "text": [
      "0.9618518518518518\n"
     ]
    },
    {
     "data": {
      "text/plain": [
       "array([[2749,    0,   26,    6,    3],\n",
       "       [  11, 2488,    4,   38,   41],\n",
       "       [  13,    0, 2509,  127,    0],\n",
       "       [   0,   34,   14, 2427,    1],\n",
       "       [   1,  165,   10,   21, 2812]])"
      ]
     },
     "execution_count": 15,
     "metadata": {
      "tags": []
     },
     "output_type": "execute_result"
    }
   ],
   "source": [
    "#Training the classifier with best parameters\n",
    "bestclf = Perceptron(alpha= 0.001, eta0= 5, penalty= 'l1')\n",
    "bestclf.fit(X_train, y_train)\n",
    "tr_p = bestclf.predict(X_train)\n",
    "print(accuracy_score(y_train, tr_p))\n",
    "confusion_matrix(y_train, tr_p)"
   ]
  },
  {
   "cell_type": "code",
   "execution_count": null,
   "metadata": {
    "colab": {
     "base_uri": "https://localhost:8080/",
     "height": 121
    },
    "colab_type": "code",
    "executionInfo": {
     "elapsed": 786,
     "status": "ok",
     "timestamp": 1589015135183,
     "user": {
      "displayName": "Anjana Niranjan",
      "photoUrl": "https://lh3.googleusercontent.com/a-/AOh14Gi-DUuXNslKe9_IpDzKJKy7kFDXdw2iBILnh75qfNo=s64",
      "userId": "03367688363527101143"
     },
     "user_tz": 420
    },
    "id": "uUBuXHBM08QD",
    "outputId": "9797b068-f148-4be0-a3cd-415bf3a1bc59"
   },
   "outputs": [
    {
     "name": "stdout",
     "output_type": "stream",
     "text": [
      "0.8935020617090857\n"
     ]
    },
    {
     "data": {
      "text/plain": [
       "array([[4254,   48,   78,    0,   86],\n",
       "       [  26, 4244,   33,   99,    0],\n",
       "       [ 300,   61, 4269,  149,    0],\n",
       "       [   0,  931,   44, 2939,    0],\n",
       "       [   0,  247,    0,  145, 3146]])"
      ]
     },
     "execution_count": 16,
     "metadata": {
      "tags": []
     },
     "output_type": "execute_result"
    }
   ],
   "source": [
    "#Running the model on the test set\n",
    "predictions = bestclf.predict(X_test)\n",
    "print(accuracy_score(y_test, predictions))\n",
    "confusion_matrix(y_test, predictions)"
   ]
  },
  {
   "cell_type": "markdown",
   "metadata": {
    "colab_type": "text",
    "id": "dr4qasJEi_yS"
   },
   "source": [
    "Implementing the Perceptron Learning classifier on the expanded dataset"
   ]
  },
  {
   "cell_type": "code",
   "execution_count": null,
   "metadata": {
    "colab": {},
    "colab_type": "code",
    "id": "iPB_B1D2rsBq"
   },
   "outputs": [],
   "source": [
    "from sklearn.feature_selection import RFE, RFECV\n",
    "import matplotlib.pyplot as plt\n",
    "from sklearn.model_selection import GridSearchCV, KFold, train_test_split"
   ]
  },
  {
   "cell_type": "code",
   "execution_count": null,
   "metadata": {
    "colab": {},
    "colab_type": "code",
    "id": "_K7qFOb_rzWT"
   },
   "outputs": [],
   "source": [
    "train = pd.read_csv('/content/drive/My Drive/Colab Notebooks/mpr/linearTrainexpanded.csv')\n",
    "test = pd.read_csv('/content/drive/My Drive/Colab Notebooks/mpr/linearTestexpanded.csv')"
   ]
  },
  {
   "cell_type": "code",
   "execution_count": null,
   "metadata": {
    "colab": {},
    "colab_type": "code",
    "id": "LhH7oLFer1lD"
   },
   "outputs": [],
   "source": [
    "X_train = train.iloc[:, 1:60]\n",
    "y_train = train.iloc[:,60]\n",
    "X_test = test.iloc[:, 1:60]\n",
    "y_test = test.iloc[:, 60]"
   ]
  },
  {
   "cell_type": "code",
   "execution_count": null,
   "metadata": {
    "colab": {},
    "colab_type": "code",
    "id": "Dwc56V3xr2-u"
   },
   "outputs": [],
   "source": [
    "#Normalizing the data\n",
    "from sklearn import preprocessing\n",
    "scalar = preprocessing.StandardScaler()\n",
    "scalar.fit(X_train)\n",
    "X_train = scalar.transform(X_train)\n",
    "X_test = scalar.transform(X_test)\n",
    "X_train = pd.DataFrame(X_train)\n",
    "X_test = pd.DataFrame(X_test)"
   ]
  },
  {
   "cell_type": "code",
   "execution_count": null,
   "metadata": {
    "colab": {
     "base_uri": "https://localhost:8080/",
     "height": 259
    },
    "colab_type": "code",
    "executionInfo": {
     "elapsed": 63297,
     "status": "ok",
     "timestamp": 1589015272461,
     "user": {
      "displayName": "Anjana Niranjan",
      "photoUrl": "https://lh3.googleusercontent.com/a-/AOh14Gi-DUuXNslKe9_IpDzKJKy7kFDXdw2iBILnh75qfNo=s64",
      "userId": "03367688363527101143"
     },
     "user_tz": 420
    },
    "id": "lnOxqirTr4Ww",
    "outputId": "0042dee8-2d70-4616-b82e-4304a98da2a2"
   },
   "outputs": [
    {
     "data": {
      "text/plain": [
       "GridSearchCV(cv=KFold(n_splits=9, random_state=None, shuffle=False),\n",
       "             error_score=nan,\n",
       "             estimator=Perceptron(alpha=0.0001, class_weight=None,\n",
       "                                  early_stopping=False, eta0=1.0,\n",
       "                                  fit_intercept=True, max_iter=1000,\n",
       "                                  n_iter_no_change=5, n_jobs=None, penalty=None,\n",
       "                                  random_state=0, shuffle=True, tol=0.001,\n",
       "                                  validation_fraction=0.1, verbose=0,\n",
       "                                  warm_start=False),\n",
       "             iid='deprecated', n_jobs=None,\n",
       "             param_grid={'alpha': [0.1, 0.05, 0.001], 'eta0': [0.5, 1, 5],\n",
       "                         'penalty': ['l1', 'l2', 'elasticnet']},\n",
       "             pre_dispatch='2*n_jobs', refit=True, return_train_score=True,\n",
       "             scoring=None, verbose=0)"
      ]
     },
     "execution_count": 21,
     "metadata": {
      "tags": []
     },
     "output_type": "execute_result"
    }
   ],
   "source": [
    "kf = KFold(n_splits=9, random_state=None, shuffle=False)\n",
    "params = {'penalty':['l1', 'l2', 'elasticnet'], 'alpha': [0.1, 0.05, 0.001], 'eta0':[0.5, 1, 5]}\n",
    "clf = Perceptron()\n",
    "gs = GridSearchCV(clf, cv=kf, param_grid=params, return_train_score=True)\n",
    "\n",
    "gs.fit(X_train, y_train)"
   ]
  },
  {
   "cell_type": "code",
   "execution_count": null,
   "metadata": {
    "colab": {
     "base_uri": "https://localhost:8080/",
     "height": 1000
    },
    "colab_type": "code",
    "executionInfo": {
     "elapsed": 838,
     "status": "ok",
     "timestamp": 1589015319467,
     "user": {
      "displayName": "Anjana Niranjan",
      "photoUrl": "https://lh3.googleusercontent.com/a-/AOh14Gi-DUuXNslKe9_IpDzKJKy7kFDXdw2iBILnh75qfNo=s64",
      "userId": "03367688363527101143"
     },
     "user_tz": 420
    },
    "id": "BlJeHtOFr-SJ",
    "outputId": "8c92df5e-3d62-48f5-80d6-43b93adc4a59"
   },
   "outputs": [
    {
     "data": {
      "text/plain": [
       "{'mean_fit_time': array([0.2581589 , 0.12842186, 0.29483318, 0.26714238, 0.14523   ,\n",
       "        0.34683005, 0.28548429, 0.14815516, 0.35613034, 0.27223158,\n",
       "        0.13373544, 0.31019187, 0.29315448, 0.12793599, 0.29742943,\n",
       "        0.31615649, 0.14551904, 0.34946018, 0.30505265, 0.13060308,\n",
       "        0.27662203, 0.30791876, 0.12915836, 0.27827764, 0.31053188,\n",
       "        0.13715559, 0.30924114]),\n",
       " 'mean_score_time': array([0.00209241, 0.00246453, 0.00208773, 0.00208963, 0.0020638 ,\n",
       "        0.00211141, 0.00209334, 0.00218569, 0.00208879, 0.00209872,\n",
       "        0.002129  , 0.00214397, 0.00218034, 0.00214895, 0.00215504,\n",
       "        0.00212402, 0.00270049, 0.00208704, 0.00209199, 0.00207882,\n",
       "        0.00211856, 0.00209342, 0.00208982, 0.0026949 , 0.00209451,\n",
       "        0.00207731, 0.00208526]),\n",
       " 'mean_test_score': array([0.41155556, 0.59992593, 0.59992593, 0.43081481, 0.44614815,\n",
       "        0.44614815, 0.40762963, 0.34903704, 0.34903704, 0.62962963,\n",
       "        0.61777778, 0.61777778, 0.61866667, 0.60125926, 0.60125926,\n",
       "        0.63325926, 0.43266667, 0.43266667, 0.82977778, 0.77925926,\n",
       "        0.77925926, 0.82740741, 0.75696296, 0.75696296, 0.82777778,\n",
       "        0.7082963 , 0.7082963 ]),\n",
       " 'mean_train_score': array([0.44627778, 0.60164815, 0.60164815, 0.45182407, 0.49218519,\n",
       "        0.49218519, 0.4542963 , 0.35167593, 0.35167593, 0.6609537 ,\n",
       "        0.63787963, 0.63787963, 0.64037963, 0.59764815, 0.59764815,\n",
       "        0.63328704, 0.40488889, 0.40488889, 0.96339815, 0.90431481,\n",
       "        0.90431481, 0.96313889, 0.88412037, 0.88412037, 0.9625    ,\n",
       "        0.78200926, 0.78200926]),\n",
       " 'param_alpha': masked_array(data=[0.1, 0.1, 0.1, 0.1, 0.1, 0.1, 0.1, 0.1, 0.1, 0.05,\n",
       "                    0.05, 0.05, 0.05, 0.05, 0.05, 0.05, 0.05, 0.05, 0.001,\n",
       "                    0.001, 0.001, 0.001, 0.001, 0.001, 0.001, 0.001, 0.001],\n",
       "              mask=[False, False, False, False, False, False, False, False,\n",
       "                    False, False, False, False, False, False, False, False,\n",
       "                    False, False, False, False, False, False, False, False,\n",
       "                    False, False, False],\n",
       "        fill_value='?',\n",
       "             dtype=object),\n",
       " 'param_eta0': masked_array(data=[0.5, 0.5, 0.5, 1, 1, 1, 5, 5, 5, 0.5, 0.5, 0.5, 1, 1,\n",
       "                    1, 5, 5, 5, 0.5, 0.5, 0.5, 1, 1, 1, 5, 5, 5],\n",
       "              mask=[False, False, False, False, False, False, False, False,\n",
       "                    False, False, False, False, False, False, False, False,\n",
       "                    False, False, False, False, False, False, False, False,\n",
       "                    False, False, False],\n",
       "        fill_value='?',\n",
       "             dtype=object),\n",
       " 'param_penalty': masked_array(data=['l1', 'l2', 'elasticnet', 'l1', 'l2', 'elasticnet',\n",
       "                    'l1', 'l2', 'elasticnet', 'l1', 'l2', 'elasticnet',\n",
       "                    'l1', 'l2', 'elasticnet', 'l1', 'l2', 'elasticnet',\n",
       "                    'l1', 'l2', 'elasticnet', 'l1', 'l2', 'elasticnet',\n",
       "                    'l1', 'l2', 'elasticnet'],\n",
       "              mask=[False, False, False, False, False, False, False, False,\n",
       "                    False, False, False, False, False, False, False, False,\n",
       "                    False, False, False, False, False, False, False, False,\n",
       "                    False, False, False],\n",
       "        fill_value='?',\n",
       "             dtype=object),\n",
       " 'params': [{'alpha': 0.1, 'eta0': 0.5, 'penalty': 'l1'},\n",
       "  {'alpha': 0.1, 'eta0': 0.5, 'penalty': 'l2'},\n",
       "  {'alpha': 0.1, 'eta0': 0.5, 'penalty': 'elasticnet'},\n",
       "  {'alpha': 0.1, 'eta0': 1, 'penalty': 'l1'},\n",
       "  {'alpha': 0.1, 'eta0': 1, 'penalty': 'l2'},\n",
       "  {'alpha': 0.1, 'eta0': 1, 'penalty': 'elasticnet'},\n",
       "  {'alpha': 0.1, 'eta0': 5, 'penalty': 'l1'},\n",
       "  {'alpha': 0.1, 'eta0': 5, 'penalty': 'l2'},\n",
       "  {'alpha': 0.1, 'eta0': 5, 'penalty': 'elasticnet'},\n",
       "  {'alpha': 0.05, 'eta0': 0.5, 'penalty': 'l1'},\n",
       "  {'alpha': 0.05, 'eta0': 0.5, 'penalty': 'l2'},\n",
       "  {'alpha': 0.05, 'eta0': 0.5, 'penalty': 'elasticnet'},\n",
       "  {'alpha': 0.05, 'eta0': 1, 'penalty': 'l1'},\n",
       "  {'alpha': 0.05, 'eta0': 1, 'penalty': 'l2'},\n",
       "  {'alpha': 0.05, 'eta0': 1, 'penalty': 'elasticnet'},\n",
       "  {'alpha': 0.05, 'eta0': 5, 'penalty': 'l1'},\n",
       "  {'alpha': 0.05, 'eta0': 5, 'penalty': 'l2'},\n",
       "  {'alpha': 0.05, 'eta0': 5, 'penalty': 'elasticnet'},\n",
       "  {'alpha': 0.001, 'eta0': 0.5, 'penalty': 'l1'},\n",
       "  {'alpha': 0.001, 'eta0': 0.5, 'penalty': 'l2'},\n",
       "  {'alpha': 0.001, 'eta0': 0.5, 'penalty': 'elasticnet'},\n",
       "  {'alpha': 0.001, 'eta0': 1, 'penalty': 'l1'},\n",
       "  {'alpha': 0.001, 'eta0': 1, 'penalty': 'l2'},\n",
       "  {'alpha': 0.001, 'eta0': 1, 'penalty': 'elasticnet'},\n",
       "  {'alpha': 0.001, 'eta0': 5, 'penalty': 'l1'},\n",
       "  {'alpha': 0.001, 'eta0': 5, 'penalty': 'l2'},\n",
       "  {'alpha': 0.001, 'eta0': 5, 'penalty': 'elasticnet'}],\n",
       " 'rank_test_score': array([24, 17, 17, 23, 19, 19, 25, 26, 26, 11, 13, 13, 12, 15, 15, 10, 21,\n",
       "        21,  1,  4,  4,  3,  6,  6,  2,  8,  8], dtype=int32),\n",
       " 'split0_test_score': array([0.50133333, 0.47466667, 0.47466667, 0.516     , 0.40533333,\n",
       "        0.40533333, 0.516     , 0.36866667, 0.36866667, 0.58266667,\n",
       "        0.45933333, 0.45933333, 0.58266667, 0.47466667, 0.47466667,\n",
       "        0.662     , 0.55066667, 0.55066667, 0.70933333, 0.68266667,\n",
       "        0.68266667, 0.712     , 0.74333333, 0.74333333, 0.712     ,\n",
       "        0.66066667, 0.66066667]),\n",
       " 'split0_train_score': array([0.62125   , 0.55933333, 0.55933333, 0.49158333, 0.53166667,\n",
       "        0.53166667, 0.49158333, 0.41866667, 0.41866667, 0.54858333,\n",
       "        0.63683333, 0.63683333, 0.54858333, 0.55933333, 0.55933333,\n",
       "        0.67833333, 0.43941667, 0.43941667, 0.9765    , 0.90058333,\n",
       "        0.90058333, 0.96458333, 0.8795    , 0.8795    , 0.96458333,\n",
       "        0.80333333, 0.80333333]),\n",
       " 'split1_test_score': array([0.54733333, 0.54933333, 0.54933333, 0.52666667, 0.38733333,\n",
       "        0.38733333, 0.36533333, 0.32466667, 0.32466667, 0.36866667,\n",
       "        0.64933333, 0.64933333, 0.444     , 0.54933333, 0.54933333,\n",
       "        0.396     , 0.438     , 0.438     , 0.78266667, 0.75666667,\n",
       "        0.75666667, 0.78266667, 0.732     , 0.732     , 0.786     ,\n",
       "        0.73666667, 0.73666667]),\n",
       " 'split1_train_score': array([0.55508333, 0.52058333, 0.52058333, 0.68983333, 0.61841667,\n",
       "        0.61841667, 0.49875   , 0.40166667, 0.40166667, 0.7085    ,\n",
       "        0.51616667, 0.51616667, 0.71416667, 0.52058333, 0.52058333,\n",
       "        0.69933333, 0.46991667, 0.46991667, 0.97466667, 0.94408333,\n",
       "        0.94408333, 0.97466667, 0.91108333, 0.91108333, 0.96891667,\n",
       "        0.80775   , 0.80775   ]),\n",
       " 'split2_test_score': array([0.27533333, 0.73266667, 0.73266667, 0.27533333, 0.26266667,\n",
       "        0.26266667, 0.38066667, 0.31533333, 0.31533333, 0.58533333,\n",
       "        0.49933333, 0.49933333, 0.688     , 0.73266667, 0.73266667,\n",
       "        0.688     , 0.45933333, 0.45933333, 0.91066667, 0.83466667,\n",
       "        0.83466667, 0.91066667, 0.81266667, 0.81266667, 0.91066667,\n",
       "        0.72533333, 0.72533333]),\n",
       " 'split2_train_score': array([0.45025   , 0.58525   , 0.58525   , 0.45025   , 0.36775   ,\n",
       "        0.36775   , 0.59983333, 0.24133333, 0.24133333, 0.702     ,\n",
       "        0.59075   , 0.59075   , 0.68991667, 0.58525   , 0.58525   ,\n",
       "        0.68991667, 0.51425   , 0.51425   , 0.96283333, 0.90091667,\n",
       "        0.90091667, 0.96283333, 0.87866667, 0.87866667, 0.96283333,\n",
       "        0.82308333, 0.82308333]),\n",
       " 'split3_test_score': array([0.31066667, 0.63133333, 0.63133333, 0.49      , 0.42533333,\n",
       "        0.42533333, 0.49      , 0.084     , 0.084     , 0.83866667,\n",
       "        0.65866667, 0.65866667, 0.46      , 0.63133333, 0.63133333,\n",
       "        0.83066667, 0.29466667, 0.29466667, 0.70333333, 0.716     ,\n",
       "        0.716     , 0.70333333, 0.67      , 0.67      , 0.70333333,\n",
       "        0.746     , 0.746     ]),\n",
       " 'split3_train_score': array([0.32741667, 0.69666667, 0.69666667, 0.37225   , 0.54391667,\n",
       "        0.54391667, 0.37225   , 0.14775   , 0.14775   , 0.664     ,\n",
       "        0.74683333, 0.74683333, 0.54708333, 0.69666667, 0.69666667,\n",
       "        0.62908333, 0.32725   , 0.32725   , 0.96391667, 0.90175   ,\n",
       "        0.90175   , 0.96391667, 0.87491667, 0.87491667, 0.96391667,\n",
       "        0.81425   , 0.81425   ]),\n",
       " 'split4_test_score': array([0.41866667, 0.62933333, 0.62933333, 0.41866667, 0.51266667,\n",
       "        0.51266667, 0.37066667, 0.33      , 0.33      , 0.65      ,\n",
       "        0.84733333, 0.84733333, 0.65      , 0.61733333, 0.61733333,\n",
       "        0.70066667, 0.52266667, 0.52266667, 0.91866667, 0.87533333,\n",
       "        0.87533333, 0.91866667, 0.85533333, 0.85533333, 0.91866667,\n",
       "        0.63733333, 0.63733333]),\n",
       " 'split4_train_score': array([0.44908333, 0.70866667, 0.70866667, 0.44908333, 0.47183333,\n",
       "        0.47183333, 0.41158333, 0.25725   , 0.25725   , 0.67025   ,\n",
       "        0.69166667, 0.69166667, 0.67025   , 0.66041667, 0.66041667,\n",
       "        0.72008333, 0.43675   , 0.43675   , 0.96291667, 0.88108333,\n",
       "        0.88108333, 0.96291667, 0.86258333, 0.86258333, 0.96291667,\n",
       "        0.681     , 0.681     ]),\n",
       " 'split5_test_score': array([0.432     , 0.598     , 0.598     , 0.432     , 0.45      ,\n",
       "        0.45      , 0.432     , 0.34866667, 0.34866667, 0.82666667,\n",
       "        0.67666667, 0.67666667, 0.82666667, 0.622     , 0.622     ,\n",
       "        0.82666667, 0.30866667, 0.30866667, 0.92533333, 0.86533333,\n",
       "        0.86533333, 0.92533333, 0.88133333, 0.88133333, 0.92533333,\n",
       "        0.78266667, 0.78266667]),\n",
       " 'split5_train_score': array([0.43758333, 0.57      , 0.57      , 0.43758333, 0.3205    ,\n",
       "        0.3205    , 0.43758333, 0.42366667, 0.42366667, 0.737     ,\n",
       "        0.59758333, 0.59758333, 0.737     , 0.58225   , 0.58225   ,\n",
       "        0.737     , 0.237     , 0.237     , 0.96233333, 0.92166667,\n",
       "        0.92166667, 0.96233333, 0.8755    , 0.8755    , 0.96233333,\n",
       "        0.83425   , 0.83425   ]),\n",
       " 'split6_test_score': array([0.38133333, 0.54266667, 0.54266667, 0.38133333, 0.304     ,\n",
       "        0.304     , 0.38133333, 0.30133333, 0.30133333, 0.54      ,\n",
       "        0.46266667, 0.46266667, 0.72266667, 0.54266667, 0.54266667,\n",
       "        0.72266667, 0.43866667, 0.43866667, 0.94266667, 0.656     ,\n",
       "        0.656     , 0.944     , 0.50133333, 0.50133333, 0.944     ,\n",
       "        0.54      , 0.54      ]),\n",
       " 'split6_train_score': array([0.398     , 0.58866667, 0.58866667, 0.398     , 0.45891667,\n",
       "        0.45891667, 0.42241667, 0.32108333, 0.32108333, 0.52408333,\n",
       "        0.68341667, 0.68341667, 0.61066667, 0.58866667, 0.58866667,\n",
       "        0.61066667, 0.36883333, 0.36883333, 0.95416667, 0.88766667,\n",
       "        0.88766667, 0.96541667, 0.88925   , 0.88925   , 0.96541667,\n",
       "        0.77183333, 0.77183333]),\n",
       " 'split7_test_score': array([0.40533333, 0.574     , 0.574     , 0.40533333, 0.70133333,\n",
       "        0.70133333, 0.40533333, 0.44      , 0.44      , 0.60333333,\n",
       "        0.68533333, 0.68533333, 0.60333333, 0.574     , 0.574     ,\n",
       "        0.44066667, 0.44      , 0.44      , 0.828     , 0.85666667,\n",
       "        0.85666667, 0.80266667, 0.846     , 0.846     , 0.80266667,\n",
       "        0.816     , 0.816     ]),\n",
       " 'split7_train_score': array([0.39516667, 0.51325   , 0.51325   , 0.39516667, 0.61941667,\n",
       "        0.61941667, 0.39516667, 0.40483333, 0.40483333, 0.68308333,\n",
       "        0.62533333, 0.62533333, 0.68308333, 0.51325   , 0.51325   ,\n",
       "        0.54875   , 0.39625   , 0.39625   , 0.96858333, 0.94333333,\n",
       "        0.94333333, 0.96691667, 0.89425   , 0.89425   , 0.96691667,\n",
       "        0.72925   , 0.72925   ]),\n",
       " 'split8_test_score': array([0.432     , 0.66733333, 0.66733333, 0.432     , 0.56666667,\n",
       "        0.56666667, 0.32733333, 0.62866667, 0.62866667, 0.67133333,\n",
       "        0.62133333, 0.62133333, 0.59066667, 0.66733333, 0.66733333,\n",
       "        0.432     , 0.44133333, 0.44133333, 0.74733333, 0.77      ,\n",
       "        0.77      , 0.74733333, 0.77066667, 0.77066667, 0.74733333,\n",
       "        0.73      , 0.73      ]),\n",
       " 'split8_train_score': array([0.38266667, 0.67241667, 0.67241667, 0.38266667, 0.49725   ,\n",
       "        0.49725   , 0.4595    , 0.54883333, 0.54883333, 0.71108333,\n",
       "        0.65233333, 0.65233333, 0.56266667, 0.67241667, 0.67241667,\n",
       "        0.38641667, 0.45433333, 0.45433333, 0.94466667, 0.85775   ,\n",
       "        0.85775   , 0.94466667, 0.89133333, 0.89133333, 0.94466667,\n",
       "        0.77333333, 0.77333333]),\n",
       " 'std_fit_time': array([0.01556346, 0.00843704, 0.0234325 , 0.01319648, 0.0120807 ,\n",
       "        0.04013689, 0.01615337, 0.01634105, 0.04695575, 0.0162558 ,\n",
       "        0.01011111, 0.0260021 , 0.02344002, 0.00824584, 0.02654385,\n",
       "        0.03503481, 0.01411914, 0.03781443, 0.02812911, 0.01029983,\n",
       "        0.02595904, 0.02824715, 0.00860124, 0.01912629, 0.02275413,\n",
       "        0.00569306, 0.01630764]),\n",
       " 'std_score_time': array([9.35174925e-05, 1.18349523e-03, 2.82322479e-05, 2.67383625e-05,\n",
       "        7.48277197e-05, 1.00147247e-04, 5.44255587e-05, 2.63838861e-04,\n",
       "        3.50885051e-05, 3.22181836e-05, 1.35672392e-04, 6.60385619e-05,\n",
       "        8.72637332e-05, 1.11866738e-04, 6.09131806e-05, 4.68239870e-05,\n",
       "        1.82206908e-03, 1.47755414e-05, 3.94276881e-05, 2.18770690e-05,\n",
       "        4.12558985e-05, 3.88517624e-05, 1.13950280e-04, 1.68923903e-03,\n",
       "        4.79030861e-05, 4.95967246e-05, 2.56963612e-05]),\n",
       " 'std_test_score': array([0.07963063, 0.07166206, 0.07166206, 0.07254851, 0.12627729,\n",
       "        0.12627729, 0.05787864, 0.13394235, 0.13394235, 0.13567467,\n",
       "        0.1186034 , 0.1186034 , 0.11443948, 0.07158898, 0.07158898,\n",
       "        0.15868392, 0.07982512, 0.07982512, 0.09179311, 0.0780468 ,\n",
       "        0.0780468 , 0.092004  , 0.11059485, 0.11059485, 0.09182969,\n",
       "        0.07870251, 0.07870251]),\n",
       " 'std_train_score': array([0.08542092, 0.06920579, 0.06920579, 0.09169022, 0.09595354,\n",
       "        0.09595354, 0.06491234, 0.11425103, 0.11425103, 0.0700694 ,\n",
       "        0.063126  , 0.063126  , 0.06992274, 0.06176697, 0.06176697,\n",
       "        0.103553  , 0.07918307, 0.07918307, 0.0092109 , 0.026713  ,\n",
       "        0.026713  , 0.00743158, 0.01325772, 0.01325772, 0.00661543,\n",
       "        0.04683087, 0.04683087])}"
      ]
     },
     "execution_count": 22,
     "metadata": {
      "tags": []
     },
     "output_type": "execute_result"
    }
   ],
   "source": [
    "#Results of grid search with cross validation\n",
    "gs.cv_results_"
   ]
  },
  {
   "cell_type": "code",
   "execution_count": null,
   "metadata": {
    "colab": {
     "base_uri": "https://localhost:8080/",
     "height": 86
    },
    "colab_type": "code",
    "executionInfo": {
     "elapsed": 585,
     "status": "ok",
     "timestamp": 1589015327794,
     "user": {
      "displayName": "Anjana Niranjan",
      "photoUrl": "https://lh3.googleusercontent.com/a-/AOh14Gi-DUuXNslKe9_IpDzKJKy7kFDXdw2iBILnh75qfNo=s64",
      "userId": "03367688363527101143"
     },
     "user_tz": 420
    },
    "id": "1c4FyYdLsY_6",
    "outputId": "6de6a63c-87b5-4043-862a-c520aa11ad37"
   },
   "outputs": [
    {
     "data": {
      "text/plain": [
       "Perceptron(alpha=0.001, class_weight=None, early_stopping=False, eta0=0.5,\n",
       "           fit_intercept=True, max_iter=1000, n_iter_no_change=5, n_jobs=None,\n",
       "           penalty='l1', random_state=0, shuffle=True, tol=0.001,\n",
       "           validation_fraction=0.1, verbose=0, warm_start=False)"
      ]
     },
     "execution_count": 23,
     "metadata": {
      "tags": []
     },
     "output_type": "execute_result"
    }
   ],
   "source": [
    "#Best estimator\n",
    "gs.best_estimator_"
   ]
  },
  {
   "cell_type": "code",
   "execution_count": null,
   "metadata": {
    "colab": {
     "base_uri": "https://localhost:8080/",
     "height": 34
    },
    "colab_type": "code",
    "executionInfo": {
     "elapsed": 544,
     "status": "ok",
     "timestamp": 1589015338365,
     "user": {
      "displayName": "Anjana Niranjan",
      "photoUrl": "https://lh3.googleusercontent.com/a-/AOh14Gi-DUuXNslKe9_IpDzKJKy7kFDXdw2iBILnh75qfNo=s64",
      "userId": "03367688363527101143"
     },
     "user_tz": 420
    },
    "id": "z_yrkLa7sbGo",
    "outputId": "e7174892-272c-4aaf-8437-b8a1d6c011aa"
   },
   "outputs": [
    {
     "data": {
      "text/plain": [
       "{'alpha': 0.001, 'eta0': 0.5, 'penalty': 'l1'}"
      ]
     },
     "execution_count": 24,
     "metadata": {
      "tags": []
     },
     "output_type": "execute_result"
    }
   ],
   "source": [
    "#Best parameters\n",
    "gs.best_params_"
   ]
  },
  {
   "cell_type": "code",
   "execution_count": null,
   "metadata": {
    "colab": {
     "base_uri": "https://localhost:8080/",
     "height": 34
    },
    "colab_type": "code",
    "executionInfo": {
     "elapsed": 1057,
     "status": "ok",
     "timestamp": 1589015345985,
     "user": {
      "displayName": "Anjana Niranjan",
      "photoUrl": "https://lh3.googleusercontent.com/a-/AOh14Gi-DUuXNslKe9_IpDzKJKy7kFDXdw2iBILnh75qfNo=s64",
      "userId": "03367688363527101143"
     },
     "user_tz": 420
    },
    "id": "KWO9Rfzlsdsa",
    "outputId": "c095b33c-d749-4b48-81e6-0be7060e6b9a"
   },
   "outputs": [
    {
     "data": {
      "text/plain": [
       "0.8297777777777777"
      ]
     },
     "execution_count": 25,
     "metadata": {
      "tags": []
     },
     "output_type": "execute_result"
    }
   ],
   "source": [
    "#Best score\n",
    "gs.best_score_"
   ]
  },
  {
   "cell_type": "code",
   "execution_count": null,
   "metadata": {
    "colab": {
     "base_uri": "https://localhost:8080/",
     "height": 121
    },
    "colab_type": "code",
    "executionInfo": {
     "elapsed": 927,
     "status": "ok",
     "timestamp": 1589015477059,
     "user": {
      "displayName": "Anjana Niranjan",
      "photoUrl": "https://lh3.googleusercontent.com/a-/AOh14Gi-DUuXNslKe9_IpDzKJKy7kFDXdw2iBILnh75qfNo=s64",
      "userId": "03367688363527101143"
     },
     "user_tz": 420
    },
    "id": "I3iyv_gssfbT",
    "outputId": "d4d96329-c4c3-4ea2-8efc-12d29974fdc9"
   },
   "outputs": [
    {
     "name": "stdout",
     "output_type": "stream",
     "text": [
      "0.948\n"
     ]
    },
    {
     "data": {
      "text/plain": [
       "array([[2782,    0,    0,    0,    2],\n",
       "       [   9, 2531,    2,   20,   20],\n",
       "       [  19,    2, 2319,  305,    4],\n",
       "       [   4,   29,   16, 2400,   27],\n",
       "       [   2,  192,   33,   16, 2766]])"
      ]
     },
     "execution_count": 26,
     "metadata": {
      "tags": []
     },
     "output_type": "execute_result"
    }
   ],
   "source": [
    "#Training the model with best parameters\n",
    "bestclf = Perceptron(alpha= 0.001, eta0= 0.5, penalty= 'l1')\n",
    "bestclf.fit(X_train, y_train)\n",
    "tr_p = bestclf.predict(X_train)\n",
    "print(accuracy_score(y_train, tr_p))\n",
    "confusion_matrix(y_train, tr_p)"
   ]
  },
  {
   "cell_type": "code",
   "execution_count": null,
   "metadata": {
    "colab": {
     "base_uri": "https://localhost:8080/",
     "height": 121
    },
    "colab_type": "code",
    "executionInfo": {
     "elapsed": 908,
     "status": "ok",
     "timestamp": 1589015505315,
     "user": {
      "displayName": "Anjana Niranjan",
      "photoUrl": "https://lh3.googleusercontent.com/a-/AOh14Gi-DUuXNslKe9_IpDzKJKy7kFDXdw2iBILnh75qfNo=s64",
      "userId": "03367688363527101143"
     },
     "user_tz": 420
    },
    "id": "TfpOibXus_cq",
    "outputId": "56a75ea2-81fa-4341-9310-bd318ef2fa28"
   },
   "outputs": [
    {
     "name": "stdout",
     "output_type": "stream",
     "text": [
      "0.8715104981278734\n"
     ]
    },
    {
     "data": {
      "text/plain": [
       "array([[4320,   48,    7,    1,   90],\n",
       "       [  27, 3599,   21,  126,  629],\n",
       "       [ 632,   27, 3990,  130,    0],\n",
       "       [   0,  745,    0, 3163,    6],\n",
       "       [  19,   66,    9,  128, 3316]])"
      ]
     },
     "execution_count": 27,
     "metadata": {
      "tags": []
     },
     "output_type": "execute_result"
    }
   ],
   "source": [
    "#Running the model on test set\n",
    "predictions = bestclf.predict(X_test)\n",
    "print(accuracy_score(y_test, predictions))\n",
    "confusion_matrix(y_test, predictions)"
   ]
  },
  {
   "cell_type": "markdown",
   "metadata": {
    "colab_type": "text",
    "id": "aPv0Lmw8jaML"
   },
   "source": [
    "Implementing the Perceptron Learning algorithm on the Optimal features selected from the expanded dataset"
   ]
  },
  {
   "cell_type": "code",
   "execution_count": null,
   "metadata": {
    "colab": {
     "base_uri": "https://localhost:8080/",
     "height": 316
    },
    "colab_type": "code",
    "executionInfo": {
     "elapsed": 71405,
     "status": "ok",
     "timestamp": 1589015611926,
     "user": {
      "displayName": "Anjana Niranjan",
      "photoUrl": "https://lh3.googleusercontent.com/a-/AOh14Gi-DUuXNslKe9_IpDzKJKy7kFDXdw2iBILnh75qfNo=s64",
      "userId": "03367688363527101143"
     },
     "user_tz": 420
    },
    "id": "M1xlxWUktGXJ",
    "outputId": "e049d6c4-9b84-472f-a224-79809c7c22c1"
   },
   "outputs": [
    {
     "name": "stdout",
     "output_type": "stream",
     "text": [
      "Optimal number of features : 19\n"
     ]
    },
    {
     "data": {
      "image/png": "[encoded data removed]",
      "text/plain": [
       "<Figure size 432x288 with 1 Axes>"
      ]
     },
     "metadata": {
      "needs_background": "light",
      "tags": []
     },
     "output_type": "display_data"
    }
   ],
   "source": [
    "kf = KFold(n_splits=9, random_state=None, shuffle=False)\n",
    "model = Perceptron()\n",
    "rfecv = RFECV(estimator=model, cv=kf,scoring='accuracy')\n",
    "rfecv.fit(X_train, y_train)\n",
    "\n",
    "print(\"Optimal number of features : %d\" % rfecv.n_features_)\n",
    "plt.figure()\n",
    "plt.xlabel(\"Number of features selected\")\n",
    "plt.ylabel(\"Cross validation score (nb of correct classifications)\")\n",
    "plt.plot(range(1, len(rfecv.grid_scores_) + 1), rfecv.grid_scores_)\n",
    "plt.show()"
   ]
  },
  {
   "cell_type": "code",
   "execution_count": null,
   "metadata": {
    "colab": {},
    "colab_type": "code",
    "id": "IDwW7myjtPLS"
   },
   "outputs": [],
   "source": [
    "selected = rfecv.support_"
   ]
  },
  {
   "cell_type": "code",
   "execution_count": null,
   "metadata": {
    "colab": {},
    "colab_type": "code",
    "id": "zxJ6cGrqt7mu"
   },
   "outputs": [],
   "source": [
    "num = 0\n",
    "todelete = []\n",
    "for i in selected:\n",
    "  if i ==False:\n",
    "    todelete.append(num)\n",
    "    num += 1"
   ]
  },
  {
   "cell_type": "code",
   "execution_count": null,
   "metadata": {
    "colab": {},
    "colab_type": "code",
    "id": "u2UctqN-t9Z4"
   },
   "outputs": [],
   "source": [
    "X_train_selected = X_train.drop(X_train.columns[todelete], axis=1)"
   ]
  },
  {
   "cell_type": "code",
   "execution_count": null,
   "metadata": {
    "colab": {},
    "colab_type": "code",
    "id": "FbtXE2yit_K0"
   },
   "outputs": [],
   "source": [
    "X_test_selected = X_test.drop(X_test.columns[todelete], axis=1)"
   ]
  },
  {
   "cell_type": "code",
   "execution_count": null,
   "metadata": {
    "colab": {
     "base_uri": "https://localhost:8080/",
     "height": 259
    },
    "colab_type": "code",
    "executionInfo": {
     "elapsed": 32555,
     "status": "ok",
     "timestamp": 1589015808428,
     "user": {
      "displayName": "Anjana Niranjan",
      "photoUrl": "https://lh3.googleusercontent.com/a-/AOh14Gi-DUuXNslKe9_IpDzKJKy7kFDXdw2iBILnh75qfNo=s64",
      "userId": "03367688363527101143"
     },
     "user_tz": 420
    },
    "id": "YaelehasuAmw",
    "outputId": "4c96a974-2106-4bdd-bc85-4d9b2d38cef5"
   },
   "outputs": [
    {
     "data": {
      "text/plain": [
       "GridSearchCV(cv=KFold(n_splits=9, random_state=None, shuffle=False),\n",
       "             error_score=nan,\n",
       "             estimator=Perceptron(alpha=0.0001, class_weight=None,\n",
       "                                  early_stopping=False, eta0=1.0,\n",
       "                                  fit_intercept=True, max_iter=1000,\n",
       "                                  n_iter_no_change=5, n_jobs=None, penalty=None,\n",
       "                                  random_state=0, shuffle=True, tol=0.001,\n",
       "                                  validation_fraction=0.1, verbose=0,\n",
       "                                  warm_start=False),\n",
       "             iid='deprecated', n_jobs=None,\n",
       "             param_grid={'alpha': [0.1, 0.05, 0.001], 'eta0': [0.5, 1, 5],\n",
       "                         'penalty': ['l1', 'l2', 'elasticnet']},\n",
       "             pre_dispatch='2*n_jobs', refit=True, return_train_score=True,\n",
       "             scoring=None, verbose=0)"
      ]
     },
     "execution_count": 33,
     "metadata": {
      "tags": []
     },
     "output_type": "execute_result"
    }
   ],
   "source": [
    "kf = KFold(n_splits=9, random_state=None, shuffle=False)\n",
    "params = {'penalty':['l1', 'l2', 'elasticnet'], 'alpha': [0.1, 0.05, 0.001], 'eta0':[0.5, 1, 5]}\n",
    "clf = Perceptron()\n",
    "gs = GridSearchCV(clf, cv=kf, param_grid=params, return_train_score=True)\n",
    "\n",
    "gs.fit(X_train_selected, y_train)"
   ]
  },
  {
   "cell_type": "code",
   "execution_count": null,
   "metadata": {
    "colab": {
     "base_uri": "https://localhost:8080/",
     "height": 1000
    },
    "colab_type": "code",
    "executionInfo": {
     "elapsed": 839,
     "status": "ok",
     "timestamp": 1589015837099,
     "user": {
      "displayName": "Anjana Niranjan",
      "photoUrl": "https://lh3.googleusercontent.com/a-/AOh14Gi-DUuXNslKe9_IpDzKJKy7kFDXdw2iBILnh75qfNo=s64",
      "userId": "03367688363527101143"
     },
     "user_tz": 420
    },
    "id": "jbYHpGdIuIon",
    "outputId": "c16427ba-abae-4e5a-8c9c-091811c54a5d"
   },
   "outputs": [
    {
     "data": {
      "text/plain": [
       "{'mean_fit_time': array([0.12963242, 0.07791853, 0.14833503, 0.13886865, 0.08492819,\n",
       "        0.16148082, 0.14297467, 0.08879227, 0.15914787, 0.13626054,\n",
       "        0.08227404, 0.15184299, 0.14312159, 0.0802886 , 0.15084484,\n",
       "        0.15015199, 0.08202153, 0.15629964, 0.13656582, 0.0802012 ,\n",
       "        0.13883713, 0.14137581, 0.08151258, 0.14383584, 0.14511416,\n",
       "        0.0813521 , 0.14720212]),\n",
       " 'mean_score_time': array([0.00142267, 0.00181291, 0.00142919, 0.00138905, 0.00182054,\n",
       "        0.00143761, 0.0014428 , 0.00302699, 0.00146937, 0.00140876,\n",
       "        0.00182239, 0.00144339, 0.00145822, 0.00189794, 0.00144826,\n",
       "        0.00146053, 0.00182162, 0.00145653, 0.00143602, 0.00187715,\n",
       "        0.00145952, 0.00146259, 0.00191485, 0.00143353, 0.00152074,\n",
       "        0.00187029, 0.00143369]),\n",
       " 'mean_test_score': array([0.33392593, 0.49466667, 0.49466667, 0.34725926, 0.43274074,\n",
       "        0.43274074, 0.35111111, 0.35348148, 0.35348148, 0.49644444,\n",
       "        0.56059259, 0.56059259, 0.52125926, 0.48703704, 0.48703704,\n",
       "        0.50592593, 0.436     , 0.436     , 0.68118519, 0.69422222,\n",
       "        0.69422222, 0.67962963, 0.70377778, 0.70377778, 0.66259259,\n",
       "        0.6122963 , 0.6122963 ]),\n",
       " 'mean_train_score': array([0.3607963 , 0.51484259, 0.51484259, 0.36982407, 0.47374074,\n",
       "        0.47374074, 0.37403704, 0.3560463 , 0.3560463 , 0.51757407,\n",
       "        0.58996296, 0.58996296, 0.54841667, 0.52077778, 0.52077778,\n",
       "        0.53357407, 0.46265741, 0.46265741, 0.85377778, 0.80171296,\n",
       "        0.80171296, 0.85262963, 0.80374074, 0.80374074, 0.85189815,\n",
       "        0.68411111, 0.68411111]),\n",
       " 'param_alpha': masked_array(data=[0.1, 0.1, 0.1, 0.1, 0.1, 0.1, 0.1, 0.1, 0.1, 0.05,\n",
       "                    0.05, 0.05, 0.05, 0.05, 0.05, 0.05, 0.05, 0.05, 0.001,\n",
       "                    0.001, 0.001, 0.001, 0.001, 0.001, 0.001, 0.001, 0.001],\n",
       "              mask=[False, False, False, False, False, False, False, False,\n",
       "                    False, False, False, False, False, False, False, False,\n",
       "                    False, False, False, False, False, False, False, False,\n",
       "                    False, False, False],\n",
       "        fill_value='?',\n",
       "             dtype=object),\n",
       " 'param_eta0': masked_array(data=[0.5, 0.5, 0.5, 1, 1, 1, 5, 5, 5, 0.5, 0.5, 0.5, 1, 1,\n",
       "                    1, 5, 5, 5, 0.5, 0.5, 0.5, 1, 1, 1, 5, 5, 5],\n",
       "              mask=[False, False, False, False, False, False, False, False,\n",
       "                    False, False, False, False, False, False, False, False,\n",
       "                    False, False, False, False, False, False, False, False,\n",
       "                    False, False, False],\n",
       "        fill_value='?',\n",
       "             dtype=object),\n",
       " 'param_penalty': masked_array(data=['l1', 'l2', 'elasticnet', 'l1', 'l2', 'elasticnet',\n",
       "                    'l1', 'l2', 'elasticnet', 'l1', 'l2', 'elasticnet',\n",
       "                    'l1', 'l2', 'elasticnet', 'l1', 'l2', 'elasticnet',\n",
       "                    'l1', 'l2', 'elasticnet', 'l1', 'l2', 'elasticnet',\n",
       "                    'l1', 'l2', 'elasticnet'],\n",
       "              mask=[False, False, False, False, False, False, False, False,\n",
       "                    False, False, False, False, False, False, False, False,\n",
       "                    False, False, False, False, False, False, False, False,\n",
       "                    False, False, False],\n",
       "        fill_value='?',\n",
       "             dtype=object),\n",
       " 'params': [{'alpha': 0.1, 'eta0': 0.5, 'penalty': 'l1'},\n",
       "  {'alpha': 0.1, 'eta0': 0.5, 'penalty': 'l2'},\n",
       "  {'alpha': 0.1, 'eta0': 0.5, 'penalty': 'elasticnet'},\n",
       "  {'alpha': 0.1, 'eta0': 1, 'penalty': 'l1'},\n",
       "  {'alpha': 0.1, 'eta0': 1, 'penalty': 'l2'},\n",
       "  {'alpha': 0.1, 'eta0': 1, 'penalty': 'elasticnet'},\n",
       "  {'alpha': 0.1, 'eta0': 5, 'penalty': 'l1'},\n",
       "  {'alpha': 0.1, 'eta0': 5, 'penalty': 'l2'},\n",
       "  {'alpha': 0.1, 'eta0': 5, 'penalty': 'elasticnet'},\n",
       "  {'alpha': 0.05, 'eta0': 0.5, 'penalty': 'l1'},\n",
       "  {'alpha': 0.05, 'eta0': 0.5, 'penalty': 'l2'},\n",
       "  {'alpha': 0.05, 'eta0': 0.5, 'penalty': 'elasticnet'},\n",
       "  {'alpha': 0.05, 'eta0': 1, 'penalty': 'l1'},\n",
       "  {'alpha': 0.05, 'eta0': 1, 'penalty': 'l2'},\n",
       "  {'alpha': 0.05, 'eta0': 1, 'penalty': 'elasticnet'},\n",
       "  {'alpha': 0.05, 'eta0': 5, 'penalty': 'l1'},\n",
       "  {'alpha': 0.05, 'eta0': 5, 'penalty': 'l2'},\n",
       "  {'alpha': 0.05, 'eta0': 5, 'penalty': 'elasticnet'},\n",
       "  {'alpha': 0.001, 'eta0': 0.5, 'penalty': 'l1'},\n",
       "  {'alpha': 0.001, 'eta0': 0.5, 'penalty': 'l2'},\n",
       "  {'alpha': 0.001, 'eta0': 0.5, 'penalty': 'elasticnet'},\n",
       "  {'alpha': 0.001, 'eta0': 1, 'penalty': 'l1'},\n",
       "  {'alpha': 0.001, 'eta0': 1, 'penalty': 'l2'},\n",
       "  {'alpha': 0.001, 'eta0': 1, 'penalty': 'elasticnet'},\n",
       "  {'alpha': 0.001, 'eta0': 5, 'penalty': 'l1'},\n",
       "  {'alpha': 0.001, 'eta0': 5, 'penalty': 'l2'},\n",
       "  {'alpha': 0.001, 'eta0': 5, 'penalty': 'elasticnet'}],\n",
       " 'rank_test_score': array([27, 15, 15, 26, 21, 21, 25, 23, 23, 14, 10, 10, 12, 17, 17, 13, 19,\n",
       "        19,  5,  3,  3,  6,  1,  1,  7,  8,  8], dtype=int32),\n",
       " 'split0_test_score': array([0.42266667, 0.382     , 0.382     , 0.266     , 0.36466667,\n",
       "        0.36466667, 0.27      , 0.45066667, 0.45066667, 0.54866667,\n",
       "        0.372     , 0.372     , 0.77333333, 0.38866667, 0.38866667,\n",
       "        0.40066667, 0.55933333, 0.55933333, 0.642     , 0.702     ,\n",
       "        0.702     , 0.55933333, 0.54533333, 0.54533333, 0.55933333,\n",
       "        0.53933333, 0.53933333]),\n",
       " 'split0_train_score': array([0.41708333, 0.51808333, 0.51808333, 0.22625   , 0.57616667,\n",
       "        0.57616667, 0.2295    , 0.47341667, 0.47341667, 0.48366667,\n",
       "        0.60775   , 0.60775   , 0.69366667, 0.5525    , 0.5525    ,\n",
       "        0.55283333, 0.47733333, 0.47733333, 0.82116667, 0.79425   ,\n",
       "        0.79425   , 0.82725   , 0.72383333, 0.72383333, 0.82725   ,\n",
       "        0.73733333, 0.73733333]),\n",
       " 'split1_test_score': array([0.42666667, 0.46666667, 0.46666667, 0.318     , 0.42866667,\n",
       "        0.42866667, 0.318     , 0.16333333, 0.16333333, 0.29      ,\n",
       "        0.42666667, 0.42666667, 0.188     , 0.46666667, 0.46666667,\n",
       "        0.33666667, 0.20466667, 0.20466667, 0.63133333, 0.64533333,\n",
       "        0.64533333, 0.638     , 0.542     , 0.542     , 0.61333333,\n",
       "        0.61666667, 0.61666667]),\n",
       " 'split1_train_score': array([0.35866667, 0.53333333, 0.53333333, 0.43241667, 0.52883333,\n",
       "        0.52883333, 0.43241667, 0.21391667, 0.21391667, 0.42266667,\n",
       "        0.577     , 0.577     , 0.40775   , 0.53333333, 0.53333333,\n",
       "        0.4615    , 0.35366667, 0.35366667, 0.86808333, 0.84308333,\n",
       "        0.84308333, 0.86258333, 0.80716667, 0.80716667, 0.86175   ,\n",
       "        0.79975   , 0.79975   ]),\n",
       " 'split2_test_score': array([0.31      , 0.65266667, 0.65266667, 0.31      , 0.59133333,\n",
       "        0.59133333, 0.31      , 0.20466667, 0.20466667, 0.74933333,\n",
       "        0.586     , 0.586     , 0.74933333, 0.65266667, 0.65266667,\n",
       "        0.74933333, 0.43866667, 0.43866667, 0.75466667, 0.728     ,\n",
       "        0.728     , 0.75466667, 0.68733333, 0.68733333, 0.75466667,\n",
       "        0.73933333, 0.73933333]),\n",
       " 'split2_train_score': array([0.34083333, 0.53316667, 0.53316667, 0.34083333, 0.4565    ,\n",
       "        0.4565    , 0.34083333, 0.216     , 0.216     , 0.68341667,\n",
       "        0.593     , 0.593     , 0.68341667, 0.53316667, 0.53316667,\n",
       "        0.62508333, 0.4885    , 0.4885    , 0.84775   , 0.824     ,\n",
       "        0.824     , 0.84775   , 0.83658333, 0.83658333, 0.84775   ,\n",
       "        0.74408333, 0.74408333]),\n",
       " 'split3_test_score': array([0.232     , 0.376     , 0.376     , 0.41333333, 0.35333333,\n",
       "        0.35333333, 0.41333333, 0.336     , 0.336     , 0.36333333,\n",
       "        0.51266667, 0.51266667, 0.36333333, 0.376     , 0.376     ,\n",
       "        0.36333333, 0.45866667, 0.45866667, 0.50466667, 0.398     ,\n",
       "        0.398     , 0.56733333, 0.52533333, 0.52533333, 0.43333333,\n",
       "        0.48      , 0.48      ]),\n",
       " 'split3_train_score': array([0.53116667, 0.47308333, 0.47308333, 0.58283333, 0.42408333,\n",
       "        0.42408333, 0.58283333, 0.33258333, 0.33258333, 0.54816667,\n",
       "        0.65275   , 0.65275   , 0.54816667, 0.47308333, 0.47308333,\n",
       "        0.54816667, 0.54641667, 0.54641667, 0.84608333, 0.80908333,\n",
       "        0.80908333, 0.84066667, 0.86783333, 0.86783333, 0.84275   ,\n",
       "        0.60425   , 0.60425   ]),\n",
       " 'split4_test_score': array([0.178     , 0.566     , 0.566     , 0.178     , 0.46266667,\n",
       "        0.46266667, 0.178     , 0.58133333, 0.58133333, 0.61      ,\n",
       "        0.66866667, 0.66866667, 0.61      , 0.566     , 0.566     ,\n",
       "        0.73266667, 0.556     , 0.556     , 0.94533333, 0.882     ,\n",
       "        0.882     , 0.94533333, 0.90866667, 0.90866667, 0.94533333,\n",
       "        0.626     , 0.626     ]),\n",
       " 'split4_train_score': array([0.1985    , 0.43466667, 0.43466667, 0.1985    , 0.53716667,\n",
       "        0.53716667, 0.1985    , 0.56766667, 0.56766667, 0.60225   ,\n",
       "        0.64708333, 0.64708333, 0.60225   , 0.43466667, 0.43466667,\n",
       "        0.53308333, 0.54925   , 0.54925   , 0.84625   , 0.8165    ,\n",
       "        0.8165    , 0.84625   , 0.81508333, 0.81508333, 0.84625   ,\n",
       "        0.54933333, 0.54933333]),\n",
       " 'split5_test_score': array([0.272     , 0.56466667, 0.56466667, 0.272     , 0.49866667,\n",
       "        0.49866667, 0.272     , 0.41866667, 0.41866667, 0.37466667,\n",
       "        0.67466667, 0.67466667, 0.44933333, 0.48933333, 0.48933333,\n",
       "        0.44933333, 0.446     , 0.446     , 0.83533333, 0.768     ,\n",
       "        0.768     , 0.836     , 0.88466667, 0.88466667, 0.84133333,\n",
       "        0.628     , 0.628     ]),\n",
       " 'split5_train_score': array([0.40033333, 0.556     , 0.556     , 0.40033333, 0.47741667,\n",
       "        0.47741667, 0.40033333, 0.3985    , 0.3985    , 0.40458333,\n",
       "        0.54975   , 0.54975   , 0.54008333, 0.575     , 0.575     ,\n",
       "        0.54008333, 0.43241667, 0.43241667, 0.8575    , 0.83441667,\n",
       "        0.83441667, 0.84091667, 0.84175   , 0.84175   , 0.83308333,\n",
       "        0.59875   , 0.59875   ]),\n",
       " 'split6_test_score': array([0.37866667, 0.346     , 0.346     , 0.35266667, 0.236     ,\n",
       "        0.236     , 0.38333333, 0.228     , 0.228     , 0.36933333,\n",
       "        0.48      , 0.48      , 0.39533333, 0.346     , 0.346     ,\n",
       "        0.39533333, 0.28266667, 0.28266667, 0.436     , 0.41133333,\n",
       "        0.41133333, 0.43466667, 0.63333333, 0.63333333, 0.43466667,\n",
       "        0.50066667, 0.50066667]),\n",
       " 'split6_train_score': array([0.40066667, 0.51366667, 0.51366667, 0.42316667, 0.36133333,\n",
       "        0.36133333, 0.46925   , 0.363     , 0.363     , 0.49633333,\n",
       "        0.67183333, 0.67183333, 0.47575   , 0.51366667, 0.51366667,\n",
       "        0.47575   , 0.3995    , 0.3995    , 0.8495    , 0.78875   ,\n",
       "        0.78875   , 0.85658333, 0.81375   , 0.81375   , 0.85658333,\n",
       "        0.748     , 0.748     ]),\n",
       " 'split7_test_score': array([0.58666667, 0.62066667, 0.62066667, 0.58666667, 0.41466667,\n",
       "        0.41466667, 0.58666667, 0.52066667, 0.52066667, 0.73066667,\n",
       "        0.796     , 0.796     , 0.73066667, 0.62066667, 0.62066667,\n",
       "        0.87666667, 0.51066667, 0.51066667, 0.71933333, 0.80533333,\n",
       "        0.80533333, 0.71933333, 0.866     , 0.866     , 0.71933333,\n",
       "        0.88533333, 0.88533333]),\n",
       " 'split7_train_score': array([0.3405    , 0.52966667, 0.52966667, 0.3405    , 0.45108333,\n",
       "        0.45108333, 0.3405    , 0.42358333, 0.42358333, 0.65116667,\n",
       "        0.50058333, 0.50058333, 0.65116667, 0.52966667, 0.52966667,\n",
       "        0.6665    , 0.46258333, 0.46258333, 0.84825   , 0.71575   ,\n",
       "        0.71575   , 0.84825   , 0.77083333, 0.77083333, 0.84825   ,\n",
       "        0.71658333, 0.71658333]),\n",
       " 'split8_test_score': array([0.19866667, 0.47733333, 0.47733333, 0.42866667, 0.54466667,\n",
       "        0.54466667, 0.42866667, 0.278     , 0.278     , 0.432     ,\n",
       "        0.52866667, 0.52866667, 0.432     , 0.47733333, 0.47733333,\n",
       "        0.24933333, 0.46733333, 0.46733333, 0.662     , 0.908     ,\n",
       "        0.908     , 0.662     , 0.74133333, 0.74133333, 0.662     ,\n",
       "        0.49533333, 0.49533333]),\n",
       " 'split8_train_score': array([0.25941667, 0.54191667, 0.54191667, 0.38358333, 0.45108333,\n",
       "        0.45108333, 0.37216667, 0.21575   , 0.21575   , 0.36591667,\n",
       "        0.50991667, 0.50991667, 0.3335    , 0.54191667, 0.54191667,\n",
       "        0.39916667, 0.45425   , 0.45425   , 0.89941667, 0.78958333,\n",
       "        0.78958333, 0.90341667, 0.75683333, 0.75683333, 0.90341667,\n",
       "        0.65891667, 0.65891667]),\n",
       " 'std_fit_time': array([0.01242962, 0.00740953, 0.00902403, 0.00381348, 0.01010337,\n",
       "        0.01609381, 0.00627809, 0.00905517, 0.01559753, 0.01003828,\n",
       "        0.00678626, 0.00898133, 0.00843841, 0.0106747 , 0.01601904,\n",
       "        0.00657672, 0.01202375, 0.01940003, 0.00986218, 0.00713386,\n",
       "        0.00980871, 0.01112054, 0.00408095, 0.00575377, 0.01266918,\n",
       "        0.01127263, 0.0165819 ]),\n",
       " 'std_score_time': array([5.96716234e-05, 8.11399951e-05, 3.14005528e-05, 2.96471997e-05,\n",
       "        7.91000878e-05, 3.31623356e-05, 6.35548500e-05, 1.25368953e-03,\n",
       "        3.86875318e-05, 7.39642405e-05, 1.31039492e-04, 4.78331555e-05,\n",
       "        5.74469255e-05, 1.99126323e-04, 4.71290959e-05, 2.94492672e-05,\n",
       "        1.05631187e-04, 4.88054530e-05, 5.44505031e-05, 1.19755975e-04,\n",
       "        5.09805851e-05, 6.15021469e-05, 4.13471423e-05, 5.47523594e-05,\n",
       "        1.20600326e-04, 1.09717521e-04, 5.32160855e-05]),\n",
       " 'std_test_score': array([0.12461474, 0.10582492, 0.10582492, 0.11130447, 0.10160414,\n",
       "        0.10160414, 0.111556  , 0.13888934, 0.13888934, 0.15983077,\n",
       "        0.12652173, 0.12652173, 0.19214743, 0.10216381, 0.10216381,\n",
       "        0.20801744, 0.11245498, 0.11245498, 0.14759329, 0.17324214,\n",
       "        0.17324214, 0.14582693, 0.14559406, 0.14559406, 0.16370266,\n",
       "        0.12477025, 0.12477025]),\n",
       " 'std_train_score': array([0.08992591, 0.03575887, 0.03575887, 0.1079723 , 0.06145266,\n",
       "        0.06145266, 0.11090336, 0.11785974, 0.11785974, 0.10532059,\n",
       "        0.05813257, 0.05813257, 0.11742818, 0.04017156, 0.04017156,\n",
       "        0.07693675, 0.05986108, 0.05986108, 0.01990522, 0.03545141,\n",
       "        0.03545141, 0.02028178, 0.04286953, 0.04286953, 0.02076536,\n",
       "        0.07986237, 0.07986237])}"
      ]
     },
     "execution_count": 34,
     "metadata": {
      "tags": []
     },
     "output_type": "execute_result"
    }
   ],
   "source": [
    "#Results of grid search with cross validtion\n",
    "gs.cv_results_"
   ]
  },
  {
   "cell_type": "code",
   "execution_count": null,
   "metadata": {
    "colab": {
     "base_uri": "https://localhost:8080/",
     "height": 86
    },
    "colab_type": "code",
    "executionInfo": {
     "elapsed": 663,
     "status": "ok",
     "timestamp": 1589015842935,
     "user": {
      "displayName": "Anjana Niranjan",
      "photoUrl": "https://lh3.googleusercontent.com/a-/AOh14Gi-DUuXNslKe9_IpDzKJKy7kFDXdw2iBILnh75qfNo=s64",
      "userId": "03367688363527101143"
     },
     "user_tz": 420
    },
    "id": "koLDEVE6uXYZ",
    "outputId": "914e1d99-d8bf-4b50-caa0-1fbe4564b3f5"
   },
   "outputs": [
    {
     "data": {
      "text/plain": [
       "Perceptron(alpha=0.001, class_weight=None, early_stopping=False, eta0=1,\n",
       "           fit_intercept=True, max_iter=1000, n_iter_no_change=5, n_jobs=None,\n",
       "           penalty='l2', random_state=0, shuffle=True, tol=0.001,\n",
       "           validation_fraction=0.1, verbose=0, warm_start=False)"
      ]
     },
     "execution_count": 35,
     "metadata": {
      "tags": []
     },
     "output_type": "execute_result"
    }
   ],
   "source": [
    "#Best estimator\n",
    "gs.best_estimator_"
   ]
  },
  {
   "cell_type": "code",
   "execution_count": null,
   "metadata": {
    "colab": {
     "base_uri": "https://localhost:8080/",
     "height": 34
    },
    "colab_type": "code",
    "executionInfo": {
     "elapsed": 791,
     "status": "ok",
     "timestamp": 1589015854915,
     "user": {
      "displayName": "Anjana Niranjan",
      "photoUrl": "https://lh3.googleusercontent.com/a-/AOh14Gi-DUuXNslKe9_IpDzKJKy7kFDXdw2iBILnh75qfNo=s64",
      "userId": "03367688363527101143"
     },
     "user_tz": 420
    },
    "id": "12DljQJXuY2N",
    "outputId": "29d3b9dc-88ac-471f-9e1c-8870aea7f326"
   },
   "outputs": [
    {
     "data": {
      "text/plain": [
       "{'alpha': 0.001, 'eta0': 1, 'penalty': 'l2'}"
      ]
     },
     "execution_count": 36,
     "metadata": {
      "tags": []
     },
     "output_type": "execute_result"
    }
   ],
   "source": [
    "#Best parameters\n",
    "gs.best_params_"
   ]
  },
  {
   "cell_type": "code",
   "execution_count": null,
   "metadata": {
    "colab": {
     "base_uri": "https://localhost:8080/",
     "height": 34
    },
    "colab_type": "code",
    "executionInfo": {
     "elapsed": 1133,
     "status": "ok",
     "timestamp": 1589015867075,
     "user": {
      "displayName": "Anjana Niranjan",
      "photoUrl": "https://lh3.googleusercontent.com/a-/AOh14Gi-DUuXNslKe9_IpDzKJKy7kFDXdw2iBILnh75qfNo=s64",
      "userId": "03367688363527101143"
     },
     "user_tz": 420
    },
    "id": "kEJRx6hAubvr",
    "outputId": "44bea715-2b01-43ec-9c2d-eb6f3948daa8"
   },
   "outputs": [
    {
     "data": {
      "text/plain": [
       "0.7037777777777778"
      ]
     },
     "execution_count": 37,
     "metadata": {
      "tags": []
     },
     "output_type": "execute_result"
    }
   ],
   "source": [
    "#Best score\n",
    "gs.best_score_"
   ]
  },
  {
   "cell_type": "code",
   "execution_count": null,
   "metadata": {
    "colab": {
     "base_uri": "https://localhost:8080/",
     "height": 121
    },
    "colab_type": "code",
    "executionInfo": {
     "elapsed": 639,
     "status": "ok",
     "timestamp": 1589015907961,
     "user": {
      "displayName": "Anjana Niranjan",
      "photoUrl": "https://lh3.googleusercontent.com/a-/AOh14Gi-DUuXNslKe9_IpDzKJKy7kFDXdw2iBILnh75qfNo=s64",
      "userId": "03367688363527101143"
     },
     "user_tz": 420
    },
    "id": "6bSOXl7yueoL",
    "outputId": "3e8fc0c6-112c-44ce-8fb6-d84ee064106c"
   },
   "outputs": [
    {
     "name": "stdout",
     "output_type": "stream",
     "text": [
      "0.7771111111111111\n"
     ]
    },
    {
     "data": {
      "text/plain": [
       "array([[2760,    0,    4,    0,   20],\n",
       "       [  13, 2431,   58,   49,   31],\n",
       "       [ 614,    0, 2027,    5,    3],\n",
       "       [ 197,   59,  332, 1865,   23],\n",
       "       [ 321, 1184,   54,   42, 1408]])"
      ]
     },
     "execution_count": 38,
     "metadata": {
      "tags": []
     },
     "output_type": "execute_result"
    }
   ],
   "source": [
    "#Training the model with best parameters\n",
    "bestclf = Perceptron(alpha= 0.001, eta0= 0.5, penalty= 'l1')\n",
    "bestclf.fit(X_train_selected, y_train)\n",
    "tr_p = bestclf.predict(X_train_selected)\n",
    "print(accuracy_score(y_train, tr_p))\n",
    "confusion_matrix(y_train, tr_p)"
   ]
  },
  {
   "cell_type": "code",
   "execution_count": null,
   "metadata": {
    "colab": {
     "base_uri": "https://localhost:8080/",
     "height": 121
    },
    "colab_type": "code",
    "executionInfo": {
     "elapsed": 906,
     "status": "ok",
     "timestamp": 1589015939107,
     "user": {
      "displayName": "Anjana Niranjan",
      "photoUrl": "https://lh3.googleusercontent.com/a-/AOh14Gi-DUuXNslKe9_IpDzKJKy7kFDXdw2iBILnh75qfNo=s64",
      "userId": "03367688363527101143"
     },
     "user_tz": 420
    },
    "id": "WAYnEwU5uous",
    "outputId": "4f28de47-d994-4edb-88a3-e224ce5c6326"
   },
   "outputs": [
    {
     "name": "stdout",
     "output_type": "stream",
     "text": [
      "0.7256742025688421\n"
     ]
    },
    {
     "data": {
      "text/plain": [
       "array([[4299,   48,   69,    0,   50],\n",
       "       [ 793, 3411,   31,  167,    0],\n",
       "       [2862,   23, 1846,   43,    5],\n",
       "       [  10,  384,   11, 3251,  258],\n",
       "       [ 312,  445,  107,  170, 2504]])"
      ]
     },
     "execution_count": 39,
     "metadata": {
      "tags": []
     },
     "output_type": "execute_result"
    }
   ],
   "source": [
    "#Running the model on the test set\n",
    "predictions = bestclf.predict(X_test_selected)\n",
    "print(accuracy_score(y_test, predictions))\n",
    "confusion_matrix(y_test, predictions)"
   ]
  }
 ],
 "metadata": {
  "colab": {
   "authorship_tag": "ABX9TyNfyxgDM1TcsNlv60fYqJzU",
   "mount_file_id": "1OJTQAOA4FElsfUR4CjbEWud44P-mXSIr",
   "name": "PerceptronLearningFinal.ipynb",
   "provenance": []
  },
  "kernelspec": {
   "display_name": "Python 3",
   "language": "python",
   "name": "python3"
  },
  "language_info": {
   "codemirror_mode": {
    "name": "ipython",
    "version": 3
   },
   "file_extension": ".py",
   "mimetype": "text/x-python",
   "name": "python",
   "nbconvert_exporter": "python",
   "pygments_lexer": "ipython3",
   "version": "3.7.3"
  }
 },
 "nbformat": 4,
 "nbformat_minor": 1
}
