{
  "nbformat": 4,
  "nbformat_minor": 0,
  "metadata": {
    "colab": {
      "name": "SVM.ipynb",
      "provenance": [],
      "collapsed_sections": []
    },
    "kernelspec": {
      "name": "python3",
      "display_name": "Python 3"
    }
  },
  "cells": [
    {
      "cell_type": "code",
      "metadata": {
        "id": "q4skSNRWmQGu",
        "colab_type": "code",
        "colab": {}
      },
      "source": [
        "'''This notebook implements the Support Vector Machine classifier on\n",
        "    1. The linear dataset\n",
        "    2. The standardized linear dataset\n",
        "    3. The standardized expanded dataset'''\n",
        "\n",
        "__author__ = 'Anjana Niranjan'\n",
        "__email__ = 'anjanani@usc.edu'"
      ],
      "execution_count": null,
      "outputs": []
    },
    {
      "cell_type": "markdown",
      "metadata": {
        "id": "NIWnKKRDQIg9",
        "colab_type": "text"
      },
      "source": [
        "**Support vector machine**\n",
        "Thanks to the sklearn website for examples on the functions used in this code.\n",
        "Thanks to https://stackoverflow.com/questions/51194627/python-naive-bayes-with-cross-validation-using-gaussiannb-classifier for helping with cross-validation."
      ]
    },
    {
      "cell_type": "code",
      "metadata": {
        "id": "BVM6r2cW8ptD",
        "colab_type": "code",
        "colab": {}
      },
      "source": [
        "#imports\n",
        "import pandas as pd\n",
        "import numpy as np\n",
        "from sklearn.model_selection import GridSearchCV, KFold\n",
        "from sklearn.svm import SVC\n",
        "from sklearn.metrics import confusion_matrix\n",
        "from sklearn.metrics import accuracy_score"
      ],
      "execution_count": null,
      "outputs": []
    },
    {
      "cell_type": "code",
      "metadata": {
        "id": "r4A_ZB0585RR",
        "colab_type": "code",
        "colab": {}
      },
      "source": [
        "#Loading the linear data\n",
        "train = pd.read_csv('/content/drive/My Drive/Colab Notebooks/mpr/linearTrain.csv')\n",
        "test = pd.read_csv('/content/drive/My Drive/Colab Notebooks/mpr/linearTest.csv')"
      ],
      "execution_count": null,
      "outputs": []
    },
    {
      "cell_type": "code",
      "metadata": {
        "id": "uchdQ8Vk8-Sk",
        "colab_type": "code",
        "colab": {}
      },
      "source": [
        "X_train = train.iloc[:, 1:14]\n",
        "y_train = train.iloc[:,14]\n",
        "X_test = test.iloc[:, 1:14]\n",
        "y_test = test.iloc[:, 14]"
      ],
      "execution_count": null,
      "outputs": []
    },
    {
      "cell_type": "markdown",
      "metadata": {
        "id": "lGuLWpPbsBBh",
        "colab_type": "text"
      },
      "source": [
        "Implementing SVM classifier on linear dataset with grid search and cross validation"
      ]
    },
    {
      "cell_type": "code",
      "metadata": {
        "id": "uCnaG9ii9Cmw",
        "colab_type": "code",
        "colab": {
          "base_uri": "https://localhost:8080/",
          "height": 242
        },
        "outputId": "645e87dc-c033-4df4-848b-4becd1910f8a"
      },
      "source": [
        "kf = KFold(n_splits=9, random_state=None, shuffle=False)\n",
        "params = {'kernel': ['linear', 'poly', 'rbf', 'sigmoid'], 'decision_function_shape':['ovo', 'ovr']}\n",
        "clf = SVC()\n",
        "gs = GridSearchCV(clf, cv=kf, param_grid=params, return_train_score=True)\n",
        "\n",
        "gs.fit(X_train, y_train)"
      ],
      "execution_count": null,
      "outputs": [
        {
          "output_type": "execute_result",
          "data": {
            "text/plain": [
              "GridSearchCV(cv=KFold(n_splits=9, random_state=None, shuffle=False),\n",
              "             error_score=nan,\n",
              "             estimator=SVC(C=1.0, break_ties=False, cache_size=200,\n",
              "                           class_weight=None, coef0=0.0,\n",
              "                           decision_function_shape='ovr', degree=3,\n",
              "                           gamma='scale', kernel='rbf', max_iter=-1,\n",
              "                           probability=False, random_state=None, shrinking=True,\n",
              "                           tol=0.001, verbose=False),\n",
              "             iid='deprecated', n_jobs=None,\n",
              "             param_grid={'decision_function_shape': ['ovo', 'ovr'],\n",
              "                         'kernel': ['linear', 'poly', 'rbf', 'sigmoid']},\n",
              "             pre_dispatch='2*n_jobs', refit=True, return_train_score=True,\n",
              "             scoring=None, verbose=0)"
            ]
          },
          "metadata": {
            "tags": []
          },
          "execution_count": 4
        }
      ]
    },
    {
      "cell_type": "code",
      "metadata": {
        "id": "AG97Uy-O9IRa",
        "colab_type": "code",
        "colab": {
          "base_uri": "https://localhost:8080/",
          "height": 1000
        },
        "outputId": "a774be3f-b496-41be-b142-df55e0c41261"
      },
      "source": [
        "#grid search results\n",
        "gs.cv_results_"
      ],
      "execution_count": null,
      "outputs": [
        {
          "output_type": "execute_result",
          "data": {
            "text/plain": [
              "{'mean_fit_time': array([7.54063265, 0.3682033 , 0.94930662, 9.92085062, 7.17450107,\n",
              "        0.36588979, 0.94860217, 9.93195767]),\n",
              " 'mean_score_time': array([0.01338257, 0.05031949, 0.15229355, 0.96837923, 0.01335475,\n",
              "        0.05115059, 0.15113907, 0.96926472]),\n",
              " 'mean_test_score': array([0.87333333, 0.90733333, 0.91325926, 0.10666667, 0.87333333,\n",
              "        0.90733333, 0.91325926, 0.10666667]),\n",
              " 'mean_train_score': array([0.99553704, 0.99067593, 0.98347222, 0.12643519, 0.99553704,\n",
              "        0.99067593, 0.98347222, 0.12643519]),\n",
              " 'param_decision_function_shape': masked_array(data=['ovo', 'ovo', 'ovo', 'ovo', 'ovr', 'ovr', 'ovr', 'ovr'],\n",
              "              mask=[False, False, False, False, False, False, False, False],\n",
              "        fill_value='?',\n",
              "             dtype=object),\n",
              " 'param_kernel': masked_array(data=['linear', 'poly', 'rbf', 'sigmoid', 'linear', 'poly',\n",
              "                    'rbf', 'sigmoid'],\n",
              "              mask=[False, False, False, False, False, False, False, False],\n",
              "        fill_value='?',\n",
              "             dtype=object),\n",
              " 'params': [{'decision_function_shape': 'ovo', 'kernel': 'linear'},\n",
              "  {'decision_function_shape': 'ovo', 'kernel': 'poly'},\n",
              "  {'decision_function_shape': 'ovo', 'kernel': 'rbf'},\n",
              "  {'decision_function_shape': 'ovo', 'kernel': 'sigmoid'},\n",
              "  {'decision_function_shape': 'ovr', 'kernel': 'linear'},\n",
              "  {'decision_function_shape': 'ovr', 'kernel': 'poly'},\n",
              "  {'decision_function_shape': 'ovr', 'kernel': 'rbf'},\n",
              "  {'decision_function_shape': 'ovr', 'kernel': 'sigmoid'}],\n",
              " 'rank_test_score': array([5, 3, 1, 7, 5, 3, 1, 7], dtype=int32),\n",
              " 'split0_test_score': array([0.77666667, 0.764     , 0.76333333, 0.02333333, 0.77666667,\n",
              "        0.764     , 0.76333333, 0.02333333]),\n",
              " 'split0_train_score': array([0.99841667, 0.99341667, 0.98975   , 0.1375    , 0.99841667,\n",
              "        0.99341667, 0.98975   , 0.1375    ]),\n",
              " 'split1_test_score': array([0.71066667, 0.92533333, 0.91533333, 0.068     , 0.71066667,\n",
              "        0.92533333, 0.91533333, 0.068     ]),\n",
              " 'split1_train_score': array([0.99516667, 0.9935    , 0.9845    , 0.14316667, 0.99516667,\n",
              "        0.9935    , 0.9845    , 0.14316667]),\n",
              " 'split2_test_score': array([0.98666667, 0.96533333, 0.88466667, 0.        , 0.98666667,\n",
              "        0.96533333, 0.88466667, 0.        ]),\n",
              " 'split2_train_score': array([0.994     , 0.98958333, 0.98391667, 0.14      , 0.994     ,\n",
              "        0.98958333, 0.98391667, 0.14      ]),\n",
              " 'split3_test_score': array([0.94      , 0.83533333, 0.98666667, 0.224     , 0.94      ,\n",
              "        0.83533333, 0.98666667, 0.224     ]),\n",
              " 'split3_train_score': array([0.99416667, 0.98966667, 0.981     , 0.12991667, 0.99416667,\n",
              "        0.98966667, 0.981     , 0.12991667]),\n",
              " 'split4_test_score': array([0.99333333, 0.99866667, 0.99866667, 0.        , 0.99333333,\n",
              "        0.99866667, 0.99866667, 0.        ]),\n",
              " 'split4_train_score': array([0.99525   , 0.9895    , 0.98141667, 0.12666667, 0.99525   ,\n",
              "        0.9895    , 0.98141667, 0.12666667]),\n",
              " 'split5_test_score': array([0.97133333, 0.91333333, 0.89866667, 0.146     , 0.97133333,\n",
              "        0.91333333, 0.89866667, 0.146     ]),\n",
              " 'split5_train_score': array([0.99441667, 0.98975   , 0.97766667, 0.13075   , 0.99441667,\n",
              "        0.98975   , 0.97766667, 0.13075   ]),\n",
              " 'split6_test_score': array([0.85133333, 0.99266667, 0.99733333, 0.22533333, 0.85133333,\n",
              "        0.99266667, 0.99733333, 0.22533333]),\n",
              " 'split6_train_score': array([0.99483333, 0.98941667, 0.98391667, 0.091     , 0.99483333,\n",
              "        0.98941667, 0.98391667, 0.091     ]),\n",
              " 'split7_test_score': array([0.848     , 0.878     , 0.87266667, 0.25066667, 0.848     ,\n",
              "        0.878     , 0.87266667, 0.25066667]),\n",
              " 'split7_train_score': array([0.99558333, 0.99091667, 0.98191667, 0.10283333, 0.99558333,\n",
              "        0.99091667, 0.98191667, 0.10283333]),\n",
              " 'split8_test_score': array([0.782     , 0.89333333, 0.902     , 0.02266667, 0.782     ,\n",
              "        0.89333333, 0.902     , 0.02266667]),\n",
              " 'split8_train_score': array([0.998     , 0.99033333, 0.98716667, 0.13608333, 0.998     ,\n",
              "        0.99033333, 0.98716667, 0.13608333]),\n",
              " 'std_fit_time': array([3.61731169, 0.0320377 , 0.05011869, 0.47421259, 3.36390022,\n",
              "        0.03279532, 0.05464706, 0.46969941]),\n",
              " 'std_score_time': array([0.00329861, 0.00468926, 0.00952046, 0.01425285, 0.00327849,\n",
              "        0.00468933, 0.00924201, 0.01111307]),\n",
              " 'std_test_score': array([0.09807329, 0.07159488, 0.07074101, 0.09909766, 0.09807329,\n",
              "        0.07159488, 0.07074101, 0.09909766]),\n",
              " 'std_train_score': array([0.00151184, 0.0015528 , 0.0033495 , 0.01674301, 0.00151184,\n",
              "        0.0015528 , 0.0033495 , 0.01674301])}"
            ]
          },
          "metadata": {
            "tags": []
          },
          "execution_count": 5
        }
      ]
    },
    {
      "cell_type": "code",
      "metadata": {
        "id": "qp1lx01y9U5M",
        "colab_type": "code",
        "colab": {
          "base_uri": "https://localhost:8080/",
          "height": 34
        },
        "outputId": "e740915f-4fcd-4f60-f543-6c5efa353438"
      },
      "source": [
        "#Best parameters\n",
        "gs.best_params_"
      ],
      "execution_count": null,
      "outputs": [
        {
          "output_type": "execute_result",
          "data": {
            "text/plain": [
              "{'decision_function_shape': 'ovo', 'kernel': 'rbf'}"
            ]
          },
          "metadata": {
            "tags": []
          },
          "execution_count": 6
        }
      ]
    },
    {
      "cell_type": "code",
      "metadata": {
        "id": "MdkTmxtPF6f_",
        "colab_type": "code",
        "colab": {
          "base_uri": "https://localhost:8080/",
          "height": 34
        },
        "outputId": "2c64bd35-551c-4e71-b08e-2d2da46dba01"
      },
      "source": [
        "#Best score\n",
        "gs.best_score_"
      ],
      "execution_count": null,
      "outputs": [
        {
          "output_type": "execute_result",
          "data": {
            "text/plain": [
              "0.9132592592592592"
            ]
          },
          "metadata": {
            "tags": []
          },
          "execution_count": 7
        }
      ]
    },
    {
      "cell_type": "code",
      "metadata": {
        "id": "rf65ZadH4CZW",
        "colab_type": "code",
        "colab": {
          "base_uri": "https://localhost:8080/",
          "height": 121
        },
        "outputId": "6b8fd888-b41f-47fa-875d-0c466900d0b7"
      },
      "source": [
        "#Training the classifier with best parameters\n",
        "bestclf = SVC(decision_function_shape= 'ovo', kernel= 'rbf')\n",
        "bestclf.fit(X_train, y_train)\n",
        "tr_p = bestclf.predict(X_train)\n",
        "print(accuracy_score(y_train, tr_p))\n",
        "confusion_matrix(y_train, tr_p)"
      ],
      "execution_count": null,
      "outputs": [
        {
          "output_type": "stream",
          "text": [
            "0.9828888888888889\n"
          ],
          "name": "stdout"
        },
        {
          "output_type": "execute_result",
          "data": {
            "text/plain": [
              "array([[2778,    0,    0,    0,    6],\n",
              "       [  10, 2455,    1,   26,   90],\n",
              "       [   1,    0, 2640,    3,    5],\n",
              "       [   0,   16,   31, 2422,    7],\n",
              "       [   0,   25,    7,    3, 2974]])"
            ]
          },
          "metadata": {
            "tags": []
          },
          "execution_count": 8
        }
      ]
    },
    {
      "cell_type": "code",
      "metadata": {
        "id": "GeVMY6fg4Dlo",
        "colab_type": "code",
        "colab": {
          "base_uri": "https://localhost:8080/",
          "height": 121
        },
        "outputId": "8e925a1a-8727-4d0c-a207-baa21b4071e2"
      },
      "source": [
        "#Running the model on test set\n",
        "predictions = bestclf.predict(X_test)\n",
        "print(accuracy_score(y_test, predictions))\n",
        "confusion_matrix(y_test, predictions)"
      ],
      "execution_count": null,
      "outputs": [
        {
          "output_type": "stream",
          "text": [
            "0.9133608227878098\n"
          ],
          "name": "stdout"
        },
        {
          "output_type": "execute_result",
          "data": {
            "text/plain": [
              "array([[4325,   48,   67,    0,   26],\n",
              "       [  31, 4269,   87,    0,   15],\n",
              "       [   3,    0, 4586,   82,  108],\n",
              "       [   0,  170,  262, 2681,  801],\n",
              "       [   0,   26,   50,   52, 3410]])"
            ]
          },
          "metadata": {
            "tags": []
          },
          "execution_count": 9
        }
      ]
    },
    {
      "cell_type": "markdown",
      "metadata": {
        "id": "Ru83-du8sYmm",
        "colab_type": "text"
      },
      "source": [
        "Implementing the SVM classifier on normalized linear dataset"
      ]
    },
    {
      "cell_type": "code",
      "metadata": {
        "id": "2ob2Z_ac-HfS",
        "colab_type": "code",
        "colab": {}
      },
      "source": [
        "#Normalizing the data\n",
        "from sklearn import preprocessing\n",
        "scalar = preprocessing.StandardScaler()\n",
        "scalar.fit(X_train)\n",
        "X_train = scalar.transform(X_train)\n",
        "X_test = scalar.transform(X_test)"
      ],
      "execution_count": null,
      "outputs": []
    },
    {
      "cell_type": "code",
      "metadata": {
        "id": "62V1b53D4MSe",
        "colab_type": "code",
        "colab": {
          "base_uri": "https://localhost:8080/",
          "height": 242
        },
        "outputId": "3b14d2d3-1447-408a-fc79-b5e3b7ae9791"
      },
      "source": [
        "kf = KFold(n_splits=9, random_state=None, shuffle=False)\n",
        "params = {'kernel': ['linear', 'poly', 'rbf', 'sigmoid'], 'decision_function_shape':['ovo', 'ovr']}\n",
        "clf = SVC()\n",
        "gs = GridSearchCV(clf, cv=kf, param_grid=params, return_train_score=True)\n",
        "\n",
        "gs.fit(X_train, y_train)"
      ],
      "execution_count": null,
      "outputs": [
        {
          "output_type": "execute_result",
          "data": {
            "text/plain": [
              "GridSearchCV(cv=KFold(n_splits=9, random_state=None, shuffle=False),\n",
              "             error_score=nan,\n",
              "             estimator=SVC(C=1.0, break_ties=False, cache_size=200,\n",
              "                           class_weight=None, coef0=0.0,\n",
              "                           decision_function_shape='ovr', degree=3,\n",
              "                           gamma='scale', kernel='rbf', max_iter=-1,\n",
              "                           probability=False, random_state=None, shrinking=True,\n",
              "                           tol=0.001, verbose=False),\n",
              "             iid='deprecated', n_jobs=None,\n",
              "             param_grid={'decision_function_shape': ['ovo', 'ovr'],\n",
              "                         'kernel': ['linear', 'poly', 'rbf', 'sigmoid']},\n",
              "             pre_dispatch='2*n_jobs', refit=True, return_train_score=True,\n",
              "             scoring=None, verbose=0)"
            ]
          },
          "metadata": {
            "tags": []
          },
          "execution_count": 11
        }
      ]
    },
    {
      "cell_type": "code",
      "metadata": {
        "id": "1w9kfBRO4P_L",
        "colab_type": "code",
        "colab": {
          "base_uri": "https://localhost:8080/",
          "height": 1000
        },
        "outputId": "c98993e5-9ce7-4e26-d1e5-21a9a1c6d636"
      },
      "source": [
        "#Visualizing the results of grid search\n",
        "gs.cv_results_"
      ],
      "execution_count": null,
      "outputs": [
        {
          "output_type": "execute_result",
          "data": {
            "text/plain": [
              "{'mean_fit_time': array([0.43392913, 0.37296375, 0.34329481, 1.88506256, 0.43409387,\n",
              "        0.36958713, 0.34252932, 1.88494672]),\n",
              " 'mean_score_time': array([0.01931037, 0.03832311, 0.04151016, 0.30103138, 0.0191767 ,\n",
              "        0.03842727, 0.04132848, 0.30008592]),\n",
              " 'mean_test_score': array([0.86644444, 0.87837037, 0.8837037 , 0.698     , 0.86644444,\n",
              "        0.87837037, 0.8837037 , 0.698     ]),\n",
              " 'mean_train_score': array([0.99380556, 0.99701852, 0.99881481, 0.73535185, 0.99380556,\n",
              "        0.99701852, 0.99881481, 0.73535185]),\n",
              " 'param_decision_function_shape': masked_array(data=['ovo', 'ovo', 'ovo', 'ovo', 'ovr', 'ovr', 'ovr', 'ovr'],\n",
              "              mask=[False, False, False, False, False, False, False, False],\n",
              "        fill_value='?',\n",
              "             dtype=object),\n",
              " 'param_kernel': masked_array(data=['linear', 'poly', 'rbf', 'sigmoid', 'linear', 'poly',\n",
              "                    'rbf', 'sigmoid'],\n",
              "              mask=[False, False, False, False, False, False, False, False],\n",
              "        fill_value='?',\n",
              "             dtype=object),\n",
              " 'params': [{'decision_function_shape': 'ovo', 'kernel': 'linear'},\n",
              "  {'decision_function_shape': 'ovo', 'kernel': 'poly'},\n",
              "  {'decision_function_shape': 'ovo', 'kernel': 'rbf'},\n",
              "  {'decision_function_shape': 'ovo', 'kernel': 'sigmoid'},\n",
              "  {'decision_function_shape': 'ovr', 'kernel': 'linear'},\n",
              "  {'decision_function_shape': 'ovr', 'kernel': 'poly'},\n",
              "  {'decision_function_shape': 'ovr', 'kernel': 'rbf'},\n",
              "  {'decision_function_shape': 'ovr', 'kernel': 'sigmoid'}],\n",
              " 'rank_test_score': array([5, 3, 1, 7, 5, 3, 1, 7], dtype=int32),\n",
              " 'split0_test_score': array([0.77266667, 0.72266667, 0.76933333, 0.696     , 0.77266667,\n",
              "        0.72266667, 0.76933333, 0.696     ]),\n",
              " 'split0_train_score': array([0.99725   , 0.9985    , 0.99933333, 0.7705    , 0.99725   ,\n",
              "        0.9985    , 0.99933333, 0.7705    ]),\n",
              " 'split1_test_score': array([0.75933333, 0.77      , 0.87066667, 0.57933333, 0.75933333,\n",
              "        0.77      , 0.87066667, 0.57933333]),\n",
              " 'split1_train_score': array([0.99583333, 0.99741667, 0.99883333, 0.71358333, 0.99583333,\n",
              "        0.99741667, 0.99883333, 0.71358333]),\n",
              " 'split2_test_score': array([0.93666667, 0.98933333, 0.83266667, 0.77333333, 0.93666667,\n",
              "        0.98933333, 0.83266667, 0.77333333]),\n",
              " 'split2_train_score': array([0.99225   , 0.99708333, 0.99866667, 0.75191667, 0.99225   ,\n",
              "        0.99708333, 0.99866667, 0.75191667]),\n",
              " 'split3_test_score': array([0.74933333, 0.704     , 0.74866667, 0.46066667, 0.74933333,\n",
              "        0.704     , 0.74866667, 0.46066667]),\n",
              " 'split3_train_score': array([0.99166667, 0.99666667, 0.99858333, 0.73425   , 0.99166667,\n",
              "        0.99666667, 0.99858333, 0.73425   ]),\n",
              " 'split4_test_score': array([0.992     , 0.99933333, 0.99933333, 0.88666667, 0.992     ,\n",
              "        0.99933333, 0.99933333, 0.88666667]),\n",
              " 'split4_train_score': array([0.99225   , 0.99533333, 0.9985    , 0.72      , 0.99225   ,\n",
              "        0.99533333, 0.9985    , 0.72      ]),\n",
              " 'split5_test_score': array([0.972     , 0.86533333, 0.878     , 0.854     , 0.972     ,\n",
              "        0.86533333, 0.878     , 0.854     ]),\n",
              " 'split5_train_score': array([0.99183333, 0.99675   , 0.99858333, 0.69708333, 0.99183333,\n",
              "        0.99675   , 0.99858333, 0.69708333]),\n",
              " 'split6_test_score': array([0.97      , 0.98466667, 0.99066667, 0.62333333, 0.97      ,\n",
              "        0.98466667, 0.99066667, 0.62333333]),\n",
              " 'split6_train_score': array([0.99316667, 0.99666667, 0.99858333, 0.73441667, 0.99316667,\n",
              "        0.99666667, 0.99858333, 0.73441667]),\n",
              " 'split7_test_score': array([0.84266667, 0.95      , 0.92533333, 0.71933333, 0.84266667,\n",
              "        0.95      , 0.92533333, 0.71933333]),\n",
              " 'split7_train_score': array([0.994     , 0.99741667, 0.99866667, 0.73108333, 0.994     ,\n",
              "        0.99741667, 0.99866667, 0.73108333]),\n",
              " 'split8_test_score': array([0.80333333, 0.92      , 0.93866667, 0.68933333, 0.80333333,\n",
              "        0.92      , 0.93866667, 0.68933333]),\n",
              " 'split8_train_score': array([0.996     , 0.99733333, 0.99958333, 0.76533333, 0.996     ,\n",
              "        0.99733333, 0.99958333, 0.76533333]),\n",
              " 'std_fit_time': array([0.0681079 , 0.02474113, 0.0172199 , 0.12058673, 0.06901269,\n",
              "        0.02328055, 0.01887429, 0.12403716]),\n",
              " 'std_score_time': array([0.00264781, 0.00277659, 0.00239449, 0.02303601, 0.00271189,\n",
              "        0.00292984, 0.00225631, 0.02233534]),\n",
              " 'std_test_score': array([0.09492193, 0.11139037, 0.08412167, 0.12566465, 0.09492193,\n",
              "        0.11139037, 0.08412167, 0.12566465]),\n",
              " 'std_train_score': array([0.00195907, 0.00080102, 0.00035956, 0.02261516, 0.00195907,\n",
              "        0.00080102, 0.00035956, 0.02261516])}"
            ]
          },
          "metadata": {
            "tags": []
          },
          "execution_count": 12
        }
      ]
    },
    {
      "cell_type": "code",
      "metadata": {
        "id": "QF0fHCr64VC0",
        "colab_type": "code",
        "colab": {
          "base_uri": "https://localhost:8080/",
          "height": 34
        },
        "outputId": "ba5ddb34-12bb-473d-e3d0-35efcc2ec643"
      },
      "source": [
        "#Best parameters\n",
        "gs.best_params_"
      ],
      "execution_count": null,
      "outputs": [
        {
          "output_type": "execute_result",
          "data": {
            "text/plain": [
              "{'decision_function_shape': 'ovo', 'kernel': 'rbf'}"
            ]
          },
          "metadata": {
            "tags": []
          },
          "execution_count": 13
        }
      ]
    },
    {
      "cell_type": "code",
      "metadata": {
        "id": "aFCwMsrLF-39",
        "colab_type": "code",
        "colab": {
          "base_uri": "https://localhost:8080/",
          "height": 34
        },
        "outputId": "660782bb-ee8c-4c2d-c891-fd4190df7757"
      },
      "source": [
        "#Best score\n",
        "gs.best_score_"
      ],
      "execution_count": null,
      "outputs": [
        {
          "output_type": "execute_result",
          "data": {
            "text/plain": [
              "0.8837037037037037"
            ]
          },
          "metadata": {
            "tags": []
          },
          "execution_count": 14
        }
      ]
    },
    {
      "cell_type": "code",
      "metadata": {
        "id": "fvzXXMuv4WxL",
        "colab_type": "code",
        "colab": {
          "base_uri": "https://localhost:8080/",
          "height": 121
        },
        "outputId": "4a5f57eb-0e03-46f4-dd67-0a357633241c"
      },
      "source": [
        "#Training the model with the best parameters\n",
        "bestclf = SVC(decision_function_shape= 'ovo', kernel= 'rbf')\n",
        "bestclf.fit(X_train, y_train)\n",
        "tr_p = bestclf.predict(X_train)\n",
        "print(accuracy_score(y_train, tr_p))\n",
        "confusion_matrix(y_train, tr_p)"
      ],
      "execution_count": null,
      "outputs": [
        {
          "output_type": "stream",
          "text": [
            "0.9987407407407407\n"
          ],
          "name": "stdout"
        },
        {
          "output_type": "execute_result",
          "data": {
            "text/plain": [
              "array([[2784,    0,    0,    0,    0],\n",
              "       [   8, 2569,    2,    3,    0],\n",
              "       [   1,    0, 2647,    0,    1],\n",
              "       [   0,    0,    0, 2476,    0],\n",
              "       [   0,    1,    0,    1, 3007]])"
            ]
          },
          "metadata": {
            "tags": []
          },
          "execution_count": 15
        }
      ]
    },
    {
      "cell_type": "code",
      "metadata": {
        "id": "oi2Jdr4K4aFi",
        "colab_type": "code",
        "colab": {
          "base_uri": "https://localhost:8080/",
          "height": 121
        },
        "outputId": "78ebc1c8-2ac9-4623-ebb3-b15d28b129af"
      },
      "source": [
        "#Running the model on the test set\n",
        "predictions = bestclf.predict(X_test)\n",
        "print(accuracy_score(y_test, predictions))\n",
        "confusion_matrix(y_test, predictions)"
      ],
      "execution_count": null,
      "outputs": [
        {
          "output_type": "stream",
          "text": [
            "0.9434096402673112\n"
          ],
          "name": "stdout"
        },
        {
          "output_type": "execute_result",
          "data": {
            "text/plain": [
              "array([[4338,   48,    9,    2,   69],\n",
              "       [  37, 4129,   54,    0,  182],\n",
              "       [  63,    0, 4215,  266,  235],\n",
              "       [   0,    0,   56, 3858,    0],\n",
              "       [   0,   25,    8,  140, 3365]])"
            ]
          },
          "metadata": {
            "tags": []
          },
          "execution_count": 16
        }
      ]
    },
    {
      "cell_type": "markdown",
      "metadata": {
        "id": "kHsd3adjshOS",
        "colab_type": "text"
      },
      "source": [
        "Implelemting the SVM classifier on the normalized expanded dataset "
      ]
    },
    {
      "cell_type": "code",
      "metadata": {
        "id": "zPmPML4iDa2y",
        "colab_type": "code",
        "colab": {}
      },
      "source": [
        "import pandas as pd\n",
        "import numpy as np\n",
        "from sklearn.feature_selection import RFE, RFECV\n",
        "from sklearn.linear_model import SGDClassifier\n",
        "import matplotlib.pyplot as plt\n",
        "from sklearn.model_selection import GridSearchCV, KFold, train_test_split"
      ],
      "execution_count": null,
      "outputs": []
    },
    {
      "cell_type": "code",
      "metadata": {
        "id": "qpCmE55hGGAu",
        "colab_type": "code",
        "colab": {}
      },
      "source": [
        "#Loading the expanded dataset\n",
        "train = pd.read_csv('/content/drive/My Drive/Colab Notebooks/mpr/linearTrainexpanded.csv')\n",
        "test = pd.read_csv('/content/drive/My Drive/Colab Notebooks/mpr/linearTestexpanded.csv')"
      ],
      "execution_count": null,
      "outputs": []
    },
    {
      "cell_type": "code",
      "metadata": {
        "id": "XeaXiwnzGHv5",
        "colab_type": "code",
        "colab": {}
      },
      "source": [
        "X_train = train.iloc[:, 1:60]\n",
        "y_train = train.iloc[:,60]\n",
        "X_test = test.iloc[:, 1:60]\n",
        "y_test = test.iloc[:, 60]"
      ],
      "execution_count": null,
      "outputs": []
    },
    {
      "cell_type": "code",
      "metadata": {
        "id": "G1Gut2Z9GUey",
        "colab_type": "code",
        "colab": {}
      },
      "source": [
        "#Normalizing the data\n",
        "from sklearn import preprocessing\n",
        "scalar = preprocessing.StandardScaler()\n",
        "scalar.fit(X_train)\n",
        "X_train = scalar.transform(X_train)\n",
        "X_test = scalar.transform(X_test)\n",
        "X_train = pd.DataFrame(X_train)\n",
        "X_test = pd.DataFrame(X_test)"
      ],
      "execution_count": null,
      "outputs": []
    },
    {
      "cell_type": "code",
      "metadata": {
        "id": "G7BW2pSTGWQP",
        "colab_type": "code",
        "colab": {
          "base_uri": "https://localhost:8080/",
          "height": 242
        },
        "outputId": "4ea9bf9b-8641-442b-8f7c-fee856d6de29"
      },
      "source": [
        "kf = KFold(n_splits=9, random_state=None, shuffle=False)\n",
        "params = {'kernel': ['linear', 'poly', 'rbf', 'sigmoid'], 'decision_function_shape':['ovo', 'ovr']}\n",
        "clf = SVC()\n",
        "gs = GridSearchCV(clf, cv=kf, param_grid=params, return_train_score=True)\n",
        "\n",
        "gs.fit(X_train, y_train)"
      ],
      "execution_count": null,
      "outputs": [
        {
          "output_type": "execute_result",
          "data": {
            "text/plain": [
              "GridSearchCV(cv=KFold(n_splits=9, random_state=None, shuffle=False),\n",
              "             error_score=nan,\n",
              "             estimator=SVC(C=1.0, break_ties=False, cache_size=200,\n",
              "                           class_weight=None, coef0=0.0,\n",
              "                           decision_function_shape='ovr', degree=3,\n",
              "                           gamma='scale', kernel='rbf', max_iter=-1,\n",
              "                           probability=False, random_state=None, shrinking=True,\n",
              "                           tol=0.001, verbose=False),\n",
              "             iid='deprecated', n_jobs=None,\n",
              "             param_grid={'decision_function_shape': ['ovo', 'ovr'],\n",
              "                         'kernel': ['linear', 'poly', 'rbf', 'sigmoid']},\n",
              "             pre_dispatch='2*n_jobs', refit=True, return_train_score=True,\n",
              "             scoring=None, verbose=0)"
            ]
          },
          "metadata": {
            "tags": []
          },
          "execution_count": 21
        }
      ]
    },
    {
      "cell_type": "code",
      "metadata": {
        "id": "s7woTunLGeBo",
        "colab_type": "code",
        "colab": {
          "base_uri": "https://localhost:8080/",
          "height": 1000
        },
        "outputId": "def7761a-4d90-4af2-b13d-2945767c6987"
      },
      "source": [
        "#Visualizing the results of grid search\n",
        "gs.cv_results_"
      ],
      "execution_count": null,
      "outputs": [
        {
          "output_type": "execute_result",
          "data": {
            "text/plain": [
              "{'mean_fit_time': array([1.1539509 , 2.66585591, 2.6411287 , 3.02902966, 1.1366854 ,\n",
              "        2.65769148, 2.6411265 , 3.02940109]),\n",
              " 'mean_score_time': array([0.05387312, 0.31043707, 0.38738865, 0.53361943, 0.05340711,\n",
              "        0.31146134, 0.38644756, 0.53394341]),\n",
              " 'mean_test_score': array([0.86288889, 0.86696296, 0.88874074, 0.70814815, 0.86288889,\n",
              "        0.86696296, 0.88874074, 0.70814815]),\n",
              " 'mean_train_score': array([0.998     , 0.99808333, 0.99812037, 0.85249074, 0.998     ,\n",
              "        0.99808333, 0.99812037, 0.85249074]),\n",
              " 'param_decision_function_shape': masked_array(data=['ovo', 'ovo', 'ovo', 'ovo', 'ovr', 'ovr', 'ovr', 'ovr'],\n",
              "              mask=[False, False, False, False, False, False, False, False],\n",
              "        fill_value='?',\n",
              "             dtype=object),\n",
              " 'param_kernel': masked_array(data=['linear', 'poly', 'rbf', 'sigmoid', 'linear', 'poly',\n",
              "                    'rbf', 'sigmoid'],\n",
              "              mask=[False, False, False, False, False, False, False, False],\n",
              "        fill_value='?',\n",
              "             dtype=object),\n",
              " 'params': [{'decision_function_shape': 'ovo', 'kernel': 'linear'},\n",
              "  {'decision_function_shape': 'ovo', 'kernel': 'poly'},\n",
              "  {'decision_function_shape': 'ovo', 'kernel': 'rbf'},\n",
              "  {'decision_function_shape': 'ovo', 'kernel': 'sigmoid'},\n",
              "  {'decision_function_shape': 'ovr', 'kernel': 'linear'},\n",
              "  {'decision_function_shape': 'ovr', 'kernel': 'poly'},\n",
              "  {'decision_function_shape': 'ovr', 'kernel': 'rbf'},\n",
              "  {'decision_function_shape': 'ovr', 'kernel': 'sigmoid'}],\n",
              " 'rank_test_score': array([5, 3, 1, 7, 5, 3, 1, 7], dtype=int32),\n",
              " 'split0_test_score': array([0.75733333, 0.74      , 0.768     , 0.668     , 0.75733333,\n",
              "        0.74      , 0.768     , 0.668     ]),\n",
              " 'split0_train_score': array([0.99833333, 0.99875   , 0.9985    , 0.84766667, 0.99833333,\n",
              "        0.99875   , 0.9985    , 0.84766667]),\n",
              " 'split1_test_score': array([0.82      , 0.878     , 0.90466667, 0.68      , 0.82      ,\n",
              "        0.878     , 0.90466667, 0.68      ]),\n",
              " 'split1_train_score': array([0.99791667, 0.998     , 0.99808333, 0.86741667, 0.99791667,\n",
              "        0.998     , 0.99808333, 0.86741667]),\n",
              " 'split2_test_score': array([0.89466667, 0.87133333, 0.85266667, 0.748     , 0.89466667,\n",
              "        0.87133333, 0.85266667, 0.748     ]),\n",
              " 'split2_train_score': array([0.99741667, 0.99791667, 0.99783333, 0.87816667, 0.99741667,\n",
              "        0.99791667, 0.99783333, 0.87816667]),\n",
              " 'split3_test_score': array([0.80866667, 0.802     , 0.83666667, 0.498     , 0.80866667,\n",
              "        0.802     , 0.83666667, 0.498     ]),\n",
              " 'split3_train_score': array([0.99758333, 0.99766667, 0.99766667, 0.84725   , 0.99758333,\n",
              "        0.99766667, 0.99766667, 0.84725   ]),\n",
              " 'split4_test_score': array([0.93866667, 0.95533333, 0.96266667, 0.82533333, 0.93866667,\n",
              "        0.95533333, 0.96266667, 0.82533333]),\n",
              " 'split4_train_score': array([0.9975    , 0.99766667, 0.99766667, 0.84433333, 0.9975    ,\n",
              "        0.99766667, 0.99766667, 0.84433333]),\n",
              " 'split5_test_score': array([0.91266667, 0.868     , 0.86733333, 0.814     , 0.91266667,\n",
              "        0.868     , 0.86733333, 0.814     ]),\n",
              " 'split5_train_score': array([0.99783333, 0.99775   , 0.99816667, 0.82525   , 0.99783333,\n",
              "        0.99775   , 0.99816667, 0.82525   ]),\n",
              " 'split6_test_score': array([0.95133333, 0.972     , 0.97466667, 0.708     , 0.95133333,\n",
              "        0.972     , 0.97466667, 0.708     ]),\n",
              " 'split6_train_score': array([0.9975    , 0.99775   , 0.99758333, 0.8715    , 0.9975    ,\n",
              "        0.99775   , 0.99758333, 0.8715    ]),\n",
              " 'split7_test_score': array([0.84066667, 0.908     , 0.90866667, 0.666     , 0.84066667,\n",
              "        0.908     , 0.90866667, 0.666     ]),\n",
              " 'split7_train_score': array([0.99866667, 0.99833333, 0.9985    , 0.851     , 0.99866667,\n",
              "        0.99833333, 0.9985    , 0.851     ]),\n",
              " 'split8_test_score': array([0.842     , 0.808     , 0.92333333, 0.766     , 0.842     ,\n",
              "        0.808     , 0.92333333, 0.766     ]),\n",
              " 'split8_train_score': array([0.99925   , 0.99891667, 0.99908333, 0.83983333, 0.99925   ,\n",
              "        0.99891667, 0.99908333, 0.83983333]),\n",
              " 'std_fit_time': array([0.1266041 , 0.05960859, 0.05893807, 0.17204329, 0.119762  ,\n",
              "        0.05695119, 0.05398061, 0.16923302]),\n",
              " 'std_score_time': array([0.00609747, 0.00687338, 0.00971841, 0.03991501, 0.00587702,\n",
              "        0.00703014, 0.01007438, 0.03733145]),\n",
              " 'std_test_score': array([0.0613768 , 0.07030453, 0.06123296, 0.0932231 , 0.0613768 ,\n",
              "        0.07030453, 0.06123296, 0.0932231 ]),\n",
              " 'std_train_score': array([0.00059317, 0.0004479 , 0.00047159, 0.01586456, 0.00059317,\n",
              "        0.0004479 , 0.00047159, 0.01586456])}"
            ]
          },
          "metadata": {
            "tags": []
          },
          "execution_count": 22
        }
      ]
    },
    {
      "cell_type": "code",
      "metadata": {
        "id": "eI4jCJdyGnFP",
        "colab_type": "code",
        "colab": {
          "base_uri": "https://localhost:8080/",
          "height": 86
        },
        "outputId": "866d3eb9-7618-4208-cc34-09de370e8c5c"
      },
      "source": [
        "#Best estimator\n",
        "gs.best_estimator_"
      ],
      "execution_count": null,
      "outputs": [
        {
          "output_type": "execute_result",
          "data": {
            "text/plain": [
              "SVC(C=1.0, break_ties=False, cache_size=200, class_weight=None, coef0=0.0,\n",
              "    decision_function_shape='ovo', degree=3, gamma='scale', kernel='rbf',\n",
              "    max_iter=-1, probability=False, random_state=None, shrinking=True,\n",
              "    tol=0.001, verbose=False)"
            ]
          },
          "metadata": {
            "tags": []
          },
          "execution_count": 24
        }
      ]
    },
    {
      "cell_type": "code",
      "metadata": {
        "id": "Q0Na0QucGgHn",
        "colab_type": "code",
        "colab": {
          "base_uri": "https://localhost:8080/",
          "height": 34
        },
        "outputId": "a69a51d8-e2f8-48e9-9a1c-62244f5fd5ad"
      },
      "source": [
        "#Best parameters\n",
        "gs.best_params_"
      ],
      "execution_count": null,
      "outputs": [
        {
          "output_type": "execute_result",
          "data": {
            "text/plain": [
              "{'decision_function_shape': 'ovo', 'kernel': 'rbf'}"
            ]
          },
          "metadata": {
            "tags": []
          },
          "execution_count": 25
        }
      ]
    },
    {
      "cell_type": "code",
      "metadata": {
        "id": "Ea9JBejvGicO",
        "colab_type": "code",
        "colab": {
          "base_uri": "https://localhost:8080/",
          "height": 34
        },
        "outputId": "25253352-fbfb-4a37-ebc9-dba13b6a551d"
      },
      "source": [
        "#Best score\n",
        "gs.best_score_"
      ],
      "execution_count": null,
      "outputs": [
        {
          "output_type": "execute_result",
          "data": {
            "text/plain": [
              "0.8887407407407407"
            ]
          },
          "metadata": {
            "tags": []
          },
          "execution_count": 26
        }
      ]
    },
    {
      "cell_type": "code",
      "metadata": {
        "id": "QWqk7so8GkGX",
        "colab_type": "code",
        "colab": {
          "base_uri": "https://localhost:8080/",
          "height": 121
        },
        "outputId": "5e014c71-13b5-4c0c-d961-952b474f1488"
      },
      "source": [
        "#Training the model with the best parameters\n",
        "bestclf = SVC(decision_function_shape= 'ovo', kernel= 'rbf')\n",
        "bestclf.fit(X_train, y_train)\n",
        "tr_p = bestclf.predict(X_train)\n",
        "print(accuracy_score(y_train, tr_p))\n",
        "confusion_matrix(y_train, tr_p)"
      ],
      "execution_count": null,
      "outputs": [
        {
          "output_type": "stream",
          "text": [
            "0.9980740740740741\n"
          ],
          "name": "stdout"
        },
        {
          "output_type": "execute_result",
          "data": {
            "text/plain": [
              "array([[2784,    0,    0,    0,    0],\n",
              "       [   8, 2567,    4,    2,    1],\n",
              "       [   1,    0, 2643,    0,    5],\n",
              "       [   0,    0,    4, 2472,    0],\n",
              "       [   0,    0,    0,    1, 3008]])"
            ]
          },
          "metadata": {
            "tags": []
          },
          "execution_count": 27
        }
      ]
    },
    {
      "cell_type": "code",
      "metadata": {
        "id": "KrlHW2YmGtA6",
        "colab_type": "code",
        "colab": {
          "base_uri": "https://localhost:8080/",
          "height": 121
        },
        "outputId": "431c2296-3bb6-4db6-f524-888960f103d0"
      },
      "source": [
        "#Running the model on the test set\n",
        "predictions = bestclf.predict(X_test)\n",
        "print(accuracy_score(y_test, predictions))\n",
        "confusion_matrix(y_test, predictions)"
      ],
      "execution_count": null,
      "outputs": [
        {
          "output_type": "stream",
          "text": [
            "0.9062040855016825\n"
          ],
          "name": "stdout"
        },
        {
          "output_type": "execute_result",
          "data": {
            "text/plain": [
              "array([[4361,   48,   10,    0,   47],\n",
              "       [  84, 4188,   82,    0,   48],\n",
              "       [ 348,    0, 3749,   99,  583],\n",
              "       [   0,    0,    1, 3401,  512],\n",
              "       [   2,   36,    7,   72, 3421]])"
            ]
          },
          "metadata": {
            "tags": []
          },
          "execution_count": 28
        }
      ]
    }
  ]
}