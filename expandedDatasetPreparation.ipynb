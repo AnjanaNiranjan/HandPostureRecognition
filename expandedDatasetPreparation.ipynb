{
 "cells": [
  {
   "cell_type": "code",
   "execution_count": 1,
   "metadata": {
    "colab": {},
    "colab_type": "code",
    "executionInfo": {
     "elapsed": 546,
     "status": "ok",
     "timestamp": 1599922403602,
     "user": {
      "displayName": "Anjana Niranjan",
      "photoUrl": "https://lh3.googleusercontent.com/a-/AOh14Gi-DUuXNslKe9_IpDzKJKy7kFDXdw2iBILnh75qfNo=s64",
      "userId": "03367688363527101143"
     },
     "user_tz": 420
    },
    "id": "2kUH_pVcv06B"
   },
   "outputs": [],
   "source": [
    "'''This notebook is a follow on to the linearDatasetPreparation notebook to define additional features on the dataset'''\n",
    "\n",
    "__author__ = 'Anjana Niranjan'\n",
    "__email__ = 'anjanani@usc.edu'"
   ]
  },
  {
   "cell_type": "markdown",
   "metadata": {
    "colab_type": "text",
    "id": "lxf3PLVedmwH"
   },
   "source": [
    "Imports and raw data loading"
   ]
  },
  {
   "cell_type": "code",
   "execution_count": 2,
   "metadata": {
    "colab": {},
    "colab_type": "code",
    "executionInfo": {
     "elapsed": 1025,
     "status": "ok",
     "timestamp": 1599922404094,
     "user": {
      "displayName": "Anjana Niranjan",
      "photoUrl": "https://lh3.googleusercontent.com/a-/AOh14Gi-DUuXNslKe9_IpDzKJKy7kFDXdw2iBILnh75qfNo=s64",
      "userId": "03367688363527101143"
     },
     "user_tz": 420
    },
    "id": "gYWZqllpdM5d"
   },
   "outputs": [],
   "source": [
    "import pandas as pd\n",
    "import numpy as np\n",
    "from scipy import stats\n",
    "from scipy.stats import entropy"
   ]
  },
  {
   "cell_type": "code",
   "execution_count": 3,
   "metadata": {
    "colab": {},
    "colab_type": "code",
    "executionInfo": {
     "elapsed": 3247,
     "status": "ok",
     "timestamp": 1599922406323,
     "user": {
      "displayName": "Anjana Niranjan",
      "photoUrl": "https://lh3.googleusercontent.com/a-/AOh14Gi-DUuXNslKe9_IpDzKJKy7kFDXdw2iBILnh75qfNo=s64",
      "userId": "03367688363527101143"
     },
     "user_tz": 420
    },
    "id": "SVLC9yw2sM7t"
   },
   "outputs": [],
   "source": [
    "raw_train = pd.read_csv('/content/drive/My Drive/Colab Notebooks/mpr/D_train.csv')\n",
    "raw_test = pd.read_csv('/content/drive/My Drive/Colab Notebooks/mpr/D_test.csv')"
   ]
  },
  {
   "cell_type": "markdown",
   "metadata": {
    "colab_type": "text",
    "id": "0NTWqwV6xVxv"
   },
   "source": [
    "The following features have been defined on each of x, y, and z axes:\n",
    "1.   Mean\n",
    "2.   Standard deviation\n",
    "3.   Number of non 0 values\n",
    "4.   Number of missing values\n",
    "5.   z-score\n",
    "6.   Median\n",
    "7.   Number of missing values in x-axis\n",
    "8.   Number of missing values in y-axis\n",
    "9.   Number of missing values in z-axis\n",
    "10.  Entropy \n",
    "11.  Cross entropy\n",
    "12.  Variance\n",
    "\n",
    "to get a total of 59 features."
   ]
  },
  {
   "cell_type": "code",
   "execution_count": 4,
   "metadata": {
    "colab": {},
    "colab_type": "code",
    "executionInfo": {
     "elapsed": 3247,
     "status": "ok",
     "timestamp": 1599922406329,
     "user": {
      "displayName": "Anjana Niranjan",
      "photoUrl": "https://lh3.googleusercontent.com/a-/AOh14Gi-DUuXNslKe9_IpDzKJKy7kFDXdw2iBILnh75qfNo=s64",
      "userId": "03367688363527101143"
     },
     "user_tz": 420
    },
    "id": "9RC43a09U0XN"
   },
   "outputs": [],
   "source": [
    "#Separating the X, Y and Z axis data\n",
    "datax = raw_train[['X0', 'X1', 'X2', 'X3', 'X4', 'X5', 'X6', 'X7', 'X8', 'X9', 'X10', 'X11']]\n",
    "datay = raw_train[['Y0', 'Y1', 'Y2', 'Y3', 'Y4', 'Y5', 'Y6', 'Y7', 'Y8', 'Y9', 'Y10', 'Y11']]\n",
    "dataz = raw_train[['Z0', 'Z1', 'Z2', 'Z3', 'Z4', 'Z5', 'Z6', 'Z7', 'Z8', 'Z9', 'Z10', 'Z11']]\n",
    "Class = raw_train['Class']\n",
    "\n",
    "datax = np.array(datax)\n",
    "datay = np.array(datay)\n",
    "dataz = np.array(dataz)\n",
    "Class = np.array(Class)"
   ]
  },
  {
   "cell_type": "code",
   "execution_count": 5,
   "metadata": {
    "colab": {},
    "colab_type": "code",
    "executionInfo": {
     "elapsed": 3244,
     "status": "ok",
     "timestamp": 1599922406331,
     "user": {
      "displayName": "Anjana Niranjan",
      "photoUrl": "https://lh3.googleusercontent.com/a-/AOh14Gi-DUuXNslKe9_IpDzKJKy7kFDXdw2iBILnh75qfNo=s64",
      "userId": "03367688363527101143"
     },
     "user_tz": 420
    },
    "id": "9jSPnuxTVAi8"
   },
   "outputs": [],
   "source": [
    "#Replacing the cells with no entries with 0\n",
    "datax = np.nan_to_num(datax)\n",
    "datay = np.nan_to_num(datay)\n",
    "dataz = np.nan_to_num(dataz)"
   ]
  },
  {
   "cell_type": "code",
   "execution_count": 6,
   "metadata": {
    "colab": {},
    "colab_type": "code",
    "executionInfo": {
     "elapsed": 12326,
     "status": "ok",
     "timestamp": 1599922415421,
     "user": {
      "displayName": "Anjana Niranjan",
      "photoUrl": "https://lh3.googleusercontent.com/a-/AOh14Gi-DUuXNslKe9_IpDzKJKy7kFDXdw2iBILnh75qfNo=s64",
      "userId": "03367688363527101143"
     },
     "user_tz": 420
    },
    "id": "BK-DdghAVEnp"
   },
   "outputs": [],
   "source": [
    "x_mean = []\n",
    "y_mean = []\n",
    "z_mean = []\n",
    "x_std = []\n",
    "y_std = []\n",
    "z_std = []\n",
    "number = []\n",
    "missing = []\n",
    "z_score_x = []\n",
    "z_score_y = []\n",
    "z_score_z = []\n",
    "x_median = []\n",
    "y_median = []\n",
    "z_median = []\n",
    "missing_x = []\n",
    "missing_y = []\n",
    "missing_z = []\n",
    "entropy_x = []\n",
    "entropy_y = []\n",
    "entropy_z = []\n",
    "entropy_xy = []\n",
    "entropy_yz = []\n",
    "entropy_xz = []\n",
    "x_var = []\n",
    "y_var = []\n",
    "z_var = []\n",
    "\n",
    "# Defining the features\n",
    "for i in range (13500):\n",
    "  x_mean.append(np.mean(datax[i]))\n",
    "  y_mean.append(np.mean(datay[i]))\n",
    "  z_mean.append(np.mean(dataz[i]))\n",
    "  x_std.append(np.std(datax[i]))\n",
    "  y_std.append(np.std(datay[i]))\n",
    "  z_std.append(np.std(dataz[i]))\n",
    "  number.append(np.count_nonzero([datax[i], datay[i], dataz[i]]))\n",
    "  missing.append(36 - np.count_nonzero([datax[i], datay[i], dataz[i]]))\n",
    "  z_score_x.append(stats.zscore(datax[i]))\n",
    "  z_score_y.append(stats.zscore(datay[i]))\n",
    "  z_score_z.append(stats.zscore(dataz[i]))\n",
    "  x_median.append(np.median(datax[i]))\n",
    "  y_median.append(np.median(datay[i]))\n",
    "  z_median.append(np.median(dataz[i]))\n",
    "  missing_x.append(12 - np.count_nonzero(datax[i]))\n",
    "  missing_y.append(12 - np.count_nonzero(datay[i]))\n",
    "  missing_z.append(12 - np.count_nonzero(dataz[i]))\n",
    "  entropy_x.append(entropy(datax[i]))\n",
    "  entropy_y.append(entropy(datay[i]))\n",
    "  entropy_z.append(entropy(dataz[i]))\n",
    "  entropy_xy.append(entropy(datax[i], datay[i]))\n",
    "  entropy_yz.append(entropy(datay[i], dataz[i]))\n",
    "  entropy_xz.append(entropy(datax[i], dataz[i]))\n",
    "  x_var.append(np.var(datax[i]))\n",
    "  y_var.append(np.var(datay[i]))\n",
    "  z_var.append(np.var(dataz[i]))\n",
    "x_mean = np.reshape(np.array(x_mean),(13500,1)) \n",
    "y_mean = np.reshape(np.array(y_mean),(13500,1)) \n",
    "z_mean = np.reshape(np.array(z_mean),(13500,1)) \n",
    "x_std = np.reshape(np.array(x_std),(13500,1)) \n",
    "y_std = np.reshape(np.array(y_std),(13500,1)) \n",
    "z_std = np.reshape(np.array(z_std),(13500,1)) \n",
    "number = np.reshape(np.array(number),(13500,1)) \n",
    "missing = np.reshape(np.array(missing),(13500,1))\n",
    "z_score_x = np.array(z_score_x)\n",
    "z_score_y = np.array(z_score_y)\n",
    "z_score_z = np.array(z_score_z)\n",
    "x_median = np.reshape(np.array(x_median),(13500,1))\n",
    "y_median = np.reshape(np.array(y_median),(13500,1))\n",
    "z_median = np.reshape(np.array(z_median),(13500,1))\n",
    "missing_x = np.reshape(np.array(missing_x),(13500,1))\n",
    "missing_y = np.reshape(np.array(missing_y),(13500,1))\n",
    "missing_z = np.reshape(np.array(missing_z),(13500,1))\n",
    "entropy_x = np.reshape(np.array(entropy_x),(13500,1))\n",
    "entropy_y = np.reshape(np.array(entropy_y),(13500,1))\n",
    "entropy_z = np.reshape(np.array(entropy_z),(13500,1))\n",
    "entropy_xy = np.reshape(np.array(entropy_xy),(13500,1))\n",
    "entropy_yz = np.reshape(np.array(entropy_yz),(13500,1))\n",
    "entropy_xz = np.reshape(np.array(entropy_xz),(13500,1))\n",
    "x_var = np.reshape(np.array(x_var),(13500,1))\n",
    "y_var = np.reshape(np.array(y_var),(13500,1))\n",
    "z_var = np.reshape(np.array(z_var),(13500,1))\n",
    "x_min = np.reshape((np.amin(datax, axis = 1)).T,(13500,1)) \n",
    "y_min = np.reshape((np.amin(datay, axis = 1)).T,(13500,1)) \n",
    "z_min = np.reshape((np.amin(dataz, axis = 1)).T,(13500,1)) \n",
    "x_max = np.reshape((np.amax(datax, axis = 1)).T,(13500,1)) \n",
    "y_max = np.reshape((np.amax(datay, axis = 1)).T,(13500,1)) \n",
    "z_max = np.reshape((np.amax(dataz, axis = 1)).T,(13500,1)) "
   ]
  },
  {
   "cell_type": "code",
   "execution_count": 7,
   "metadata": {
    "colab": {},
    "colab_type": "code",
    "executionInfo": {
     "elapsed": 12324,
     "status": "ok",
     "timestamp": 1599922415426,
     "user": {
      "displayName": "Anjana Niranjan",
      "photoUrl": "https://lh3.googleusercontent.com/a-/AOh14Gi-DUuXNslKe9_IpDzKJKy7kFDXdw2iBILnh75qfNo=s64",
      "userId": "03367688363527101143"
     },
     "user_tz": 420
    },
    "id": "JKcg9dKPai7S"
   },
   "outputs": [],
   "source": [
    "Class = np.reshape(np.array(Class),(13500,1))"
   ]
  },
  {
   "cell_type": "code",
   "execution_count": 8,
   "metadata": {
    "colab": {
     "base_uri": "https://localhost:8080/",
     "height": 34
    },
    "colab_type": "code",
    "executionInfo": {
     "elapsed": 12304,
     "status": "ok",
     "timestamp": 1599922415429,
     "user": {
      "displayName": "Anjana Niranjan",
      "photoUrl": "https://lh3.googleusercontent.com/a-/AOh14Gi-DUuXNslKe9_IpDzKJKy7kFDXdw2iBILnh75qfNo=s64",
      "userId": "03367688363527101143"
     },
     "user_tz": 420
    },
    "id": "QamqNSwbWqAA",
    "outputId": "6126523a-5fde-4a67-80e4-e1d2df64386e"
   },
   "outputs": [
    {
     "data": {
      "text/plain": [
       "(13500, 60)"
      ]
     },
     "execution_count": 8,
     "metadata": {
      "tags": []
     },
     "output_type": "execute_result"
    }
   ],
   "source": [
    "npdata = np.hstack([x_mean, y_mean, z_mean, x_std, y_std, z_std, x_max, y_max, z_max,x_min, y_min, z_min, number,missing,z_score_x,z_score_y,z_score_z,x_median,y_median,z_median,missing_x,missing_y,missing_z,x_var,y_var,z_var, Class ])\n",
    "npdata.shape"
   ]
  },
  {
   "cell_type": "code",
   "execution_count": 9,
   "metadata": {
    "colab": {},
    "colab_type": "code",
    "executionInfo": {
     "elapsed": 13392,
     "status": "ok",
     "timestamp": 1599922416522,
     "user": {
      "displayName": "Anjana Niranjan",
      "photoUrl": "https://lh3.googleusercontent.com/a-/AOh14Gi-DUuXNslKe9_IpDzKJKy7kFDXdw2iBILnh75qfNo=s64",
      "userId": "03367688363527101143"
     },
     "user_tz": 420
    },
    "id": "T1mMYgaGsYsE"
   },
   "outputs": [],
   "source": [
    "#Saving the features as a CSV file\n",
    "df = pd.DataFrame(npdata)\n",
    "df.to_csv('linearTrainexpanded.csv')"
   ]
  },
  {
   "cell_type": "markdown",
   "metadata": {
    "colab_type": "text",
    "id": "EwXzG1ZiYBfT"
   },
   "source": [
    "Repeating this for the test dataset"
   ]
  },
  {
   "cell_type": "code",
   "execution_count": 10,
   "metadata": {
    "colab": {},
    "colab_type": "code",
    "executionInfo": {
     "elapsed": 13394,
     "status": "ok",
     "timestamp": 1599922416529,
     "user": {
      "displayName": "Anjana Niranjan",
      "photoUrl": "https://lh3.googleusercontent.com/a-/AOh14Gi-DUuXNslKe9_IpDzKJKy7kFDXdw2iBILnh75qfNo=s64",
      "userId": "03367688363527101143"
     },
     "user_tz": 420
    },
    "id": "3I_jmpnkXfLa"
   },
   "outputs": [],
   "source": [
    "#Separating the X, Y and Z axis data\n",
    "datax = raw_test[['X0', 'X1', 'X2', 'X3', 'X4', 'X5', 'X6', 'X7', 'X8', 'X9', 'X10', 'X11']]\n",
    "datay = raw_test[['Y0', 'Y1', 'Y2', 'Y3', 'Y4', 'Y5', 'Y6', 'Y7', 'Y8', 'Y9', 'Y10', 'Y11']]\n",
    "dataz = raw_test[['Z0', 'Z1', 'Z2', 'Z3', 'Z4', 'Z5', 'Z6', 'Z7', 'Z8', 'Z9', 'Z10', 'Z11']]\n",
    "Class = raw_test['Class']\n",
    "\n",
    "datax = np.array(datax)\n",
    "datay = np.array(datay)\n",
    "dataz = np.array(dataz)\n",
    "Class = np.array(Class)"
   ]
  },
  {
   "cell_type": "code",
   "execution_count": 11,
   "metadata": {
    "colab": {},
    "colab_type": "code",
    "executionInfo": {
     "elapsed": 13392,
     "status": "ok",
     "timestamp": 1599922416531,
     "user": {
      "displayName": "Anjana Niranjan",
      "photoUrl": "https://lh3.googleusercontent.com/a-/AOh14Gi-DUuXNslKe9_IpDzKJKy7kFDXdw2iBILnh75qfNo=s64",
      "userId": "03367688363527101143"
     },
     "user_tz": 420
    },
    "id": "EmFTx8eubfSk"
   },
   "outputs": [],
   "source": [
    "#Replacing the cells with no entries with 0\n",
    "datax = np.nan_to_num(datax)\n",
    "datay = np.nan_to_num(datay)\n",
    "dataz = np.nan_to_num(dataz)"
   ]
  },
  {
   "cell_type": "code",
   "execution_count": 12,
   "metadata": {
    "colab": {},
    "colab_type": "code",
    "executionInfo": {
     "elapsed": 27763,
     "status": "ok",
     "timestamp": 1599922430905,
     "user": {
      "displayName": "Anjana Niranjan",
      "photoUrl": "https://lh3.googleusercontent.com/a-/AOh14Gi-DUuXNslKe9_IpDzKJKy7kFDXdw2iBILnh75qfNo=s64",
      "userId": "03367688363527101143"
     },
     "user_tz": 420
    },
    "id": "TwdxLBgvbjGO"
   },
   "outputs": [],
   "source": [
    "x_mean = []\n",
    "y_mean = []\n",
    "z_mean = []\n",
    "x_std = []\n",
    "y_std = []\n",
    "z_std = []\n",
    "number = []\n",
    "missing = []\n",
    "z_score_x = []\n",
    "z_score_y = []\n",
    "z_score_z = []\n",
    "x_median = []\n",
    "y_median = []\n",
    "z_median = []\n",
    "missing_x = []\n",
    "missing_y = []\n",
    "missing_z = []\n",
    "entropy_x = []\n",
    "entropy_y = []\n",
    "entropy_z = []\n",
    "entropy_xy = []\n",
    "entropy_yz = []\n",
    "entropy_xz = []\n",
    "x_var = []\n",
    "y_var = []\n",
    "z_var = []\n",
    "for i in range (len(datax)):\n",
    "  x_mean.append(np.mean(datax[i]))\n",
    "  y_mean.append(np.mean(datay[i]))\n",
    "  z_mean.append(np.mean(dataz[i]))\n",
    "  x_std.append(np.std(datax[i]))\n",
    "  y_std.append(np.std(datay[i]))\n",
    "  z_std.append(np.std(dataz[i]))\n",
    "  number.append(np.count_nonzero([datax[i], datay[i], dataz[i]]))\n",
    "  missing.append(36 - np.count_nonzero([datax[i], datay[i], dataz[i]]))\n",
    "  z_score_x.append(stats.zscore(datax[i]))\n",
    "  z_score_y.append(stats.zscore(datay[i]))\n",
    "  z_score_z.append(stats.zscore(dataz[i]))\n",
    "  x_median.append(np.median(datax[i]))\n",
    "  y_median.append(np.median(datay[i]))\n",
    "  z_median.append(np.median(dataz[i]))\n",
    "  missing_x.append(12 - np.count_nonzero(datax[i]))\n",
    "  missing_y.append(12 - np.count_nonzero(datay[i]))\n",
    "  missing_z.append(12 - np.count_nonzero(dataz[i]))\n",
    "  entropy_x.append(entropy(datax[i]))\n",
    "  entropy_y.append(entropy(datay[i]))\n",
    "  entropy_z.append(entropy(dataz[i]))\n",
    "  entropy_xy.append(entropy(datax[i], datay[i]))\n",
    "  entropy_yz.append(entropy(datay[i], dataz[i]))\n",
    "  entropy_xz.append(entropy(datax[i], dataz[i]))\n",
    "  x_var.append(np.var(datax[i]))\n",
    "  y_var.append(np.var(datay[i]))\n",
    "  z_var.append(np.var(dataz[i]))\n",
    "x_mean = np.reshape(np.array(x_mean),(len(datax),1)) \n",
    "y_mean = np.reshape(np.array(y_mean),(len(datax),1)) \n",
    "z_mean = np.reshape(np.array(z_mean),(len(datax),1)) \n",
    "x_std = np.reshape(np.array(x_std),(len(datax),1)) \n",
    "y_std = np.reshape(np.array(y_std),(len(datax),1)) \n",
    "z_std = np.reshape(np.array(z_std),(len(datax),1)) \n",
    "number = np.reshape(np.array(number),(len(datax),1)) \n",
    "missing = np.reshape(np.array(missing),(len(datax),1))\n",
    "z_score_x = np.array(z_score_x)\n",
    "z_score_y = np.array(z_score_y)\n",
    "z_score_z = np.array(z_score_z)\n",
    "x_median = np.reshape(np.array(x_median),(len(datax),1))\n",
    "y_median = np.reshape(np.array(y_median),(len(datax),1))\n",
    "z_median = np.reshape(np.array(z_median),(len(datax),1))\n",
    "missing_x = np.reshape(np.array(missing_x),(len(datax),1))\n",
    "missing_y = np.reshape(np.array(missing_y),(len(datax),1))\n",
    "missing_z = np.reshape(np.array(missing_z),(len(datax),1))\n",
    "entropy_x = np.reshape(np.array(entropy_x),(len(datax),1))\n",
    "entropy_y = np.reshape(np.array(entropy_y),(len(datax),1))\n",
    "entropy_z = np.reshape(np.array(entropy_z),(len(datax),1))\n",
    "entropy_xy = np.reshape(np.array(entropy_xy),(len(datax),1))\n",
    "entropy_yz = np.reshape(np.array(entropy_yz),(len(datax),1))\n",
    "entropy_xz = np.reshape(np.array(entropy_xz),(len(datax),1))\n",
    "x_var = np.reshape(np.array(x_var),(len(datax),1))\n",
    "y_var = np.reshape(np.array(y_var),(len(datax),1))\n",
    "z_var = np.reshape(np.array(z_var),(len(datax),1))\n",
    "x_min = np.reshape((np.amin(datax, axis = 1)).T,(len(datax),1)) \n",
    "y_min = np.reshape((np.amin(datay, axis = 1)).T,(len(datax),1)) \n",
    "z_min = np.reshape((np.amin(dataz, axis = 1)).T,(len(datax),1)) \n",
    "x_max = np.reshape((np.amax(datax, axis = 1)).T,(len(datax),1)) \n",
    "y_max = np.reshape((np.amax(datay, axis = 1)).T,(len(datax),1)) \n",
    "z_max = np.reshape((np.amax(dataz, axis = 1)).T,(len(datax),1)) "
   ]
  },
  {
   "cell_type": "code",
   "execution_count": 13,
   "metadata": {
    "colab": {},
    "colab_type": "code",
    "executionInfo": {
     "elapsed": 27765,
     "status": "ok",
     "timestamp": 1599922430911,
     "user": {
      "displayName": "Anjana Niranjan",
      "photoUrl": "https://lh3.googleusercontent.com/a-/AOh14Gi-DUuXNslKe9_IpDzKJKy7kFDXdw2iBILnh75qfNo=s64",
      "userId": "03367688363527101143"
     },
     "user_tz": 420
    },
    "id": "GLex8OHsu-F1"
   },
   "outputs": [],
   "source": [
    "Class = np.reshape(np.array(Class),(len(datax),1))"
   ]
  },
  {
   "cell_type": "code",
   "execution_count": 14,
   "metadata": {
    "colab": {
     "base_uri": "https://localhost:8080/",
     "height": 34
    },
    "colab_type": "code",
    "executionInfo": {
     "elapsed": 27754,
     "status": "ok",
     "timestamp": 1599922430913,
     "user": {
      "displayName": "Anjana Niranjan",
      "photoUrl": "https://lh3.googleusercontent.com/a-/AOh14Gi-DUuXNslKe9_IpDzKJKy7kFDXdw2iBILnh75qfNo=s64",
      "userId": "03367688363527101143"
     },
     "user_tz": 420
    },
    "id": "4_P3yNYAbqbz",
    "outputId": "98ca3bed-0be0-4056-a9d6-c971c4d7f7ff"
   },
   "outputs": [
    {
     "data": {
      "text/plain": [
       "(21099, 60)"
      ]
     },
     "execution_count": 14,
     "metadata": {
      "tags": []
     },
     "output_type": "execute_result"
    }
   ],
   "source": [
    "npdata = np.hstack([x_mean, y_mean, z_mean, x_std, y_std, z_std, x_max, y_max, z_max,x_min, y_min, z_min, number,missing,z_score_x,z_score_y,z_score_z,x_median,y_median,z_median,missing_x,missing_y,missing_z,x_var,y_var,z_var, Class ])\n",
    "npdata.shape"
   ]
  },
  {
   "cell_type": "code",
   "execution_count": 15,
   "metadata": {
    "colab": {},
    "colab_type": "code",
    "executionInfo": {
     "elapsed": 30143,
     "status": "ok",
     "timestamp": 1599922433306,
     "user": {
      "displayName": "Anjana Niranjan",
      "photoUrl": "https://lh3.googleusercontent.com/a-/AOh14Gi-DUuXNslKe9_IpDzKJKy7kFDXdw2iBILnh75qfNo=s64",
      "userId": "03367688363527101143"
     },
     "user_tz": 420
    },
    "id": "Ze-Douj7buFy"
   },
   "outputs": [],
   "source": [
    "#Saving the features as a CSV file\n",
    "df = pd.DataFrame(npdata)\n",
    "df.to_csv('linearTestexpanded.csv')"
   ]
  }
 ],
 "metadata": {
  "colab": {
   "authorship_tag": "ABX9TyPKr+0FUs27tvjOFVADCp0l",
   "collapsed_sections": [],
   "mount_file_id": "1ROyis3j9SaXeKt0vh0tJVFOo8hJRJtGi",
   "name": "expandedDatasetPreparation.ipynb",
   "provenance": []
  },
  "kernelspec": {
   "display_name": "Python 3",
   "language": "python",
   "name": "python3"
  },
  "language_info": {
   "codemirror_mode": {
    "name": "ipython",
    "version": 3
   },
   "file_extension": ".py",
   "mimetype": "text/x-python",
   "name": "python",
   "nbconvert_exporter": "python",
   "pygments_lexer": "ipython3",
   "version": "3.7.3"
  }
 },
 "nbformat": 4,
 "nbformat_minor": 1
}
