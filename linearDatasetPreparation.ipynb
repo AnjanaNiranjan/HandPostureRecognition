{
 "cells": [
  {
   "cell_type": "code",
   "execution_count": 1,
   "metadata": {
    "colab": {},
    "colab_type": "code",
    "executionInfo": {
     "elapsed": 1151,
     "status": "ok",
     "timestamp": 1599919589750,
     "user": {
      "displayName": "Anjana Niranjan",
      "photoUrl": "https://lh3.googleusercontent.com/a-/AOh14Gi-DUuXNslKe9_IpDzKJKy7kFDXdw2iBILnh75qfNo=s64",
      "userId": "03367688363527101143"
     },
     "user_tz": 420
    },
    "id": "BWjWZXfrYTEp"
   },
   "outputs": [],
   "source": [
    "'''This script load the hand postures data and defines various features on it\n",
    "to create a linear dataset containing 13 features'''\n",
    "\n",
    "__author__ = \"Anjana Niranjan\"\n",
    "__email__ = \"anjanani@usc.edu\""
   ]
  },
  {
   "cell_type": "markdown",
   "metadata": {
    "colab_type": "text",
    "id": "t90cWiCXZIfz"
   },
   "source": [
    "## Exploratory data analysis"
   ]
  },
  {
   "cell_type": "markdown",
   "metadata": {
    "colab_type": "text",
    "id": "lxf3PLVedmwH"
   },
   "source": [
    "Imports and raw data loading"
   ]
  },
  {
   "cell_type": "code",
   "execution_count": 2,
   "metadata": {
    "colab": {},
    "colab_type": "code",
    "executionInfo": {
     "elapsed": 1468,
     "status": "ok",
     "timestamp": 1599919590092,
     "user": {
      "displayName": "Anjana Niranjan",
      "photoUrl": "https://lh3.googleusercontent.com/a-/AOh14Gi-DUuXNslKe9_IpDzKJKy7kFDXdw2iBILnh75qfNo=s64",
      "userId": "03367688363527101143"
     },
     "user_tz": 420
    },
    "id": "gYWZqllpdM5d"
   },
   "outputs": [],
   "source": [
    "import pandas as pd\n",
    "import numpy as np"
   ]
  },
  {
   "cell_type": "code",
   "execution_count": 3,
   "metadata": {
    "colab": {},
    "colab_type": "code",
    "executionInfo": {
     "elapsed": 1648,
     "status": "ok",
     "timestamp": 1599919590292,
     "user": {
      "displayName": "Anjana Niranjan",
      "photoUrl": "https://lh3.googleusercontent.com/a-/AOh14Gi-DUuXNslKe9_IpDzKJKy7kFDXdw2iBILnh75qfNo=s64",
      "userId": "03367688363527101143"
     },
     "user_tz": 420
    },
    "id": "SVLC9yw2sM7t"
   },
   "outputs": [],
   "source": [
    "raw_train = pd.read_csv('/content/drive/My Drive/Colab Notebooks/mpr/D_train.csv')\n",
    "raw_test = pd.read_csv('/content/drive/My Drive/Colab Notebooks/mpr/D_test.csv')"
   ]
  },
  {
   "cell_type": "markdown",
   "metadata": {
    "colab_type": "text",
    "id": "Pn2S5hWqglQC"
   },
   "source": [
    "Checking the size and different columns in the train and test dfs to ensure they are the same"
   ]
  },
  {
   "cell_type": "code",
   "execution_count": 4,
   "metadata": {
    "colab": {
     "base_uri": "https://localhost:8080/",
     "height": 34
    },
    "colab_type": "code",
    "executionInfo": {
     "elapsed": 1635,
     "status": "ok",
     "timestamp": 1599919590295,
     "user": {
      "displayName": "Anjana Niranjan",
      "photoUrl": "https://lh3.googleusercontent.com/a-/AOh14Gi-DUuXNslKe9_IpDzKJKy7kFDXdw2iBILnh75qfNo=s64",
      "userId": "03367688363527101143"
     },
     "user_tz": 420
    },
    "id": "dLSImxPEaKXa",
    "outputId": "a29c784a-6104-4db5-c648-5d74c9d5a804"
   },
   "outputs": [
    {
     "data": {
      "text/plain": [
       "(13500, 39)"
      ]
     },
     "execution_count": 4,
     "metadata": {
      "tags": []
     },
     "output_type": "execute_result"
    }
   ],
   "source": [
    "raw_train.shape"
   ]
  },
  {
   "cell_type": "code",
   "execution_count": 5,
   "metadata": {
    "colab": {
     "base_uri": "https://localhost:8080/",
     "height": 34
    },
    "colab_type": "code",
    "executionInfo": {
     "elapsed": 1613,
     "status": "ok",
     "timestamp": 1599919590297,
     "user": {
      "displayName": "Anjana Niranjan",
      "photoUrl": "https://lh3.googleusercontent.com/a-/AOh14Gi-DUuXNslKe9_IpDzKJKy7kFDXdw2iBILnh75qfNo=s64",
      "userId": "03367688363527101143"
     },
     "user_tz": 420
    },
    "id": "9OWDeGMXaP6t",
    "outputId": "336adf60-82c7-448a-ab25-f48bcdfc57b4"
   },
   "outputs": [
    {
     "data": {
      "text/plain": [
       "(21099, 39)"
      ]
     },
     "execution_count": 5,
     "metadata": {
      "tags": []
     },
     "output_type": "execute_result"
    }
   ],
   "source": [
    "raw_test.shape"
   ]
  },
  {
   "cell_type": "code",
   "execution_count": 6,
   "metadata": {
    "colab": {
     "base_uri": "https://localhost:8080/",
     "height": 103
    },
    "colab_type": "code",
    "executionInfo": {
     "elapsed": 1594,
     "status": "ok",
     "timestamp": 1599919590299,
     "user": {
      "displayName": "Anjana Niranjan",
      "photoUrl": "https://lh3.googleusercontent.com/a-/AOh14Gi-DUuXNslKe9_IpDzKJKy7kFDXdw2iBILnh75qfNo=s64",
      "userId": "03367688363527101143"
     },
     "user_tz": 420
    },
    "id": "YyelWqPEaR4K",
    "outputId": "ee5e2b95-97b5-44d6-c4cc-839e8df79f18"
   },
   "outputs": [
    {
     "data": {
      "text/plain": [
       "Index(['unnamed', 'Class', 'User', 'X0', 'Y0', 'Z0', 'X1', 'Y1', 'Z1', 'X2',\n",
       "       'Y2', 'Z2', 'X3', 'Y3', 'Z3', 'X4', 'Y4', 'Z4', 'X5', 'Y5', 'Z5', 'X6',\n",
       "       'Y6', 'Z6', 'X7', 'Y7', 'Z7', 'X8', 'Y8', 'Z8', 'X9', 'Y9', 'Z9', 'X10',\n",
       "       'Y10', 'Z10', 'X11', 'Y11', 'Z11'],\n",
       "      dtype='object')"
      ]
     },
     "execution_count": 6,
     "metadata": {
      "tags": []
     },
     "output_type": "execute_result"
    }
   ],
   "source": [
    "raw_train.columns"
   ]
  },
  {
   "cell_type": "code",
   "execution_count": 7,
   "metadata": {
    "colab": {
     "base_uri": "https://localhost:8080/",
     "height": 103
    },
    "colab_type": "code",
    "executionInfo": {
     "elapsed": 1573,
     "status": "ok",
     "timestamp": 1599919590302,
     "user": {
      "displayName": "Anjana Niranjan",
      "photoUrl": "https://lh3.googleusercontent.com/a-/AOh14Gi-DUuXNslKe9_IpDzKJKy7kFDXdw2iBILnh75qfNo=s64",
      "userId": "03367688363527101143"
     },
     "user_tz": 420
    },
    "id": "YJ4MzvSjafVx",
    "outputId": "3b562ee0-681b-4f06-cb3a-9dca98f04b86"
   },
   "outputs": [
    {
     "data": {
      "text/plain": [
       "Index(['Unnamed: 0', 'Class', 'User', 'X0', 'Y0', 'Z0', 'X1', 'Y1', 'Z1', 'X2',\n",
       "       'Y2', 'Z2', 'X3', 'Y3', 'Z3', 'X4', 'Y4', 'Z4', 'X5', 'Y5', 'Z5', 'X6',\n",
       "       'Y6', 'Z6', 'X7', 'Y7', 'Z7', 'X8', 'Y8', 'Z8', 'X9', 'Y9', 'Z9', 'X10',\n",
       "       'Y10', 'Z10', 'X11', 'Y11', 'Z11'],\n",
       "      dtype='object')"
      ]
     },
     "execution_count": 7,
     "metadata": {
      "tags": []
     },
     "output_type": "execute_result"
    }
   ],
   "source": [
    "raw_test.columns"
   ]
  },
  {
   "cell_type": "code",
   "execution_count": 8,
   "metadata": {
    "colab": {
     "base_uri": "https://localhost:8080/",
     "height": 222
    },
    "colab_type": "code",
    "executionInfo": {
     "elapsed": 1757,
     "status": "ok",
     "timestamp": 1599919590508,
     "user": {
      "displayName": "Anjana Niranjan",
      "photoUrl": "https://lh3.googleusercontent.com/a-/AOh14Gi-DUuXNslKe9_IpDzKJKy7kFDXdw2iBILnh75qfNo=s64",
      "userId": "03367688363527101143"
     },
     "user_tz": 420
    },
    "id": "zC5rS6JdZU8a",
    "outputId": "919800b9-fd24-408b-8517-2ff5cada9219"
   },
   "outputs": [
    {
     "data": {
      "text/html": [
       "<div>\n",
       "<style scoped>\n",
       "    .dataframe tbody tr th:only-of-type {\n",
       "        vertical-align: middle;\n",
       "    }\n",
       "\n",
       "    .dataframe tbody tr th {\n",
       "        vertical-align: top;\n",
       "    }\n",
       "\n",
       "    .dataframe thead th {\n",
       "        text-align: right;\n",
       "    }\n",
       "</style>\n",
       "<table border=\"1\" class=\"dataframe\">\n",
       "  <thead>\n",
       "    <tr style=\"text-align: right;\">\n",
       "      <th></th>\n",
       "      <th>unnamed</th>\n",
       "      <th>Class</th>\n",
       "      <th>User</th>\n",
       "      <th>X0</th>\n",
       "      <th>Y0</th>\n",
       "      <th>Z0</th>\n",
       "      <th>X1</th>\n",
       "      <th>Y1</th>\n",
       "      <th>Z1</th>\n",
       "      <th>X2</th>\n",
       "      <th>Y2</th>\n",
       "      <th>Z2</th>\n",
       "      <th>X3</th>\n",
       "      <th>Y3</th>\n",
       "      <th>Z3</th>\n",
       "      <th>X4</th>\n",
       "      <th>Y4</th>\n",
       "      <th>Z4</th>\n",
       "      <th>X5</th>\n",
       "      <th>Y5</th>\n",
       "      <th>Z5</th>\n",
       "      <th>X6</th>\n",
       "      <th>Y6</th>\n",
       "      <th>Z6</th>\n",
       "      <th>X7</th>\n",
       "      <th>Y7</th>\n",
       "      <th>Z7</th>\n",
       "      <th>X8</th>\n",
       "      <th>Y8</th>\n",
       "      <th>Z8</th>\n",
       "      <th>X9</th>\n",
       "      <th>Y9</th>\n",
       "      <th>Z9</th>\n",
       "      <th>X10</th>\n",
       "      <th>Y10</th>\n",
       "      <th>Z10</th>\n",
       "      <th>X11</th>\n",
       "      <th>Y11</th>\n",
       "      <th>Z11</th>\n",
       "    </tr>\n",
       "  </thead>\n",
       "  <tbody>\n",
       "    <tr>\n",
       "      <th>0</th>\n",
       "      <td>1817</td>\n",
       "      <td>1</td>\n",
       "      <td>0</td>\n",
       "      <td>74.783715</td>\n",
       "      <td>43.948122</td>\n",
       "      <td>-75.612291</td>\n",
       "      <td>54.233130</td>\n",
       "      <td>79.728232</td>\n",
       "      <td>-59.674210</td>\n",
       "      <td>35.026452</td>\n",
       "      <td>88.677279</td>\n",
       "      <td>-48.219135</td>\n",
       "      <td>89.998023</td>\n",
       "      <td>68.189210</td>\n",
       "      <td>-72.538297</td>\n",
       "      <td>59.018271</td>\n",
       "      <td>13.795406</td>\n",
       "      <td>-71.141173</td>\n",
       "      <td>NaN</td>\n",
       "      <td>NaN</td>\n",
       "      <td>NaN</td>\n",
       "      <td>NaN</td>\n",
       "      <td>NaN</td>\n",
       "      <td>NaN</td>\n",
       "      <td>NaN</td>\n",
       "      <td>NaN</td>\n",
       "      <td>NaN</td>\n",
       "      <td>NaN</td>\n",
       "      <td>NaN</td>\n",
       "      <td>NaN</td>\n",
       "      <td>NaN</td>\n",
       "      <td>NaN</td>\n",
       "      <td>NaN</td>\n",
       "      <td>NaN</td>\n",
       "      <td>NaN</td>\n",
       "      <td>NaN</td>\n",
       "      <td>NaN</td>\n",
       "      <td>NaN</td>\n",
       "      <td>NaN</td>\n",
       "    </tr>\n",
       "    <tr>\n",
       "      <th>1</th>\n",
       "      <td>6202</td>\n",
       "      <td>4</td>\n",
       "      <td>0</td>\n",
       "      <td>5.049161</td>\n",
       "      <td>64.413681</td>\n",
       "      <td>-63.369229</td>\n",
       "      <td>22.518635</td>\n",
       "      <td>137.176253</td>\n",
       "      <td>-78.387148</td>\n",
       "      <td>26.928555</td>\n",
       "      <td>94.926616</td>\n",
       "      <td>-41.863022</td>\n",
       "      <td>-14.664051</td>\n",
       "      <td>56.003431</td>\n",
       "      <td>-60.829847</td>\n",
       "      <td>48.780467</td>\n",
       "      <td>94.404940</td>\n",
       "      <td>-44.797706</td>\n",
       "      <td>40.692861</td>\n",
       "      <td>134.954863</td>\n",
       "      <td>-60.810530</td>\n",
       "      <td>-8.294616</td>\n",
       "      <td>34.896237</td>\n",
       "      <td>-95.513683</td>\n",
       "      <td>NaN</td>\n",
       "      <td>NaN</td>\n",
       "      <td>NaN</td>\n",
       "      <td>NaN</td>\n",
       "      <td>NaN</td>\n",
       "      <td>NaN</td>\n",
       "      <td>NaN</td>\n",
       "      <td>NaN</td>\n",
       "      <td>NaN</td>\n",
       "      <td>NaN</td>\n",
       "      <td>NaN</td>\n",
       "      <td>NaN</td>\n",
       "      <td>NaN</td>\n",
       "      <td>NaN</td>\n",
       "      <td>NaN</td>\n",
       "    </tr>\n",
       "    <tr>\n",
       "      <th>2</th>\n",
       "      <td>7803</td>\n",
       "      <td>5</td>\n",
       "      <td>0</td>\n",
       "      <td>60.172219</td>\n",
       "      <td>82.358864</td>\n",
       "      <td>-96.097451</td>\n",
       "      <td>56.613521</td>\n",
       "      <td>57.348307</td>\n",
       "      <td>-90.716512</td>\n",
       "      <td>13.032163</td>\n",
       "      <td>132.025198</td>\n",
       "      <td>-39.751752</td>\n",
       "      <td>77.104094</td>\n",
       "      <td>130.657527</td>\n",
       "      <td>-51.988895</td>\n",
       "      <td>-14.200669</td>\n",
       "      <td>127.800033</td>\n",
       "      <td>-31.231266</td>\n",
       "      <td>-10.859879</td>\n",
       "      <td>98.721641</td>\n",
       "      <td>-0.535798</td>\n",
       "      <td>47.801279</td>\n",
       "      <td>27.214493</td>\n",
       "      <td>-78.094386</td>\n",
       "      <td>22.326556</td>\n",
       "      <td>105.226483</td>\n",
       "      <td>7.820264</td>\n",
       "      <td>62.613217</td>\n",
       "      <td>100.230777</td>\n",
       "      <td>-1.870277</td>\n",
       "      <td>79.044872</td>\n",
       "      <td>90.993863</td>\n",
       "      <td>-27.306292</td>\n",
       "      <td>NaN</td>\n",
       "      <td>NaN</td>\n",
       "      <td>NaN</td>\n",
       "      <td>NaN</td>\n",
       "      <td>NaN</td>\n",
       "      <td>NaN</td>\n",
       "    </tr>\n",
       "    <tr>\n",
       "      <th>3</th>\n",
       "      <td>4656</td>\n",
       "      <td>3</td>\n",
       "      <td>0</td>\n",
       "      <td>72.447893</td>\n",
       "      <td>49.526689</td>\n",
       "      <td>-71.785358</td>\n",
       "      <td>77.643397</td>\n",
       "      <td>75.411380</td>\n",
       "      <td>-71.277906</td>\n",
       "      <td>58.942761</td>\n",
       "      <td>15.504489</td>\n",
       "      <td>-70.529853</td>\n",
       "      <td>57.159819</td>\n",
       "      <td>92.078809</td>\n",
       "      <td>-33.916311</td>\n",
       "      <td>47.931381</td>\n",
       "      <td>135.408132</td>\n",
       "      <td>-43.260362</td>\n",
       "      <td>NaN</td>\n",
       "      <td>NaN</td>\n",
       "      <td>NaN</td>\n",
       "      <td>NaN</td>\n",
       "      <td>NaN</td>\n",
       "      <td>NaN</td>\n",
       "      <td>NaN</td>\n",
       "      <td>NaN</td>\n",
       "      <td>NaN</td>\n",
       "      <td>NaN</td>\n",
       "      <td>NaN</td>\n",
       "      <td>NaN</td>\n",
       "      <td>NaN</td>\n",
       "      <td>NaN</td>\n",
       "      <td>NaN</td>\n",
       "      <td>NaN</td>\n",
       "      <td>NaN</td>\n",
       "      <td>NaN</td>\n",
       "      <td>NaN</td>\n",
       "      <td>NaN</td>\n",
       "      <td>NaN</td>\n",
       "    </tr>\n",
       "    <tr>\n",
       "      <th>4</th>\n",
       "      <td>6714</td>\n",
       "      <td>4</td>\n",
       "      <td>0</td>\n",
       "      <td>15.820552</td>\n",
       "      <td>68.284762</td>\n",
       "      <td>-60.498150</td>\n",
       "      <td>-4.137009</td>\n",
       "      <td>56.901815</td>\n",
       "      <td>-62.685932</td>\n",
       "      <td>32.524498</td>\n",
       "      <td>94.686462</td>\n",
       "      <td>-36.976763</td>\n",
       "      <td>52.950146</td>\n",
       "      <td>97.233027</td>\n",
       "      <td>-32.015568</td>\n",
       "      <td>43.985720</td>\n",
       "      <td>137.188103</td>\n",
       "      <td>-50.901220</td>\n",
       "      <td>29.574363</td>\n",
       "      <td>140.253960</td>\n",
       "      <td>-69.913921</td>\n",
       "      <td>NaN</td>\n",
       "      <td>NaN</td>\n",
       "      <td>NaN</td>\n",
       "      <td>NaN</td>\n",
       "      <td>NaN</td>\n",
       "      <td>NaN</td>\n",
       "      <td>NaN</td>\n",
       "      <td>NaN</td>\n",
       "      <td>NaN</td>\n",
       "      <td>NaN</td>\n",
       "      <td>NaN</td>\n",
       "      <td>NaN</td>\n",
       "      <td>NaN</td>\n",
       "      <td>NaN</td>\n",
       "      <td>NaN</td>\n",
       "      <td>NaN</td>\n",
       "      <td>NaN</td>\n",
       "      <td>NaN</td>\n",
       "    </tr>\n",
       "  </tbody>\n",
       "</table>\n",
       "</div>"
      ],
      "text/plain": [
       "   unnamed  Class  User         X0         Y0  ...  Y10  Z10  X11  Y11  Z11\n",
       "0     1817      1     0  74.783715  43.948122  ...  NaN  NaN  NaN  NaN  NaN\n",
       "1     6202      4     0   5.049161  64.413681  ...  NaN  NaN  NaN  NaN  NaN\n",
       "2     7803      5     0  60.172219  82.358864  ...  NaN  NaN  NaN  NaN  NaN\n",
       "3     4656      3     0  72.447893  49.526689  ...  NaN  NaN  NaN  NaN  NaN\n",
       "4     6714      4     0  15.820552  68.284762  ...  NaN  NaN  NaN  NaN  NaN\n",
       "\n",
       "[5 rows x 39 columns]"
      ]
     },
     "execution_count": 8,
     "metadata": {
      "tags": []
     },
     "output_type": "execute_result"
    }
   ],
   "source": [
    "raw_train.head()"
   ]
  },
  {
   "cell_type": "code",
   "execution_count": 9,
   "metadata": {
    "colab": {
     "base_uri": "https://localhost:8080/",
     "height": 239
    },
    "colab_type": "code",
    "executionInfo": {
     "elapsed": 1719,
     "status": "ok",
     "timestamp": 1599919590514,
     "user": {
      "displayName": "Anjana Niranjan",
      "photoUrl": "https://lh3.googleusercontent.com/a-/AOh14Gi-DUuXNslKe9_IpDzKJKy7kFDXdw2iBILnh75qfNo=s64",
      "userId": "03367688363527101143"
     },
     "user_tz": 420
    },
    "id": "e7cWmOirZYkQ",
    "outputId": "09f82f4d-05e8-43bb-f53c-94b7097fd219"
   },
   "outputs": [
    {
     "data": {
      "text/html": [
       "<div>\n",
       "<style scoped>\n",
       "    .dataframe tbody tr th:only-of-type {\n",
       "        vertical-align: middle;\n",
       "    }\n",
       "\n",
       "    .dataframe tbody tr th {\n",
       "        vertical-align: top;\n",
       "    }\n",
       "\n",
       "    .dataframe thead th {\n",
       "        text-align: right;\n",
       "    }\n",
       "</style>\n",
       "<table border=\"1\" class=\"dataframe\">\n",
       "  <thead>\n",
       "    <tr style=\"text-align: right;\">\n",
       "      <th></th>\n",
       "      <th>Unnamed: 0</th>\n",
       "      <th>Class</th>\n",
       "      <th>User</th>\n",
       "      <th>X0</th>\n",
       "      <th>Y0</th>\n",
       "      <th>Z0</th>\n",
       "      <th>X1</th>\n",
       "      <th>Y1</th>\n",
       "      <th>Z1</th>\n",
       "      <th>X2</th>\n",
       "      <th>Y2</th>\n",
       "      <th>Z2</th>\n",
       "      <th>X3</th>\n",
       "      <th>Y3</th>\n",
       "      <th>Z3</th>\n",
       "      <th>X4</th>\n",
       "      <th>Y4</th>\n",
       "      <th>Z4</th>\n",
       "      <th>X5</th>\n",
       "      <th>Y5</th>\n",
       "      <th>Z5</th>\n",
       "      <th>X6</th>\n",
       "      <th>Y6</th>\n",
       "      <th>Z6</th>\n",
       "      <th>X7</th>\n",
       "      <th>Y7</th>\n",
       "      <th>Z7</th>\n",
       "      <th>X8</th>\n",
       "      <th>Y8</th>\n",
       "      <th>Z8</th>\n",
       "      <th>X9</th>\n",
       "      <th>Y9</th>\n",
       "      <th>Z9</th>\n",
       "      <th>X10</th>\n",
       "      <th>Y10</th>\n",
       "      <th>Z10</th>\n",
       "      <th>X11</th>\n",
       "      <th>Y11</th>\n",
       "      <th>Z11</th>\n",
       "    </tr>\n",
       "  </thead>\n",
       "  <tbody>\n",
       "    <tr>\n",
       "      <th>0</th>\n",
       "      <td>56997</td>\n",
       "      <td>1</td>\n",
       "      <td>12</td>\n",
       "      <td>50.430805</td>\n",
       "      <td>4.296292</td>\n",
       "      <td>-80.130642</td>\n",
       "      <td>12.831919</td>\n",
       "      <td>82.793464</td>\n",
       "      <td>-43.608715</td>\n",
       "      <td>42.399516</td>\n",
       "      <td>76.402693</td>\n",
       "      <td>-48.351593</td>\n",
       "      <td>47.618091</td>\n",
       "      <td>42.911496</td>\n",
       "      <td>-97.042997</td>\n",
       "      <td>70.522270</td>\n",
       "      <td>65.189030</td>\n",
       "      <td>-51.544042</td>\n",
       "      <td>NaN</td>\n",
       "      <td>NaN</td>\n",
       "      <td>NaN</td>\n",
       "      <td>NaN</td>\n",
       "      <td>NaN</td>\n",
       "      <td>NaN</td>\n",
       "      <td>NaN</td>\n",
       "      <td>NaN</td>\n",
       "      <td>NaN</td>\n",
       "      <td>NaN</td>\n",
       "      <td>NaN</td>\n",
       "      <td>NaN</td>\n",
       "      <td>NaN</td>\n",
       "      <td>NaN</td>\n",
       "      <td>NaN</td>\n",
       "      <td>NaN</td>\n",
       "      <td>NaN</td>\n",
       "      <td>NaN</td>\n",
       "      <td>NaN</td>\n",
       "      <td>NaN</td>\n",
       "      <td>NaN</td>\n",
       "    </tr>\n",
       "    <tr>\n",
       "      <th>1</th>\n",
       "      <td>56998</td>\n",
       "      <td>1</td>\n",
       "      <td>12</td>\n",
       "      <td>49.187604</td>\n",
       "      <td>4.615699</td>\n",
       "      <td>-81.055242</td>\n",
       "      <td>12.015102</td>\n",
       "      <td>83.005367</td>\n",
       "      <td>-44.306552</td>\n",
       "      <td>46.349800</td>\n",
       "      <td>43.435406</td>\n",
       "      <td>-97.801319</td>\n",
       "      <td>41.762999</td>\n",
       "      <td>76.524606</td>\n",
       "      <td>-48.802312</td>\n",
       "      <td>70.840567</td>\n",
       "      <td>64.931120</td>\n",
       "      <td>-51.251101</td>\n",
       "      <td>NaN</td>\n",
       "      <td>NaN</td>\n",
       "      <td>NaN</td>\n",
       "      <td>NaN</td>\n",
       "      <td>NaN</td>\n",
       "      <td>NaN</td>\n",
       "      <td>NaN</td>\n",
       "      <td>NaN</td>\n",
       "      <td>NaN</td>\n",
       "      <td>NaN</td>\n",
       "      <td>NaN</td>\n",
       "      <td>NaN</td>\n",
       "      <td>NaN</td>\n",
       "      <td>NaN</td>\n",
       "      <td>NaN</td>\n",
       "      <td>NaN</td>\n",
       "      <td>NaN</td>\n",
       "      <td>NaN</td>\n",
       "      <td>NaN</td>\n",
       "      <td>NaN</td>\n",
       "      <td>NaN</td>\n",
       "    </tr>\n",
       "    <tr>\n",
       "      <th>2</th>\n",
       "      <td>56999</td>\n",
       "      <td>1</td>\n",
       "      <td>12</td>\n",
       "      <td>48.709604</td>\n",
       "      <td>4.750960</td>\n",
       "      <td>-81.352822</td>\n",
       "      <td>8.886309</td>\n",
       "      <td>84.244064</td>\n",
       "      <td>-45.918182</td>\n",
       "      <td>40.711851</td>\n",
       "      <td>76.985111</td>\n",
       "      <td>-49.278017</td>\n",
       "      <td>69.602671</td>\n",
       "      <td>65.491230</td>\n",
       "      <td>-52.200113</td>\n",
       "      <td>45.812333</td>\n",
       "      <td>43.755478</td>\n",
       "      <td>-98.087757</td>\n",
       "      <td>NaN</td>\n",
       "      <td>NaN</td>\n",
       "      <td>NaN</td>\n",
       "      <td>NaN</td>\n",
       "      <td>NaN</td>\n",
       "      <td>NaN</td>\n",
       "      <td>NaN</td>\n",
       "      <td>NaN</td>\n",
       "      <td>NaN</td>\n",
       "      <td>NaN</td>\n",
       "      <td>NaN</td>\n",
       "      <td>NaN</td>\n",
       "      <td>NaN</td>\n",
       "      <td>NaN</td>\n",
       "      <td>NaN</td>\n",
       "      <td>NaN</td>\n",
       "      <td>NaN</td>\n",
       "      <td>NaN</td>\n",
       "      <td>NaN</td>\n",
       "      <td>NaN</td>\n",
       "      <td>NaN</td>\n",
       "    </tr>\n",
       "    <tr>\n",
       "      <th>3</th>\n",
       "      <td>57000</td>\n",
       "      <td>1</td>\n",
       "      <td>12</td>\n",
       "      <td>13.482479</td>\n",
       "      <td>81.850854</td>\n",
       "      <td>-42.694026</td>\n",
       "      <td>48.618815</td>\n",
       "      <td>4.473543</td>\n",
       "      <td>-81.421783</td>\n",
       "      <td>38.679356</td>\n",
       "      <td>77.646489</td>\n",
       "      <td>-50.681725</td>\n",
       "      <td>45.826350</td>\n",
       "      <td>43.128206</td>\n",
       "      <td>-98.213341</td>\n",
       "      <td>67.469190</td>\n",
       "      <td>66.369196</td>\n",
       "      <td>-53.746734</td>\n",
       "      <td>NaN</td>\n",
       "      <td>NaN</td>\n",
       "      <td>NaN</td>\n",
       "      <td>NaN</td>\n",
       "      <td>NaN</td>\n",
       "      <td>NaN</td>\n",
       "      <td>NaN</td>\n",
       "      <td>NaN</td>\n",
       "      <td>NaN</td>\n",
       "      <td>NaN</td>\n",
       "      <td>NaN</td>\n",
       "      <td>NaN</td>\n",
       "      <td>NaN</td>\n",
       "      <td>NaN</td>\n",
       "      <td>NaN</td>\n",
       "      <td>NaN</td>\n",
       "      <td>NaN</td>\n",
       "      <td>NaN</td>\n",
       "      <td>NaN</td>\n",
       "      <td>NaN</td>\n",
       "      <td>NaN</td>\n",
       "    </tr>\n",
       "    <tr>\n",
       "      <th>4</th>\n",
       "      <td>57001</td>\n",
       "      <td>1</td>\n",
       "      <td>12</td>\n",
       "      <td>60.566446</td>\n",
       "      <td>69.583361</td>\n",
       "      <td>-58.214008</td>\n",
       "      <td>14.243646</td>\n",
       "      <td>81.560783</td>\n",
       "      <td>-41.921337</td>\n",
       "      <td>47.721822</td>\n",
       "      <td>4.836027</td>\n",
       "      <td>-81.923705</td>\n",
       "      <td>39.868457</td>\n",
       "      <td>76.975726</td>\n",
       "      <td>-49.480357</td>\n",
       "      <td>46.165916</td>\n",
       "      <td>43.256303</td>\n",
       "      <td>-97.504340</td>\n",
       "      <td>NaN</td>\n",
       "      <td>NaN</td>\n",
       "      <td>NaN</td>\n",
       "      <td>NaN</td>\n",
       "      <td>NaN</td>\n",
       "      <td>NaN</td>\n",
       "      <td>NaN</td>\n",
       "      <td>NaN</td>\n",
       "      <td>NaN</td>\n",
       "      <td>NaN</td>\n",
       "      <td>NaN</td>\n",
       "      <td>NaN</td>\n",
       "      <td>NaN</td>\n",
       "      <td>NaN</td>\n",
       "      <td>NaN</td>\n",
       "      <td>NaN</td>\n",
       "      <td>NaN</td>\n",
       "      <td>NaN</td>\n",
       "      <td>NaN</td>\n",
       "      <td>NaN</td>\n",
       "      <td>NaN</td>\n",
       "    </tr>\n",
       "  </tbody>\n",
       "</table>\n",
       "</div>"
      ],
      "text/plain": [
       "   Unnamed: 0  Class  User         X0         Y0  ...  Y10  Z10  X11  Y11  Z11\n",
       "0       56997      1    12  50.430805   4.296292  ...  NaN  NaN  NaN  NaN  NaN\n",
       "1       56998      1    12  49.187604   4.615699  ...  NaN  NaN  NaN  NaN  NaN\n",
       "2       56999      1    12  48.709604   4.750960  ...  NaN  NaN  NaN  NaN  NaN\n",
       "3       57000      1    12  13.482479  81.850854  ...  NaN  NaN  NaN  NaN  NaN\n",
       "4       57001      1    12  60.566446  69.583361  ...  NaN  NaN  NaN  NaN  NaN\n",
       "\n",
       "[5 rows x 39 columns]"
      ]
     },
     "execution_count": 9,
     "metadata": {
      "tags": []
     },
     "output_type": "execute_result"
    }
   ],
   "source": [
    "raw_test.head()"
   ]
  },
  {
   "cell_type": "markdown",
   "metadata": {
    "colab_type": "text",
    "id": "6akVNsvaZcLK"
   },
   "source": [
    "Getting the length and dtype info of the train and test data."
   ]
  },
  {
   "cell_type": "code",
   "execution_count": 10,
   "metadata": {
    "colab": {
     "base_uri": "https://localhost:8080/",
     "height": 814
    },
    "colab_type": "code",
    "executionInfo": {
     "elapsed": 1692,
     "status": "ok",
     "timestamp": 1599919590517,
     "user": {
      "displayName": "Anjana Niranjan",
      "photoUrl": "https://lh3.googleusercontent.com/a-/AOh14Gi-DUuXNslKe9_IpDzKJKy7kFDXdw2iBILnh75qfNo=s64",
      "userId": "03367688363527101143"
     },
     "user_tz": 420
    },
    "id": "5ZFm3nxVZity",
    "outputId": "56138bd0-460e-46ba-e3d3-bfd0115b81f2"
   },
   "outputs": [
    {
     "name": "stdout",
     "output_type": "stream",
     "text": [
      "<class 'pandas.core.frame.DataFrame'>\n",
      "RangeIndex: 13500 entries, 0 to 13499\n",
      "Data columns (total 39 columns):\n",
      " #   Column   Non-Null Count  Dtype  \n",
      "---  ------   --------------  -----  \n",
      " 0   unnamed  13500 non-null  int64  \n",
      " 1   Class    13500 non-null  int64  \n",
      " 2   User     13500 non-null  int64  \n",
      " 3   X0       13500 non-null  float64\n",
      " 4   Y0       13500 non-null  float64\n",
      " 5   Z0       13500 non-null  float64\n",
      " 6   X1       13500 non-null  float64\n",
      " 7   Y1       13500 non-null  float64\n",
      " 8   Z1       13500 non-null  float64\n",
      " 9   X2       13500 non-null  float64\n",
      " 10  Y2       13500 non-null  float64\n",
      " 11  Z2       13500 non-null  float64\n",
      " 12  X3       13464 non-null  float64\n",
      " 13  Y3       13464 non-null  float64\n",
      " 14  Z3       13464 non-null  float64\n",
      " 15  X4       13254 non-null  float64\n",
      " 16  Y4       13254 non-null  float64\n",
      " 17  Z4       13254 non-null  float64\n",
      " 18  X5       11363 non-null  float64\n",
      " 19  Y5       11363 non-null  float64\n",
      " 20  Z5       11363 non-null  float64\n",
      " 21  X6       9616 non-null   float64\n",
      " 22  Y6       9616 non-null   float64\n",
      " 23  Z6       9616 non-null   float64\n",
      " 24  X7       7191 non-null   float64\n",
      " 25  Y7       7191 non-null   float64\n",
      " 26  Z7       7191 non-null   float64\n",
      " 27  X8       5733 non-null   float64\n",
      " 28  Y8       5733 non-null   float64\n",
      " 29  Z8       5733 non-null   float64\n",
      " 30  X9       4537 non-null   float64\n",
      " 31  Y9       4537 non-null   float64\n",
      " 32  Z9       4537 non-null   float64\n",
      " 33  X10      2482 non-null   float64\n",
      " 34  Y10      2482 non-null   float64\n",
      " 35  Z10      2482 non-null   float64\n",
      " 36  X11      0 non-null      float64\n",
      " 37  Y11      0 non-null      float64\n",
      " 38  Z11      0 non-null      float64\n",
      "dtypes: float64(36), int64(3)\n",
      "memory usage: 4.0 MB\n"
     ]
    }
   ],
   "source": [
    "raw_train.info()"
   ]
  },
  {
   "cell_type": "code",
   "execution_count": 11,
   "metadata": {
    "colab": {
     "base_uri": "https://localhost:8080/",
     "height": 814
    },
    "colab_type": "code",
    "executionInfo": {
     "elapsed": 1675,
     "status": "ok",
     "timestamp": 1599919590519,
     "user": {
      "displayName": "Anjana Niranjan",
      "photoUrl": "https://lh3.googleusercontent.com/a-/AOh14Gi-DUuXNslKe9_IpDzKJKy7kFDXdw2iBILnh75qfNo=s64",
      "userId": "03367688363527101143"
     },
     "user_tz": 420
    },
    "id": "Y75VboslZqut",
    "outputId": "97a07f73-19dd-4474-81d6-dea2f008c713"
   },
   "outputs": [
    {
     "name": "stdout",
     "output_type": "stream",
     "text": [
      "<class 'pandas.core.frame.DataFrame'>\n",
      "RangeIndex: 21099 entries, 0 to 21098\n",
      "Data columns (total 39 columns):\n",
      " #   Column      Non-Null Count  Dtype  \n",
      "---  ------      --------------  -----  \n",
      " 0   Unnamed: 0  21099 non-null  int64  \n",
      " 1   Class       21099 non-null  int64  \n",
      " 2   User        21099 non-null  int64  \n",
      " 3   X0          21099 non-null  float64\n",
      " 4   Y0          21099 non-null  float64\n",
      " 5   Z0          21099 non-null  float64\n",
      " 6   X1          21099 non-null  float64\n",
      " 7   Y1          21099 non-null  float64\n",
      " 8   Z1          21099 non-null  float64\n",
      " 9   X2          21099 non-null  float64\n",
      " 10  Y2          21099 non-null  float64\n",
      " 11  Z2          21099 non-null  float64\n",
      " 12  X3          20680 non-null  float64\n",
      " 13  Y3          20680 non-null  float64\n",
      " 14  Z3          20680 non-null  float64\n",
      " 15  X4          19285 non-null  float64\n",
      " 16  Y4          19285 non-null  float64\n",
      " 17  Z4          19285 non-null  float64\n",
      " 18  X5          17059 non-null  float64\n",
      " 19  Y5          17059 non-null  float64\n",
      " 20  Z5          17059 non-null  float64\n",
      " 21  X6          12740 non-null  float64\n",
      " 22  Y6          12740 non-null  float64\n",
      " 23  Z6          12740 non-null  float64\n",
      " 24  X7          10446 non-null  float64\n",
      " 25  Y7          10446 non-null  float64\n",
      " 26  Z7          10446 non-null  float64\n",
      " 27  X8          8194 non-null   float64\n",
      " 28  Y8          8194 non-null   float64\n",
      " 29  Z8          8194 non-null   float64\n",
      " 30  X9          5655 non-null   float64\n",
      " 31  Y9          5655 non-null   float64\n",
      " 32  Z9          5655 non-null   float64\n",
      " 33  X10         3860 non-null   float64\n",
      " 34  Y10         3860 non-null   float64\n",
      " 35  Z10         3860 non-null   float64\n",
      " 36  X11         25 non-null     float64\n",
      " 37  Y11         25 non-null     float64\n",
      " 38  Z11         25 non-null     float64\n",
      "dtypes: float64(36), int64(3)\n",
      "memory usage: 6.3 MB\n"
     ]
    }
   ],
   "source": [
    "raw_test.info()"
   ]
  },
  {
   "cell_type": "markdown",
   "metadata": {
    "colab_type": "text",
    "id": "imkbdN7ehmTK"
   },
   "source": [
    "Summarizing the numerical values"
   ]
  },
  {
   "cell_type": "code",
   "execution_count": 12,
   "metadata": {
    "colab": {
     "base_uri": "https://localhost:8080/",
     "height": 259
    },
    "colab_type": "code",
    "executionInfo": {
     "elapsed": 1658,
     "status": "ok",
     "timestamp": 1599919590522,
     "user": {
      "displayName": "Anjana Niranjan",
      "photoUrl": "https://lh3.googleusercontent.com/a-/AOh14Gi-DUuXNslKe9_IpDzKJKy7kFDXdw2iBILnh75qfNo=s64",
      "userId": "03367688363527101143"
     },
     "user_tz": 420
    },
    "id": "xKDPgcl9bAPg",
    "outputId": "94ee5aec-9b43-4ffd-e332-a8804cef4619"
   },
   "outputs": [
    {
     "data": {
      "text/plain": [
       "<bound method NDFrame.describe of        unnamed  Class  User         X0          Y0  ...  Y10  Z10  X11  Y11  Z11\n",
       "0         1817      1     0  74.783715   43.948122  ...  NaN  NaN  NaN  NaN  NaN\n",
       "1         6202      4     0   5.049161   64.413681  ...  NaN  NaN  NaN  NaN  NaN\n",
       "2         7803      5     0  60.172219   82.358864  ...  NaN  NaN  NaN  NaN  NaN\n",
       "3         4656      3     0  72.447893   49.526689  ...  NaN  NaN  NaN  NaN  NaN\n",
       "4         6714      4     0  15.820552   68.284762  ...  NaN  NaN  NaN  NaN  NaN\n",
       "...        ...    ...   ...        ...         ...  ...  ...  ...  ...  ...  ...\n",
       "13495    54247      4    11  52.222681   93.686787  ...  NaN  NaN  NaN  NaN  NaN\n",
       "13496    56283      5    11  30.297470  152.306531  ...  NaN  NaN  NaN  NaN  NaN\n",
       "13497    53767      4    11  92.561649   29.756399  ...  NaN  NaN  NaN  NaN  NaN\n",
       "13498    49593      1    11  74.950069   79.675092  ...  NaN  NaN  NaN  NaN  NaN\n",
       "13499    56438      5    11  82.221166   13.149745  ...  NaN  NaN  NaN  NaN  NaN\n",
       "\n",
       "[13500 rows x 39 columns]>"
      ]
     },
     "execution_count": 12,
     "metadata": {
      "tags": []
     },
     "output_type": "execute_result"
    }
   ],
   "source": [
    "raw_train.describe"
   ]
  },
  {
   "cell_type": "code",
   "execution_count": 13,
   "metadata": {
    "colab": {
     "base_uri": "https://localhost:8080/",
     "height": 259
    },
    "colab_type": "code",
    "executionInfo": {
     "elapsed": 1853,
     "status": "ok",
     "timestamp": 1599919590740,
     "user": {
      "displayName": "Anjana Niranjan",
      "photoUrl": "https://lh3.googleusercontent.com/a-/AOh14Gi-DUuXNslKe9_IpDzKJKy7kFDXdw2iBILnh75qfNo=s64",
      "userId": "03367688363527101143"
     },
     "user_tz": 420
    },
    "id": "htBOm3n2bGbF",
    "outputId": "0edbd9cf-7da2-400f-d404-7ed3300d7cb6"
   },
   "outputs": [
    {
     "data": {
      "text/plain": [
       "<bound method NDFrame.describe of        Unnamed: 0  Class  User         X0          Y0  ...  Y10  Z10  X11  Y11  Z11\n",
       "0           56997      1    12  50.430805    4.296292  ...  NaN  NaN  NaN  NaN  NaN\n",
       "1           56998      1    12  49.187604    4.615699  ...  NaN  NaN  NaN  NaN  NaN\n",
       "2           56999      1    12  48.709604    4.750960  ...  NaN  NaN  NaN  NaN  NaN\n",
       "3           57000      1    12  13.482479   81.850854  ...  NaN  NaN  NaN  NaN  NaN\n",
       "4           57001      1    12  60.566446   69.583361  ...  NaN  NaN  NaN  NaN  NaN\n",
       "...           ...    ...   ...        ...         ...  ...  ...  ...  ...  ...  ...\n",
       "21094       78091      5    14  54.251127  129.177414  ...  NaN  NaN  NaN  NaN  NaN\n",
       "21095       78092      5    14  54.334883  129.253842  ...  NaN  NaN  NaN  NaN  NaN\n",
       "21096       78093      5    14  54.151540  129.269502  ...  NaN  NaN  NaN  NaN  NaN\n",
       "21097       78094      5    14  27.915311  108.007390  ...  NaN  NaN  NaN  NaN  NaN\n",
       "21098       78095      5    14  27.898705  108.092877  ...  NaN  NaN  NaN  NaN  NaN\n",
       "\n",
       "[21099 rows x 39 columns]>"
      ]
     },
     "execution_count": 13,
     "metadata": {
      "tags": []
     },
     "output_type": "execute_result"
    }
   ],
   "source": [
    "raw_test.describe"
   ]
  },
  {
   "cell_type": "markdown",
   "metadata": {
    "colab_type": "text",
    "id": "m7UwiSHshsRU"
   },
   "source": [
    "Checking for duplicates"
   ]
  },
  {
   "cell_type": "code",
   "execution_count": 14,
   "metadata": {
    "colab": {
     "base_uri": "https://localhost:8080/",
     "height": 34
    },
    "colab_type": "code",
    "executionInfo": {
     "elapsed": 1833,
     "status": "ok",
     "timestamp": 1599919590742,
     "user": {
      "displayName": "Anjana Niranjan",
      "photoUrl": "https://lh3.googleusercontent.com/a-/AOh14Gi-DUuXNslKe9_IpDzKJKy7kFDXdw2iBILnh75qfNo=s64",
      "userId": "03367688363527101143"
     },
     "user_tz": 420
    },
    "id": "LzBXqVPJhKty",
    "outputId": "4a27245b-b390-4f40-9ed1-9f5d586f7896"
   },
   "outputs": [
    {
     "data": {
      "text/plain": [
       "0"
      ]
     },
     "execution_count": 14,
     "metadata": {
      "tags": []
     },
     "output_type": "execute_result"
    }
   ],
   "source": [
    "raw_train.duplicated().sum()"
   ]
  },
  {
   "cell_type": "code",
   "execution_count": 15,
   "metadata": {
    "colab": {
     "base_uri": "https://localhost:8080/",
     "height": 34
    },
    "colab_type": "code",
    "executionInfo": {
     "elapsed": 1816,
     "status": "ok",
     "timestamp": 1599919590743,
     "user": {
      "displayName": "Anjana Niranjan",
      "photoUrl": "https://lh3.googleusercontent.com/a-/AOh14Gi-DUuXNslKe9_IpDzKJKy7kFDXdw2iBILnh75qfNo=s64",
      "userId": "03367688363527101143"
     },
     "user_tz": 420
    },
    "id": "RO_lmRTGhTC8",
    "outputId": "580dde40-41e0-474e-c1b7-6fd9c67323e1"
   },
   "outputs": [
    {
     "data": {
      "text/plain": [
       "0"
      ]
     },
     "execution_count": 15,
     "metadata": {
      "tags": []
     },
     "output_type": "execute_result"
    }
   ],
   "source": [
    "raw_test.duplicated().sum()"
   ]
  },
  {
   "cell_type": "markdown",
   "metadata": {
    "colab_type": "text",
    "id": "vJTn5fvehvSx"
   },
   "source": [
    "#### From the above analysis, we can make the following conclusions:\n",
    "\n",
    "\n",
    "1.   The training and the testing sets have 13 columns each\n",
    "2.   There are many empty cells in both the dataframes\n",
    "3.   There are no duplicate rows in the datasets\n",
    "4.   This data cannot be directly used for modeling.\n",
    "\n",
    "\n"
   ]
  },
  {
   "cell_type": "markdown",
   "metadata": {
    "colab_type": "text",
    "id": "PUX0ssbYi2uc"
   },
   "source": [
    "## Feature engineering"
   ]
  },
  {
   "cell_type": "markdown",
   "metadata": {
    "colab_type": "text",
    "id": "Q2ohq6nCseaV"
   },
   "source": [
    "Making meaningful and usable linear data out of the raw data by defining 13 features:\n",
    "\n",
    "\n",
    "1.   Mean of the x markers\n",
    "2.   Mean of the y markers\n",
    "3.   Mean of the z markers\n",
    "4.   Std of the x markers\n",
    "5.   Std of the y markers\n",
    "6.   Std of the z markers\n",
    "7.   Number of non 0 values in the data\n",
    "8.   Minimum value of the x markers\n",
    "9.   Minimum value of the y markers\n",
    "10.   Minimum value of the z markers\n",
    "11.  Maximum value of the x markers\n",
    "12.  Maximum value of the y markers\n",
    "13.  Maximum value of the z markers  \n",
    "\n"
   ]
  },
  {
   "cell_type": "code",
   "execution_count": 16,
   "metadata": {
    "colab": {},
    "colab_type": "code",
    "executionInfo": {
     "elapsed": 1799,
     "status": "ok",
     "timestamp": 1599919590745,
     "user": {
      "displayName": "Anjana Niranjan",
      "photoUrl": "https://lh3.googleusercontent.com/a-/AOh14Gi-DUuXNslKe9_IpDzKJKy7kFDXdw2iBILnh75qfNo=s64",
      "userId": "03367688363527101143"
     },
     "user_tz": 420
    },
    "id": "9RC43a09U0XN"
   },
   "outputs": [],
   "source": [
    "#Separating the X, Y and Z axis data\n",
    "datax = raw_train[['X0', 'X1', 'X2', 'X3', 'X4', 'X5', 'X6', 'X7', 'X8', 'X9', 'X10', 'X11']]\n",
    "datay = raw_train[['Y0', 'Y1', 'Y2', 'Y3', 'Y4', 'Y5', 'Y6', 'Y7', 'Y8', 'Y9', 'Y10', 'Y11']]\n",
    "dataz = raw_train[['Z0', 'Z1', 'Z2', 'Z3', 'Z4', 'Z5', 'Z6', 'Z7', 'Z8', 'Z9', 'Z10', 'Z11']]\n",
    "Class = raw_train['Class']\n",
    "\n",
    "datax = np.array(datax)\n",
    "datay = np.array(datay)\n",
    "dataz = np.array(dataz)\n",
    "Class = np.array(Class)"
   ]
  },
  {
   "cell_type": "code",
   "execution_count": 17,
   "metadata": {
    "colab": {},
    "colab_type": "code",
    "executionInfo": {
     "elapsed": 1788,
     "status": "ok",
     "timestamp": 1599919590746,
     "user": {
      "displayName": "Anjana Niranjan",
      "photoUrl": "https://lh3.googleusercontent.com/a-/AOh14Gi-DUuXNslKe9_IpDzKJKy7kFDXdw2iBILnh75qfNo=s64",
      "userId": "03367688363527101143"
     },
     "user_tz": 420
    },
    "id": "9jSPnuxTVAi8"
   },
   "outputs": [],
   "source": [
    "#Replacing the cells with no entries with 0\n",
    "datax = np.nan_to_num(datax)\n",
    "datay = np.nan_to_num(datay)\n",
    "dataz = np.nan_to_num(dataz)"
   ]
  },
  {
   "cell_type": "code",
   "execution_count": 18,
   "metadata": {
    "colab": {
     "base_uri": "https://localhost:8080/",
     "height": 537
    },
    "colab_type": "code",
    "executionInfo": {
     "elapsed": 1950,
     "status": "ok",
     "timestamp": 1599919590922,
     "user": {
      "displayName": "Anjana Niranjan",
      "photoUrl": "https://lh3.googleusercontent.com/a-/AOh14Gi-DUuXNslKe9_IpDzKJKy7kFDXdw2iBILnh75qfNo=s64",
      "userId": "03367688363527101143"
     },
     "user_tz": 420
    },
    "id": "MStq9uFTbswA",
    "outputId": "befc8411-9a7e-4890-9e14-fafa1663fc55"
   },
   "outputs": [
    {
     "data": {
      "text/plain": [
       "array([[ 74.78371485,  54.23312977,  35.02645154,  89.99802253,\n",
       "         59.01827065,   0.        ,   0.        ,   0.        ,\n",
       "          0.        ,   0.        ,   0.        ,   0.        ],\n",
       "       [  5.04916071,  22.51863481,  26.92855495, -14.66405118,\n",
       "         48.78046722,  40.69286083,  -8.29461647,   0.        ,\n",
       "          0.        ,   0.        ,   0.        ,   0.        ],\n",
       "       [ 60.17221909,  56.61352091,  13.03216339,  77.104094  ,\n",
       "        -14.20066886, -10.85987857,  47.80127924,  22.32655591,\n",
       "         62.61321736,  79.04487197,   0.        ,   0.        ],\n",
       "       [ 72.44789275,  77.64339666,  58.94276126,  57.15981917,\n",
       "         47.93138108,   0.        ,   0.        ,   0.        ,\n",
       "          0.        ,   0.        ,   0.        ,   0.        ],\n",
       "       [ 15.82055163,  -4.13700887,  32.52449788,  52.95014644,\n",
       "         43.98571972,  29.5743632 ,   0.        ,   0.        ,\n",
       "          0.        ,   0.        ,   0.        ,   0.        ],\n",
       "       [ -4.12135714,   4.9696368 ,  30.35779278,  29.23188972,\n",
       "        -13.30056494,  52.53617241,  47.93632466,   0.        ,\n",
       "          0.        ,   0.        ,   0.        ,   0.        ],\n",
       "       [ 51.61984788,  28.22109684,  42.57637951,  13.20563937,\n",
       "         -5.49539079,  31.69224501,   0.        ,   0.        ,\n",
       "          0.        ,   0.        ,   0.        ,   0.        ],\n",
       "       [ 88.53051787,  33.79019877,  10.37729681,  53.70684418,\n",
       "         77.07372881,  -9.20935657,   0.        ,   0.        ,\n",
       "          0.        ,   0.        ,   0.        ,   0.        ],\n",
       "       [ 54.74750139,  17.4874916 , -18.49126228,  52.05386033,\n",
       "         42.6857854 ,  73.49574765,  77.05101262,  59.69996504,\n",
       "         58.13214779,  13.17192923,   0.        ,   0.        ],\n",
       "       [ 56.24473873,  61.78195453,  72.03872375,  57.62316095,\n",
       "         78.86347122,   0.        ,   0.        ,   0.        ,\n",
       "          0.        ,   0.        ,   0.        ,   0.        ]])"
      ]
     },
     "execution_count": 18,
     "metadata": {
      "tags": []
     },
     "output_type": "execute_result"
    }
   ],
   "source": [
    "datax[0:10]"
   ]
  },
  {
   "cell_type": "code",
   "execution_count": 19,
   "metadata": {
    "colab": {
     "base_uri": "https://localhost:8080/",
     "height": 34
    },
    "colab_type": "code",
    "executionInfo": {
     "elapsed": 1937,
     "status": "ok",
     "timestamp": 1599919590925,
     "user": {
      "displayName": "Anjana Niranjan",
      "photoUrl": "https://lh3.googleusercontent.com/a-/AOh14Gi-DUuXNslKe9_IpDzKJKy7kFDXdw2iBILnh75qfNo=s64",
      "userId": "03367688363527101143"
     },
     "user_tz": 420
    },
    "id": "LcBIDwyEb3TJ",
    "outputId": "5148a259-27c9-468f-d714-409404eeda16"
   },
   "outputs": [
    {
     "data": {
      "text/plain": [
       "(13500, 12)"
      ]
     },
     "execution_count": 19,
     "metadata": {
      "tags": []
     },
     "output_type": "execute_result"
    }
   ],
   "source": [
    "datax.shape"
   ]
  },
  {
   "cell_type": "code",
   "execution_count": 20,
   "metadata": {
    "colab": {
     "base_uri": "https://localhost:8080/",
     "height": 537
    },
    "colab_type": "code",
    "executionInfo": {
     "elapsed": 1922,
     "status": "ok",
     "timestamp": 1599919590927,
     "user": {
      "displayName": "Anjana Niranjan",
      "photoUrl": "https://lh3.googleusercontent.com/a-/AOh14Gi-DUuXNslKe9_IpDzKJKy7kFDXdw2iBILnh75qfNo=s64",
      "userId": "03367688363527101143"
     },
     "user_tz": 420
    },
    "id": "iRxQcqcVb8Iq",
    "outputId": "369b34ad-7c88-4d30-f687-4a1072a7e219"
   },
   "outputs": [
    {
     "data": {
      "text/plain": [
       "array([[ 43.94812205,  79.72823206,  88.67727892,  68.18921034,\n",
       "         13.7954056 ,   0.        ,   0.        ,   0.        ,\n",
       "          0.        ,   0.        ,   0.        ,   0.        ],\n",
       "       [ 64.41368088, 137.1762527 ,  94.92661587,  56.0034308 ,\n",
       "         94.40494011, 134.954863  ,  34.89623704,   0.        ,\n",
       "          0.        ,   0.        ,   0.        ,   0.        ],\n",
       "       [ 82.35886375,  57.34830746, 132.025198  , 130.6575268 ,\n",
       "        127.8000326 ,  98.72164114,  27.21449252, 105.226483  ,\n",
       "        100.2307765 ,  90.99386301,   0.        ,   0.        ],\n",
       "       [ 49.52668881,  75.41137977,  15.50448942,  92.0788088 ,\n",
       "        135.4081316 ,   0.        ,   0.        ,   0.        ,\n",
       "          0.        ,   0.        ,   0.        ,   0.        ],\n",
       "       [ 68.28476173,  56.90181493,  94.68646193,  97.23302698,\n",
       "        137.1881027 , 140.2539604 ,   0.        ,   0.        ,\n",
       "          0.        ,   0.        ,   0.        ,   0.        ],\n",
       "       [ 31.5541283 ,  67.77187716,  91.46146313, 134.5776068 ,\n",
       "         54.95372173,  92.78076624, 133.7943163 ,   0.        ,\n",
       "          0.        ,   0.        ,   0.        ,   0.        ],\n",
       "       [ 97.95411487, 138.6324349 , 136.7425837 ,  71.5091319 ,\n",
       "         58.25254818,  93.96679915,   0.        ,   0.        ,\n",
       "          0.        ,   0.        ,   0.        ,   0.        ],\n",
       "       [ 74.83321461,  92.30422294,  90.8767125 ,  84.14373853,\n",
       "         50.01909462,  83.30041634,   0.        ,   0.        ,\n",
       "          0.        ,   0.        ,   0.        ,   0.        ],\n",
       "       [ 59.5962338 , 105.1741578 , 127.6899571 ,  28.02162167,\n",
       "        137.1767133 , 134.9130925 ,  94.19216402,  84.26100743,\n",
       "        103.295682  , 127.4280955 ,   0.        ,   0.        ],\n",
       "       [ 14.37075608,  89.11946462,  47.6607742 , 133.3255859 ,\n",
       "         73.11489867,   0.        ,   0.        ,   0.        ,\n",
       "          0.        ,   0.        ,   0.        ,   0.        ]])"
      ]
     },
     "execution_count": 20,
     "metadata": {
      "tags": []
     },
     "output_type": "execute_result"
    }
   ],
   "source": [
    "datay[0:10]"
   ]
  },
  {
   "cell_type": "code",
   "execution_count": 21,
   "metadata": {
    "colab": {
     "base_uri": "https://localhost:8080/",
     "height": 34
    },
    "colab_type": "code",
    "executionInfo": {
     "elapsed": 1909,
     "status": "ok",
     "timestamp": 1599919590929,
     "user": {
      "displayName": "Anjana Niranjan",
      "photoUrl": "https://lh3.googleusercontent.com/a-/AOh14Gi-DUuXNslKe9_IpDzKJKy7kFDXdw2iBILnh75qfNo=s64",
      "userId": "03367688363527101143"
     },
     "user_tz": 420
    },
    "id": "1h2ZO-K5b-jc",
    "outputId": "2751c431-659f-4973-94f4-bf68103f6a55"
   },
   "outputs": [
    {
     "data": {
      "text/plain": [
       "(13500, 12)"
      ]
     },
     "execution_count": 21,
     "metadata": {
      "tags": []
     },
     "output_type": "execute_result"
    }
   ],
   "source": [
    "datay.shape"
   ]
  },
  {
   "cell_type": "code",
   "execution_count": 22,
   "metadata": {
    "colab": {
     "base_uri": "https://localhost:8080/",
     "height": 537
    },
    "colab_type": "code",
    "executionInfo": {
     "elapsed": 1889,
     "status": "ok",
     "timestamp": 1599919590930,
     "user": {
      "displayName": "Anjana Niranjan",
      "photoUrl": "https://lh3.googleusercontent.com/a-/AOh14Gi-DUuXNslKe9_IpDzKJKy7kFDXdw2iBILnh75qfNo=s64",
      "userId": "03367688363527101143"
     },
     "user_tz": 420
    },
    "id": "FrxjY0yUcBJv",
    "outputId": "b5e0b483-d8fa-41a8-9251-96fac2aa9b6d"
   },
   "outputs": [
    {
     "data": {
      "text/plain": [
       "array([[-75.61229137, -59.67420979, -48.21913512, -72.53829696,\n",
       "        -71.1411728 ,   0.        ,   0.        ,   0.        ,\n",
       "          0.        ,   0.        ,   0.        ,   0.        ],\n",
       "       [-63.36922861, -78.38714836, -41.86302178, -60.82984696,\n",
       "        -44.79770569, -60.81053035, -95.51368341,   0.        ,\n",
       "          0.        ,   0.        ,   0.        ,   0.        ],\n",
       "       [-96.09745095, -90.71651151, -39.75175177, -51.98889523,\n",
       "        -31.23126645,  -0.53579763, -78.09438601,   7.82026413,\n",
       "         -1.87027677, -27.30629171,   0.        ,   0.        ],\n",
       "       [-71.78535802, -71.27790606, -70.52985295, -33.91631133,\n",
       "        -43.26036211,   0.        ,   0.        ,   0.        ,\n",
       "          0.        ,   0.        ,   0.        ,   0.        ],\n",
       "       [-60.49815021, -62.68593229, -36.9767626 , -32.01556824,\n",
       "        -50.90122041, -69.91392054,   0.        ,   0.        ,\n",
       "          0.        ,   0.        ,   0.        ,   0.        ],\n",
       "       [-98.68842698, -62.22115205, -43.66774283, -79.92156849,\n",
       "        -62.35742539, -45.24093943, -62.4807021 ,   0.        ,\n",
       "          0.        ,   0.        ,   0.        ,   0.        ],\n",
       "       [-31.81537683, -72.53187334, -52.35813058, -56.49424618,\n",
       "        -61.52574378, -38.23462245,   0.        ,   0.        ,\n",
       "          0.        ,   0.        ,   0.        ,   0.        ],\n",
       "       [-68.89763144, -47.1205698 , -33.88887812, -57.30075792,\n",
       "        -68.57461835, -26.69663219,   0.        ,   0.        ,\n",
       "          0.        ,   0.        ,   0.        ,   0.        ],\n",
       "       [-91.30029521,   6.9226666 , -28.44320675, -72.8223704 ,\n",
       "        -43.20273927, -48.60950366, -25.86874722, -93.17488424,\n",
       "         -3.00608303, -33.47366623,   0.        ,   0.        ],\n",
       "       [-73.85789157, -35.50926149, -74.5271336 , -43.88096839,\n",
       "        -74.26068856,   0.        ,   0.        ,   0.        ,\n",
       "          0.        ,   0.        ,   0.        ,   0.        ]])"
      ]
     },
     "execution_count": 22,
     "metadata": {
      "tags": []
     },
     "output_type": "execute_result"
    }
   ],
   "source": [
    "dataz[0:10]"
   ]
  },
  {
   "cell_type": "code",
   "execution_count": 23,
   "metadata": {
    "colab": {
     "base_uri": "https://localhost:8080/",
     "height": 34
    },
    "colab_type": "code",
    "executionInfo": {
     "elapsed": 1875,
     "status": "ok",
     "timestamp": 1599919590933,
     "user": {
      "displayName": "Anjana Niranjan",
      "photoUrl": "https://lh3.googleusercontent.com/a-/AOh14Gi-DUuXNslKe9_IpDzKJKy7kFDXdw2iBILnh75qfNo=s64",
      "userId": "03367688363527101143"
     },
     "user_tz": 420
    },
    "id": "O6lpNW0ecDuJ",
    "outputId": "79aee671-4196-4c21-dc4d-dafc7ec54596"
   },
   "outputs": [
    {
     "data": {
      "text/plain": [
       "(13500, 12)"
      ]
     },
     "execution_count": 23,
     "metadata": {
      "tags": []
     },
     "output_type": "execute_result"
    }
   ],
   "source": [
    "dataz.shape"
   ]
  },
  {
   "cell_type": "code",
   "execution_count": 24,
   "metadata": {
    "colab": {},
    "colab_type": "code",
    "executionInfo": {
     "elapsed": 3562,
     "status": "ok",
     "timestamp": 1599919592623,
     "user": {
      "displayName": "Anjana Niranjan",
      "photoUrl": "https://lh3.googleusercontent.com/a-/AOh14Gi-DUuXNslKe9_IpDzKJKy7kFDXdw2iBILnh75qfNo=s64",
      "userId": "03367688363527101143"
     },
     "user_tz": 420
    },
    "id": "BK-DdghAVEnp"
   },
   "outputs": [],
   "source": [
    "x_mean = []\n",
    "y_mean = []\n",
    "z_mean = []\n",
    "x_std = []\n",
    "y_std = []\n",
    "z_std = []\n",
    "number = []\n",
    "\n",
    "for i in range (13500):\n",
    "  x_mean.append(np.mean(datax[i]))\n",
    "  y_mean.append(np.mean(datay[i]))\n",
    "  z_mean.append(np.mean(dataz[i]))\n",
    "  x_std.append(np.std(datax[i]))\n",
    "  y_std.append(np.std(datay[i]))\n",
    "  z_std.append(np.std(dataz[i]))\n",
    "  number.append(np.count_nonzero([datax[i], datay[i], dataz[i]]))"
   ]
  },
  {
   "cell_type": "code",
   "execution_count": 25,
   "metadata": {
    "colab": {
     "base_uri": "https://localhost:8080/",
     "height": 51
    },
    "colab_type": "code",
    "executionInfo": {
     "elapsed": 3567,
     "status": "ok",
     "timestamp": 1599919592630,
     "user": {
      "displayName": "Anjana Niranjan",
      "photoUrl": "https://lh3.googleusercontent.com/a-/AOh14Gi-DUuXNslKe9_IpDzKJKy7kFDXdw2iBILnh75qfNo=s64",
      "userId": "03367688363527101143"
     },
     "user_tz": 420
    },
    "id": "c0V9EzDNmlmC",
    "outputId": "583f57c9-a7fc-4587-bd98-7f62a396cc32"
   },
   "outputs": [
    {
     "data": {
      "text/plain": [
       "array([26.08829911, 10.08425091, 32.80394787, ..., 35.18024472,\n",
       "       24.43492902, 25.48479356])"
      ]
     },
     "execution_count": 25,
     "metadata": {
      "tags": []
     },
     "output_type": "execute_result"
    }
   ],
   "source": [
    "#Feature 1 - mean of x-axis values\n",
    "x_mean = np.array(x_mean) \n",
    "x_mean"
   ]
  },
  {
   "cell_type": "code",
   "execution_count": 26,
   "metadata": {
    "colab": {
     "base_uri": "https://localhost:8080/",
     "height": 51
    },
    "colab_type": "code",
    "executionInfo": {
     "elapsed": 3564,
     "status": "ok",
     "timestamp": 1599919592631,
     "user": {
      "displayName": "Anjana Niranjan",
      "photoUrl": "https://lh3.googleusercontent.com/a-/AOh14Gi-DUuXNslKe9_IpDzKJKy7kFDXdw2iBILnh75qfNo=s64",
      "userId": "03367688363527101143"
     },
     "user_tz": 420
    },
    "id": "jQa9vPxNmlCz",
    "outputId": "987de095-decb-44ef-e05e-b46b48809398"
   },
   "outputs": [
    {
     "data": {
      "text/plain": [
       "array([24.52818741, 51.3980017 , 79.38143206, ..., 46.50764602,\n",
       "       37.56558859, 79.696158  ])"
      ]
     },
     "execution_count": 26,
     "metadata": {
      "tags": []
     },
     "output_type": "execute_result"
    }
   ],
   "source": [
    "#Feature 2 - mean of y-axis values\n",
    "y_mean = np.array(y_mean) \n",
    "y_mean"
   ]
  },
  {
   "cell_type": "code",
   "execution_count": 27,
   "metadata": {
    "colab": {
     "base_uri": "https://localhost:8080/",
     "height": 51
    },
    "colab_type": "code",
    "executionInfo": {
     "elapsed": 3562,
     "status": "ok",
     "timestamp": 1599919592632,
     "user": {
      "displayName": "Anjana Niranjan",
      "photoUrl": "https://lh3.googleusercontent.com/a-/AOh14Gi-DUuXNslKe9_IpDzKJKy7kFDXdw2iBILnh75qfNo=s64",
      "userId": "03367688363527101143"
     },
     "user_tz": 420
    },
    "id": "fYBpGaJtmb3G",
    "outputId": "64cf769a-7026-4858-86f7-d3e2b8e7fd87"
   },
   "outputs": [
    {
     "data": {
      "text/plain": [
       "array([-27.2654255 , -37.13093043, -34.14769699, ..., -12.85172156,\n",
       "       -21.19876915, -24.16483386])"
      ]
     },
     "execution_count": 27,
     "metadata": {
      "tags": []
     },
     "output_type": "execute_result"
    }
   ],
   "source": [
    "#Feature 3 - mean of z-axis values\n",
    "z_mean = np.array(z_mean) \n",
    "z_mean"
   ]
  },
  {
   "cell_type": "code",
   "execution_count": 28,
   "metadata": {
    "colab": {
     "base_uri": "https://localhost:8080/",
     "height": 51
    },
    "colab_type": "code",
    "executionInfo": {
     "elapsed": 3560,
     "status": "ok",
     "timestamp": 1599919592633,
     "user": {
      "displayName": "Anjana Niranjan",
      "photoUrl": "https://lh3.googleusercontent.com/a-/AOh14Gi-DUuXNslKe9_IpDzKJKy7kFDXdw2iBILnh75qfNo=s64",
      "userId": "03367688363527101143"
     },
     "user_tz": 420
    },
    "id": "i-vkoJJDmb9z",
    "outputId": "d5b0a530-0108-465b-b41b-8ea3cb93a239"
   },
   "outputs": [
    {
     "data": {
      "text/plain": [
       "array([33.13645626, 19.05409531, 33.29041087, ..., 38.96402541,\n",
       "       30.73391735, 40.30659869])"
      ]
     },
     "execution_count": 28,
     "metadata": {
      "tags": []
     },
     "output_type": "execute_result"
    }
   ],
   "source": [
    "#Feature 4 - standard deviation of x-axis values\n",
    "x_std = np.array(x_std) \n",
    "x_std"
   ]
  },
  {
   "cell_type": "code",
   "execution_count": 29,
   "metadata": {
    "colab": {
     "base_uri": "https://localhost:8080/",
     "height": 51
    },
    "colab_type": "code",
    "executionInfo": {
     "elapsed": 3558,
     "status": "ok",
     "timestamp": 1599919592635,
     "user": {
      "displayName": "Anjana Niranjan",
      "photoUrl": "https://lh3.googleusercontent.com/a-/AOh14Gi-DUuXNslKe9_IpDzKJKy7kFDXdw2iBILnh75qfNo=s64",
      "userId": "03367688363527101143"
     },
     "user_tz": 420
    },
    "id": "NqvFrLpCmNdW",
    "outputId": "d849e388-92f0-497d-85aa-c417f1e833f4"
   },
   "outputs": [
    {
     "data": {
      "text/plain": [
       "array([33.87745822, 51.44227625, 45.80307094, ..., 54.13662984,\n",
       "       42.93766674, 51.44891905])"
      ]
     },
     "execution_count": 29,
     "metadata": {
      "tags": []
     },
     "output_type": "execute_result"
    }
   ],
   "source": [
    "#Feature 5 - standard deviation of y-axis values\n",
    "y_std = np.array(y_std) \n",
    "y_std"
   ]
  },
  {
   "cell_type": "code",
   "execution_count": 30,
   "metadata": {
    "colab": {
     "base_uri": "https://localhost:8080/",
     "height": 51
    },
    "colab_type": "code",
    "executionInfo": {
     "elapsed": 3556,
     "status": "ok",
     "timestamp": 1599919592636,
     "user": {
      "displayName": "Anjana Niranjan",
      "photoUrl": "https://lh3.googleusercontent.com/a-/AOh14Gi-DUuXNslKe9_IpDzKJKy7kFDXdw2iBILnh75qfNo=s64",
      "userId": "03367688363527101143"
     },
     "user_tz": 420
    },
    "id": "fmBmbKf-mNZT",
    "outputId": "6e6d90de-80e9-44cf-e668-3e08057ad9ac"
   },
   "outputs": [
    {
     "data": {
      "text/plain": [
       "array([32.92079481, 34.02956295, 36.10075052, ..., 27.06603722,\n",
       "       23.62265384, 23.27841825])"
      ]
     },
     "execution_count": 30,
     "metadata": {
      "tags": []
     },
     "output_type": "execute_result"
    }
   ],
   "source": [
    "#Feature 6 - standard deviation of z-axis values\n",
    "z_std = np.array(z_std) \n",
    "z_std"
   ]
  },
  {
   "cell_type": "code",
   "execution_count": 31,
   "metadata": {
    "colab": {
     "base_uri": "https://localhost:8080/",
     "height": 34
    },
    "colab_type": "code",
    "executionInfo": {
     "elapsed": 3553,
     "status": "ok",
     "timestamp": 1599919592637,
     "user": {
      "displayName": "Anjana Niranjan",
      "photoUrl": "https://lh3.googleusercontent.com/a-/AOh14Gi-DUuXNslKe9_IpDzKJKy7kFDXdw2iBILnh75qfNo=s64",
      "userId": "03367688363527101143"
     },
     "user_tz": 420
    },
    "id": "sJ3nSnpdmNXZ",
    "outputId": "89bc2adb-00e6-4021-9351-f5c9a5b5d68d"
   },
   "outputs": [
    {
     "data": {
      "text/plain": [
       "array([15, 21, 30, ..., 21, 18, 30])"
      ]
     },
     "execution_count": 31,
     "metadata": {
      "tags": []
     },
     "output_type": "execute_result"
    }
   ],
   "source": [
    "#Feature 7 - number of data points present\n",
    "number = np.array(number) \n",
    "number"
   ]
  },
  {
   "cell_type": "code",
   "execution_count": 32,
   "metadata": {
    "colab": {
     "base_uri": "https://localhost:8080/",
     "height": 51
    },
    "colab_type": "code",
    "executionInfo": {
     "elapsed": 3553,
     "status": "ok",
     "timestamp": 1599919592639,
     "user": {
      "displayName": "Anjana Niranjan",
      "photoUrl": "https://lh3.googleusercontent.com/a-/AOh14Gi-DUuXNslKe9_IpDzKJKy7kFDXdw2iBILnh75qfNo=s64",
      "userId": "03367688363527101143"
     },
     "user_tz": 420
    },
    "id": "8ERDDyiom0S6",
    "outputId": "3ebc8fee-25e6-47b3-da77-69b880025509"
   },
   "outputs": [
    {
     "data": {
      "text/plain": [
       "array([  0.        , -14.66405118, -14.20066886, ...,   0.        ,\n",
       "         0.        , -30.54030433])"
      ]
     },
     "execution_count": 32,
     "metadata": {
      "tags": []
     },
     "output_type": "execute_result"
    }
   ],
   "source": [
    "#Feature 8 - min x-axis value\n",
    "x_min = (np.amin(datax, axis = 1)).T \n",
    "x_min"
   ]
  },
  {
   "cell_type": "code",
   "execution_count": 33,
   "metadata": {
    "colab": {
     "base_uri": "https://localhost:8080/",
     "height": 34
    },
    "colab_type": "code",
    "executionInfo": {
     "elapsed": 3551,
     "status": "ok",
     "timestamp": 1599919592640,
     "user": {
      "displayName": "Anjana Niranjan",
      "photoUrl": "https://lh3.googleusercontent.com/a-/AOh14Gi-DUuXNslKe9_IpDzKJKy7kFDXdw2iBILnh75qfNo=s64",
      "userId": "03367688363527101143"
     },
     "user_tz": 420
    },
    "id": "7Vp5vUvMm00L",
    "outputId": "44d2e80a-c1dc-4246-c810-e5e7d5b6d8d0"
   },
   "outputs": [
    {
     "data": {
      "text/plain": [
       "array([0., 0., 0., ..., 0., 0., 0.])"
      ]
     },
     "execution_count": 33,
     "metadata": {
      "tags": []
     },
     "output_type": "execute_result"
    }
   ],
   "source": [
    "#Feature 9 - min y-axis value\n",
    "y_min = (np.amin(datay, axis = 1)).T \n",
    "y_min"
   ]
  },
  {
   "cell_type": "code",
   "execution_count": 34,
   "metadata": {
    "colab": {
     "base_uri": "https://localhost:8080/",
     "height": 51
    },
    "colab_type": "code",
    "executionInfo": {
     "elapsed": 3548,
     "status": "ok",
     "timestamp": 1599919592641,
     "user": {
      "displayName": "Anjana Niranjan",
      "photoUrl": "https://lh3.googleusercontent.com/a-/AOh14Gi-DUuXNslKe9_IpDzKJKy7kFDXdw2iBILnh75qfNo=s64",
      "userId": "03367688363527101143"
     },
     "user_tz": 420
    },
    "id": "tz_ncScym1Ik",
    "outputId": "373af37f-f0f0-4c26-c334-64fbb469474e"
   },
   "outputs": [
    {
     "data": {
      "text/plain": [
       "array([-75.61229137, -95.51368341, -96.09745095, ..., -60.45296723,\n",
       "       -57.74738138, -68.57960379])"
      ]
     },
     "execution_count": 34,
     "metadata": {
      "tags": []
     },
     "output_type": "execute_result"
    }
   ],
   "source": [
    "#Feature 10 - min z-axis value\n",
    "z_min = (np.amin(dataz, axis = 1)).T \n",
    "z_min"
   ]
  },
  {
   "cell_type": "code",
   "execution_count": 35,
   "metadata": {
    "colab": {
     "base_uri": "https://localhost:8080/",
     "height": 51
    },
    "colab_type": "code",
    "executionInfo": {
     "elapsed": 3546,
     "status": "ok",
     "timestamp": 1599919592642,
     "user": {
      "displayName": "Anjana Niranjan",
      "photoUrl": "https://lh3.googleusercontent.com/a-/AOh14Gi-DUuXNslKe9_IpDzKJKy7kFDXdw2iBILnh75qfNo=s64",
      "userId": "03367688363527101143"
     },
     "user_tz": 420
    },
    "id": "ZrXL894Um0kx",
    "outputId": "94bc3b5f-e758-46cf-d233-08ad41d14512"
   },
   "outputs": [
    {
     "data": {
      "text/plain": [
       "array([ 89.99802253,  48.78046722,  79.04487197, ..., 114.1044535 ,\n",
       "        74.95006865,  93.48507021])"
      ]
     },
     "execution_count": 35,
     "metadata": {
      "tags": []
     },
     "output_type": "execute_result"
    }
   ],
   "source": [
    "#Feature 11 - max x-axis value\n",
    "x_max = (np.amax(datax, axis = 1)).T \n",
    "x_max"
   ]
  },
  {
   "cell_type": "code",
   "execution_count": 36,
   "metadata": {
    "colab": {
     "base_uri": "https://localhost:8080/",
     "height": 51
    },
    "colab_type": "code",
    "executionInfo": {
     "elapsed": 3543,
     "status": "ok",
     "timestamp": 1599919592643,
     "user": {
      "displayName": "Anjana Niranjan",
      "photoUrl": "https://lh3.googleusercontent.com/a-/AOh14Gi-DUuXNslKe9_IpDzKJKy7kFDXdw2iBILnh75qfNo=s64",
      "userId": "03367688363527101143"
     },
     "user_tz": 420
    },
    "id": "zSdAII5Om0B5",
    "outputId": "3a043a56-81c5-4f64-fa3b-9afa0157712a"
   },
   "outputs": [
    {
     "data": {
      "text/plain": [
       "array([ 88.67727892, 137.1762527 , 132.025198  , ..., 148.4059994 ,\n",
       "       100.7451192 , 151.3174329 ])"
      ]
     },
     "execution_count": 36,
     "metadata": {
      "tags": []
     },
     "output_type": "execute_result"
    }
   ],
   "source": [
    "#Feature 12 - max y-axis value\n",
    "y_max = (np.amax(datay, axis = 1)).T \n",
    "y_max"
   ]
  },
  {
   "cell_type": "code",
   "execution_count": 37,
   "metadata": {
    "colab": {
     "base_uri": "https://localhost:8080/",
     "height": 51
    },
    "colab_type": "code",
    "executionInfo": {
     "elapsed": 3541,
     "status": "ok",
     "timestamp": 1599919592644,
     "user": {
      "displayName": "Anjana Niranjan",
      "photoUrl": "https://lh3.googleusercontent.com/a-/AOh14Gi-DUuXNslKe9_IpDzKJKy7kFDXdw2iBILnh75qfNo=s64",
      "userId": "03367688363527101143"
     },
     "user_tz": 420
    },
    "id": "39rm2rmfVNvs",
    "outputId": "20f66957-e54a-4c07-fc50-2b0ab0c7e04b"
   },
   "outputs": [
    {
     "data": {
      "text/plain": [
       "array([ 0.        ,  0.        ,  7.82026413, ..., 13.03395624,\n",
       "        0.        ,  4.27686864])"
      ]
     },
     "execution_count": 37,
     "metadata": {
      "tags": []
     },
     "output_type": "execute_result"
    }
   ],
   "source": [
    "#Feature 13 - maz z-axis value\n",
    "z_max = (np.amax(dataz, axis = 1)).T \n",
    "z_max"
   ]
  },
  {
   "cell_type": "code",
   "execution_count": 38,
   "metadata": {
    "colab": {},
    "colab_type": "code",
    "executionInfo": {
     "elapsed": 3947,
     "status": "ok",
     "timestamp": 1599919593052,
     "user": {
      "displayName": "Anjana Niranjan",
      "photoUrl": "https://lh3.googleusercontent.com/a-/AOh14Gi-DUuXNslKe9_IpDzKJKy7kFDXdw2iBILnh75qfNo=s64",
      "userId": "03367688363527101143"
     },
     "user_tz": 420
    },
    "id": "T1mMYgaGsYsE"
   },
   "outputs": [],
   "source": [
    "#Saving the features as a CSV file\n",
    "df = pd.DataFrame({'xmean': x_mean, 'ymean': y_mean, 'zmean': z_mean, 'xstd': x_std, 'ystd': y_std, 'zstd': z_std, 'xmax': x_max, 'ymax':y_max, 'zmax': z_max,'xmin':x_min, 'ymin':y_min, 'zmin':z_min, 'num': number, 'Class': Class })\n",
    "df.to_csv('linearTrain.csv')"
   ]
  },
  {
   "cell_type": "markdown",
   "metadata": {
    "colab_type": "text",
    "id": "EwXzG1ZiYBfT"
   },
   "source": [
    "Repeating this for the test dataset"
   ]
  },
  {
   "cell_type": "code",
   "execution_count": 39,
   "metadata": {
    "colab": {},
    "colab_type": "code",
    "executionInfo": {
     "elapsed": 3946,
     "status": "ok",
     "timestamp": 1599919593054,
     "user": {
      "displayName": "Anjana Niranjan",
      "photoUrl": "https://lh3.googleusercontent.com/a-/AOh14Gi-DUuXNslKe9_IpDzKJKy7kFDXdw2iBILnh75qfNo=s64",
      "userId": "03367688363527101143"
     },
     "user_tz": 420
    },
    "id": "3I_jmpnkXfLa"
   },
   "outputs": [],
   "source": [
    "#Separating the X, Y and Z axis data\n",
    "datax = raw_test[['X0', 'X1', 'X2', 'X3', 'X4', 'X5', 'X6', 'X7', 'X8', 'X9', 'X10', 'X11']]\n",
    "datay = raw_test[['Y0', 'Y1', 'Y2', 'Y3', 'Y4', 'Y5', 'Y6', 'Y7', 'Y8', 'Y9', 'Y10', 'Y11']]\n",
    "dataz = raw_test[['Z0', 'Z1', 'Z2', 'Z3', 'Z4', 'Z5', 'Z6', 'Z7', 'Z8', 'Z9', 'Z10', 'Z11']]\n",
    "Class = raw_test['Class']\n",
    "\n",
    "datax = np.array(datax)\n",
    "datay = np.array(datay)\n",
    "dataz = np.array(dataz)\n",
    "Class = np.array(Class)"
   ]
  },
  {
   "cell_type": "code",
   "execution_count": 40,
   "metadata": {
    "colab": {},
    "colab_type": "code",
    "executionInfo": {
     "elapsed": 3944,
     "status": "ok",
     "timestamp": 1599919593055,
     "user": {
      "displayName": "Anjana Niranjan",
      "photoUrl": "https://lh3.googleusercontent.com/a-/AOh14Gi-DUuXNslKe9_IpDzKJKy7kFDXdw2iBILnh75qfNo=s64",
      "userId": "03367688363527101143"
     },
     "user_tz": 420
    },
    "id": "EmFTx8eubfSk"
   },
   "outputs": [],
   "source": [
    "#Replacing the cells with no entries with 0\n",
    "datax = np.nan_to_num(datax)\n",
    "datay = np.nan_to_num(datay)\n",
    "dataz = np.nan_to_num(dataz)"
   ]
  },
  {
   "cell_type": "code",
   "execution_count": 41,
   "metadata": {
    "colab": {
     "base_uri": "https://localhost:8080/",
     "height": 537
    },
    "colab_type": "code",
    "executionInfo": {
     "elapsed": 3932,
     "status": "ok",
     "timestamp": 1599919593058,
     "user": {
      "displayName": "Anjana Niranjan",
      "photoUrl": "https://lh3.googleusercontent.com/a-/AOh14Gi-DUuXNslKe9_IpDzKJKy7kFDXdw2iBILnh75qfNo=s64",
      "userId": "03367688363527101143"
     },
     "user_tz": 420
    },
    "id": "xgoPXGqwoWgH",
    "outputId": "09b81283-3f9a-4991-f4e1-1a30ef8d9abd"
   },
   "outputs": [
    {
     "data": {
      "text/plain": [
       "array([[50.43080478, 12.83191885, 42.39951634, 47.61809086, 70.52226988,\n",
       "         0.        ,  0.        ,  0.        ,  0.        ,  0.        ,\n",
       "         0.        ,  0.        ],\n",
       "       [49.18760449, 12.01510186, 46.34979993, 41.76299865, 70.84056741,\n",
       "         0.        ,  0.        ,  0.        ,  0.        ,  0.        ,\n",
       "         0.        ,  0.        ],\n",
       "       [48.70960357,  8.88630861, 40.71185145, 69.60267089, 45.81233278,\n",
       "         0.        ,  0.        ,  0.        ,  0.        ,  0.        ,\n",
       "         0.        ,  0.        ],\n",
       "       [13.48247884, 48.61881545, 38.67935584, 45.82635018, 67.46918963,\n",
       "         0.        ,  0.        ,  0.        ,  0.        ,  0.        ,\n",
       "         0.        ,  0.        ],\n",
       "       [60.5664457 , 14.24364582, 47.72182173, 39.868457  , 46.16591647,\n",
       "         0.        ,  0.        ,  0.        ,  0.        ,  0.        ,\n",
       "         0.        ,  0.        ],\n",
       "       [60.96939861, 11.81564069, 41.12797069, 48.3283752 , 46.38530399,\n",
       "         0.        ,  0.        ,  0.        ,  0.        ,  0.        ,\n",
       "         0.        ,  0.        ],\n",
       "       [60.45599168, 40.58703685, 11.556236  , 48.50199747, 46.35309349,\n",
       "         0.        ,  0.        ,  0.        ,  0.        ,  0.        ,\n",
       "         0.        ,  0.        ],\n",
       "       [60.45961332, 11.66749527, 40.46952678, 46.01556077, 48.41608439,\n",
       "         0.        ,  0.        ,  0.        ,  0.        ,  0.        ,\n",
       "         0.        ,  0.        ],\n",
       "       [11.69917993, 66.20819884, 40.5475402 , 46.14273005, 48.12379591,\n",
       "         0.        ,  0.        ,  0.        ,  0.        ,  0.        ,\n",
       "         0.        ,  0.        ],\n",
       "       [11.30011399, 66.24895202, 39.73936334, 46.32791417, 47.75958335,\n",
       "         0.        ,  0.        ,  0.        ,  0.        ,  0.        ,\n",
       "         0.        ,  0.        ]])"
      ]
     },
     "execution_count": 41,
     "metadata": {
      "tags": []
     },
     "output_type": "execute_result"
    }
   ],
   "source": [
    "datax[0:10]"
   ]
  },
  {
   "cell_type": "code",
   "execution_count": 42,
   "metadata": {
    "colab": {
     "base_uri": "https://localhost:8080/",
     "height": 34
    },
    "colab_type": "code",
    "executionInfo": {
     "elapsed": 3920,
     "status": "ok",
     "timestamp": 1599919593059,
     "user": {
      "displayName": "Anjana Niranjan",
      "photoUrl": "https://lh3.googleusercontent.com/a-/AOh14Gi-DUuXNslKe9_IpDzKJKy7kFDXdw2iBILnh75qfNo=s64",
      "userId": "03367688363527101143"
     },
     "user_tz": 420
    },
    "id": "zmVAEd6foXG5",
    "outputId": "3a688a01-4ea2-4287-de79-57a6a403e0bb"
   },
   "outputs": [
    {
     "data": {
      "text/plain": [
       "(21099, 12)"
      ]
     },
     "execution_count": 42,
     "metadata": {
      "tags": []
     },
     "output_type": "execute_result"
    }
   ],
   "source": [
    "datax.shape"
   ]
  },
  {
   "cell_type": "code",
   "execution_count": 43,
   "metadata": {
    "colab": {
     "base_uri": "https://localhost:8080/",
     "height": 537
    },
    "colab_type": "code",
    "executionInfo": {
     "elapsed": 3908,
     "status": "ok",
     "timestamp": 1599919593061,
     "user": {
      "displayName": "Anjana Niranjan",
      "photoUrl": "https://lh3.googleusercontent.com/a-/AOh14Gi-DUuXNslKe9_IpDzKJKy7kFDXdw2iBILnh75qfNo=s64",
      "userId": "03367688363527101143"
     },
     "user_tz": 420
    },
    "id": "LvQ2clLPoXX7",
    "outputId": "0754e783-0097-4327-9784-84d086a58778"
   },
   "outputs": [
    {
     "data": {
      "text/plain": [
       "array([[ 4.29629197, 82.79346438, 76.40269297, 42.91149628, 65.1890302 ,\n",
       "         0.        ,  0.        ,  0.        ,  0.        ,  0.        ,\n",
       "         0.        ,  0.        ],\n",
       "       [ 4.61569853, 83.00536659, 43.43540618, 76.52460578, 64.93112048,\n",
       "         0.        ,  0.        ,  0.        ,  0.        ,  0.        ,\n",
       "         0.        ,  0.        ],\n",
       "       [ 4.75096046, 84.24406388, 76.98511108, 65.49123022, 43.75547823,\n",
       "         0.        ,  0.        ,  0.        ,  0.        ,  0.        ,\n",
       "         0.        ,  0.        ],\n",
       "       [81.8508535 ,  4.47354348, 77.64648907, 43.1282062 , 66.36919587,\n",
       "         0.        ,  0.        ,  0.        ,  0.        ,  0.        ,\n",
       "         0.        ,  0.        ],\n",
       "       [69.58336141, 81.5607829 ,  4.8360266 , 76.97572582, 43.25630328,\n",
       "         0.        ,  0.        ,  0.        ,  0.        ,  0.        ,\n",
       "         0.        ,  0.        ],\n",
       "       [69.89064816, 83.16411899, 76.91676708,  5.30332621, 43.92380663,\n",
       "         0.        ,  0.        ,  0.        ,  0.        ,  0.        ,\n",
       "         0.        ,  0.        ],\n",
       "       [70.27719373, 77.29348473, 83.14101519,  5.34151452, 43.80762085,\n",
       "         0.        ,  0.        ,  0.        ,  0.        ,  0.        ,\n",
       "         0.        ,  0.        ],\n",
       "       [70.33620927, 83.22731963, 77.36498272, 43.86432978,  5.40305082,\n",
       "         0.        ,  0.        ,  0.        ,  0.        ,  0.        ,\n",
       "         0.        ,  0.        ],\n",
       "       [83.19144217, 67.4601182 , 77.33312862, 43.72774516,  5.43364171,\n",
       "         0.        ,  0.        ,  0.        ,  0.        ,  0.        ,\n",
       "         0.        ,  0.        ],\n",
       "       [83.13603369, 67.18620847, 77.35476244, 43.16259341,  5.18058921,\n",
       "         0.        ,  0.        ,  0.        ,  0.        ,  0.        ,\n",
       "         0.        ,  0.        ]])"
      ]
     },
     "execution_count": 43,
     "metadata": {
      "tags": []
     },
     "output_type": "execute_result"
    }
   ],
   "source": [
    "datay[0:10]"
   ]
  },
  {
   "cell_type": "code",
   "execution_count": 44,
   "metadata": {
    "colab": {
     "base_uri": "https://localhost:8080/",
     "height": 34
    },
    "colab_type": "code",
    "executionInfo": {
     "elapsed": 3895,
     "status": "ok",
     "timestamp": 1599919593062,
     "user": {
      "displayName": "Anjana Niranjan",
      "photoUrl": "https://lh3.googleusercontent.com/a-/AOh14Gi-DUuXNslKe9_IpDzKJKy7kFDXdw2iBILnh75qfNo=s64",
      "userId": "03367688363527101143"
     },
     "user_tz": 420
    },
    "id": "bbb2NsRFoWwx",
    "outputId": "7e437dbe-4f06-42e4-945f-841a3e7480a4"
   },
   "outputs": [
    {
     "data": {
      "text/plain": [
       "(21099, 12)"
      ]
     },
     "execution_count": 44,
     "metadata": {
      "tags": []
     },
     "output_type": "execute_result"
    }
   ],
   "source": [
    "datay.shape"
   ]
  },
  {
   "cell_type": "code",
   "execution_count": 45,
   "metadata": {
    "colab": {
     "base_uri": "https://localhost:8080/",
     "height": 537
    },
    "colab_type": "code",
    "executionInfo": {
     "elapsed": 3878,
     "status": "ok",
     "timestamp": 1599919593065,
     "user": {
      "displayName": "Anjana Niranjan",
      "photoUrl": "https://lh3.googleusercontent.com/a-/AOh14Gi-DUuXNslKe9_IpDzKJKy7kFDXdw2iBILnh75qfNo=s64",
      "userId": "03367688363527101143"
     },
     "user_tz": 420
    },
    "id": "yQZkwYRgoWOL",
    "outputId": "c11dfad9-16f0-4fbe-97ef-47bfff7d3a17"
   },
   "outputs": [
    {
     "data": {
      "text/plain": [
       "array([[-80.13064242, -43.60871486, -48.35159325, -97.04299657,\n",
       "        -51.54404222,   0.        ,   0.        ,   0.        ,\n",
       "          0.        ,   0.        ,   0.        ,   0.        ],\n",
       "       [-81.05524239, -44.30655193, -97.801319  , -48.80231238,\n",
       "        -51.25110131,   0.        ,   0.        ,   0.        ,\n",
       "          0.        ,   0.        ,   0.        ,   0.        ],\n",
       "       [-81.3528225 , -45.91818228, -49.27801711, -52.20011274,\n",
       "        -98.08775676,   0.        ,   0.        ,   0.        ,\n",
       "          0.        ,   0.        ,   0.        ,   0.        ],\n",
       "       [-42.69402633, -81.42178274, -50.68172529, -98.21334106,\n",
       "        -53.74673421,   0.        ,   0.        ,   0.        ,\n",
       "          0.        ,   0.        ,   0.        ,   0.        ],\n",
       "       [-58.21400775, -41.92133726, -81.92370468, -49.48035749,\n",
       "        -97.50433961,   0.        ,   0.        ,   0.        ,\n",
       "          0.        ,   0.        ,   0.        ,   0.        ],\n",
       "       [-57.5506181 , -42.95776881, -48.27458455, -81.72208488,\n",
       "        -97.36004934,   0.        ,   0.        ,   0.        ,\n",
       "          0.        ,   0.        ,   0.        ,   0.        ],\n",
       "       [-57.94988646, -48.67335213, -43.29507421, -81.70251201,\n",
       "        -97.46103473,   0.        ,   0.        ,   0.        ,\n",
       "          0.        ,   0.        ,   0.        ,   0.        ],\n",
       "       [-58.01625643, -43.28622322, -48.78817093, -97.66831475,\n",
       "        -81.76302036,   0.        ,   0.        ,   0.        ,\n",
       "          0.        ,   0.        ,   0.        ,   0.        ],\n",
       "       [-43.36107837, -54.15244045, -48.80878707, -97.6575319 ,\n",
       "        -81.99623507,   0.        ,   0.        ,   0.        ,\n",
       "          0.        ,   0.        ,   0.        ,   0.        ],\n",
       "       [-43.79943011, -54.37810799, -49.70321388, -97.57822771,\n",
       "        -82.21280281,   0.        ,   0.        ,   0.        ,\n",
       "          0.        ,   0.        ,   0.        ,   0.        ]])"
      ]
     },
     "execution_count": 45,
     "metadata": {
      "tags": []
     },
     "output_type": "execute_result"
    }
   ],
   "source": [
    "dataz[0:10]"
   ]
  },
  {
   "cell_type": "code",
   "execution_count": 46,
   "metadata": {
    "colab": {
     "base_uri": "https://localhost:8080/",
     "height": 34
    },
    "colab_type": "code",
    "executionInfo": {
     "elapsed": 3865,
     "status": "ok",
     "timestamp": 1599919593067,
     "user": {
      "displayName": "Anjana Niranjan",
      "photoUrl": "https://lh3.googleusercontent.com/a-/AOh14Gi-DUuXNslKe9_IpDzKJKy7kFDXdw2iBILnh75qfNo=s64",
      "userId": "03367688363527101143"
     },
     "user_tz": 420
    },
    "id": "74XZSsY4ojo8",
    "outputId": "55a4e031-203a-47f4-8fbd-fb7f2fddde8b"
   },
   "outputs": [
    {
     "data": {
      "text/plain": [
       "(21099, 12)"
      ]
     },
     "execution_count": 46,
     "metadata": {
      "tags": []
     },
     "output_type": "execute_result"
    }
   ],
   "source": [
    "dataz.shape"
   ]
  },
  {
   "cell_type": "code",
   "execution_count": 47,
   "metadata": {
    "colab": {},
    "colab_type": "code",
    "executionInfo": {
     "elapsed": 5607,
     "status": "ok",
     "timestamp": 1599919594827,
     "user": {
      "displayName": "Anjana Niranjan",
      "photoUrl": "https://lh3.googleusercontent.com/a-/AOh14Gi-DUuXNslKe9_IpDzKJKy7kFDXdw2iBILnh75qfNo=s64",
      "userId": "03367688363527101143"
     },
     "user_tz": 420
    },
    "id": "TwdxLBgvbjGO"
   },
   "outputs": [],
   "source": [
    "x_mean = []\n",
    "y_mean = []\n",
    "z_mean = []\n",
    "x_std = []\n",
    "y_std = []\n",
    "z_std = []\n",
    "number = []\n",
    "\n",
    "for i in range (len(datax)):\n",
    "  x_mean.append(np.mean(datax[i]))\n",
    "  y_mean.append(np.mean(datay[i]))\n",
    "  z_mean.append(np.mean(dataz[i]))\n",
    "  x_std.append(np.std(datax[i]))\n",
    "  y_std.append(np.std(datay[i]))\n",
    "  z_std.append(np.std(dataz[i]))\n",
    "  number.append(np.count_nonzero([datax[i], datay[i], dataz[i]]))"
   ]
  },
  {
   "cell_type": "code",
   "execution_count": 48,
   "metadata": {
    "colab": {
     "base_uri": "https://localhost:8080/",
     "height": 51
    },
    "colab_type": "code",
    "executionInfo": {
     "elapsed": 5607,
     "status": "ok",
     "timestamp": 1599919594838,
     "user": {
      "displayName": "Anjana Niranjan",
      "photoUrl": "https://lh3.googleusercontent.com/a-/AOh14Gi-DUuXNslKe9_IpDzKJKy7kFDXdw2iBILnh75qfNo=s64",
      "userId": "03367688363527101143"
     },
     "user_tz": 420
    },
    "id": "OBqIlj7GdoX5",
    "outputId": "eb7d0e5b-d2cc-4fe5-91d6-b0a0a422a1c7"
   },
   "outputs": [
    {
     "data": {
      "text/plain": [
       "array([18.65021673, 18.34633936, 17.81023061, ..., 23.41970386,\n",
       "       16.98669585, 23.51120051])"
      ]
     },
     "execution_count": 48,
     "metadata": {
      "tags": []
     },
     "output_type": "execute_result"
    }
   ],
   "source": [
    "#Feature 1 - mean of x-axis values\n",
    "x_mean = np.array(x_mean) \n",
    "x_mean"
   ]
  },
  {
   "cell_type": "code",
   "execution_count": 49,
   "metadata": {
    "colab": {
     "base_uri": "https://localhost:8080/",
     "height": 51
    },
    "colab_type": "code",
    "executionInfo": {
     "elapsed": 5594,
     "status": "ok",
     "timestamp": 1599919594839,
     "user": {
      "displayName": "Anjana Niranjan",
      "photoUrl": "https://lh3.googleusercontent.com/a-/AOh14Gi-DUuXNslKe9_IpDzKJKy7kFDXdw2iBILnh75qfNo=s64",
      "userId": "03367688363527101143"
     },
     "user_tz": 420
    },
    "id": "wpaxb4TJdozi",
    "outputId": "f04f198f-8077-401b-9cf7-d641ffa256d6"
   },
   "outputs": [
    {
     "data": {
      "text/plain": [
       "array([22.63274798, 22.7093498 , 22.93557032, ..., 80.79464181,\n",
       "       78.04153726, 80.7871236 ])"
      ]
     },
     "execution_count": 49,
     "metadata": {
      "tags": []
     },
     "output_type": "execute_result"
    }
   ],
   "source": [
    "#Feature 2 - mean of y-axis values\n",
    "y_mean = np.array(y_mean) \n",
    "y_mean"
   ]
  },
  {
   "cell_type": "code",
   "execution_count": 50,
   "metadata": {
    "colab": {
     "base_uri": "https://localhost:8080/",
     "height": 51
    },
    "colab_type": "code",
    "executionInfo": {
     "elapsed": 5583,
     "status": "ok",
     "timestamp": 1599919594841,
     "user": {
      "displayName": "Anjana Niranjan",
      "photoUrl": "https://lh3.googleusercontent.com/a-/AOh14Gi-DUuXNslKe9_IpDzKJKy7kFDXdw2iBILnh75qfNo=s64",
      "userId": "03367688363527101143"
     },
     "user_tz": 420
    },
    "id": "ITl_BlTCdpUo",
    "outputId": "0fb89bde-ee0f-425d-9851-269c78563325"
   },
   "outputs": [
    {
     "data": {
      "text/plain": [
       "array([-26.72316578, -26.93471058, -27.23640762, ..., -24.77923359,\n",
       "       -21.13030303, -24.87805937])"
      ]
     },
     "execution_count": 50,
     "metadata": {
      "tags": []
     },
     "output_type": "execute_result"
    }
   ],
   "source": [
    "#Feature 3 - mean of z-axis values\n",
    "z_mean = np.array(z_mean) \n",
    "z_mean"
   ]
  },
  {
   "cell_type": "code",
   "execution_count": 51,
   "metadata": {
    "colab": {
     "base_uri": "https://localhost:8080/",
     "height": 51
    },
    "colab_type": "code",
    "executionInfo": {
     "elapsed": 5571,
     "status": "ok",
     "timestamp": 1599919594843,
     "user": {
      "displayName": "Anjana Niranjan",
      "photoUrl": "https://lh3.googleusercontent.com/a-/AOh14Gi-DUuXNslKe9_IpDzKJKy7kFDXdw2iBILnh75qfNo=s64",
      "userId": "03367688363527101143"
     },
     "user_tz": 420
    },
    "id": "oBbxrYaJdpCn",
    "outputId": "c9497d33-8886-4d6b-bca0-a694329f2a30"
   },
   "outputs": [
    {
     "data": {
      "text/plain": [
       "array([25.12062452, 24.89237349, 24.57284522, ..., 37.63943907,\n",
       "       34.13224391, 37.60711556])"
      ]
     },
     "execution_count": 51,
     "metadata": {
      "tags": []
     },
     "output_type": "execute_result"
    }
   ],
   "source": [
    "#Feature 4 - standard deviation of x-axis values\n",
    "x_std = np.array(x_std) \n",
    "x_std"
   ]
  },
  {
   "cell_type": "code",
   "execution_count": 52,
   "metadata": {
    "colab": {
     "base_uri": "https://localhost:8080/",
     "height": 51
    },
    "colab_type": "code",
    "executionInfo": {
     "elapsed": 5560,
     "status": "ok",
     "timestamp": 1599919594845,
     "user": {
      "displayName": "Anjana Niranjan",
      "photoUrl": "https://lh3.googleusercontent.com/a-/AOh14Gi-DUuXNslKe9_IpDzKJKy7kFDXdw2iBILnh75qfNo=s64",
      "userId": "03367688363527101143"
     },
     "user_tz": 420
    },
    "id": "U0Bho8mkdoco",
    "outputId": "6cce4d4c-c57e-4968-d45d-8f472b6cf4c6"
   },
   "outputs": [
    {
     "data": {
      "text/plain": [
       "array([32.47396157, 32.50810276, 32.8348135 , ..., 45.59415791,\n",
       "       49.1834747 , 45.72780854])"
      ]
     },
     "execution_count": 52,
     "metadata": {
      "tags": []
     },
     "output_type": "execute_result"
    }
   ],
   "source": [
    "#Feature 5 - standard deviation of y-axis values\n",
    "y_std = np.array(y_std) \n",
    "y_std"
   ]
  },
  {
   "cell_type": "code",
   "execution_count": 53,
   "metadata": {
    "colab": {
     "base_uri": "https://localhost:8080/",
     "height": 51
    },
    "colab_type": "code",
    "executionInfo": {
     "elapsed": 5548,
     "status": "ok",
     "timestamp": 1599919594846,
     "user": {
      "displayName": "Anjana Niranjan",
      "photoUrl": "https://lh3.googleusercontent.com/a-/AOh14Gi-DUuXNslKe9_IpDzKJKy7kFDXdw2iBILnh75qfNo=s64",
      "userId": "03367688363527101143"
     },
     "user_tz": 420
    },
    "id": "8yLcWenNdoSo",
    "outputId": "160a98bd-8876-4188-e1ae-1bbf29258caf"
   },
   "outputs": [
    {
     "data": {
      "text/plain": [
       "array([34.35733405, 34.64188016, 34.87989053, ..., 24.85758926,\n",
       "       24.90258098, 24.94971577])"
      ]
     },
     "execution_count": 53,
     "metadata": {
      "tags": []
     },
     "output_type": "execute_result"
    }
   ],
   "source": [
    "#Feature 6 - standard deviation of z-axis values\n",
    "z_std = np.array(z_std) \n",
    "z_std"
   ]
  },
  {
   "cell_type": "code",
   "execution_count": 54,
   "metadata": {
    "colab": {
     "base_uri": "https://localhost:8080/",
     "height": 34
    },
    "colab_type": "code",
    "executionInfo": {
     "elapsed": 5533,
     "status": "ok",
     "timestamp": 1599919594848,
     "user": {
      "displayName": "Anjana Niranjan",
      "photoUrl": "https://lh3.googleusercontent.com/a-/AOh14Gi-DUuXNslKe9_IpDzKJKy7kFDXdw2iBILnh75qfNo=s64",
      "userId": "03367688363527101143"
     },
     "user_tz": 420
    },
    "id": "WTKnyz-weG6w",
    "outputId": "4cd4e6c1-3c6d-4b20-a375-bea34dd3c16a"
   },
   "outputs": [
    {
     "data": {
      "text/plain": [
       "array([15, 15, 15, ..., 30, 27, 30])"
      ]
     },
     "execution_count": 54,
     "metadata": {
      "tags": []
     },
     "output_type": "execute_result"
    }
   ],
   "source": [
    "#Feature 7 - number of data points present\n",
    "number = np.array(number) \n",
    "number"
   ]
  },
  {
   "cell_type": "code",
   "execution_count": 55,
   "metadata": {
    "colab": {
     "base_uri": "https://localhost:8080/",
     "height": 51
    },
    "colab_type": "code",
    "executionInfo": {
     "elapsed": 5516,
     "status": "ok",
     "timestamp": 1599919594850,
     "user": {
      "displayName": "Anjana Niranjan",
      "photoUrl": "https://lh3.googleusercontent.com/a-/AOh14Gi-DUuXNslKe9_IpDzKJKy7kFDXdw2iBILnh75qfNo=s64",
      "userId": "03367688363527101143"
     },
     "user_tz": 420
    },
    "id": "2pmBE-jleRyi",
    "outputId": "3c718f97-d220-4c86-86f1-1a5c8d144e69"
   },
   "outputs": [
    {
     "data": {
      "text/plain": [
       "array([  0.        ,   0.        ,   0.        , ..., -30.2256749 ,\n",
       "       -30.0845882 , -30.03140158])"
      ]
     },
     "execution_count": 55,
     "metadata": {
      "tags": []
     },
     "output_type": "execute_result"
    }
   ],
   "source": [
    "#Feature 8 - min x-axis value\n",
    "x_min = (np.amin(datax, axis = 1)).T \n",
    "x_min"
   ]
  },
  {
   "cell_type": "code",
   "execution_count": 56,
   "metadata": {
    "colab": {
     "base_uri": "https://localhost:8080/",
     "height": 34
    },
    "colab_type": "code",
    "executionInfo": {
     "elapsed": 5496,
     "status": "ok",
     "timestamp": 1599919594851,
     "user": {
      "displayName": "Anjana Niranjan",
      "photoUrl": "https://lh3.googleusercontent.com/a-/AOh14Gi-DUuXNslKe9_IpDzKJKy7kFDXdw2iBILnh75qfNo=s64",
      "userId": "03367688363527101143"
     },
     "user_tz": 420
    },
    "id": "_svZcb19eRuX",
    "outputId": "7b91fa58-98b1-479d-f111-c0875cdfce62"
   },
   "outputs": [
    {
     "data": {
      "text/plain": [
       "array([0., 0., 0., ..., 0., 0., 0.])"
      ]
     },
     "execution_count": 56,
     "metadata": {
      "tags": []
     },
     "output_type": "execute_result"
    }
   ],
   "source": [
    "#Feature 9 - min y-axis value\n",
    "y_min = (np.amin(datay, axis = 1)).T \n",
    "y_min"
   ]
  },
  {
   "cell_type": "code",
   "execution_count": 57,
   "metadata": {
    "colab": {
     "base_uri": "https://localhost:8080/",
     "height": 51
    },
    "colab_type": "code",
    "executionInfo": {
     "elapsed": 5771,
     "status": "ok",
     "timestamp": 1599919595143,
     "user": {
      "displayName": "Anjana Niranjan",
      "photoUrl": "https://lh3.googleusercontent.com/a-/AOh14Gi-DUuXNslKe9_IpDzKJKy7kFDXdw2iBILnh75qfNo=s64",
      "userId": "03367688363527101143"
     },
     "user_tz": 420
    },
    "id": "Du-4jphgeap1",
    "outputId": "ce336329-ff0e-4e34-82ca-5a360f113bd1"
   },
   "outputs": [
    {
     "data": {
      "text/plain": [
       "array([-97.04299657, -97.801319  , -98.08775676, ..., -62.71873546,\n",
       "       -63.22162593, -63.02657442])"
      ]
     },
     "execution_count": 57,
     "metadata": {
      "tags": []
     },
     "output_type": "execute_result"
    }
   ],
   "source": [
    "#Feature 10 - min z-axis value\n",
    "z_min = (np.amin(dataz, axis = 1)).T \n",
    "z_min"
   ]
  },
  {
   "cell_type": "code",
   "execution_count": 58,
   "metadata": {
    "colab": {
     "base_uri": "https://localhost:8080/",
     "height": 51
    },
    "colab_type": "code",
    "executionInfo": {
     "elapsed": 5758,
     "status": "ok",
     "timestamp": 1599919595146,
     "user": {
      "displayName": "Anjana Niranjan",
      "photoUrl": "https://lh3.googleusercontent.com/a-/AOh14Gi-DUuXNslKe9_IpDzKJKy7kFDXdw2iBILnh75qfNo=s64",
      "userId": "03367688363527101143"
     },
     "user_tz": 420
    },
    "id": "1_U9UYtEeasn",
    "outputId": "11f0a936-36ae-471e-9b59-6cc6a27d5790"
   },
   "outputs": [
    {
     "data": {
      "text/plain": [
       "array([70.52226988, 70.84056741, 69.60267089, ..., 88.2910287 ,\n",
       "       88.46570937, 88.34744742])"
      ]
     },
     "execution_count": 58,
     "metadata": {
      "tags": []
     },
     "output_type": "execute_result"
    }
   ],
   "source": [
    "#Feature 11 - max x-axis value\n",
    "x_max = (np.amax(datax, axis = 1)).T \n",
    "x_max"
   ]
  },
  {
   "cell_type": "code",
   "execution_count": 59,
   "metadata": {
    "colab": {
     "base_uri": "https://localhost:8080/",
     "height": 51
    },
    "colab_type": "code",
    "executionInfo": {
     "elapsed": 5746,
     "status": "ok",
     "timestamp": 1599919595151,
     "user": {
      "displayName": "Anjana Niranjan",
      "photoUrl": "https://lh3.googleusercontent.com/a-/AOh14Gi-DUuXNslKe9_IpDzKJKy7kFDXdw2iBILnh75qfNo=s64",
      "userId": "03367688363527101143"
     },
     "user_tz": 420
    },
    "id": "SB_gRurjefxi",
    "outputId": "cb6568cc-a67b-45a9-964b-cef44db87250"
   },
   "outputs": [
    {
     "data": {
      "text/plain": [
       "array([ 82.79346438,  83.00536659,  84.24406388, ..., 135.60590286,\n",
       "       135.52392926, 135.76292171])"
      ]
     },
     "execution_count": 59,
     "metadata": {
      "tags": []
     },
     "output_type": "execute_result"
    }
   ],
   "source": [
    "#Feature 12 - max y-axis value\n",
    "y_max = (np.amax(datay, axis = 1)).T \n",
    "y_max"
   ]
  },
  {
   "cell_type": "code",
   "execution_count": 60,
   "metadata": {
    "colab": {
     "base_uri": "https://localhost:8080/",
     "height": 51
    },
    "colab_type": "code",
    "executionInfo": {
     "elapsed": 5730,
     "status": "ok",
     "timestamp": 1599919595154,
     "user": {
      "displayName": "Anjana Niranjan",
      "photoUrl": "https://lh3.googleusercontent.com/a-/AOh14Gi-DUuXNslKe9_IpDzKJKy7kFDXdw2iBILnh75qfNo=s64",
      "userId": "03367688363527101143"
     },
     "user_tz": 420
    },
    "id": "B02yvo1CbmQk",
    "outputId": "2495f383-c8db-468f-fe19-1dab6425bc6b"
   },
   "outputs": [
    {
     "data": {
      "text/plain": [
       "array([ 0.        ,  0.        ,  0.        , ..., 11.02034689,\n",
       "       10.81495719, 11.1078565 ])"
      ]
     },
     "execution_count": 60,
     "metadata": {
      "tags": []
     },
     "output_type": "execute_result"
    }
   ],
   "source": [
    "#Feature 13 - maz z-axis value\n",
    "z_max = (np.amax(dataz, axis = 1)).T \n",
    "z_max"
   ]
  },
  {
   "cell_type": "code",
   "execution_count": 61,
   "metadata": {
    "colab": {},
    "colab_type": "code",
    "executionInfo": {
     "elapsed": 6181,
     "status": "ok",
     "timestamp": 1599919595622,
     "user": {
      "displayName": "Anjana Niranjan",
      "photoUrl": "https://lh3.googleusercontent.com/a-/AOh14Gi-DUuXNslKe9_IpDzKJKy7kFDXdw2iBILnh75qfNo=s64",
      "userId": "03367688363527101143"
     },
     "user_tz": 420
    },
    "id": "4_P3yNYAbqbz"
   },
   "outputs": [],
   "source": [
    "#Saving the features as a CSV file\n",
    "df = pd.DataFrame({'xmean': x_mean, 'ymean': y_mean, 'zmean': z_mean, 'xstd': x_std, 'ystd': y_std, 'zstd': z_std, 'xmax': x_max, 'ymax':y_max, 'zmax': z_max,'xmin':x_min, 'ymin':y_min, 'zmin':z_min, 'num': number, 'Class': Class })\n",
    "df.to_csv('linearTest.csv')"
   ]
  }
 ],
 "metadata": {
  "colab": {
   "authorship_tag": "ABX9TyN1SXrnc79kFEAbX6WTZx2q",
   "mount_file_id": "1UIjghBUslwXmu4fMabLo3obzLVMXEFUK",
   "name": "linearDatasetPreparation.ipynb",
   "provenance": []
  },
  "kernelspec": {
   "display_name": "Python 3",
   "language": "python",
   "name": "python3"
  },
  "language_info": {
   "codemirror_mode": {
    "name": "ipython",
    "version": 3
   },
   "file_extension": ".py",
   "mimetype": "text/x-python",
   "name": "python",
   "nbconvert_exporter": "python",
   "pygments_lexer": "ipython3",
   "version": "3.7.3"
  }
 },
 "nbformat": 4,
 "nbformat_minor": 1
}
