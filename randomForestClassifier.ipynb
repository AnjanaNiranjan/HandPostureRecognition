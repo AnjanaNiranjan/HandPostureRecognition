{
 "cells": [
  {
   "cell_type": "code",
   "execution_count": 1,
   "metadata": {
    "colab": {},
    "colab_type": "code",
    "executionInfo": {
     "elapsed": 967,
     "status": "ok",
     "timestamp": 1599935202455,
     "user": {
      "displayName": "Anjana Niranjan",
      "photoUrl": "https://lh3.googleusercontent.com/a-/AOh14Gi-DUuXNslKe9_IpDzKJKy7kFDXdw2iBILnh75qfNo=s64",
      "userId": "03367688363527101143"
     },
     "user_tz": 420
    },
    "id": "pbjVPvZ6WT6B"
   },
   "outputs": [],
   "source": [
    "'''This notebook implements the Random Forest classifier on\n",
    "    1. The linear dataset\n",
    "    2. The standardized linear dataset\n",
    "    3. The standardized expanded dataset\n",
    "    4. Optimal features selected from the expanded dataset'''\n",
    "\n",
    "__author__ = 'Anjana Niranjan'\n",
    "__email__ = 'anjanani@usc.edu'"
   ]
  },
  {
   "cell_type": "markdown",
   "metadata": {
    "colab_type": "text",
    "id": "eSI7YxwFQYeq"
   },
   "source": [
    "**Random Forest**\n",
    "Thanks to the sklearn website for examples on the functions used in this code.\n",
    "Thanks to https://stackoverflow.com/questions/51194627/python-naive-bayes-with-cross-validation-using-gaussiannb-classifier for helping with cross-validation."
   ]
  },
  {
   "cell_type": "code",
   "execution_count": null,
   "metadata": {
    "colab": {},
    "colab_type": "code",
    "id": "bcfXeNAKj6t7"
   },
   "outputs": [],
   "source": [
    "#imports\n",
    "import pandas as pd\n",
    "import numpy as np\n",
    "from sklearn.model_selection import GridSearchCV, KFold\n",
    "from sklearn.ensemble import RandomForestClassifier\n",
    "from sklearn.metrics import confusion_matrix\n",
    "from sklearn.metrics import accuracy_score"
   ]
  },
  {
   "cell_type": "code",
   "execution_count": null,
   "metadata": {
    "colab": {},
    "colab_type": "code",
    "id": "BNHHu2gikjhE"
   },
   "outputs": [],
   "source": [
    "#Loading the train and test data\n",
    "train = pd.read_csv('/content/drive/My Drive/Colab Notebooks/mpr/linearTrain.csv')\n",
    "test = pd.read_csv('/content/drive/My Drive/Colab Notebooks/mpr/linearTest.csv')"
   ]
  },
  {
   "cell_type": "code",
   "execution_count": null,
   "metadata": {
    "colab": {},
    "colab_type": "code",
    "id": "LkiYVb5Nkl1W"
   },
   "outputs": [],
   "source": [
    "X_train = train.iloc[:, 1:14]\n",
    "y_train = train.iloc[:,14]\n",
    "X_test = test.iloc[:, 1:14]\n",
    "y_test = test.iloc[:, 14]"
   ]
  },
  {
   "cell_type": "markdown",
   "metadata": {
    "colab_type": "text",
    "id": "7XeffoNUVkOB"
   },
   "source": [
    "Implementing the random forest classifier on the data by selecting the best parameters through grid search with cross validation"
   ]
  },
  {
   "cell_type": "code",
   "execution_count": null,
   "metadata": {
    "colab": {
     "base_uri": "https://localhost:8080/",
     "height": 398
    },
    "colab_type": "code",
    "executionInfo": {
     "elapsed": 172201,
     "status": "ok",
     "timestamp": 1589053296822,
     "user": {
      "displayName": "Anjana Niranjan",
      "photoUrl": "https://lh3.googleusercontent.com/a-/AOh14Gi-DUuXNslKe9_IpDzKJKy7kFDXdw2iBILnh75qfNo=s64",
      "userId": "03367688363527101143"
     },
     "user_tz": 420
    },
    "id": "8opcBvUQksNg",
    "outputId": "7ff2531d-19dc-434d-c9c9-b747b76e89bd"
   },
   "outputs": [
    {
     "data": {
      "text/plain": [
       "GridSearchCV(cv=KFold(n_splits=9, random_state=None, shuffle=False),\n",
       "             error_score=nan,\n",
       "             estimator=RandomForestClassifier(bootstrap=True, ccp_alpha=0.0,\n",
       "                                              class_weight=None,\n",
       "                                              criterion='gini', max_depth=None,\n",
       "                                              max_features='auto',\n",
       "                                              max_leaf_nodes=None,\n",
       "                                              max_samples=None,\n",
       "                                              min_impurity_decrease=0.0,\n",
       "                                              min_impurity_split=None,\n",
       "                                              min_samples_leaf=1,\n",
       "                                              min_samples_split=2,\n",
       "                                              min_weight_fraction_leaf=0.0,\n",
       "                                              n_estimators=100, n_jobs=None,\n",
       "                                              oob_score=False,\n",
       "                                              random_state=None, verbose=0,\n",
       "                                              warm_start=False),\n",
       "             iid='deprecated', n_jobs=None,\n",
       "             param_grid={'max_depth': [1, 2, 5],\n",
       "                         'n_estimators': [10, 100, 500]},\n",
       "             pre_dispatch='2*n_jobs', refit=True, return_train_score=True,\n",
       "             scoring=None, verbose=0)"
      ]
     },
     "execution_count": 43,
     "metadata": {
      "tags": []
     },
     "output_type": "execute_result"
    }
   ],
   "source": [
    "kf = KFold(n_splits=9, random_state=None, shuffle=False)\n",
    "params = {'n_estimators':[10, 100, 500], 'max_depth':[1, 2, 5]}\n",
    "clf = RandomForestClassifier()\n",
    "gs = GridSearchCV(clf, cv=kf, param_grid=params, return_train_score=True)\n",
    "\n",
    "gs.fit(X_train, y_train)"
   ]
  },
  {
   "cell_type": "code",
   "execution_count": null,
   "metadata": {
    "colab": {
     "base_uri": "https://localhost:8080/",
     "height": 1000
    },
    "colab_type": "code",
    "executionInfo": {
     "elapsed": 171072,
     "status": "ok",
     "timestamp": 1589053296823,
     "user": {
      "displayName": "Anjana Niranjan",
      "photoUrl": "https://lh3.googleusercontent.com/a-/AOh14Gi-DUuXNslKe9_IpDzKJKy7kFDXdw2iBILnh75qfNo=s64",
      "userId": "03367688363527101143"
     },
     "user_tz": 420
    },
    "id": "IkbefuKJlUK-",
    "outputId": "ddc82d91-dd78-4693-ef4d-f17f7b498187"
   },
   "outputs": [
    {
     "data": {
      "text/plain": [
       "{'mean_fit_time': array([0.05507008, 0.51616155, 2.52062003, 0.08008541, 0.75594905,\n",
       "        3.76594257, 0.14546855, 1.42543864, 7.05470851]),\n",
       " 'mean_score_time': array([0.00309957, 0.01694274, 0.0722688 , 0.00344796, 0.01714537,\n",
       "        0.08003855, 0.003574  , 0.02016224, 0.09387591]),\n",
       " 'mean_test_score': array([0.55340741, 0.55162963, 0.57711111, 0.69466667, 0.75259259,\n",
       "        0.79614815, 0.8202963 , 0.86614815, 0.86659259]),\n",
       " 'mean_train_score': array([0.62289815, 0.6114537 , 0.61534259, 0.83638889, 0.90865741,\n",
       "        0.91662037, 0.98347222, 0.98932407, 0.98968519]),\n",
       " 'param_max_depth': masked_array(data=[1, 1, 1, 2, 2, 2, 5, 5, 5],\n",
       "              mask=[False, False, False, False, False, False, False, False,\n",
       "                    False],\n",
       "        fill_value='?',\n",
       "             dtype=object),\n",
       " 'param_n_estimators': masked_array(data=[10, 100, 500, 10, 100, 500, 10, 100, 500],\n",
       "              mask=[False, False, False, False, False, False, False, False,\n",
       "                    False],\n",
       "        fill_value='?',\n",
       "             dtype=object),\n",
       " 'params': [{'max_depth': 1, 'n_estimators': 10},\n",
       "  {'max_depth': 1, 'n_estimators': 100},\n",
       "  {'max_depth': 1, 'n_estimators': 500},\n",
       "  {'max_depth': 2, 'n_estimators': 10},\n",
       "  {'max_depth': 2, 'n_estimators': 100},\n",
       "  {'max_depth': 2, 'n_estimators': 500},\n",
       "  {'max_depth': 5, 'n_estimators': 10},\n",
       "  {'max_depth': 5, 'n_estimators': 100},\n",
       "  {'max_depth': 5, 'n_estimators': 500}],\n",
       " 'rank_test_score': array([8, 9, 7, 6, 5, 4, 3, 2, 1], dtype=int32),\n",
       " 'split0_test_score': array([0.514     , 0.61333333, 0.53133333, 0.608     , 0.75866667,\n",
       "        0.856     , 0.764     , 0.88466667, 0.85266667]),\n",
       " 'split0_train_score': array([0.57508333, 0.62666667, 0.60241667, 0.88191667, 0.89225   ,\n",
       "        0.918     , 0.98425   , 0.99125   , 0.99258333]),\n",
       " 'split1_test_score': array([0.46333333, 0.486     , 0.67266667, 0.404     , 0.444     ,\n",
       "        0.43533333, 0.77733333, 0.84666667, 0.84      ]),\n",
       " 'split1_train_score': array([0.65716667, 0.60991667, 0.65325   , 0.77733333, 0.92125   ,\n",
       "        0.93116667, 0.99041667, 0.99216667, 0.9905    ]),\n",
       " 'split2_test_score': array([0.604     , 0.66533333, 0.66533333, 0.75333333, 0.80933333,\n",
       "        0.82733333, 0.788     , 0.754     , 0.754     ]),\n",
       " 'split2_train_score': array([0.67083333, 0.62125   , 0.62525   , 0.8555    , 0.91516667,\n",
       "        0.9145    , 0.9775    , 0.98883333, 0.98875   ]),\n",
       " 'split3_test_score': array([0.232     , 0.302     , 0.41333333, 0.57533333, 0.49466667,\n",
       "        0.66133333, 0.572     , 0.642     , 0.63266667]),\n",
       " 'split3_train_score': array([0.5485    , 0.58133333, 0.61041667, 0.76391667, 0.92266667,\n",
       "        0.92      , 0.98316667, 0.98766667, 0.98941667]),\n",
       " 'split4_test_score': array([0.60933333, 0.60333333, 0.60333333, 0.62733333, 0.968     ,\n",
       "        0.96866667, 0.954     , 0.96866667, 0.97533333]),\n",
       " 'split4_train_score': array([0.65608333, 0.63441667, 0.60641667, 0.81233333, 0.91558333,\n",
       "        0.91875   , 0.98125   , 0.986     , 0.98725   ]),\n",
       " 'split5_test_score': array([0.534     , 0.52666667, 0.538     , 0.87      , 0.856     ,\n",
       "        0.88533333, 0.87      , 0.844     , 0.84866667]),\n",
       " 'split5_train_score': array([0.61058333, 0.6145    , 0.61391667, 0.89075   , 0.92133333,\n",
       "        0.91841667, 0.98341667, 0.98941667, 0.99      ]),\n",
       " 'split6_test_score': array([0.74      , 0.55066667, 0.55066667, 0.78733333, 0.78666667,\n",
       "        0.78533333, 0.98      , 0.98466667, 0.98466667]),\n",
       " 'split6_train_score': array([0.5915    , 0.614     , 0.61408333, 0.83316667, 0.90508333,\n",
       "        0.9085    , 0.98091667, 0.9875    , 0.98783333]),\n",
       " 'split7_test_score': array([0.598     , 0.622     , 0.624     , 0.942     , 0.97133333,\n",
       "        0.972     , 0.962     , 0.95733333, 0.98266667]),\n",
       " 'split7_train_score': array([0.59925   , 0.57208333, 0.58333333, 0.86708333, 0.90175   ,\n",
       "        0.90308333, 0.9815    , 0.9895    , 0.98983333]),\n",
       " 'split8_test_score': array([0.686     , 0.59533333, 0.59533333, 0.68466667, 0.68466667,\n",
       "        0.774     , 0.71533333, 0.91333333, 0.92866667]),\n",
       " 'split8_train_score': array([0.69708333, 0.62891667, 0.629     , 0.8455    , 0.88283333,\n",
       "        0.91716667, 0.98883333, 0.99158333, 0.991     ]),\n",
       " 'std_fit_time': array([0.00269763, 0.01391585, 0.01063121, 0.00162638, 0.00777116,\n",
       "        0.01635392, 0.00318814, 0.01173627, 0.02457637]),\n",
       " 'std_score_time': array([0.00013943, 0.00201432, 0.00120267, 0.0006419 , 0.00046677,\n",
       "        0.00352706, 0.00013169, 0.00055906, 0.00337069]),\n",
       " 'std_test_score': array([0.13881205, 0.1019354 , 0.07548363, 0.15449448, 0.17503254,\n",
       "        0.15711466, 0.12678011, 0.10494997, 0.11141179]),\n",
       " 'std_train_score': array([0.04666058, 0.02009711, 0.01832085, 0.0418292 , 0.01334342,\n",
       "        0.00735352, 0.00378145, 0.00195215, 0.00153547])}"
      ]
     },
     "execution_count": 44,
     "metadata": {
      "tags": []
     },
     "output_type": "execute_result"
    }
   ],
   "source": [
    "#Results of the grid search \n",
    "gs.cv_results_"
   ]
  },
  {
   "cell_type": "code",
   "execution_count": null,
   "metadata": {
    "colab": {
     "base_uri": "https://localhost:8080/",
     "height": 155
    },
    "colab_type": "code",
    "executionInfo": {
     "elapsed": 170345,
     "status": "ok",
     "timestamp": 1589053296823,
     "user": {
      "displayName": "Anjana Niranjan",
      "photoUrl": "https://lh3.googleusercontent.com/a-/AOh14Gi-DUuXNslKe9_IpDzKJKy7kFDXdw2iBILnh75qfNo=s64",
      "userId": "03367688363527101143"
     },
     "user_tz": 420
    },
    "id": "r1e-9xfWmTi-",
    "outputId": "c9686eed-b8df-4732-81b9-91b902a5152a"
   },
   "outputs": [
    {
     "data": {
      "text/plain": [
       "RandomForestClassifier(bootstrap=True, ccp_alpha=0.0, class_weight=None,\n",
       "                       criterion='gini', max_depth=5, max_features='auto',\n",
       "                       max_leaf_nodes=None, max_samples=None,\n",
       "                       min_impurity_decrease=0.0, min_impurity_split=None,\n",
       "                       min_samples_leaf=1, min_samples_split=2,\n",
       "                       min_weight_fraction_leaf=0.0, n_estimators=500,\n",
       "                       n_jobs=None, oob_score=False, random_state=None,\n",
       "                       verbose=0, warm_start=False)"
      ]
     },
     "execution_count": 45,
     "metadata": {
      "tags": []
     },
     "output_type": "execute_result"
    }
   ],
   "source": [
    "#Best estimator\n",
    "gs.best_estimator_"
   ]
  },
  {
   "cell_type": "code",
   "execution_count": null,
   "metadata": {
    "colab": {
     "base_uri": "https://localhost:8080/",
     "height": 34
    },
    "colab_type": "code",
    "executionInfo": {
     "elapsed": 169723,
     "status": "ok",
     "timestamp": 1589053296824,
     "user": {
      "displayName": "Anjana Niranjan",
      "photoUrl": "https://lh3.googleusercontent.com/a-/AOh14Gi-DUuXNslKe9_IpDzKJKy7kFDXdw2iBILnh75qfNo=s64",
      "userId": "03367688363527101143"
     },
     "user_tz": 420
    },
    "id": "-yRt3fpSmWoj",
    "outputId": "ee3c63bc-3bc9-4537-f14a-f54ef4548171"
   },
   "outputs": [
    {
     "data": {
      "text/plain": [
       "{'max_depth': 5, 'n_estimators': 500}"
      ]
     },
     "execution_count": 46,
     "metadata": {
      "tags": []
     },
     "output_type": "execute_result"
    }
   ],
   "source": [
    "#Best parameters\n",
    "gs.best_params_"
   ]
  },
  {
   "cell_type": "code",
   "execution_count": null,
   "metadata": {
    "colab": {
     "base_uri": "https://localhost:8080/",
     "height": 34
    },
    "colab_type": "code",
    "executionInfo": {
     "elapsed": 169082,
     "status": "ok",
     "timestamp": 1589053296824,
     "user": {
      "displayName": "Anjana Niranjan",
      "photoUrl": "https://lh3.googleusercontent.com/a-/AOh14Gi-DUuXNslKe9_IpDzKJKy7kFDXdw2iBILnh75qfNo=s64",
      "userId": "03367688363527101143"
     },
     "user_tz": 420
    },
    "id": "bi-4Ds_WmYo5",
    "outputId": "c06bef53-5781-4028-9e72-c76a4e218329"
   },
   "outputs": [
    {
     "data": {
      "text/plain": [
       "0.8665925925925926"
      ]
     },
     "execution_count": 47,
     "metadata": {
      "tags": []
     },
     "output_type": "execute_result"
    }
   ],
   "source": [
    "#Best score\n",
    "gs.best_score_"
   ]
  },
  {
   "cell_type": "code",
   "execution_count": null,
   "metadata": {
    "colab": {
     "base_uri": "https://localhost:8080/",
     "height": 121
    },
    "colab_type": "code",
    "executionInfo": {
     "elapsed": 8970,
     "status": "ok",
     "timestamp": 1589053347039,
     "user": {
      "displayName": "Anjana Niranjan",
      "photoUrl": "https://lh3.googleusercontent.com/a-/AOh14Gi-DUuXNslKe9_IpDzKJKy7kFDXdw2iBILnh75qfNo=s64",
      "userId": "03367688363527101143"
     },
     "user_tz": 420
    },
    "id": "_mA9LjCwmbXu",
    "outputId": "22423c35-d8ff-4994-a992-52154489efb2"
   },
   "outputs": [
    {
     "name": "stdout",
     "output_type": "stream",
     "text": [
      "0.9892592592592593\n"
     ]
    },
    {
     "data": {
      "text/plain": [
       "array([[2784,    0,    0,    0,    0],\n",
       "       [   7, 2533,    5,    2,   35],\n",
       "       [   1,    0, 2647,    1,    0],\n",
       "       [   1,    0,   22, 2447,    6],\n",
       "       [   1,   30,   17,   17, 2944]])"
      ]
     },
     "execution_count": 48,
     "metadata": {
      "tags": []
     },
     "output_type": "execute_result"
    }
   ],
   "source": [
    "#Training the Random Forest model with the best parameters\n",
    "bestclf = RandomForestClassifier(max_depth=5, n_estimators=500)\n",
    "bestclf.fit(X_train, y_train)\n",
    "tr_p = bestclf.predict(X_train)\n",
    "print(accuracy_score(y_train, tr_p))\n",
    "confusion_matrix(y_train, tr_p)"
   ]
  },
  {
   "cell_type": "code",
   "execution_count": null,
   "metadata": {
    "colab": {
     "base_uri": "https://localhost:8080/",
     "height": 121
    },
    "colab_type": "code",
    "executionInfo": {
     "elapsed": 9175,
     "status": "ok",
     "timestamp": 1589053347726,
     "user": {
      "displayName": "Anjana Niranjan",
      "photoUrl": "https://lh3.googleusercontent.com/a-/AOh14Gi-DUuXNslKe9_IpDzKJKy7kFDXdw2iBILnh75qfNo=s64",
      "userId": "03367688363527101143"
     },
     "user_tz": 420
    },
    "id": "9Mmvx1TZmmjy",
    "outputId": "121dc6a2-5008-4a63-fb78-1667d7867064"
   },
   "outputs": [
    {
     "name": "stdout",
     "output_type": "stream",
     "text": [
      "0.8493767477131617\n"
     ]
    },
    {
     "data": {
      "text/plain": [
       "array([[4340,   45,   78,    0,    3],\n",
       "       [  31, 2789,   13,  139, 1430],\n",
       "       [   0,    0, 4706,   12,   61],\n",
       "       [   0,    0,    0, 2984,  930],\n",
       "       [   0,    4,   57,  375, 3102]])"
      ]
     },
     "execution_count": 49,
     "metadata": {
      "tags": []
     },
     "output_type": "execute_result"
    }
   ],
   "source": [
    "#Running the model on the test set\n",
    "predictions = bestclf.predict(X_test)\n",
    "print(accuracy_score(y_test, predictions))\n",
    "confusion_matrix(y_test, predictions)"
   ]
  },
  {
   "cell_type": "markdown",
   "metadata": {
    "colab_type": "text",
    "id": "gjNGlW2obvjx"
   },
   "source": [
    "Implementing Random Forest Classifier on Normalized data"
   ]
  },
  {
   "cell_type": "code",
   "execution_count": null,
   "metadata": {
    "colab": {},
    "colab_type": "code",
    "id": "Y_rBS8CUmr7-"
   },
   "outputs": [],
   "source": [
    "from sklearn import preprocessing\n",
    "scalar = preprocessing.StandardScaler()\n",
    "scalar.fit(X_train)\n",
    "X_train = scalar.transform(X_train)\n",
    "X_test = scalar.transform(X_test)"
   ]
  },
  {
   "cell_type": "code",
   "execution_count": null,
   "metadata": {
    "colab": {
     "base_uri": "https://localhost:8080/",
     "height": 398
    },
    "colab_type": "code",
    "executionInfo": {
     "elapsed": 179124,
     "status": "ok",
     "timestamp": 1589053520512,
     "user": {
      "displayName": "Anjana Niranjan",
      "photoUrl": "https://lh3.googleusercontent.com/a-/AOh14Gi-DUuXNslKe9_IpDzKJKy7kFDXdw2iBILnh75qfNo=s64",
      "userId": "03367688363527101143"
     },
     "user_tz": 420
    },
    "id": "NNgPi2B2mv7L",
    "outputId": "fdf0b63f-b9fe-4c7a-8d06-3e824495d2a2"
   },
   "outputs": [
    {
     "data": {
      "text/plain": [
       "GridSearchCV(cv=KFold(n_splits=9, random_state=None, shuffle=False),\n",
       "             error_score=nan,\n",
       "             estimator=RandomForestClassifier(bootstrap=True, ccp_alpha=0.0,\n",
       "                                              class_weight=None,\n",
       "                                              criterion='gini', max_depth=None,\n",
       "                                              max_features='auto',\n",
       "                                              max_leaf_nodes=None,\n",
       "                                              max_samples=None,\n",
       "                                              min_impurity_decrease=0.0,\n",
       "                                              min_impurity_split=None,\n",
       "                                              min_samples_leaf=1,\n",
       "                                              min_samples_split=2,\n",
       "                                              min_weight_fraction_leaf=0.0,\n",
       "                                              n_estimators=100, n_jobs=None,\n",
       "                                              oob_score=False,\n",
       "                                              random_state=None, verbose=0,\n",
       "                                              warm_start=False),\n",
       "             iid='deprecated', n_jobs=None,\n",
       "             param_grid={'max_depth': [1, 2, 5],\n",
       "                         'n_estimators': [10, 100, 500]},\n",
       "             pre_dispatch='2*n_jobs', refit=True, return_train_score=True,\n",
       "             scoring=None, verbose=0)"
      ]
     },
     "execution_count": 51,
     "metadata": {
      "tags": []
     },
     "output_type": "execute_result"
    }
   ],
   "source": [
    "kf = KFold(n_splits=9, random_state=None, shuffle=False)\n",
    "params = {'n_estimators':[10, 100, 500], 'max_depth':[1, 2, 5]}\n",
    "clf = RandomForestClassifier()\n",
    "gs = GridSearchCV(clf, cv=kf, param_grid=params, return_train_score=True)\n",
    "\n",
    "gs.fit(X_train, y_train)"
   ]
  },
  {
   "cell_type": "code",
   "execution_count": null,
   "metadata": {
    "colab": {
     "base_uri": "https://localhost:8080/",
     "height": 1000
    },
    "colab_type": "code",
    "executionInfo": {
     "elapsed": 177480,
     "status": "ok",
     "timestamp": 1589053520513,
     "user": {
      "displayName": "Anjana Niranjan",
      "photoUrl": "https://lh3.googleusercontent.com/a-/AOh14Gi-DUuXNslKe9_IpDzKJKy7kFDXdw2iBILnh75qfNo=s64",
      "userId": "03367688363527101143"
     },
     "user_tz": 420
    },
    "id": "4-r96Jclm1D_",
    "outputId": "b12916c7-5232-45f7-8382-9a0d3a0fb7fe"
   },
   "outputs": [
    {
     "data": {
      "text/plain": [
       "{'mean_fit_time': array([0.05466138, 0.51520454, 2.56282134, 0.07958187, 0.75842977,\n",
       "        3.78811344, 0.14423688, 1.42088207, 7.08869629]),\n",
       " 'mean_score_time': array([0.00246795, 0.01516321, 0.08166583, 0.00253622, 0.01664003,\n",
       "        0.08022523, 0.00289422, 0.02009087, 0.09489168]),\n",
       " 'mean_test_score': array([0.56777778, 0.57518519, 0.53592593, 0.75592593, 0.78511111,\n",
       "        0.80303704, 0.83296296, 0.85859259, 0.86748148]),\n",
       " 'mean_train_score': array([0.64828704, 0.63435185, 0.61611111, 0.85876852, 0.9197963 ,\n",
       "        0.91360185, 0.98560185, 0.98894444, 0.98987963]),\n",
       " 'param_max_depth': masked_array(data=[1, 1, 1, 2, 2, 2, 5, 5, 5],\n",
       "              mask=[False, False, False, False, False, False, False, False,\n",
       "                    False],\n",
       "        fill_value='?',\n",
       "             dtype=object),\n",
       " 'param_n_estimators': masked_array(data=[10, 100, 500, 10, 100, 500, 10, 100, 500],\n",
       "              mask=[False, False, False, False, False, False, False, False,\n",
       "                    False],\n",
       "        fill_value='?',\n",
       "             dtype=object),\n",
       " 'params': [{'max_depth': 1, 'n_estimators': 10},\n",
       "  {'max_depth': 1, 'n_estimators': 100},\n",
       "  {'max_depth': 1, 'n_estimators': 500},\n",
       "  {'max_depth': 2, 'n_estimators': 10},\n",
       "  {'max_depth': 2, 'n_estimators': 100},\n",
       "  {'max_depth': 2, 'n_estimators': 500},\n",
       "  {'max_depth': 5, 'n_estimators': 10},\n",
       "  {'max_depth': 5, 'n_estimators': 100},\n",
       "  {'max_depth': 5, 'n_estimators': 500}],\n",
       " 'rank_test_score': array([8, 7, 9, 6, 5, 4, 3, 2, 1], dtype=int32),\n",
       " 'split0_test_score': array([0.60733333, 0.514     , 0.53133333, 0.84733333, 0.82733333,\n",
       "        0.83466667, 0.80333333, 0.87933333, 0.85466667]),\n",
       " 'split0_train_score': array([0.60958333, 0.60791667, 0.60816667, 0.90116667, 0.92283333,\n",
       "        0.90025   , 0.98833333, 0.99066667, 0.993     ]),\n",
       " 'split1_test_score': array([0.60266667, 0.67266667, 0.48666667, 0.58066667, 0.63466667,\n",
       "        0.48666667, 0.76466667, 0.82666667, 0.83      ]),\n",
       " 'split1_train_score': array([0.75283333, 0.70858333, 0.64558333, 0.88108333, 0.93575   ,\n",
       "        0.93      , 0.98825   , 0.98958333, 0.99166667]),\n",
       " 'split2_test_score': array([0.63666667, 0.66933333, 0.66533333, 0.83      , 0.82666667,\n",
       "        0.816     , 0.754     , 0.74      , 0.754     ]),\n",
       " 'split2_train_score': array([0.7075    , 0.72491667, 0.62575   , 0.89791667, 0.91375   ,\n",
       "        0.92141667, 0.98458333, 0.98908333, 0.98983333]),\n",
       " 'split3_test_score': array([0.23666667, 0.41333333, 0.23266667, 0.42933333, 0.27733333,\n",
       "        0.618     , 0.572     , 0.594     , 0.644     ]),\n",
       " 'split3_train_score': array([0.69225   , 0.61041667, 0.62883333, 0.88641667, 0.90716667,\n",
       "        0.90975   , 0.98391667, 0.98875   , 0.98891667]),\n",
       " 'split4_test_score': array([0.60333333, 0.60333333, 0.60333333, 0.96866667, 0.97      ,\n",
       "        0.968     , 0.97866667, 0.97466667, 0.97533333]),\n",
       " 'split4_train_score': array([0.54583333, 0.6285    , 0.60641667, 0.90483333, 0.90916667,\n",
       "        0.92258333, 0.98308333, 0.986     , 0.98691667]),\n",
       " 'split5_test_score': array([0.65133333, 0.534     , 0.534     , 0.88      , 0.88866667,\n",
       "        0.88666667, 0.85133333, 0.84066667, 0.85      ]),\n",
       " 'split5_train_score': array([0.70725   , 0.58275   , 0.58375   , 0.88233333, 0.92141667,\n",
       "        0.91583333, 0.98508333, 0.98933333, 0.98983333]),\n",
       " 'split6_test_score': array([0.55066667, 0.55066667, 0.55066667, 0.78733333, 0.776     ,\n",
       "        0.76933333, 0.98      , 0.976     , 0.98466667]),\n",
       " 'split6_train_score': array([0.6145    , 0.61408333, 0.61408333, 0.831     , 0.92125   ,\n",
       "        0.90833333, 0.98383333, 0.98691667, 0.98791667]),\n",
       " 'split7_test_score': array([0.626     , 0.624     , 0.624     , 0.78466667, 0.972     ,\n",
       "        0.972     , 0.94933333, 0.966     , 0.98666667]),\n",
       " 'split7_train_score': array([0.5975    , 0.603     , 0.60341667, 0.73916667, 0.91741667,\n",
       "        0.903     , 0.987     , 0.99      , 0.98975   ]),\n",
       " 'split8_test_score': array([0.59533333, 0.59533333, 0.59533333, 0.69533333, 0.89333333,\n",
       "        0.876     , 0.84333333, 0.93      , 0.928     ]),\n",
       " 'split8_train_score': array([0.60733333, 0.629     , 0.629     , 0.805     , 0.92941667,\n",
       "        0.91125   , 0.98633333, 0.99016667, 0.99108333]),\n",
       " 'std_fit_time': array([0.00267952, 0.00711683, 0.02679245, 0.00272983, 0.00821157,\n",
       "        0.01059324, 0.0033119 , 0.01004364, 0.03750153]),\n",
       " 'std_score_time': array([1.47182191e-04, 2.23356671e-04, 2.46156835e-02, 8.02919773e-05,\n",
       "        4.04975400e-04, 3.62396873e-03, 1.49055486e-04, 2.29549596e-03,\n",
       "        3.59871683e-03]),\n",
       " 'std_test_score': array([0.12011558, 0.07759202, 0.11888887, 0.15540547, 0.20429052,\n",
       "        0.15081707, 0.12325027, 0.12006354, 0.10950834]),\n",
       " 'std_train_score': array([0.0643241 , 0.04607168, 0.01718881, 0.0529534 , 0.00866507,\n",
       "        0.00915553, 0.00184331, 0.0014519 , 0.00176257])}"
      ]
     },
     "execution_count": 52,
     "metadata": {
      "tags": []
     },
     "output_type": "execute_result"
    }
   ],
   "source": [
    "#Results of grid search\n",
    "gs.cv_results_"
   ]
  },
  {
   "cell_type": "code",
   "execution_count": null,
   "metadata": {
    "colab": {
     "base_uri": "https://localhost:8080/",
     "height": 155
    },
    "colab_type": "code",
    "executionInfo": {
     "elapsed": 176566,
     "status": "ok",
     "timestamp": 1589053520513,
     "user": {
      "displayName": "Anjana Niranjan",
      "photoUrl": "https://lh3.googleusercontent.com/a-/AOh14Gi-DUuXNslKe9_IpDzKJKy7kFDXdw2iBILnh75qfNo=s64",
      "userId": "03367688363527101143"
     },
     "user_tz": 420
    },
    "id": "g-_Bikj9oi33",
    "outputId": "fc0e254f-5d12-4120-c41d-4793c9bd798a"
   },
   "outputs": [
    {
     "data": {
      "text/plain": [
       "RandomForestClassifier(bootstrap=True, ccp_alpha=0.0, class_weight=None,\n",
       "                       criterion='gini', max_depth=5, max_features='auto',\n",
       "                       max_leaf_nodes=None, max_samples=None,\n",
       "                       min_impurity_decrease=0.0, min_impurity_split=None,\n",
       "                       min_samples_leaf=1, min_samples_split=2,\n",
       "                       min_weight_fraction_leaf=0.0, n_estimators=500,\n",
       "                       n_jobs=None, oob_score=False, random_state=None,\n",
       "                       verbose=0, warm_start=False)"
      ]
     },
     "execution_count": 53,
     "metadata": {
      "tags": []
     },
     "output_type": "execute_result"
    }
   ],
   "source": [
    "#Best estimator\n",
    "gs.best_estimator_"
   ]
  },
  {
   "cell_type": "code",
   "execution_count": null,
   "metadata": {
    "colab": {
     "base_uri": "https://localhost:8080/",
     "height": 34
    },
    "colab_type": "code",
    "executionInfo": {
     "elapsed": 175792,
     "status": "ok",
     "timestamp": 1589053520514,
     "user": {
      "displayName": "Anjana Niranjan",
      "photoUrl": "https://lh3.googleusercontent.com/a-/AOh14Gi-DUuXNslKe9_IpDzKJKy7kFDXdw2iBILnh75qfNo=s64",
      "userId": "03367688363527101143"
     },
     "user_tz": 420
    },
    "id": "r0_yHvrtonsr",
    "outputId": "d97a8593-c51c-4053-e128-0a0ad004db8a"
   },
   "outputs": [
    {
     "data": {
      "text/plain": [
       "{'max_depth': 5, 'n_estimators': 500}"
      ]
     },
     "execution_count": 54,
     "metadata": {
      "tags": []
     },
     "output_type": "execute_result"
    }
   ],
   "source": [
    "#Best parameters\n",
    "gs.best_params_"
   ]
  },
  {
   "cell_type": "code",
   "execution_count": null,
   "metadata": {
    "colab": {
     "base_uri": "https://localhost:8080/",
     "height": 34
    },
    "colab_type": "code",
    "executionInfo": {
     "elapsed": 175077,
     "status": "ok",
     "timestamp": 1589053520514,
     "user": {
      "displayName": "Anjana Niranjan",
      "photoUrl": "https://lh3.googleusercontent.com/a-/AOh14Gi-DUuXNslKe9_IpDzKJKy7kFDXdw2iBILnh75qfNo=s64",
      "userId": "03367688363527101143"
     },
     "user_tz": 420
    },
    "id": "ilAItO84oplh",
    "outputId": "645fe31d-0d76-45a0-d924-7f997f3eb7c0"
   },
   "outputs": [
    {
     "data": {
      "text/plain": [
       "0.8674814814814815"
      ]
     },
     "execution_count": 55,
     "metadata": {
      "tags": []
     },
     "output_type": "execute_result"
    }
   ],
   "source": [
    "#Best score\n",
    "gs.best_score_"
   ]
  },
  {
   "cell_type": "code",
   "execution_count": null,
   "metadata": {
    "colab": {
     "base_uri": "https://localhost:8080/",
     "height": 121
    },
    "colab_type": "code",
    "executionInfo": {
     "elapsed": 8931,
     "status": "ok",
     "timestamp": 1589053757768,
     "user": {
      "displayName": "Anjana Niranjan",
      "photoUrl": "https://lh3.googleusercontent.com/a-/AOh14Gi-DUuXNslKe9_IpDzKJKy7kFDXdw2iBILnh75qfNo=s64",
      "userId": "03367688363527101143"
     },
     "user_tz": 420
    },
    "id": "GhNHSM-For-r",
    "outputId": "8bc49a52-8fc8-456a-f222-b759a067f021"
   },
   "outputs": [
    {
     "name": "stdout",
     "output_type": "stream",
     "text": [
      "0.9894074074074074\n"
     ]
    },
    {
     "data": {
      "text/plain": [
       "array([[2784,    0,    0,    0,    0],\n",
       "       [   7, 2538,    5,    2,   30],\n",
       "       [   1,    0, 2647,    1,    0],\n",
       "       [   1,    0,   21, 2445,    9],\n",
       "       [   1,   30,   16,   19, 2943]])"
      ]
     },
     "execution_count": 56,
     "metadata": {
      "tags": []
     },
     "output_type": "execute_result"
    }
   ],
   "source": [
    "#Training the classifier with the best parameters\n",
    "bestclf = RandomForestClassifier(max_depth=5, n_estimators=500)\n",
    "bestclf.fit(X_train, y_train)\n",
    "tr_p = bestclf.predict(X_train)\n",
    "print(accuracy_score(y_train, tr_p))\n",
    "confusion_matrix(y_train, tr_p)"
   ]
  },
  {
   "cell_type": "code",
   "execution_count": null,
   "metadata": {
    "colab": {
     "base_uri": "https://localhost:8080/",
     "height": 121
    },
    "colab_type": "code",
    "executionInfo": {
     "elapsed": 8718,
     "status": "ok",
     "timestamp": 1589053758495,
     "user": {
      "displayName": "Anjana Niranjan",
      "photoUrl": "https://lh3.googleusercontent.com/a-/AOh14Gi-DUuXNslKe9_IpDzKJKy7kFDXdw2iBILnh75qfNo=s64",
      "userId": "03367688363527101143"
     },
     "user_tz": 420
    },
    "id": "-wTYtSUmov_u",
    "outputId": "231d373c-4717-4b30-cff4-79216a60d9b7"
   },
   "outputs": [
    {
     "name": "stdout",
     "output_type": "stream",
     "text": [
      "0.8821745106403147\n"
     ]
    },
    {
     "data": {
      "text/plain": [
       "array([[4341,   26,   77,    0,   22],\n",
       "       [  31, 3501,   24,  128,  718],\n",
       "       [   0,    0, 4710,    8,   61],\n",
       "       [   0,    0,    0, 2984,  930],\n",
       "       [   0,    4,   56,  401, 3077]])"
      ]
     },
     "execution_count": 57,
     "metadata": {
      "tags": []
     },
     "output_type": "execute_result"
    }
   ],
   "source": [
    "#Running the model on the test set\n",
    "predictions = bestclf.predict(X_test)\n",
    "print(accuracy_score(y_test, predictions))\n",
    "confusion_matrix(y_test, predictions)"
   ]
  },
  {
   "cell_type": "code",
   "execution_count": null,
   "metadata": {
    "colab": {},
    "colab_type": "code",
    "id": "rkSAtK5pozlz"
   },
   "outputs": [],
   "source": [
    "import pandas as pd\n",
    "import numpy as np\n",
    "from sklearn.feature_selection import RFE, RFECV\n",
    "import matplotlib.pyplot as plt\n",
    "from sklearn.model_selection import GridSearchCV, KFold, train_test_split"
   ]
  },
  {
   "cell_type": "markdown",
   "metadata": {
    "colab_type": "text",
    "id": "j6idzgImkjFH"
   },
   "source": [
    "Implementing Random Forest Classifier on the exapnded dataset"
   ]
  },
  {
   "cell_type": "code",
   "execution_count": null,
   "metadata": {
    "colab": {},
    "colab_type": "code",
    "id": "sZqDFtC1p3hv"
   },
   "outputs": [],
   "source": [
    "#Loading the expanded dataset\n",
    "train = pd.read_csv('/content/drive/My Drive/Colab Notebooks/mpr/linearTrainexpanded.csv')\n",
    "test = pd.read_csv('/content/drive/My Drive/Colab Notebooks/mpr/linearTestexpanded.csv')"
   ]
  },
  {
   "cell_type": "code",
   "execution_count": null,
   "metadata": {
    "colab": {},
    "colab_type": "code",
    "id": "0TDgpybBp5wz"
   },
   "outputs": [],
   "source": [
    "X_train = train.iloc[:, 1:60]\n",
    "y_train = train.iloc[:,60]\n",
    "X_test = test.iloc[:, 1:60]\n",
    "y_test = test.iloc[:, 60]"
   ]
  },
  {
   "cell_type": "code",
   "execution_count": null,
   "metadata": {
    "colab": {},
    "colab_type": "code",
    "id": "tu1D5lDBp7uU"
   },
   "outputs": [],
   "source": [
    "#Normalizing the data\n",
    "from sklearn import preprocessing\n",
    "scalar = preprocessing.StandardScaler()\n",
    "scalar.fit(X_train)\n",
    "X_train = scalar.transform(X_train)\n",
    "X_test = scalar.transform(X_test)\n",
    "X_train = pd.DataFrame(X_train)\n",
    "X_test = pd.DataFrame(X_test)"
   ]
  },
  {
   "cell_type": "code",
   "execution_count": null,
   "metadata": {
    "colab": {
     "base_uri": "https://localhost:8080/",
     "height": 398
    },
    "colab_type": "code",
    "executionInfo": {
     "elapsed": 349949,
     "status": "ok",
     "timestamp": 1589054107293,
     "user": {
      "displayName": "Anjana Niranjan",
      "photoUrl": "https://lh3.googleusercontent.com/a-/AOh14Gi-DUuXNslKe9_IpDzKJKy7kFDXdw2iBILnh75qfNo=s64",
      "userId": "03367688363527101143"
     },
     "user_tz": 420
    },
    "id": "iI7cnksXp9CL",
    "outputId": "52b45a03-4dd6-4c14-ed4f-99502ed9740e"
   },
   "outputs": [
    {
     "data": {
      "text/plain": [
       "GridSearchCV(cv=KFold(n_splits=9, random_state=None, shuffle=False),\n",
       "             error_score=nan,\n",
       "             estimator=RandomForestClassifier(bootstrap=True, ccp_alpha=0.0,\n",
       "                                              class_weight=None,\n",
       "                                              criterion='gini', max_depth=None,\n",
       "                                              max_features='auto',\n",
       "                                              max_leaf_nodes=None,\n",
       "                                              max_samples=None,\n",
       "                                              min_impurity_decrease=0.0,\n",
       "                                              min_impurity_split=None,\n",
       "                                              min_samples_leaf=1,\n",
       "                                              min_samples_split=2,\n",
       "                                              min_weight_fraction_leaf=0.0,\n",
       "                                              n_estimators=100, n_jobs=None,\n",
       "                                              oob_score=False,\n",
       "                                              random_state=None, verbose=0,\n",
       "                                              warm_start=False),\n",
       "             iid='deprecated', n_jobs=None,\n",
       "             param_grid={'max_depth': [1, 2, 5],\n",
       "                         'n_estimators': [10, 100, 500]},\n",
       "             pre_dispatch='2*n_jobs', refit=True, return_train_score=True,\n",
       "             scoring=None, verbose=0)"
      ]
     },
     "execution_count": 62,
     "metadata": {
      "tags": []
     },
     "output_type": "execute_result"
    }
   ],
   "source": [
    "kf = KFold(n_splits=9, random_state=None, shuffle=False)\n",
    "params = {'n_estimators':[10, 100, 500], 'max_depth':[1, 2, 5]}\n",
    "clf = RandomForestClassifier()\n",
    "gs = GridSearchCV(clf, cv=kf, param_grid=params, return_train_score=True)\n",
    "\n",
    "gs.fit(X_train, y_train)"
   ]
  },
  {
   "cell_type": "code",
   "execution_count": null,
   "metadata": {
    "colab": {
     "base_uri": "https://localhost:8080/",
     "height": 1000
    },
    "colab_type": "code",
    "executionInfo": {
     "elapsed": 348809,
     "status": "ok",
     "timestamp": 1589054107294,
     "user": {
      "displayName": "Anjana Niranjan",
      "photoUrl": "https://lh3.googleusercontent.com/a-/AOh14Gi-DUuXNslKe9_IpDzKJKy7kFDXdw2iBILnh75qfNo=s64",
      "userId": "03367688363527101143"
     },
     "user_tz": 420
    },
    "id": "VCXgyDJlqDr5",
    "outputId": "6c3dc57f-e703-4554-e3a2-348b9467c993"
   },
   "outputs": [
    {
     "data": {
      "text/plain": [
       "{'mean_fit_time': array([ 0.09921771,  0.91741527,  4.53469594,  0.16195427,  1.54991666,\n",
       "         7.70041781,  0.32865458,  3.26860176, 16.18574797]),\n",
       " 'mean_score_time': array([0.00348216, 0.01612269, 0.07400513, 0.00362452, 0.017794  ,\n",
       "        0.08046129, 0.00389187, 0.02117366, 0.09573343]),\n",
       " 'mean_test_score': array([0.53844444, 0.56155556, 0.5762963 , 0.7102963 , 0.70059259,\n",
       "        0.69622222, 0.79666667, 0.82251852, 0.84007407]),\n",
       " 'mean_train_score': array([0.62364815, 0.61441667, 0.60532407, 0.83863889, 0.89809259,\n",
       "        0.91039815, 0.98297222, 0.98474074, 0.98444444]),\n",
       " 'param_max_depth': masked_array(data=[1, 1, 1, 2, 2, 2, 5, 5, 5],\n",
       "              mask=[False, False, False, False, False, False, False, False,\n",
       "                    False],\n",
       "        fill_value='?',\n",
       "             dtype=object),\n",
       " 'param_n_estimators': masked_array(data=[10, 100, 500, 10, 100, 500, 10, 100, 500],\n",
       "              mask=[False, False, False, False, False, False, False, False,\n",
       "                    False],\n",
       "        fill_value='?',\n",
       "             dtype=object),\n",
       " 'params': [{'max_depth': 1, 'n_estimators': 10},\n",
       "  {'max_depth': 1, 'n_estimators': 100},\n",
       "  {'max_depth': 1, 'n_estimators': 500},\n",
       "  {'max_depth': 2, 'n_estimators': 10},\n",
       "  {'max_depth': 2, 'n_estimators': 100},\n",
       "  {'max_depth': 2, 'n_estimators': 500},\n",
       "  {'max_depth': 5, 'n_estimators': 10},\n",
       "  {'max_depth': 5, 'n_estimators': 100},\n",
       "  {'max_depth': 5, 'n_estimators': 500}],\n",
       " 'rank_test_score': array([9, 8, 7, 4, 5, 6, 3, 2, 1], dtype=int32),\n",
       " 'split0_test_score': array([0.678     , 0.53466667, 0.51      , 0.70866667, 0.64533333,\n",
       "        0.71466667, 0.792     , 0.816     , 0.81133333]),\n",
       " 'split0_train_score': array([0.7075    , 0.582     , 0.58091667, 0.83341667, 0.88641667,\n",
       "        0.90008333, 0.98641667, 0.98975   , 0.98816667]),\n",
       " 'split1_test_score': array([0.50666667, 0.56733333, 0.69733333, 0.758     , 0.53533333,\n",
       "        0.538     , 0.78133333, 0.72866667, 0.76666667]),\n",
       " 'split1_train_score': array([0.66708333, 0.714     , 0.59508333, 0.87541667, 0.91675   ,\n",
       "        0.904     , 0.98358333, 0.98783333, 0.98791667]),\n",
       " 'split2_test_score': array([0.54066667, 0.66533333, 0.66533333, 0.71266667, 0.71733333,\n",
       "        0.70066667, 0.756     , 0.78533333, 0.78066667]),\n",
       " 'split2_train_score': array([0.70075   , 0.608     , 0.61441667, 0.82258333, 0.904     ,\n",
       "        0.92841667, 0.976     , 0.98325   , 0.98233333]),\n",
       " 'split3_test_score': array([0.41333333, 0.41333333, 0.41333333, 0.50266667, 0.77266667,\n",
       "        0.56466667, 0.60266667, 0.584     , 0.564     ]),\n",
       " 'split3_train_score': array([0.599     , 0.61008333, 0.61025   , 0.85475   , 0.91333333,\n",
       "        0.92908333, 0.98508333, 0.98441667, 0.98416667]),\n",
       " 'split4_test_score': array([0.60933333, 0.604     , 0.60333333, 0.946     , 0.92133333,\n",
       "        0.944     , 0.99533333, 0.98      , 0.97533333]),\n",
       " 'split4_train_score': array([0.60966667, 0.60575   , 0.60658333, 0.80308333, 0.87683333,\n",
       "        0.91991667, 0.9835    , 0.98225   , 0.98266667]),\n",
       " 'split5_test_score': array([0.28666667, 0.52466667, 0.52666667, 0.784     , 0.78533333,\n",
       "        0.826     , 0.84      , 0.846     , 0.854     ]),\n",
       " 'split5_train_score': array([0.41966667, 0.58491667, 0.61466667, 0.88275   , 0.89716667,\n",
       "        0.89691667, 0.98766667, 0.98633333, 0.98791667]),\n",
       " 'split6_test_score': array([0.554     , 0.55066667, 0.55066667, 0.408     , 0.39333333,\n",
       "        0.406     , 0.89333333, 0.79      , 0.962     ]),\n",
       " 'split6_train_score': array([0.61608333, 0.61741667, 0.6145    , 0.85      , 0.87141667,\n",
       "        0.90358333, 0.97666667, 0.98041667, 0.98116667]),\n",
       " 'split7_test_score': array([0.662     , 0.59866667, 0.62466667, 0.96533333, 0.852     ,\n",
       "        0.87133333, 0.984     , 0.988     , 0.988     ]),\n",
       " 'split7_train_score': array([0.65083333, 0.59983333, 0.60341667, 0.83108333, 0.91016667,\n",
       "        0.92141667, 0.98441667, 0.983     , 0.98125   ]),\n",
       " 'split8_test_score': array([0.59533333, 0.59533333, 0.59533333, 0.60733333, 0.68266667,\n",
       "        0.70066667, 0.52533333, 0.88466667, 0.85866667]),\n",
       " 'split8_train_score': array([0.64225   , 0.60775   , 0.60808333, 0.79466667, 0.90675   ,\n",
       "        0.89016667, 0.98341667, 0.98541667, 0.98441667]),\n",
       " 'std_fit_time': array([0.0039655 , 0.01389277, 0.0219764 , 0.00263419, 0.01157855,\n",
       "        0.03796055, 0.00223979, 0.05312489, 0.06013279]),\n",
       " 'std_score_time': array([5.32464694e-04, 4.66674392e-04, 2.87326651e-03, 1.73329669e-04,\n",
       "        9.25294783e-04, 2.76265412e-03, 5.55353250e-05, 1.14431732e-03,\n",
       "        3.50219680e-03]),\n",
       " 'std_test_score': array([0.11704932, 0.06607665, 0.08170595, 0.17429565, 0.15253429,\n",
       "        0.16188122, 0.14868045, 0.11774749, 0.12540756]),\n",
       " 'std_train_score': array([0.08056481, 0.03687684, 0.0104979 , 0.02833712, 0.01540835,\n",
       "        0.01362453, 0.00379571, 0.0027469 , 0.00272052])}"
      ]
     },
     "execution_count": 63,
     "metadata": {
      "tags": []
     },
     "output_type": "execute_result"
    }
   ],
   "source": [
    "#Results of the grid search\n",
    "gs.cv_results_"
   ]
  },
  {
   "cell_type": "code",
   "execution_count": null,
   "metadata": {
    "colab": {
     "base_uri": "https://localhost:8080/",
     "height": 155
    },
    "colab_type": "code",
    "executionInfo": {
     "elapsed": 348066,
     "status": "ok",
     "timestamp": 1589054107295,
     "user": {
      "displayName": "Anjana Niranjan",
      "photoUrl": "https://lh3.googleusercontent.com/a-/AOh14Gi-DUuXNslKe9_IpDzKJKy7kFDXdw2iBILnh75qfNo=s64",
      "userId": "03367688363527101143"
     },
     "user_tz": 420
    },
    "id": "mmIDiLwttXSy",
    "outputId": "3976745f-c605-4f00-fbf8-394e8d4e9860"
   },
   "outputs": [
    {
     "data": {
      "text/plain": [
       "RandomForestClassifier(bootstrap=True, ccp_alpha=0.0, class_weight=None,\n",
       "                       criterion='gini', max_depth=5, max_features='auto',\n",
       "                       max_leaf_nodes=None, max_samples=None,\n",
       "                       min_impurity_decrease=0.0, min_impurity_split=None,\n",
       "                       min_samples_leaf=1, min_samples_split=2,\n",
       "                       min_weight_fraction_leaf=0.0, n_estimators=500,\n",
       "                       n_jobs=None, oob_score=False, random_state=None,\n",
       "                       verbose=0, warm_start=False)"
      ]
     },
     "execution_count": 64,
     "metadata": {
      "tags": []
     },
     "output_type": "execute_result"
    }
   ],
   "source": [
    "#Best estimator\n",
    "gs.best_estimator_"
   ]
  },
  {
   "cell_type": "code",
   "execution_count": null,
   "metadata": {
    "colab": {
     "base_uri": "https://localhost:8080/",
     "height": 34
    },
    "colab_type": "code",
    "executionInfo": {
     "elapsed": 347369,
     "status": "ok",
     "timestamp": 1589054107295,
     "user": {
      "displayName": "Anjana Niranjan",
      "photoUrl": "https://lh3.googleusercontent.com/a-/AOh14Gi-DUuXNslKe9_IpDzKJKy7kFDXdw2iBILnh75qfNo=s64",
      "userId": "03367688363527101143"
     },
     "user_tz": 420
    },
    "id": "mO3F9iQctY_Z",
    "outputId": "51463cd2-527d-4bd0-9fec-1443e2671563"
   },
   "outputs": [
    {
     "data": {
      "text/plain": [
       "{'max_depth': 5, 'n_estimators': 500}"
      ]
     },
     "execution_count": 65,
     "metadata": {
      "tags": []
     },
     "output_type": "execute_result"
    }
   ],
   "source": [
    "#Best parameters\n",
    "gs.best_params_"
   ]
  },
  {
   "cell_type": "code",
   "execution_count": null,
   "metadata": {
    "colab": {
     "base_uri": "https://localhost:8080/",
     "height": 34
    },
    "colab_type": "code",
    "executionInfo": {
     "elapsed": 346734,
     "status": "ok",
     "timestamp": 1589054107296,
     "user": {
      "displayName": "Anjana Niranjan",
      "photoUrl": "https://lh3.googleusercontent.com/a-/AOh14Gi-DUuXNslKe9_IpDzKJKy7kFDXdw2iBILnh75qfNo=s64",
      "userId": "03367688363527101143"
     },
     "user_tz": 420
    },
    "id": "iWWVa7B2tah9",
    "outputId": "f666b0df-2e93-4af3-e1a4-b341e6465d63"
   },
   "outputs": [
    {
     "data": {
      "text/plain": [
       "0.840074074074074"
      ]
     },
     "execution_count": 66,
     "metadata": {
      "tags": []
     },
     "output_type": "execute_result"
    }
   ],
   "source": [
    "#Best score\n",
    "gs.best_score_"
   ]
  },
  {
   "cell_type": "code",
   "execution_count": null,
   "metadata": {
    "colab": {
     "base_uri": "https://localhost:8080/",
     "height": 121
    },
    "colab_type": "code",
    "executionInfo": {
     "elapsed": 19409,
     "status": "ok",
     "timestamp": 1589054431121,
     "user": {
      "displayName": "Anjana Niranjan",
      "photoUrl": "https://lh3.googleusercontent.com/a-/AOh14Gi-DUuXNslKe9_IpDzKJKy7kFDXdw2iBILnh75qfNo=s64",
      "userId": "03367688363527101143"
     },
     "user_tz": 420
    },
    "id": "ZL2yVeu1tdPl",
    "outputId": "64464102-76b1-45bb-b0d7-c6f665fab61d"
   },
   "outputs": [
    {
     "name": "stdout",
     "output_type": "stream",
     "text": [
      "0.981037037037037\n"
     ]
    },
    {
     "data": {
      "text/plain": [
       "array([[2784,    0,    0,    0,    0],\n",
       "       [   7, 2513,    5,   21,   36],\n",
       "       [   1,    0, 2648,    0,    0],\n",
       "       [   1,    0,   23, 2427,   25],\n",
       "       [  58,   44,   18,   17, 2872]])"
      ]
     },
     "execution_count": 67,
     "metadata": {
      "tags": []
     },
     "output_type": "execute_result"
    }
   ],
   "source": [
    "#Training the model with the best parameters\n",
    "bestclf = RandomForestClassifier(max_depth=5, n_estimators=500)\n",
    "bestclf.fit(X_train, y_train)\n",
    "tr_p = bestclf.predict(X_train)\n",
    "print(accuracy_score(y_train, tr_p))\n",
    "confusion_matrix(y_train, tr_p)"
   ]
  },
  {
   "cell_type": "code",
   "execution_count": null,
   "metadata": {
    "colab": {
     "base_uri": "https://localhost:8080/",
     "height": 121
    },
    "colab_type": "code",
    "executionInfo": {
     "elapsed": 19711,
     "status": "ok",
     "timestamp": 1589054431834,
     "user": {
      "displayName": "Anjana Niranjan",
      "photoUrl": "https://lh3.googleusercontent.com/a-/AOh14Gi-DUuXNslKe9_IpDzKJKy7kFDXdw2iBILnh75qfNo=s64",
      "userId": "03367688363527101143"
     },
     "user_tz": 420
    },
    "id": "8fYUjA6ztkzQ",
    "outputId": "aa28c179-c6f9-432f-c9a8-f8fbf9b4d7b9"
   },
   "outputs": [
    {
     "name": "stdout",
     "output_type": "stream",
     "text": [
      "0.884544291198635\n"
     ]
    },
    {
     "data": {
      "text/plain": [
       "array([[4367,   48,   51,    0,    0],\n",
       "       [  15, 3537,   12,  159,  679],\n",
       "       [ 289,    0, 4420,    9,   61],\n",
       "       [   0,    0,    0, 2985,  929],\n",
       "       [   0,    4,   61,  119, 3354]])"
      ]
     },
     "execution_count": 68,
     "metadata": {
      "tags": []
     },
     "output_type": "execute_result"
    }
   ],
   "source": [
    "#Running the model on the test set\n",
    "predictions = bestclf.predict(X_test)\n",
    "print(accuracy_score(y_test, predictions))\n",
    "confusion_matrix(y_test, predictions)"
   ]
  },
  {
   "cell_type": "markdown",
   "metadata": {
    "colab_type": "text",
    "id": "__vKcnx-d5_6"
   },
   "source": [
    "Implementing Random Forest Classifier on optimal features selected from the expanded dataset\n"
   ]
  },
  {
   "cell_type": "code",
   "execution_count": null,
   "metadata": {
    "colab": {
     "base_uri": "https://localhost:8080/",
     "height": 316
    },
    "colab_type": "code",
    "executionInfo": {
     "elapsed": 1864068,
     "status": "ok",
     "timestamp": 1589056280445,
     "user": {
      "displayName": "Anjana Niranjan",
      "photoUrl": "https://lh3.googleusercontent.com/a-/AOh14Gi-DUuXNslKe9_IpDzKJKy7kFDXdw2iBILnh75qfNo=s64",
      "userId": "03367688363527101143"
     },
     "user_tz": 420
    },
    "id": "buhpv0y8tq6h",
    "outputId": "38151c5f-fc02-4eef-a83b-7bf71e7e0d37"
   },
   "outputs": [
    {
     "name": "stdout",
     "output_type": "stream",
     "text": [
      "Optimal number of features : 33\n"
     ]
    },
    {
     "data": {
      "image/png": "[encoded data removed]",
      "text/plain": [
       "<Figure size 432x288 with 1 Axes>"
      ]
     },
     "metadata": {
      "needs_background": "light",
      "tags": []
     },
     "output_type": "display_data"
    }
   ],
   "source": [
    "kf = KFold(n_splits=9, random_state=None, shuffle=False)\n",
    "model = RandomForestClassifier()\n",
    "rfecv = RFECV(estimator=model, cv=kf,scoring='accuracy')\n",
    "rfecv.fit(X_train, y_train)\n",
    "\n",
    "print(\"Optimal number of features : %d\" % rfecv.n_features_)\n",
    "plt.figure()\n",
    "plt.xlabel(\"Number of features selected\")\n",
    "plt.ylabel(\"Cross validation score (nb of correct classifications)\")\n",
    "plt.plot(range(1, len(rfecv.grid_scores_) + 1), rfecv.grid_scores_)\n",
    "plt.show()"
   ]
  },
  {
   "cell_type": "code",
   "execution_count": null,
   "metadata": {
    "colab": {},
    "colab_type": "code",
    "id": "gSXmyt_Ot13G"
   },
   "outputs": [],
   "source": [
    "selected = rfecv.support_"
   ]
  },
  {
   "cell_type": "code",
   "execution_count": null,
   "metadata": {
    "colab": {},
    "colab_type": "code",
    "id": "GdZt1JP1vRzK"
   },
   "outputs": [],
   "source": [
    "num = 0\n",
    "todelete = []\n",
    "for i in selected:\n",
    "  if i ==False:\n",
    "    todelete.append(num)\n",
    "    num += 1"
   ]
  },
  {
   "cell_type": "code",
   "execution_count": null,
   "metadata": {
    "colab": {},
    "colab_type": "code",
    "id": "gK0zlxkHvTws"
   },
   "outputs": [],
   "source": [
    "X_train_selected = X_train.drop(X_train.columns[todelete], axis=1)"
   ]
  },
  {
   "cell_type": "code",
   "execution_count": null,
   "metadata": {
    "colab": {},
    "colab_type": "code",
    "id": "izAgUDXNvVx-"
   },
   "outputs": [],
   "source": [
    "X_test_selected = X_test.drop(X_test.columns[todelete], axis=1)"
   ]
  },
  {
   "cell_type": "code",
   "execution_count": null,
   "metadata": {
    "colab": {
     "base_uri": "https://localhost:8080/",
     "height": 398
    },
    "colab_type": "code",
    "executionInfo": {
     "elapsed": 2116018,
     "status": "ok",
     "timestamp": 1589056540499,
     "user": {
      "displayName": "Anjana Niranjan",
      "photoUrl": "https://lh3.googleusercontent.com/a-/AOh14Gi-DUuXNslKe9_IpDzKJKy7kFDXdw2iBILnh75qfNo=s64",
      "userId": "03367688363527101143"
     },
     "user_tz": 420
    },
    "id": "rQ2m7uZZvX1W",
    "outputId": "f1db9813-9e3c-45df-b558-6f631476c4a4"
   },
   "outputs": [
    {
     "data": {
      "text/plain": [
       "GridSearchCV(cv=KFold(n_splits=9, random_state=None, shuffle=False),\n",
       "             error_score=nan,\n",
       "             estimator=RandomForestClassifier(bootstrap=True, ccp_alpha=0.0,\n",
       "                                              class_weight=None,\n",
       "                                              criterion='gini', max_depth=None,\n",
       "                                              max_features='auto',\n",
       "                                              max_leaf_nodes=None,\n",
       "                                              max_samples=None,\n",
       "                                              min_impurity_decrease=0.0,\n",
       "                                              min_impurity_split=None,\n",
       "                                              min_samples_leaf=1,\n",
       "                                              min_samples_split=2,\n",
       "                                              min_weight_fraction_leaf=0.0,\n",
       "                                              n_estimators=100, n_jobs=None,\n",
       "                                              oob_score=False,\n",
       "                                              random_state=None, verbose=0,\n",
       "                                              warm_start=False),\n",
       "             iid='deprecated', n_jobs=None,\n",
       "             param_grid={'max_depth': [1, 2, 5],\n",
       "                         'n_estimators': [10, 100, 500]},\n",
       "             pre_dispatch='2*n_jobs', refit=True, return_train_score=True,\n",
       "             scoring=None, verbose=0)"
      ]
     },
     "execution_count": 74,
     "metadata": {
      "tags": []
     },
     "output_type": "execute_result"
    }
   ],
   "source": [
    "kf = KFold(n_splits=9, random_state=None, shuffle=False)\n",
    "params = {'n_estimators':[10, 100, 500], 'max_depth':[1, 2, 5]}\n",
    "clf = RandomForestClassifier()\n",
    "gs = GridSearchCV(clf, cv=kf, param_grid=params, return_train_score=True)\n",
    "\n",
    "gs.fit(X_train_selected, y_train)"
   ]
  },
  {
   "cell_type": "code",
   "execution_count": null,
   "metadata": {
    "colab": {
     "base_uri": "https://localhost:8080/",
     "height": 1000
    },
    "colab_type": "code",
    "executionInfo": {
     "elapsed": 2113425,
     "status": "ok",
     "timestamp": 1589056540500,
     "user": {
      "displayName": "Anjana Niranjan",
      "photoUrl": "https://lh3.googleusercontent.com/a-/AOh14Gi-DUuXNslKe9_IpDzKJKy7kFDXdw2iBILnh75qfNo=s64",
      "userId": "03367688363527101143"
     },
     "user_tz": 420
    },
    "id": "S6hDc6Ievj7V",
    "outputId": "e6a6ae26-2bfb-4ba3-fcd5-04e019378310"
   },
   "outputs": [
    {
     "data": {
      "text/plain": [
       "{'mean_fit_time': array([ 0.08084848,  0.72950766,  3.63505348,  0.12434141,  1.20377639,\n",
       "         5.91489175,  0.25051316,  2.43477538, 12.20890432]),\n",
       " 'mean_score_time': array([0.00320249, 0.01590864, 0.07276519, 0.00331095, 0.01750734,\n",
       "        0.0808061 , 0.00384275, 0.02070162, 0.09734223]),\n",
       " 'mean_test_score': array([0.46459259, 0.47481481, 0.48385185, 0.61659259, 0.69933333,\n",
       "        0.70637037, 0.74385185, 0.76355556, 0.7602963 ]),\n",
       " 'mean_train_score': array([0.51139815, 0.48217593, 0.48201852, 0.79255556, 0.8395463 ,\n",
       "        0.84887037, 0.95653704, 0.96783333, 0.96907407]),\n",
       " 'param_max_depth': masked_array(data=[1, 1, 1, 2, 2, 2, 5, 5, 5],\n",
       "              mask=[False, False, False, False, False, False, False, False,\n",
       "                    False],\n",
       "        fill_value='?',\n",
       "             dtype=object),\n",
       " 'param_n_estimators': masked_array(data=[10, 100, 500, 10, 100, 500, 10, 100, 500],\n",
       "              mask=[False, False, False, False, False, False, False, False,\n",
       "                    False],\n",
       "        fill_value='?',\n",
       "             dtype=object),\n",
       " 'params': [{'max_depth': 1, 'n_estimators': 10},\n",
       "  {'max_depth': 1, 'n_estimators': 100},\n",
       "  {'max_depth': 1, 'n_estimators': 500},\n",
       "  {'max_depth': 2, 'n_estimators': 10},\n",
       "  {'max_depth': 2, 'n_estimators': 100},\n",
       "  {'max_depth': 2, 'n_estimators': 500},\n",
       "  {'max_depth': 5, 'n_estimators': 10},\n",
       "  {'max_depth': 5, 'n_estimators': 100},\n",
       "  {'max_depth': 5, 'n_estimators': 500}],\n",
       " 'rank_test_score': array([9, 8, 7, 6, 5, 4, 3, 1, 2], dtype=int32),\n",
       " 'split0_test_score': array([0.42266667, 0.42466667, 0.424     , 0.63      , 0.572     ,\n",
       "        0.61666667, 0.73066667, 0.76733333, 0.75      ]),\n",
       " 'split0_train_score': array([0.47466667, 0.49758333, 0.4635    , 0.83958333, 0.83375   ,\n",
       "        0.81875   , 0.96166667, 0.96966667, 0.97008333]),\n",
       " 'split1_test_score': array([0.528     , 0.532     , 0.51266667, 0.73733333, 0.696     ,\n",
       "        0.708     , 0.69266667, 0.82466667, 0.782     ]),\n",
       " 'split1_train_score': array([0.576     , 0.50525   , 0.55525   , 0.846     , 0.84191667,\n",
       "        0.84633333, 0.969     , 0.9715    , 0.97325   ]),\n",
       " 'split2_test_score': array([0.656     , 0.66533333, 0.66533333, 0.54666667, 0.76133333,\n",
       "        0.75466667, 0.82666667, 0.82      , 0.854     ]),\n",
       " 'split2_train_score': array([0.59841667, 0.56675   , 0.55816667, 0.76225   , 0.83258333,\n",
       "        0.86358333, 0.96291667, 0.96425   , 0.96566667]),\n",
       " 'split3_test_score': array([0.39266667, 0.41333333, 0.39266667, 0.58      , 0.594     ,\n",
       "        0.59733333, 0.552     , 0.434     , 0.434     ]),\n",
       " 'split3_train_score': array([0.41466667, 0.50333333, 0.48183333, 0.84841667, 0.88416667,\n",
       "        0.83708333, 0.95933333, 0.97141667, 0.97141667]),\n",
       " 'split4_test_score': array([0.426     , 0.42666667, 0.42666667, 0.75466667, 0.984     ,\n",
       "        0.956     , 0.98666667, 0.98133333, 0.99866667]),\n",
       " 'split4_train_score': array([0.45708333, 0.45825   , 0.46541667, 0.75316667, 0.83925   ,\n",
       "        0.85425   , 0.95183333, 0.96691667, 0.96383333]),\n",
       " 'split5_test_score': array([0.29      , 0.33333333, 0.32666667, 0.492     , 0.79333333,\n",
       "        0.762     , 0.79266667, 0.82333333, 0.83866667]),\n",
       " 'split5_train_score': array([0.4315    , 0.4415    , 0.42775   , 0.69341667, 0.82625   ,\n",
       "        0.82991667, 0.96066667, 0.98      , 0.97841667]),\n",
       " 'split6_test_score': array([0.55066667, 0.53533333, 0.55      , 0.28133333, 0.38933333,\n",
       "        0.38933333, 0.57733333, 0.42066667, 0.404     ]),\n",
       " 'split6_train_score': array([0.5685    , 0.441     , 0.45066667, 0.77766667, 0.83375   ,\n",
       "        0.85033333, 0.93425   , 0.96066667, 0.96658333]),\n",
       " 'split7_test_score': array([0.474     , 0.546     , 0.55666667, 0.85533333, 0.86266667,\n",
       "        0.86533333, 0.59066667, 0.86666667, 0.88333333]),\n",
       " 'split7_train_score': array([0.42641667, 0.45591667, 0.44766667, 0.79525   , 0.85775   ,\n",
       "        0.861     , 0.95566667, 0.96325   , 0.96575   ]),\n",
       " 'split8_test_score': array([0.44133333, 0.39666667, 0.5       , 0.672     , 0.64133333,\n",
       "        0.708     , 0.94533333, 0.934     , 0.898     ]),\n",
       " 'split8_train_score': array([0.65533333, 0.47      , 0.48791667, 0.81725   , 0.8065    ,\n",
       "        0.87858333, 0.9535    , 0.96283333, 0.96666667]),\n",
       " 'std_fit_time': array([0.00398861, 0.00531645, 0.01634827, 0.00284159, 0.00856538,\n",
       "        0.02813255, 0.00222404, 0.01252554, 0.03265752]),\n",
       " 'std_score_time': array([2.04940514e-04, 3.80283023e-04, 1.17568555e-03, 9.35790439e-05,\n",
       "        6.49581349e-04, 3.43430022e-03, 9.75128426e-05, 4.49746378e-04,\n",
       "        3.35228403e-03]),\n",
       " 'std_test_score': array([0.09865688, 0.09605234, 0.09636647, 0.15917858, 0.16572296,\n",
       "        0.15400757, 0.14891833, 0.18967757, 0.19431834]),\n",
       " 'std_train_score': array([0.08365633, 0.03819606, 0.04336259, 0.04867759, 0.02031033,\n",
       "        0.01728644, 0.00928577, 0.00566394, 0.00438879])}"
      ]
     },
     "execution_count": 75,
     "metadata": {
      "tags": []
     },
     "output_type": "execute_result"
    }
   ],
   "source": [
    "gs.cv_results_"
   ]
  },
  {
   "cell_type": "code",
   "execution_count": null,
   "metadata": {
    "colab": {
     "base_uri": "https://localhost:8080/",
     "height": 155
    },
    "colab_type": "code",
    "executionInfo": {
     "elapsed": 2112211,
     "status": "ok",
     "timestamp": 1589056540501,
     "user": {
      "displayName": "Anjana Niranjan",
      "photoUrl": "https://lh3.googleusercontent.com/a-/AOh14Gi-DUuXNslKe9_IpDzKJKy7kFDXdw2iBILnh75qfNo=s64",
      "userId": "03367688363527101143"
     },
     "user_tz": 420
    },
    "id": "D6wpx-kkvnqT",
    "outputId": "cbcc5bff-4945-409f-c2ad-cf473bb6ebdd"
   },
   "outputs": [
    {
     "data": {
      "text/plain": [
       "RandomForestClassifier(bootstrap=True, ccp_alpha=0.0, class_weight=None,\n",
       "                       criterion='gini', max_depth=5, max_features='auto',\n",
       "                       max_leaf_nodes=None, max_samples=None,\n",
       "                       min_impurity_decrease=0.0, min_impurity_split=None,\n",
       "                       min_samples_leaf=1, min_samples_split=2,\n",
       "                       min_weight_fraction_leaf=0.0, n_estimators=100,\n",
       "                       n_jobs=None, oob_score=False, random_state=None,\n",
       "                       verbose=0, warm_start=False)"
      ]
     },
     "execution_count": 76,
     "metadata": {
      "tags": []
     },
     "output_type": "execute_result"
    }
   ],
   "source": [
    "gs.best_estimator_"
   ]
  },
  {
   "cell_type": "code",
   "execution_count": null,
   "metadata": {
    "colab": {
     "base_uri": "https://localhost:8080/",
     "height": 34
    },
    "colab_type": "code",
    "executionInfo": {
     "elapsed": 2110804,
     "status": "ok",
     "timestamp": 1589056540501,
     "user": {
      "displayName": "Anjana Niranjan",
      "photoUrl": "https://lh3.googleusercontent.com/a-/AOh14Gi-DUuXNslKe9_IpDzKJKy7kFDXdw2iBILnh75qfNo=s64",
      "userId": "03367688363527101143"
     },
     "user_tz": 420
    },
    "id": "us4x2Q7nvrgE",
    "outputId": "2cb51b3b-d240-4542-925c-2c8ee3cc45bd"
   },
   "outputs": [
    {
     "data": {
      "text/plain": [
       "{'max_depth': 5, 'n_estimators': 100}"
      ]
     },
     "execution_count": 77,
     "metadata": {
      "tags": []
     },
     "output_type": "execute_result"
    }
   ],
   "source": [
    "gs.best_params_"
   ]
  },
  {
   "cell_type": "code",
   "execution_count": null,
   "metadata": {
    "colab": {
     "base_uri": "https://localhost:8080/",
     "height": 34
    },
    "colab_type": "code",
    "executionInfo": {
     "elapsed": 2110055,
     "status": "ok",
     "timestamp": 1589056540686,
     "user": {
      "displayName": "Anjana Niranjan",
      "photoUrl": "https://lh3.googleusercontent.com/a-/AOh14Gi-DUuXNslKe9_IpDzKJKy7kFDXdw2iBILnh75qfNo=s64",
      "userId": "03367688363527101143"
     },
     "user_tz": 420
    },
    "id": "QR0ZHTn8vtVK",
    "outputId": "11c6b167-6efd-49dd-c5d0-a4159d7ae54e"
   },
   "outputs": [
    {
     "data": {
      "text/plain": [
       "0.7635555555555557"
      ]
     },
     "execution_count": 78,
     "metadata": {
      "tags": []
     },
     "output_type": "execute_result"
    }
   ],
   "source": [
    "gs.best_score_"
   ]
  },
  {
   "cell_type": "code",
   "execution_count": null,
   "metadata": {
    "colab": {
     "base_uri": "https://localhost:8080/",
     "height": 121
    },
    "colab_type": "code",
    "executionInfo": {
     "elapsed": 3316,
     "status": "ok",
     "timestamp": 1589056770682,
     "user": {
      "displayName": "Anjana Niranjan",
      "photoUrl": "https://lh3.googleusercontent.com/a-/AOh14Gi-DUuXNslKe9_IpDzKJKy7kFDXdw2iBILnh75qfNo=s64",
      "userId": "03367688363527101143"
     },
     "user_tz": 420
    },
    "id": "ABNf1ayvvzG-",
    "outputId": "704a7211-e429-492d-80a7-77b7cd55a8a9"
   },
   "outputs": [
    {
     "name": "stdout",
     "output_type": "stream",
     "text": [
      "0.9631851851851851\n"
     ]
    },
    {
     "data": {
      "text/plain": [
       "array([[2777,    0,    7,    0,    0],\n",
       "       [  17, 2503,    8,   17,   37],\n",
       "       [  39,    0, 2609,    1,    0],\n",
       "       [  33,    0,   37, 2364,   42],\n",
       "       [  63,   84,   91,   21, 2750]])"
      ]
     },
     "execution_count": 79,
     "metadata": {
      "tags": []
     },
     "output_type": "execute_result"
    }
   ],
   "source": [
    "#Training the model with the best parameters\n",
    "bestclf = RandomForestClassifier(max_depth=5, n_estimators=100)\n",
    "bestclf.fit(X_train_selected, y_train)\n",
    "tr_p = bestclf.predict(X_train_selected)\n",
    "print(accuracy_score(y_train, tr_p))\n",
    "confusion_matrix(y_train, tr_p)"
   ]
  },
  {
   "cell_type": "code",
   "execution_count": null,
   "metadata": {
    "colab": {
     "base_uri": "https://localhost:8080/",
     "height": 121
    },
    "colab_type": "code",
    "executionInfo": {
     "elapsed": 1627,
     "status": "ok",
     "timestamp": 1589056770847,
     "user": {
      "displayName": "Anjana Niranjan",
      "photoUrl": "https://lh3.googleusercontent.com/a-/AOh14Gi-DUuXNslKe9_IpDzKJKy7kFDXdw2iBILnh75qfNo=s64",
      "userId": "03367688363527101143"
     },
     "user_tz": 420
    },
    "id": "vGRW7MaGv4Uk",
    "outputId": "5f479357-402b-45f0-bc5b-ae991e549c89"
   },
   "outputs": [
    {
     "name": "stdout",
     "output_type": "stream",
     "text": [
      "0.7638750651689653\n"
     ]
    },
    {
     "data": {
      "text/plain": [
       "array([[4239,   48,  179,    0,    0],\n",
       "       [ 119, 3150,   11,   53, 1069],\n",
       "       [1233,    0, 3480,    5,   61],\n",
       "       [1008,    0,    1, 1977,  928],\n",
       "       [  35,   87,   85,   60, 3271]])"
      ]
     },
     "execution_count": 80,
     "metadata": {
      "tags": []
     },
     "output_type": "execute_result"
    }
   ],
   "source": [
    "#Running the model on the test set\n",
    "predictions = bestclf.predict(X_test_selected)\n",
    "print(accuracy_score(y_test, predictions))\n",
    "confusion_matrix(y_test, predictions)"
   ]
  }
 ],
 "metadata": {
  "colab": {
   "authorship_tag": "ABX9TyPXPngX34uC9UhNmy2TWfoo",
   "mount_file_id": "17pjR_lRlFBS8waYgmmqTUMEC7Vr5DyXS",
   "name": "randomForest.ipynb",
   "provenance": []
  },
  "kernelspec": {
   "display_name": "Python 3",
   "language": "python",
   "name": "python3"
  },
  "language_info": {
   "codemirror_mode": {
    "name": "ipython",
    "version": 3
   },
   "file_extension": ".py",
   "mimetype": "text/x-python",
   "name": "python",
   "nbconvert_exporter": "python",
   "pygments_lexer": "ipython3",
   "version": "3.7.3"
  }
 },
 "nbformat": 4,
 "nbformat_minor": 1
}
